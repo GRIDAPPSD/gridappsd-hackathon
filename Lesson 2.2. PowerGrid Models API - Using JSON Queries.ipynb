{
 "cells": [
  {
   "cell_type": "markdown",
   "metadata": {},
   "source": [
    "# Lesson 2.2:\n",
    "# PowerGrid Models API - Using JSON Queries\n",
    "\n",
    "This tutorial introduces the PowerGrid Models API and how it can be used to query model data.\n",
    "\n",
    "__Learning Objectives:__\n",
    "\n",
    "At the end of the tutorial, the user should be able to use the PowerGrid Models API to\n",
    "\n",
    "* Query for feeder information\n",
    "* Query for equipment information\n",
    "* Query for device measurements\n",
    "\n",
    "## Getting Started\n",
    "\n",
    "Before running any of the sample routines in this tutorial, it is first necessary to start the GridAPPS-D Platform and establish a connection to this notebook so that we can start passing calls to the API."
   ]
  },
  {
   "cell_type": "markdown",
   "metadata": {},
   "source": [
    "_Open the Ubuntu terminal and start the GridAPPS-D Platform if it is not running already:_\n",
    "\n",
    "`cd gridappsd-docker`\n",
    "\n",
    "~/gridappsd-docker$ `./run.sh -t develop`\n",
    "\n",
    "_Once containers are running,_\n",
    "\n",
    "gridappsd@[container]:/gridappsd$ `./run-gridappsd.sh`"
   ]
  },
  {
   "cell_type": "code",
   "execution_count": 12,
   "metadata": {},
   "outputs": [],
   "source": [
    "# Establish connection to GridAPPS-D Platform:\n",
    "from gridappsd import GridAPPSD\n",
    "gapps = GridAPPSD(\"('localhost', 61613)\", username='system', password='manager')\n",
    "model_mrid = \"_49AD8E07-3BF9-A4E2-CB8F-C3722F837B62\" # IEEE 13 Node used for all example queries"
   ]
  },
  {
   "cell_type": "markdown",
   "metadata": {},
   "source": [
    "---\n",
    "# Table of Contents\n",
    "\n",
    "* [1. Introduction to the PowerGrid Model API](#1.-Introduction-to-the-PowerGrid-Model-API)\n",
    "\n",
    "\n",
    "* [2. Using the PowerGrid Model API](#2.-Using-the-PowerGrid-Model-API)\n",
    "    * [2.1. Specifying the Topic](#2.1.-Specifying-the-Topic)\n",
    "    * [2.2. Structure of a Query Message](#2.2.-Structure-of-a-Query-Message)\n",
    "    * [2.3. Specifying the requestType](#2.3.-Specifying-the-requestType)\n",
    "    \n",
    "\n",
    "* [3. Querying for Feeder Model Info](#3.-Querying-for-Feeder-Model-Info)\n",
    "    * [3.1. Query for mRIDs of all Models](#3.1.-Query-for-mRIDs-of-all-Models)\n",
    "    * [3.2.-Query for Details Dictionary of all Models](#3.2.-Query-for-Details-Dictionary-of-all-Models)\n",
    "    \n",
    "    \n",
    "* [4. Querying for Object Info](#4.-Querying-for-Object-Info)\n",
    "    * [4.1. Query for CIM Classes of Objects in Model](#4.1.-Query-for-CIM-Classes-of-Objects-in-Model)\n",
    "    * [4.2. Query for mRIDs of Objects in a Feeder](#4.2.-Query-for-mRIDs-of-Objects-in-a-Feeder)\n",
    "    * [4.3. Query for CIM Attributes of an Object](#4.3.-Query-for-CIM-Attributes-of-an-Object)\n",
    "    * [4.4. Query for Object Dictionary](#4.4.-Query-for-Object-Dictionary)\n",
    "    \n",
    "    \n",
    "* [5. Querying for Object Measurements](#5.-Querying-for-Object-Measurements)\n",
    "    * [5.1. Object mRIDs vs Measurement mRIDs](#5.1.-Object-mRIDs-vs-Measurement-mRIDs)\n",
    "    * [5.2. Querying for Measurements](#5.2.-Querying-for-Measurements)\n",
    "    * [5.3. Filtering Returned Data](#5.3.-Filtering-Returned-Data)\n",
    "    \n",
    "    \n",
    "* [6. GridAPPSD-Python Shortcut Methods](#6.-GridAPPSD-Python-Shortcut-Methods)\n",
    "    * [6.1. Querying for mRIDs of all Models](#6.1.-Querying-for-mRIDs-of-all-Models)\n",
    "    * [6.2. Query for CIM Classes of Objects in Model](#6.2.-Query-for-CIM-Classes-of-Objects-in-Model)\n",
    "    * [6.3. Query for CIM Attributes of an Object](#6.3.-Query-for-CIM-Attributes-of-an-Object)"
   ]
  },
  {
   "cell_type": "markdown",
   "metadata": {},
   "source": [
    "---\n",
    "# 1. Introduction to the PowerGrid Model API\n",
    "\n",
    "\n",
    "The PowerGrid Model API is used to pull model information, inlcuding the names, mRIDs, measurements, and nominal values of power system equipment in the feeder (such as lines, loads, switches, transformers, and DERs).\n"
   ]
  },
  {
   "cell_type": "markdown",
   "metadata": {},
   "source": [
    "---\n",
    "# 2. Using the PowerGrid Model API"
   ]
  },
  {
   "cell_type": "markdown",
   "metadata": {},
   "source": [
    "## 2.1. Specifying the Topic\n",
    "\n",
    "All queries passed to the PowerGrid Models API need to use the correct topic, which is obtained using the GridAPPS-D Topics library. For a review of GridAPPS-D topics, see Lesson 1.4 "
   ]
  },
  {
   "cell_type": "code",
   "execution_count": 3,
   "metadata": {},
   "outputs": [],
   "source": [
    "from gridappsd import topics as t\n",
    "topic = t.REQUEST_POWERGRID_DATA"
   ]
  },
  {
   "cell_type": "markdown",
   "metadata": {},
   "source": [
    "[Return to Top](#Table-of-Contents)"
   ]
  },
  {
   "cell_type": "markdown",
   "metadata": {},
   "source": [
    "## 2.2. Structure of a Query Message\n",
    "\n",
    "Queries passed to PowerGrid Models API are formatted as python dictionaries or equivalent JSON scripts wrapped as a python string. \n",
    "\n",
    "```\n",
    "message = {\n",
    "    \"requestType\": \"INSERT QUERY HERE\",\n",
    "    \"resultFormat\": \"JSON\",\n",
    "    \"modelId\": \"OPTIONAL INSERT MODEL mRID HERE\",\n",
    "    \"objectType\": \"OPTIONAL INSERT CIM CLASS HERE\",\n",
    "    \"objectId\": \"OPTIONAL INSERT OBJECT mRID HERE\",\n",
    "    \"filter\": \"OPTIONAL INSERT SPARQL FILTER HERE\"\n",
    "}\n",
    "```\n",
    "\n",
    "The components of the message are as follows:\n",
    "\n",
    "* `\"requestType\":` -- Specifies the type of query. Available requestType are listed in the next section.\n",
    "\n",
    "\n",
    "* `\"resultFormat\":` -- Specifies the format of the response, can be `\"JSON\"`, `\"CSV\"`, or `\"XML\"`. (CAUTION: the PowerGridModel API uses the key _resultFormat_, while the Timeseries API uses the key _reponseFormat_. Using the wrong key for either API will result in a java.lang error.)\n",
    "\n",
    "\n",
    "* `\"modelID\":` -- Optional. Used to filter the query to only one particular model whose mRID is specified. Be aware of spelling and capitalization differences between JSON query spelling `\"modelId\"` and Python Library spelling `model_id`.\n",
    "\n",
    "\n",
    "* `\"objectType\":` -- Optional. Used to filter the query to only one CIM class of equipment. Speciying the _objectID_ will override any values specified for _objectType_. \n",
    "\n",
    "\n",
    "* `\"objectID\":` -- Optional. Used to filter the query to only one object whose mRID is specified. Specifying the _objectID_ will override any values specified for _objectType_. \n",
    "\n",
    "\n",
    "* `\"filter\":` -- Optional. Used to filter the query using a SPARQL filter. SPARQL queries are covered in the next lesson.\n",
    "\n",
    "\n",
    "The usage of each of these message components are explained in detail with code block examples below. \n",
    "\n",
    "__Important__: Be sure to pay attention to placement of commas ( __,__ ) at the end of each JSON line. Commas are placed at the end of each line _except_ the last line. Incorrect comma placement will result in a JsonSyntaxException. \n",
    "\n",
    "All of the queries are passed to the PowerGrid Model API using the `.get_response(topic, message)` method for the GridAPPS-D platform connection variable."
   ]
  },
  {
   "cell_type": "markdown",
   "metadata": {},
   "source": [
    "[Return to Top](#Table-of-Contents)"
   ]
  },
  {
   "cell_type": "markdown",
   "metadata": {},
   "source": [
    "## 2.3. Specifying the `requestType`\n",
    "\n",
    "Below are the possible `requestType` strings that are used to specify the type of each query. Executable code block examples are provided for each of the requests in the subsections below.\n",
    "\n",
    "The first group of _requestType_ key-value pairs are for queries for information related to the entire model or a set of models, such as the model name, mRID, region, and substation:\n",
    "\n",
    "* `\"requestType\": \"QUERY_MODEL_NAMES\"` -- [Query for the list of all model name mRIDs](#3.1.-Query-for-mRIDs-of-all-Models)\n",
    "\n",
    "\n",
    "* `\"requestType\": \"QUERY_MODEL_INFO\"` -- [Query for the dictionary of all details for all feeders in Blazegraph](#3.2.-Query-for-Details-Dictionary-of-all-Models)\n",
    "\n",
    "\n",
    "The second group of _requestType_ key-value pairs are for queries for a single object or a single class of objects withing a model, such as the object mRID, CIM attributes, or measurement points:\n",
    "\n",
    "* `\"requestType\": \"QUERY_OBJECT_TYPES\"` -- [Query for the types of CIM classes of objects in the model](#4.1.-Query-for-CIM-Classes-of-Objects-in-Model)\n",
    "\n",
    "\n",
    "* `\"requestType\": \"QUERY_OBJECT_IDS\"` -- [Query for a list of all mRIDs for objects of a CIM class in the model](#4.2.-Query-for-mRIDs-of-Objects-in-a-Feeder)\n",
    "\n",
    "\n",
    "* `\"requestType\": \"QUERY_OBJECT\"` -- [Query for CIM attributes of an object using its unique mRID](#4.3.-Query-for-CIM-Attributes-of-an-Object)\n",
    "\n",
    "\n",
    "* `\"requestType\": \"QUERY_OBJECT_DICT\"` -- [Query for the dictionary of all details for an object using either its _objectType_ OR its _objectID_](#4.4.-Query-for-Object-Dictionary)\n",
    "\n",
    "\n",
    "* `\"requestType\": \"QUERY_OBJECT_MEASUREMENTS\"` -- [Query for all measurement types and mRIDs for an object using either its _objectType_ OR its _ObjectID_](#5.2.-Querying-for-Measurements)\n",
    "\n",
    "The third group of _requestType_ key-value pairs are for queries based on SPARQL filters or complete SPARQL queries. The structure of SPARQL was introduced in Lesson 1.7 (to be completed soon). Usage of these two _requestType_ will covered separately in the next two lessons.\n",
    "\n",
    "* `\"requestType\": \"QUERY_MODEL\"` -- Query for all  part of a specified model, filtered by object type using a SPARQL filter.\n",
    "\n",
    "\n",
    "* `\"requestType\": \"QUERY\"` -- Query using a complete SPARQL query.\n",
    "\n",
    "\n"
   ]
  },
  {
   "cell_type": "markdown",
   "metadata": {},
   "source": [
    "[[Return to Top](#Table-of-Contents)]"
   ]
  },
  {
   "cell_type": "markdown",
   "metadata": {},
   "source": [
    "---\n",
    "# 3. Querying for Feeder Model Info\n",
    "\n",
    "\n",
    "This section outlines the pre-built JSON queries that can be passed to the PowerGrid Model API to obtain mRIDs and other information for all models and feeders stored in the Blazegraph Database."
   ]
  },
  {
   "cell_type": "markdown",
   "metadata": {},
   "source": [
    "## 3.1. Query for mRIDs of all Models\n",
    "\n",
    "This query obtains a list of all the model MRIDs stored in the Blazegraph database. \n",
    "\n",
    "Query requestType:\n",
    "\n",
    "* `\"requestType\": \"QUERY_MODEL_NAMES\"`\n",
    "\n",
    "Allowed parameters:\n",
    "\n",
    "* `\"resultFormat\":` – \"XML\" / \"JSON\" / \"CSV\" -- Optional. Will return results as a list in the format selected. "
   ]
  },
  {
   "cell_type": "code",
   "execution_count": null,
   "metadata": {},
   "outputs": [],
   "source": [
    "message = {\n",
    "    \"requestType\": \"QUERY_MODEL_NAMES\",\n",
    "    \"resultFormat\": \"JSON\"\n",
    "}"
   ]
  },
  {
   "cell_type": "code",
   "execution_count": null,
   "metadata": {},
   "outputs": [],
   "source": [
    "gapps.get_response(topic, message)"
   ]
  },
  {
   "cell_type": "markdown",
   "metadata": {},
   "source": [
    "[Return to Top](#Table-of-Contents)"
   ]
  },
  {
   "cell_type": "markdown",
   "metadata": {},
   "source": [
    "## 3.2. Query for Details Dictionary of all Models\n",
    "\n",
    "This query returns a list of names and MRIDs for all models, substations, subregions, and regions for all available feeders stored in the Blazegraph database.\n",
    "\n",
    "Query requestType:\n",
    "\n",
    "* `\"requestType\": \"QUERY_MODEL_INFO\"`\n",
    "\n",
    "Allowed parameters:\n",
    "\n",
    "* `\"resultFormat\":` – \"XML\" / \"JSON\" / \"CSV\" -- Will return results as a list in the format selected."
   ]
  },
  {
   "cell_type": "code",
   "execution_count": 15,
   "metadata": {},
   "outputs": [],
   "source": [
    "message = {\n",
    "    \"requestType\": \"QUERY_MODEL_INFO\",\n",
    "    \"resultFormat\": \"JSON\"\n",
    "}"
   ]
  },
  {
   "cell_type": "code",
   "execution_count": 16,
   "metadata": {},
   "outputs": [
    {
     "data": {
      "text/plain": [
       "{'data': {'models': [{'modelName': 'acep_psil',\n",
       "    'modelId': '_77966920-E1EC-EE8A-23EE-4EFD23B205BD',\n",
       "    'stationName': 'UAF',\n",
       "    'stationId': '_22B12048-23DF-007B-9291-826A16DBCB21',\n",
       "    'subRegionName': 'Fairbanks',\n",
       "    'subRegionId': '_2F8FC9BF-FF32-A197-D541-0A2529D04DF7',\n",
       "    'regionName': 'Alaska',\n",
       "    'regionId': '_96465E7A-6EC3-ECCA-BC27-31B53F05C96E'},\n",
       "   {'modelName': 'ieee123',\n",
       "    'modelId': '_C1C3E687-6FFD-C753-582B-632A27E28507',\n",
       "    'stationName': 'IEEE123',\n",
       "    'stationId': '_FE44B314-385E-C2BF-3983-3A10C6060022',\n",
       "    'subRegionName': 'Medium',\n",
       "    'subRegionId': '_1CD7D2EE-3C91-3248-5662-A43EFEFAC224',\n",
       "    'regionName': 'IEEE',\n",
       "    'regionId': '_73C512BD-7249-4F50-50DA-D93849B89C43'},\n",
       "   {'modelName': 'ieee123pv',\n",
       "    'modelId': '_E407CBB6-8C8D-9BC9-589C-AB83FBF0826D',\n",
       "    'stationName': 'IEEE123',\n",
       "    'stationId': '_FE44B314-385E-C2BF-3983-3A10C6060022',\n",
       "    'subRegionName': 'Medium',\n",
       "    'subRegionId': '_1CD7D2EE-3C91-3248-5662-A43EFEFAC224',\n",
       "    'regionName': 'IEEE',\n",
       "    'regionId': '_73C512BD-7249-4F50-50DA-D93849B89C43'},\n",
       "   {'modelName': 'ieee123transactive',\n",
       "    'modelId': '_503D6E20-F499-4CC7-8051-971E23D0BF79',\n",
       "    'stationName': 'PNNL',\n",
       "    'stationId': '_A4C079AE-FE2B-4D11-969E-1268AFC562E9',\n",
       "    'subRegionName': 'Medium',\n",
       "    'subRegionId': '_2BBFD370-B30F-4EC5-B7AE-6873921C8C7C',\n",
       "    'regionName': 'IEEE',\n",
       "    'regionId': '_24BA911D-65D5-4769-9A30-4178B2DFA203'},\n",
       "   {'modelName': 'ieee13nodeckt',\n",
       "    'modelId': '_49AD8E07-3BF9-A4E2-CB8F-C3722F837B62',\n",
       "    'stationName': 'IEEE13',\n",
       "    'stationId': '_6C62C905-6FC7-653D-9F1E-1340F974A587',\n",
       "    'subRegionName': 'Small',\n",
       "    'subRegionId': '_ABEB635F-729D-24BF-B8A4-E2EF268D8B9E',\n",
       "    'regionName': 'IEEE',\n",
       "    'regionId': '_73C512BD-7249-4F50-50DA-D93849B89C43'},\n",
       "   {'modelName': 'ieee13nodecktassets',\n",
       "    'modelId': '_5B816B93-7A5F-B64C-8460-47C17D6E4B0F',\n",
       "    'stationName': 'IEEE13',\n",
       "    'stationId': '_6C62C905-6FC7-653D-9F1E-1340F974A587',\n",
       "    'subRegionName': 'Small',\n",
       "    'subRegionId': '_ABEB635F-729D-24BF-B8A4-E2EF268D8B9E',\n",
       "    'regionName': 'IEEE',\n",
       "    'regionId': '_73C512BD-7249-4F50-50DA-D93849B89C43'},\n",
       "   {'modelName': 'ieee8500',\n",
       "    'modelId': '_4F76A5F9-271D-9EB8-5E31-AA362D86F2C3',\n",
       "    'stationName': 'IEEE8500',\n",
       "    'stationId': '_F1E8E479-5FA0-4BFF-8173-B375D25B0AA2',\n",
       "    'subRegionName': 'Large',\n",
       "    'subRegionId': '_A1170111-942A-6ABD-D325-C64886DC4D7D',\n",
       "    'regionName': 'IEEE',\n",
       "    'regionId': '_73C512BD-7249-4F50-50DA-D93849B89C43'},\n",
       "   {'modelName': 'j1',\n",
       "    'modelId': '_67AB291F-DCCD-31B7-B499-338206B9828F',\n",
       "    'stationName': 'J1',\n",
       "    'stationId': '_A3C31EE7-4EE6-A167-87C7-915B1C6E97F0',\n",
       "    'subRegionName': 'DPV',\n",
       "    'subRegionId': '_096FDFB8-2692-D811-F483-553D578399F2',\n",
       "    'regionName': 'EPRI',\n",
       "    'regionId': '_9A1E61E4-5CF1-982B-C7EF-0918D26645C7'},\n",
       "   {'modelName': 'sourceckt',\n",
       "    'modelId': '_9CE150A8-8CC5-A0F9-B67E-BBD8C79D3095',\n",
       "    'stationName': 'sourceckt_Substation',\n",
       "    'stationId': '_933D85C1-BE1C-4C05-D4DD-4B41D941C52C',\n",
       "    'subRegionName': 'Taxonomy',\n",
       "    'subRegionId': '_656EE259-23FF-086E-1DC0-39CB9DC60A20',\n",
       "    'regionName': 'PNNL',\n",
       "    'regionId': '_79C9D814-3CE0-DC11-534D-BDA1AF949810'},\n",
       "   {'modelName': 'test9500new',\n",
       "    'modelId': '_AAE94E4A-2465-6F5E-37B1-3E72183A4E44',\n",
       "    'stationName': 'ThreeSubs',\n",
       "    'stationId': '_40485321-9B2C-1B8C-EC33-39D2F7948163',\n",
       "    'subRegionName': 'Large',\n",
       "    'subRegionId': '_A1170111-942A-6ABD-D325-C64886DC4D7D',\n",
       "    'regionName': 'IEEE',\n",
       "    'regionId': '_73C512BD-7249-4F50-50DA-D93849B89C43'}]},\n",
       " 'responseComplete': True,\n",
       " 'id': '1044107539'}"
      ]
     },
     "execution_count": 16,
     "metadata": {},
     "output_type": "execute_result"
    }
   ],
   "source": [
    "gapps.get_response(topic, message)"
   ]
  },
  {
   "cell_type": "markdown",
   "metadata": {},
   "source": [
    "[Return to Top](#Table-of-Contents)"
   ]
  },
  {
   "cell_type": "markdown",
   "metadata": {},
   "source": [
    "---\n",
    "# 4. Querying for Object Info\n",
    "\n",
    "This section outlines the pre-built JSON queries that can be passed to the PowerGrid Model API to obtain mRIDs and other information for a particular object or a class of objects for one or more feeders stored in the Blazegraph Database.\n",
    "\n",
    "All of the examples in this section use the IEEE 13 node model. The python constructor %s is used for all queries to enable the code block to be cut and paste into any python script without needing to change the model mRID."
   ]
  },
  {
   "cell_type": "code",
   "execution_count": null,
   "metadata": {},
   "outputs": [],
   "source": [
    "model_mrid = \"_49AD8E07-3BF9-A4E2-CB8F-C3722F837B62\" # IEEE 13 Node used for all example queries"
   ]
  },
  {
   "cell_type": "markdown",
   "metadata": {},
   "source": [
    "## 4.1. Query for CIM Classes of Objects in Model\n",
    "\n",
    "This query is used to query for a list of all the CIM XML classes of objects present in the Blazegraph for a particular model or all models in the database.\n",
    "\n",
    "Query requestType is\n",
    "\n",
    "* `\"requestType\": \"QUERY_OBJECT_TYPES\"`\n",
    "\n",
    "Allowed parameters are\n",
    "\n",
    "* `\"modelId\":` \"model name mRID\" -- Optional. Searches only the particular model identified by the given unique mRID\n",
    "* `\"resultFormat\":` – \"XML\" / \"JSON\" / \"CSV\" -- Will return results as a list in the format selected. "
   ]
  },
  {
   "cell_type": "markdown",
   "metadata": {},
   "source": [
    "__1) Query entire Blazegraph database__\n",
    "\n",
    "Omit the \"modelId\" parameter to search the entire blazegraph database. "
   ]
  },
  {
   "cell_type": "code",
   "execution_count": null,
   "metadata": {},
   "outputs": [],
   "source": [
    "message = {\n",
    "    \"requestType\": \"QUERY_OBJECT_TYPES\",\n",
    "    \"resultFormat\": \"JSON\"\n",
    "}"
   ]
  },
  {
   "cell_type": "code",
   "execution_count": null,
   "metadata": {},
   "outputs": [],
   "source": [
    "gapps.get_response(topic, message)"
   ]
  },
  {
   "cell_type": "markdown",
   "metadata": {},
   "source": [
    "__2) Query for only a particular model__\n",
    "\n",
    "Specify the model MRID as a python string and pass it as a parameter to the method to return only the CIM classes of objects in that particular model. \n",
    "\n",
    "Be aware of spelling and capitalization differences between JSON query spelling `\"modelId\"` and Python Library spelling `model_id`."
   ]
  },
  {
   "cell_type": "code",
   "execution_count": 20,
   "metadata": {},
   "outputs": [],
   "source": [
    "message = {\n",
    "    \"requestType\": \"QUERY_OBJECT_TYPES\",\n",
    "    \"modelId\": model_mrid,\n",
    "    \"resultFormat\": \"JSON\"\n",
    "}"
   ]
  },
  {
   "cell_type": "code",
   "execution_count": 21,
   "metadata": {},
   "outputs": [
    {
     "data": {
      "text/plain": [
       "{'data': {'objectTypes': ['http://iec.ch/TC57/CIM100#ConnectivityNode',\n",
       "   'http://iec.ch/TC57/CIM100#PowerElectronicsConnection',\n",
       "   'http://iec.ch/TC57/CIM100#SynchronousMachine',\n",
       "   'http://iec.ch/TC57/CIM100#PowerTransformer',\n",
       "   'http://iec.ch/TC57/CIM100#TransformerTank',\n",
       "   'http://iec.ch/TC57/CIM100#LinearShuntCompensator',\n",
       "   'http://iec.ch/TC57/CIM100#ACLineSegment',\n",
       "   'http://iec.ch/TC57/CIM100#LoadBreakSwitch',\n",
       "   'http://iec.ch/TC57/CIM100#EnergyConsumer',\n",
       "   'http://iec.ch/TC57/CIM100#EnergySource']},\n",
       " 'responseComplete': True,\n",
       " 'id': '1134494105'}"
      ]
     },
     "execution_count": 21,
     "metadata": {},
     "output_type": "execute_result"
    }
   ],
   "source": [
    "gapps.get_response(topic, message)"
   ]
  },
  {
   "cell_type": "markdown",
   "metadata": {},
   "source": [
    "[Return to Top](#Table-of-Contents)"
   ]
  },
  {
   "cell_type": "markdown",
   "metadata": {},
   "source": [
    "## 4.2. Query for mRIDs of Objects in a Feeder\n",
    "\n",
    "This query is used to obtain all the mRIDs of objects of a particular CIM class in the feeder. \n",
    "\n",
    "Query responseType is\n",
    "\n",
    "* `\"requestType\": \"QUERY_OBJECT_IDS\"`\n",
    "\n",
    "Allowed parameters are:\n",
    "\n",
    "* `\"modelId\":` \"model name mRID\" -- When specified it searches against that model, if empty it will search against all models\n",
    "* `\"objectType\":` \"CIM Class\" -- Optional. Specifies the type of objects you wish to return details for.\n",
    "* `\"resultFormat\":` – \"XML\" / \"JSON\" / \"CSV\" -- Will return results as a list in the format selected. \n",
    "\n",
    "Within a particular feeder, it is possible to query for objects of all the CIM classes obtained using `\"requestType\": \"QUERY_OBJECT_TYPES\"` (discussed above in [Section 4.1](#4.1.-Query-for-CIM-Classes-of-Objects-in-Model)). Note that the RDF URI is not included in the query, only the name of the class, such as `\"objectType\": \"ACLineSegment\"` or `\"objectType\": \"LoadBreakSwitch\"`."
   ]
  },
  {
   "cell_type": "code",
   "execution_count": 6,
   "metadata": {},
   "outputs": [],
   "source": [
    "message = {\n",
    "    \"requestType\": \"QUERY_OBJECT_IDS\",\n",
    "    \"resultFormat\": \"JSON\",\n",
    "    \"modelId\": model_mrid,\n",
    "    \"objectType\": \"LoadBreakSwitch\"\n",
    "} "
   ]
  },
  {
   "cell_type": "code",
   "execution_count": 7,
   "metadata": {},
   "outputs": [],
   "source": [
    "response_obj = gapps.get_response(topic, message)"
   ]
  },
  {
   "cell_type": "code",
   "execution_count": 8,
   "metadata": {},
   "outputs": [
    {
     "data": {
      "text/plain": [
       "{'objectIds': ['_2858B6C2-0886-4269-884C-06FA8B887319',\n",
       "  '_517413CB-6977-46FA-8911-C82332E42884']}"
      ]
     },
     "execution_count": 8,
     "metadata": {},
     "output_type": "execute_result"
    }
   ],
   "source": [
    "response_obj['data']"
   ]
  },
  {
   "cell_type": "code",
   "execution_count": 9,
   "metadata": {},
   "outputs": [],
   "source": [
    "switch_mrids = response_obj['data']['objectIds']"
   ]
  },
  {
   "cell_type": "markdown",
   "metadata": {},
   "source": [
    "[Return to Top](#Table-of-Contents)"
   ]
  },
  {
   "cell_type": "markdown",
   "metadata": {},
   "source": [
    "## 4.3. Query for CIM Attributes of an Object\n",
    "\n",
    "This query is used to obtain all the attributes and mRIDs of those attributes for a particular object whose mRID is specified. \n",
    "\n",
    "Query responseType is\n",
    "\n",
    "* `\"requestType\": \"QUERY_OBJECT\"`\n",
    "\n",
    "Allowed parameters are:\n",
    "\n",
    "* `\"modelId\":` \"model name mRID\" -- When specified it searches against that model, if empty it will search against all models\n",
    "* `\"objectId\":` \"object mRID\" -- Optional. Specifies the type of objects you wish to return details for.\n",
    "* `\"resultFormat\":` – \"XML\" / \"JSON\" / \"CSV\" -- Will return results as a list in the format selected.\n",
    "\n",
    "Within a particular feeder, it is possible to query for objects of all the CIM classes obtained using `\"requestType\": \"QUERY_OBJECT_TYPES\"` (discussed above in [Section 4.1](#4.1.-Query-for-CIM-Classes-of-Objects-in-Model)). Note that the RDF URI is not included in the query, only the name of the class, such as `\"objectType\": \"ACLineSegment\"` or `\"objectType\": \"LoadBreakSwitch\"`."
   ]
  },
  {
   "cell_type": "code",
   "execution_count": null,
   "metadata": {},
   "outputs": [],
   "source": [
    "object_mrid = \"_2858B6C2-0886-4269-884C-06FA8B887319\"\n",
    "message = \"\"\"\n",
    "{\n",
    "        \"requestType\": \"QUERY_OBJECT\",\n",
    "        \"resultFormat\": \"JSON\",\n",
    "        \"modelId\": \"%s\",\n",
    "        \"objectId\": \"%s\"\n",
    "}\n",
    "\"\"\" % (model_mrid, object_mrid)"
   ]
  },
  {
   "cell_type": "code",
   "execution_count": null,
   "metadata": {},
   "outputs": [],
   "source": [
    "message = {\n",
    "        \"requestType\": \"QUERY_OBJECT\",\n",
    "        \"resultFormat\": \"JSON\",\n",
    "        \"objectId\": \"_4F76A5F9-271D-9EB8-5E31-AA362D86F2C3\"\n",
    "}"
   ]
  },
  {
   "cell_type": "code",
   "execution_count": null,
   "metadata": {},
   "outputs": [],
   "source": [
    "gapps.get_response(topic, message)"
   ]
  },
  {
   "cell_type": "markdown",
   "metadata": {},
   "source": [
    "[Return to Top](#Table-of-Contents)"
   ]
  },
  {
   "cell_type": "markdown",
   "metadata": {},
   "source": [
    "## 4.4. Query for Object Dictionary\n",
    "\n",
    "This query returns a python dictionary of all the equipment attributes and mRIDs. The query can be for 1) all objects of a particular `objectType` or 2) for those connected to a particular object based on the `objectId`. \n",
    "\n",
    "If neither `objectType` or `objectId` is provided, the query will provide all measurements belonging to the model.\n",
    "Query responseType is\n",
    "\n",
    "* `\"requestType\": \"QUERY_OBJECT_DICT\"`\n",
    "\n",
    "Allowed parameters are:\n",
    "\n",
    "* `\"modelId\":` \"model name mRID\" -- When specified it searches against that model, if empty it will search against all models\n",
    "\n",
    "* `\"objectId\":` \"object mRID\" -- Optional. Specifies the type of objects you wish to return details for.\n",
    "\n",
    "* `\"objectType\":` \"CIM Class\" -- Optional. Specifies the type of objects you wish to return details for.\n",
    "\n",
    "* `\"resultFormat\":` \"XML\" / \"JSON\" / \"CSV\" -- Will return results as a list in the format selected.\n",
    "\n",
    "Speciying the `objectID` will override any values specified for `objectType`."
   ]
  },
  {
   "cell_type": "markdown",
   "metadata": {},
   "source": [
    "__Example 1: Querying for model dictionary for an `\"objectID\":`__"
   ]
  },
  {
   "cell_type": "code",
   "execution_count": null,
   "metadata": {},
   "outputs": [],
   "source": [
    "message = {\n",
    "    \"modelId\": model_mrid,\n",
    "    \"requestType\": \"QUERY_OBJECT_DICT\",\n",
    "    \"resultFormat\": \"JSON\",\n",
    "    \"objectId\": switch_mrids[1]\n",
    "}\n",
    "\n",
    "gapps.get_response(topic, message)"
   ]
  },
  {
   "cell_type": "markdown",
   "metadata": {},
   "source": [
    "__Example 2: Querying for model dictionary for an `\"objectType\":`__"
   ]
  },
  {
   "cell_type": "code",
   "execution_count": 29,
   "metadata": {},
   "outputs": [
    {
     "data": {
      "text/plain": [
       "{'data': [{'id': '_7783128E-2906-46F4-8747-68F2B5B6CBCE',\n",
       "   'Equipment.EquipmentContainer': '_C1C3E687-6FFD-C753-582B-632A27E28507',\n",
       "   'IdentifiedObject.mRID': '_7783128E-2906-46F4-8747-68F2B5B6CBCE',\n",
       "   'IdentifiedObject.name': 'reg4c',\n",
       "   'PowerSystemResource.Location': '_34F4F487-2436-4E8B-99EC-070AC21E5845',\n",
       "   'TransformerTank.PowerTransformer': '_B89A2F76-07E6-4BC5-86FD-FC2B400B09D8',\n",
       "   'type': 'TransformerTank'},\n",
       "  {'id': '_9C8F8334-5AE7-49C8-8946-4A2429D95262',\n",
       "   'Equipment.EquipmentContainer': '_C1C3E687-6FFD-C753-582B-632A27E28507',\n",
       "   'IdentifiedObject.mRID': '_9C8F8334-5AE7-49C8-8946-4A2429D95262',\n",
       "   'IdentifiedObject.name': 'reg2a',\n",
       "   'PowerSystemResource.Location': '_89A034CF-A07F-407C-A956-FA0B5C013D14',\n",
       "   'TransformerTank.PowerTransformer': '_8ABD7FA9-DD4A-44A0-AC71-E423F050B0CE',\n",
       "   'type': 'TransformerTank'},\n",
       "  {'id': '_A0AFD5F7-EFC2-4711-95DF-82F6A19A8B3F',\n",
       "   'Equipment.EquipmentContainer': '_C1C3E687-6FFD-C753-582B-632A27E28507',\n",
       "   'IdentifiedObject.mRID': '_A0AFD5F7-EFC2-4711-95DF-82F6A19A8B3F',\n",
       "   'IdentifiedObject.name': 'reg4a',\n",
       "   'PowerSystemResource.Location': '_894965E3-FACF-46C2-A724-A6651D2C6744',\n",
       "   'TransformerTank.PowerTransformer': '_B89A2F76-07E6-4BC5-86FD-FC2B400B09D8',\n",
       "   'type': 'TransformerTank'},\n",
       "  {'id': '_37C29C46-00B6-4378-9B86-E5D6D5F38902',\n",
       "   'Equipment.EquipmentContainer': '_C1C3E687-6FFD-C753-582B-632A27E28507',\n",
       "   'IdentifiedObject.mRID': '_37C29C46-00B6-4378-9B86-E5D6D5F38902',\n",
       "   'IdentifiedObject.name': 'reg3c',\n",
       "   'PowerSystemResource.Location': '_2B490E2F-33F1-473B-A82C-9449DCB99859',\n",
       "   'TransformerTank.PowerTransformer': '_8F6B28EE-C00B-4274-8CF4-FAE50E9AF9EF',\n",
       "   'type': 'TransformerTank'},\n",
       "  {'id': '_61F3CA21-6382-45A6-B2E5-CA67AF5CB7C2',\n",
       "   'Equipment.EquipmentContainer': '_C1C3E687-6FFD-C753-582B-632A27E28507',\n",
       "   'IdentifiedObject.mRID': '_61F3CA21-6382-45A6-B2E5-CA67AF5CB7C2',\n",
       "   'IdentifiedObject.name': 'reg3a',\n",
       "   'PowerSystemResource.Location': '_37B0D437-70A4-4062-A883-8AA4A6AC0072',\n",
       "   'TransformerTank.PowerTransformer': '_8F6B28EE-C00B-4274-8CF4-FAE50E9AF9EF',\n",
       "   'type': 'TransformerTank'},\n",
       "  {'id': '_559462D0-7FEA-49BB-B3DF-4702D2FA2563',\n",
       "   'Equipment.EquipmentContainer': '_C1C3E687-6FFD-C753-582B-632A27E28507',\n",
       "   'IdentifiedObject.mRID': '_559462D0-7FEA-49BB-B3DF-4702D2FA2563',\n",
       "   'IdentifiedObject.name': 'reg4b',\n",
       "   'PowerSystemResource.Location': '_B8B6F983-63D3-45C8-9B40-72783544ACC2',\n",
       "   'TransformerTank.PowerTransformer': '_B89A2F76-07E6-4BC5-86FD-FC2B400B09D8',\n",
       "   'type': 'TransformerTank'}],\n",
       " 'responseComplete': True,\n",
       " 'id': '131864738'}"
      ]
     },
     "execution_count": 29,
     "metadata": {},
     "output_type": "execute_result"
    }
   ],
   "source": [
    "model_mrid = \"_C1C3E687-6FFD-C753-582B-632A27E28507\"\n",
    "message = {\n",
    "    \"modelId\": model_mrid,\n",
    "    \"requestType\": \"QUERY_OBJECT_DICT\",\n",
    "    \"resultFormat\": \"JSON\",\n",
    "    \"objectType\": \"TransformerTank\"\n",
    "}\n",
    "\n",
    "gapps.get_response(topic, message)"
   ]
  },
  {
   "cell_type": "markdown",
   "metadata": {},
   "source": [
    "[Return to Top](#Table-of-Contents)"
   ]
  },
  {
   "cell_type": "markdown",
   "metadata": {},
   "source": [
    "---\n",
    "# 5. Querying for Object Measurements\n",
    "\n"
   ]
  },
  {
   "cell_type": "markdown",
   "metadata": {},
   "source": [
    "## 5.1. Object mRIDs vs Measurement mRIDs\n",
    "\n",
    "A key concept in GridAPPS-D and CIM XML power system models is the difference between the object mRID of a piece of equipment and multiple measurement mRIDs associated with its control settings and power flow values.\n",
    "\n",
    "Measurements differ from the state variables (e.g. those obtained from State Estimator or a power flow calculation) in that the values are measured here and not calculated or estimated. Each Measurement is associated to a _PowerSystemResource_, and in GridAPPS-D for now, also a Terminal that belongs to the same _PowerSystemResource_. (Non-electrical measurements, for example weather, would not have the Terminal). \n",
    "\n",
    "The _measurementType_ is a string code from IEC 61850, with the following currently suppported:\n",
    "\n",
    "* __PNV__ -- Phase to Neutral Voltage\n",
    "\n",
    "\n",
    "* __VA__  -- Volt-Amperes (apparent power)\n",
    "\n",
    "\n",
    "* __A__ -- Amperes (current)\n",
    "\n",
    "\n",
    "* __POS__ -- Position for switches and transformer taps\n",
    "\n",
    "Each measurement object has a __name__, __mRID__, and __phases__. In GridAPPS-D, each phase is measured individually so multi-phase codes like ABC should not be used. \n",
    "\n",
    "Pos measurements will be discrete, for such things as tap position, switch position, or capacitor bank position. \n",
    "\n",
    "The others will be Analog, with magnitude and optional angle in degrees. \n",
    "\n",
    "Each MeasurementValue will have a timeStamp and mRID inherited from IdentifiedObject, so the values can be traced.\n",
    "\n"
   ]
  },
  {
   "cell_type": "markdown",
   "metadata": {},
   "source": [
    "[Return to Top](#Table-of-Contents)"
   ]
  },
  {
   "cell_type": "markdown",
   "metadata": {},
   "source": [
    "## 5.2. Querying for Measurements\n",
    "\n",
    "This query returns details for the measurements within a model. The query can be for 1) all objects of a particular `objectType` or 2) for those connected to a particular object based on the `objectId`. \n",
    "\n",
    "If neither `objectType` or `objectId` is provided, the query will provide all measurements belonging to the model.\n",
    "Query responseType is\n",
    "\n",
    "* `\"requestType\": \"QUERY_OBJECT_MEASUREMENTS\"`\n",
    "\n",
    "Allowed parameters are:\n",
    "\n",
    "* `\"modelId\":` \"model name mRID\" -- When specified it searches against that model, if empty it will search against all models\n",
    "\n",
    "* `\"objectId\":` \"object mRID\" -- Optional. Specifies the type of objects you wish to return details for.\n",
    "\n",
    "* `\"objectType\":` \"CIM Class\" -- Optional. Specifies the type of objects you wish to return details for.\n",
    "\n",
    "* `\"resultFormat\":` \"XML\" / \"JSON\" / \"CSV\" -- Will return results as a list in the format selected.\n",
    "\n",
    "Speciying the `objectID` will override any values specified for `objectType`."
   ]
  },
  {
   "cell_type": "markdown",
   "metadata": {},
   "source": [
    "__Example 1: Querying for all measurements for an `\"objectID\":`__"
   ]
  },
  {
   "cell_type": "code",
   "execution_count": 10,
   "metadata": {},
   "outputs": [
    {
     "data": {
      "text/plain": [
       "{'data': [{'measid': '_9999fd85-b2ab-434e-a1eb-e5a879052264',\n",
       "   'type': 'A',\n",
       "   'class': 'Analog',\n",
       "   'name': 'LoadBreakSwitch_671692_Current',\n",
       "   'bus': '671',\n",
       "   'phases': 'A',\n",
       "   'eqtype': 'LoadBreakSwitch',\n",
       "   'eqname': '671692',\n",
       "   'eqid': '_517413CB-6977-46FA-8911-C82332E42884',\n",
       "   'trmid': '_F1D6C919-22FA-4E94-81B1-36823F5A9FF5'},\n",
       "  {'measid': '_cfbc0267-18cf-4223-a359-93827b91595a',\n",
       "   'type': 'A',\n",
       "   'class': 'Analog',\n",
       "   'name': 'LoadBreakSwitch_671692_Current',\n",
       "   'bus': '671',\n",
       "   'phases': 'B',\n",
       "   'eqtype': 'LoadBreakSwitch',\n",
       "   'eqname': '671692',\n",
       "   'eqid': '_517413CB-6977-46FA-8911-C82332E42884',\n",
       "   'trmid': '_F1D6C919-22FA-4E94-81B1-36823F5A9FF5'},\n",
       "  {'measid': '_a93ba38d-1c92-4753-9be7-701316fe400d',\n",
       "   'type': 'A',\n",
       "   'class': 'Analog',\n",
       "   'name': 'LoadBreakSwitch_671692_Current',\n",
       "   'bus': '671',\n",
       "   'phases': 'C',\n",
       "   'eqtype': 'LoadBreakSwitch',\n",
       "   'eqname': '671692',\n",
       "   'eqid': '_517413CB-6977-46FA-8911-C82332E42884',\n",
       "   'trmid': '_F1D6C919-22FA-4E94-81B1-36823F5A9FF5'},\n",
       "  {'measid': '_1673bdcb-199a-42d1-930b-af54b49a1964',\n",
       "   'type': 'PNV',\n",
       "   'class': 'Analog',\n",
       "   'name': 'LoadBreakSwitch_671692_Voltage',\n",
       "   'bus': '671',\n",
       "   'phases': 'A',\n",
       "   'eqtype': 'LoadBreakSwitch',\n",
       "   'eqname': '671692',\n",
       "   'eqid': '_517413CB-6977-46FA-8911-C82332E42884',\n",
       "   'trmid': '_F1D6C919-22FA-4E94-81B1-36823F5A9FF5'},\n",
       "  {'measid': '_35f5dff2-2f71-4668-97f1-2718218a0cc6',\n",
       "   'type': 'PNV',\n",
       "   'class': 'Analog',\n",
       "   'name': 'LoadBreakSwitch_671692_Voltage',\n",
       "   'bus': '692',\n",
       "   'phases': 'A',\n",
       "   'eqtype': 'LoadBreakSwitch',\n",
       "   'eqname': '671692',\n",
       "   'eqid': '_517413CB-6977-46FA-8911-C82332E42884',\n",
       "   'trmid': '_169CB0D6-0002-457F-9594-7FEB09DA102D'},\n",
       "  {'measid': '_2967b52e-4e8b-4c95-baca-884c598e0e0c',\n",
       "   'type': 'PNV',\n",
       "   'class': 'Analog',\n",
       "   'name': 'LoadBreakSwitch_671692_Voltage',\n",
       "   'bus': '671',\n",
       "   'phases': 'B',\n",
       "   'eqtype': 'LoadBreakSwitch',\n",
       "   'eqname': '671692',\n",
       "   'eqid': '_517413CB-6977-46FA-8911-C82332E42884',\n",
       "   'trmid': '_F1D6C919-22FA-4E94-81B1-36823F5A9FF5'},\n",
       "  {'measid': '_fd7d04d4-8a47-4860-8077-6376f060b4a3',\n",
       "   'type': 'PNV',\n",
       "   'class': 'Analog',\n",
       "   'name': 'LoadBreakSwitch_671692_Voltage',\n",
       "   'bus': '692',\n",
       "   'phases': 'B',\n",
       "   'eqtype': 'LoadBreakSwitch',\n",
       "   'eqname': '671692',\n",
       "   'eqid': '_517413CB-6977-46FA-8911-C82332E42884',\n",
       "   'trmid': '_169CB0D6-0002-457F-9594-7FEB09DA102D'},\n",
       "  {'measid': '_e8ccaf1e-93bb-4ae5-8bf0-e579b91eb392',\n",
       "   'type': 'PNV',\n",
       "   'class': 'Analog',\n",
       "   'name': 'LoadBreakSwitch_671692_Voltage',\n",
       "   'bus': '671',\n",
       "   'phases': 'C',\n",
       "   'eqtype': 'LoadBreakSwitch',\n",
       "   'eqname': '671692',\n",
       "   'eqid': '_517413CB-6977-46FA-8911-C82332E42884',\n",
       "   'trmid': '_F1D6C919-22FA-4E94-81B1-36823F5A9FF5'},\n",
       "  {'measid': '_02ba9ed6-1662-4825-a705-5d4a771d45d3',\n",
       "   'type': 'PNV',\n",
       "   'class': 'Analog',\n",
       "   'name': 'LoadBreakSwitch_671692_Voltage',\n",
       "   'bus': '692',\n",
       "   'phases': 'C',\n",
       "   'eqtype': 'LoadBreakSwitch',\n",
       "   'eqname': '671692',\n",
       "   'eqid': '_517413CB-6977-46FA-8911-C82332E42884',\n",
       "   'trmid': '_169CB0D6-0002-457F-9594-7FEB09DA102D'},\n",
       "  {'measid': '_95cd5a84-9c49-48e2-b7e1-f20c62230182',\n",
       "   'type': 'Pos',\n",
       "   'class': 'Discrete',\n",
       "   'name': 'LoadBreakSwitch_671692_State',\n",
       "   'bus': '671',\n",
       "   'phases': 'A',\n",
       "   'eqtype': 'LoadBreakSwitch',\n",
       "   'eqname': '671692',\n",
       "   'eqid': '_517413CB-6977-46FA-8911-C82332E42884',\n",
       "   'trmid': '_F1D6C919-22FA-4E94-81B1-36823F5A9FF5'},\n",
       "  {'measid': '_3b72a23c-4e29-4c7a-b484-fc1d7293bfeb',\n",
       "   'type': 'Pos',\n",
       "   'class': 'Discrete',\n",
       "   'name': 'LoadBreakSwitch_671692_State',\n",
       "   'bus': '671',\n",
       "   'phases': 'B',\n",
       "   'eqtype': 'LoadBreakSwitch',\n",
       "   'eqname': '671692',\n",
       "   'eqid': '_517413CB-6977-46FA-8911-C82332E42884',\n",
       "   'trmid': '_F1D6C919-22FA-4E94-81B1-36823F5A9FF5'},\n",
       "  {'measid': '_b54fb47b-0e27-4b25-907b-e7d64df40997',\n",
       "   'type': 'Pos',\n",
       "   'class': 'Discrete',\n",
       "   'name': 'LoadBreakSwitch_671692_State',\n",
       "   'bus': '671',\n",
       "   'phases': 'C',\n",
       "   'eqtype': 'LoadBreakSwitch',\n",
       "   'eqname': '671692',\n",
       "   'eqid': '_517413CB-6977-46FA-8911-C82332E42884',\n",
       "   'trmid': '_F1D6C919-22FA-4E94-81B1-36823F5A9FF5'}],\n",
       " 'responseComplete': True,\n",
       " 'id': '1563959797'}"
      ]
     },
     "execution_count": 10,
     "metadata": {},
     "output_type": "execute_result"
    }
   ],
   "source": [
    "message = {\n",
    "    \"modelId\": model_mrid,\n",
    "    \"requestType\": \"QUERY_OBJECT_MEASUREMENTS\",\n",
    "    \"resultFormat\": \"JSON\",\n",
    "    \"objectId\": switch_mrids[1]\n",
    "}\n",
    "\n",
    "gapps.get_response(topic, message)"
   ]
  },
  {
   "cell_type": "code",
   "execution_count": null,
   "metadata": {},
   "outputs": [],
   "source": [
    "switch_mrids[1]"
   ]
  },
  {
   "cell_type": "markdown",
   "metadata": {},
   "source": [
    "__Example 2: Querying for all measurements for an `\"objectType\":`__"
   ]
  },
  {
   "cell_type": "code",
   "execution_count": 4,
   "metadata": {},
   "outputs": [
    {
     "data": {
      "text/plain": [
       "{'data': [{'measid': '_83e4ca18-56b5-49a9-8a59-8d522279a43c',\n",
       "   'type': 'PNV',\n",
       "   'class': 'Analog',\n",
       "   'name': 'ACLineSegment_632633_Voltage',\n",
       "   'bus': '633',\n",
       "   'phases': 'A',\n",
       "   'eqtype': 'ACLineSegment',\n",
       "   'eqname': '632633',\n",
       "   'eqid': '_FBE26B35-13AB-457D-9795-DF58B28E309D',\n",
       "   'trmid': '_F0E10483-D8AD-46BE-AF5F-08228955796B'},\n",
       "  {'measid': '_e6f41ee7-e162-431a-8338-d1d41c272443',\n",
       "   'type': 'PNV',\n",
       "   'class': 'Analog',\n",
       "   'name': 'ACLineSegment_632633_Voltage',\n",
       "   'bus': '633',\n",
       "   'phases': 'B',\n",
       "   'eqtype': 'ACLineSegment',\n",
       "   'eqname': '632633',\n",
       "   'eqid': '_FBE26B35-13AB-457D-9795-DF58B28E309D',\n",
       "   'trmid': '_F0E10483-D8AD-46BE-AF5F-08228955796B'},\n",
       "  {'measid': '_c3838d80-c959-44e5-920e-7d69f621bc6a',\n",
       "   'type': 'PNV',\n",
       "   'class': 'Analog',\n",
       "   'name': 'ACLineSegment_632633_Voltage',\n",
       "   'bus': '633',\n",
       "   'phases': 'C',\n",
       "   'eqtype': 'ACLineSegment',\n",
       "   'eqname': '632633',\n",
       "   'eqid': '_FBE26B35-13AB-457D-9795-DF58B28E309D',\n",
       "   'trmid': '_F0E10483-D8AD-46BE-AF5F-08228955796B'},\n",
       "  {'measid': '_5c5ef12f-f5db-4d7a-a99f-1f751747e7f6',\n",
       "   'type': 'PNV',\n",
       "   'class': 'Analog',\n",
       "   'name': 'ACLineSegment_632645_Voltage',\n",
       "   'bus': '645',\n",
       "   'phases': 'B',\n",
       "   'eqtype': 'ACLineSegment',\n",
       "   'eqname': '632645',\n",
       "   'eqid': '_1C6781A2-5B9D-4525-8A9B-F9B32C4C4AC0',\n",
       "   'trmid': '_4891537F-4088-48F5-9B1A-8294D50901E4'},\n",
       "  {'measid': '_0c223c2b-dcc5-4646-8f36-ebd8760017f7',\n",
       "   'type': 'PNV',\n",
       "   'class': 'Analog',\n",
       "   'name': 'ACLineSegment_632645_Voltage',\n",
       "   'bus': '645',\n",
       "   'phases': 'C',\n",
       "   'eqtype': 'ACLineSegment',\n",
       "   'eqname': '632645',\n",
       "   'eqid': '_1C6781A2-5B9D-4525-8A9B-F9B32C4C4AC0',\n",
       "   'trmid': '_4891537F-4088-48F5-9B1A-8294D50901E4'},\n",
       "  {'measid': '_6ed1088f-f0f6-44b8-8bc9-5a5a0b0729c7',\n",
       "   'type': 'PNV',\n",
       "   'class': 'Analog',\n",
       "   'name': 'ACLineSegment_632670_Voltage',\n",
       "   'bus': '670',\n",
       "   'phases': 'A',\n",
       "   'eqtype': 'ACLineSegment',\n",
       "   'eqname': '632670',\n",
       "   'eqid': '_ABF53597-A808-422A-B7EE-552F24D83A5F',\n",
       "   'trmid': '_B554744A-F5B5-485C-B67E-2487A8740295'},\n",
       "  {'measid': '_6ff1f934-7a68-4b3d-ae13-bb68ac09052d',\n",
       "   'type': 'PNV',\n",
       "   'class': 'Analog',\n",
       "   'name': 'ACLineSegment_632670_Voltage',\n",
       "   'bus': '670',\n",
       "   'phases': 'B',\n",
       "   'eqtype': 'ACLineSegment',\n",
       "   'eqname': '632670',\n",
       "   'eqid': '_ABF53597-A808-422A-B7EE-552F24D83A5F',\n",
       "   'trmid': '_B554744A-F5B5-485C-B67E-2487A8740295'},\n",
       "  {'measid': '_73fe235c-2f59-4867-8a2d-a091c08bde4b',\n",
       "   'type': 'PNV',\n",
       "   'class': 'Analog',\n",
       "   'name': 'ACLineSegment_632670_Voltage',\n",
       "   'bus': '670',\n",
       "   'phases': 'C',\n",
       "   'eqtype': 'ACLineSegment',\n",
       "   'eqname': '632670',\n",
       "   'eqid': '_ABF53597-A808-422A-B7EE-552F24D83A5F',\n",
       "   'trmid': '_B554744A-F5B5-485C-B67E-2487A8740295'},\n",
       "  {'measid': '_53efc402-0e04-4c91-be4f-884c66900234',\n",
       "   'type': 'PNV',\n",
       "   'class': 'Analog',\n",
       "   'name': 'ACLineSegment_645646_Voltage',\n",
       "   'bus': '646',\n",
       "   'phases': 'B',\n",
       "   'eqtype': 'ACLineSegment',\n",
       "   'eqname': '645646',\n",
       "   'eqid': '_0BBD0EA3-F665-465B-86FD-FC8B8466AD53',\n",
       "   'trmid': '_D02B9E99-3557-48F5-B475-4871E47D08F6'},\n",
       "  {'measid': '_4a0114ad-ebc7-484d-b3cb-6ae327979444',\n",
       "   'type': 'PNV',\n",
       "   'class': 'Analog',\n",
       "   'name': 'ACLineSegment_645646_Voltage',\n",
       "   'bus': '646',\n",
       "   'phases': 'C',\n",
       "   'eqtype': 'ACLineSegment',\n",
       "   'eqname': '645646',\n",
       "   'eqid': '_0BBD0EA3-F665-465B-86FD-FC8B8466AD53',\n",
       "   'trmid': '_D02B9E99-3557-48F5-B475-4871E47D08F6'},\n",
       "  {'measid': '_45ae2966-c573-40ae-9cdf-77d37b9125e8',\n",
       "   'type': 'PNV',\n",
       "   'class': 'Analog',\n",
       "   'name': 'ACLineSegment_650632_Voltage',\n",
       "   'bus': 'rg60',\n",
       "   'phases': 'A',\n",
       "   'eqtype': 'ACLineSegment',\n",
       "   'eqname': '650632',\n",
       "   'eqid': '_A04CDFB1-E951-4FC4-8882-0323CD70AE3C',\n",
       "   'trmid': '_000BA1F2-6879-47D7-826D-3CACD23EE20B'},\n",
       "  {'measid': '_8a704979-4539-4d56-8859-ddb5d2a9d529',\n",
       "   'type': 'PNV',\n",
       "   'class': 'Analog',\n",
       "   'name': 'ACLineSegment_650632_Voltage',\n",
       "   'bus': 'rg60',\n",
       "   'phases': 'B',\n",
       "   'eqtype': 'ACLineSegment',\n",
       "   'eqname': '650632',\n",
       "   'eqid': '_A04CDFB1-E951-4FC4-8882-0323CD70AE3C',\n",
       "   'trmid': '_000BA1F2-6879-47D7-826D-3CACD23EE20B'},\n",
       "  {'measid': '_37ad7317-03b6-47a8-b261-5b6374f38357',\n",
       "   'type': 'PNV',\n",
       "   'class': 'Analog',\n",
       "   'name': 'ACLineSegment_650632_Voltage',\n",
       "   'bus': 'rg60',\n",
       "   'phases': 'C',\n",
       "   'eqtype': 'ACLineSegment',\n",
       "   'eqname': '650632',\n",
       "   'eqid': '_A04CDFB1-E951-4FC4-8882-0323CD70AE3C',\n",
       "   'trmid': '_000BA1F2-6879-47D7-826D-3CACD23EE20B'},\n",
       "  {'measid': '_49ca7184-0957-442c-9308-50919aa226a9',\n",
       "   'type': 'PNV',\n",
       "   'class': 'Analog',\n",
       "   'name': 'ACLineSegment_671680_Voltage',\n",
       "   'bus': '680',\n",
       "   'phases': 'A',\n",
       "   'eqtype': 'ACLineSegment',\n",
       "   'eqname': '671680',\n",
       "   'eqid': '_4C04F838-62AA-475E-AEFA-A63B7C889C13',\n",
       "   'trmid': '_FF3DE145-0066-4C1F-867C-2A2BF3012EDF'},\n",
       "  {'measid': '_47d46197-21dd-483b-b34c-93fdec6b2dd8',\n",
       "   'type': 'PNV',\n",
       "   'class': 'Analog',\n",
       "   'name': 'ACLineSegment_671680_Voltage',\n",
       "   'bus': '680',\n",
       "   'phases': 'B',\n",
       "   'eqtype': 'ACLineSegment',\n",
       "   'eqname': '671680',\n",
       "   'eqid': '_4C04F838-62AA-475E-AEFA-A63B7C889C13',\n",
       "   'trmid': '_FF3DE145-0066-4C1F-867C-2A2BF3012EDF'},\n",
       "  {'measid': '_c14e363b-02f1-4f44-a39a-cd91e733677e',\n",
       "   'type': 'PNV',\n",
       "   'class': 'Analog',\n",
       "   'name': 'ACLineSegment_671680_Voltage',\n",
       "   'bus': '680',\n",
       "   'phases': 'C',\n",
       "   'eqtype': 'ACLineSegment',\n",
       "   'eqname': '671680',\n",
       "   'eqid': '_4C04F838-62AA-475E-AEFA-A63B7C889C13',\n",
       "   'trmid': '_FF3DE145-0066-4C1F-867C-2A2BF3012EDF'},\n",
       "  {'measid': '_252796d9-38bc-4204-8aa4-ffd974fb832b',\n",
       "   'type': 'PNV',\n",
       "   'class': 'Analog',\n",
       "   'name': 'ACLineSegment_671684_Voltage',\n",
       "   'bus': '684',\n",
       "   'phases': 'A',\n",
       "   'eqtype': 'ACLineSegment',\n",
       "   'eqname': '671684',\n",
       "   'eqid': '_D34B0D01-B082-4081-A3CC-B68B9B8313A4',\n",
       "   'trmid': '_BC623628-BD23-4A1A-A406-15CA63556149'},\n",
       "  {'measid': '_ca32510b-9f22-403f-866d-a51a44aeafa1',\n",
       "   'type': 'PNV',\n",
       "   'class': 'Analog',\n",
       "   'name': 'ACLineSegment_684652_Voltage',\n",
       "   'bus': '652',\n",
       "   'phases': 'A',\n",
       "   'eqtype': 'ACLineSegment',\n",
       "   'eqname': '684652',\n",
       "   'eqid': '_ABF877D7-DAC2-4BF0-AB58-9A8A02E92EB3',\n",
       "   'trmid': '_8692A804-428A-4637-BD47-69C76F873DAB'},\n",
       "  {'measid': '_fb4ac038-9e42-4936-b820-2b625b17f19d',\n",
       "   'type': 'VA',\n",
       "   'class': 'Analog',\n",
       "   'name': 'ACLineSegment_632633_Power',\n",
       "   'bus': '632',\n",
       "   'phases': 'A',\n",
       "   'eqtype': 'ACLineSegment',\n",
       "   'eqname': '632633',\n",
       "   'eqid': '_FBE26B35-13AB-457D-9795-DF58B28E309D',\n",
       "   'trmid': '_A6C57C2E-A084-4701-ADF5-FB6F3E36F45C'},\n",
       "  {'measid': '_d0306bd7-db58-49db-bda7-75739b37a636',\n",
       "   'type': 'VA',\n",
       "   'class': 'Analog',\n",
       "   'name': 'ACLineSegment_632633_Power',\n",
       "   'bus': '632',\n",
       "   'phases': 'B',\n",
       "   'eqtype': 'ACLineSegment',\n",
       "   'eqname': '632633',\n",
       "   'eqid': '_FBE26B35-13AB-457D-9795-DF58B28E309D',\n",
       "   'trmid': '_A6C57C2E-A084-4701-ADF5-FB6F3E36F45C'},\n",
       "  {'measid': '_ac840720-dd68-4226-ae45-27c501782af7',\n",
       "   'type': 'VA',\n",
       "   'class': 'Analog',\n",
       "   'name': 'ACLineSegment_632633_Power',\n",
       "   'bus': '632',\n",
       "   'phases': 'C',\n",
       "   'eqtype': 'ACLineSegment',\n",
       "   'eqname': '632633',\n",
       "   'eqid': '_FBE26B35-13AB-457D-9795-DF58B28E309D',\n",
       "   'trmid': '_A6C57C2E-A084-4701-ADF5-FB6F3E36F45C'},\n",
       "  {'measid': '_2d88fd24-a775-4551-98c6-2f152fa9b12f',\n",
       "   'type': 'VA',\n",
       "   'class': 'Analog',\n",
       "   'name': 'ACLineSegment_632645_Power',\n",
       "   'bus': '632',\n",
       "   'phases': 'B',\n",
       "   'eqtype': 'ACLineSegment',\n",
       "   'eqname': '632645',\n",
       "   'eqid': '_1C6781A2-5B9D-4525-8A9B-F9B32C4C4AC0',\n",
       "   'trmid': '_A563A3A5-EA39-4998-96B2-538227E2D2F6'},\n",
       "  {'measid': '_7990ea17-d279-4a44-bb0d-966d3072a046',\n",
       "   'type': 'VA',\n",
       "   'class': 'Analog',\n",
       "   'name': 'ACLineSegment_632645_Power',\n",
       "   'bus': '632',\n",
       "   'phases': 'C',\n",
       "   'eqtype': 'ACLineSegment',\n",
       "   'eqname': '632645',\n",
       "   'eqid': '_1C6781A2-5B9D-4525-8A9B-F9B32C4C4AC0',\n",
       "   'trmid': '_A563A3A5-EA39-4998-96B2-538227E2D2F6'},\n",
       "  {'measid': '_a545e395-1a7a-412b-b655-0252348ca9b0',\n",
       "   'type': 'VA',\n",
       "   'class': 'Analog',\n",
       "   'name': 'ACLineSegment_632670_Power',\n",
       "   'bus': 'mid',\n",
       "   'phases': 'A',\n",
       "   'eqtype': 'ACLineSegment',\n",
       "   'eqname': '632670',\n",
       "   'eqid': '_ABF53597-A808-422A-B7EE-552F24D83A5F',\n",
       "   'trmid': '_5EDB2918-D669-457C-9F44-E08EBA5AC850'},\n",
       "  {'measid': '_79977e84-993f-4458-a285-1591d80bb012',\n",
       "   'type': 'VA',\n",
       "   'class': 'Analog',\n",
       "   'name': 'ACLineSegment_632670_Power',\n",
       "   'bus': 'mid',\n",
       "   'phases': 'B',\n",
       "   'eqtype': 'ACLineSegment',\n",
       "   'eqname': '632670',\n",
       "   'eqid': '_ABF53597-A808-422A-B7EE-552F24D83A5F',\n",
       "   'trmid': '_5EDB2918-D669-457C-9F44-E08EBA5AC850'},\n",
       "  {'measid': '_0cd7966a-6bf9-4a3b-a133-04c71eef81e3',\n",
       "   'type': 'VA',\n",
       "   'class': 'Analog',\n",
       "   'name': 'ACLineSegment_632670_Power',\n",
       "   'bus': 'mid',\n",
       "   'phases': 'C',\n",
       "   'eqtype': 'ACLineSegment',\n",
       "   'eqname': '632670',\n",
       "   'eqid': '_ABF53597-A808-422A-B7EE-552F24D83A5F',\n",
       "   'trmid': '_5EDB2918-D669-457C-9F44-E08EBA5AC850'},\n",
       "  {'measid': '_866b74f0-c71d-4501-882d-19ec51548ea3',\n",
       "   'type': 'VA',\n",
       "   'class': 'Analog',\n",
       "   'name': 'ACLineSegment_645646_Power',\n",
       "   'bus': '645',\n",
       "   'phases': 'B',\n",
       "   'eqtype': 'ACLineSegment',\n",
       "   'eqname': '645646',\n",
       "   'eqid': '_0BBD0EA3-F665-465B-86FD-FC8B8466AD53',\n",
       "   'trmid': '_F3C0F2D0-4D28-49B5-A920-37409B99229D'},\n",
       "  {'measid': '_76e8e7a4-a76f-4860-869a-7166dc2c64b1',\n",
       "   'type': 'VA',\n",
       "   'class': 'Analog',\n",
       "   'name': 'ACLineSegment_645646_Power',\n",
       "   'bus': '645',\n",
       "   'phases': 'C',\n",
       "   'eqtype': 'ACLineSegment',\n",
       "   'eqname': '645646',\n",
       "   'eqid': '_0BBD0EA3-F665-465B-86FD-FC8B8466AD53',\n",
       "   'trmid': '_F3C0F2D0-4D28-49B5-A920-37409B99229D'},\n",
       "  {'measid': '_df8a1f3c-0168-4411-9065-ad16f78184e5',\n",
       "   'type': 'VA',\n",
       "   'class': 'Analog',\n",
       "   'name': 'ACLineSegment_650632_Power',\n",
       "   'bus': 'rg60',\n",
       "   'phases': 'A',\n",
       "   'eqtype': 'ACLineSegment',\n",
       "   'eqname': '650632',\n",
       "   'eqid': '_A04CDFB1-E951-4FC4-8882-0323CD70AE3C',\n",
       "   'trmid': '_000BA1F2-6879-47D7-826D-3CACD23EE20B'},\n",
       "  {'measid': '_ea07dea6-a14b-4d31-ad8d-d2956b0d79a3',\n",
       "   'type': 'VA',\n",
       "   'class': 'Analog',\n",
       "   'name': 'ACLineSegment_650632_Power',\n",
       "   'bus': 'rg60',\n",
       "   'phases': 'B',\n",
       "   'eqtype': 'ACLineSegment',\n",
       "   'eqname': '650632',\n",
       "   'eqid': '_A04CDFB1-E951-4FC4-8882-0323CD70AE3C',\n",
       "   'trmid': '_000BA1F2-6879-47D7-826D-3CACD23EE20B'},\n",
       "  {'measid': '_510befe4-6b69-4f4c-9244-565e92c7a881',\n",
       "   'type': 'VA',\n",
       "   'class': 'Analog',\n",
       "   'name': 'ACLineSegment_650632_Power',\n",
       "   'bus': 'rg60',\n",
       "   'phases': 'C',\n",
       "   'eqtype': 'ACLineSegment',\n",
       "   'eqname': '650632',\n",
       "   'eqid': '_A04CDFB1-E951-4FC4-8882-0323CD70AE3C',\n",
       "   'trmid': '_000BA1F2-6879-47D7-826D-3CACD23EE20B'},\n",
       "  {'measid': '_0ed463fc-c8ae-4d15-83bd-230d48d54900',\n",
       "   'type': 'VA',\n",
       "   'class': 'Analog',\n",
       "   'name': 'ACLineSegment_670671_Power',\n",
       "   'bus': '670',\n",
       "   'phases': 'A',\n",
       "   'eqtype': 'ACLineSegment',\n",
       "   'eqname': '670671',\n",
       "   'eqid': '_45395C84-F20A-4F5A-977F-B80348256421',\n",
       "   'trmid': '_EEF69C71-5A87-4378-8DF4-4578635C81B4'},\n",
       "  {'measid': '_f57dfa09-35df-43cf-bc02-650c28c8247f',\n",
       "   'type': 'VA',\n",
       "   'class': 'Analog',\n",
       "   'name': 'ACLineSegment_670671_Power',\n",
       "   'bus': '670',\n",
       "   'phases': 'B',\n",
       "   'eqtype': 'ACLineSegment',\n",
       "   'eqname': '670671',\n",
       "   'eqid': '_45395C84-F20A-4F5A-977F-B80348256421',\n",
       "   'trmid': '_EEF69C71-5A87-4378-8DF4-4578635C81B4'},\n",
       "  {'measid': '_22aab35a-c87a-4074-8977-28d86fb032ab',\n",
       "   'type': 'VA',\n",
       "   'class': 'Analog',\n",
       "   'name': 'ACLineSegment_670671_Power',\n",
       "   'bus': '670',\n",
       "   'phases': 'C',\n",
       "   'eqtype': 'ACLineSegment',\n",
       "   'eqname': '670671',\n",
       "   'eqid': '_45395C84-F20A-4F5A-977F-B80348256421',\n",
       "   'trmid': '_EEF69C71-5A87-4378-8DF4-4578635C81B4'},\n",
       "  {'measid': '_40bf6be0-2f8c-4e6c-ad93-2f007b866802',\n",
       "   'type': 'VA',\n",
       "   'class': 'Analog',\n",
       "   'name': 'ACLineSegment_671680_Power',\n",
       "   'bus': '671',\n",
       "   'phases': 'A',\n",
       "   'eqtype': 'ACLineSegment',\n",
       "   'eqname': '671680',\n",
       "   'eqid': '_4C04F838-62AA-475E-AEFA-A63B7C889C13',\n",
       "   'trmid': '_8BE8D3EA-EEE9-406C-B24C-B169C8EC799A'},\n",
       "  {'measid': '_000c688d-30ea-499e-88ec-983be876b31f',\n",
       "   'type': 'VA',\n",
       "   'class': 'Analog',\n",
       "   'name': 'ACLineSegment_671680_Power',\n",
       "   'bus': '671',\n",
       "   'phases': 'B',\n",
       "   'eqtype': 'ACLineSegment',\n",
       "   'eqname': '671680',\n",
       "   'eqid': '_4C04F838-62AA-475E-AEFA-A63B7C889C13',\n",
       "   'trmid': '_8BE8D3EA-EEE9-406C-B24C-B169C8EC799A'},\n",
       "  {'measid': '_72bc13d8-d885-4e17-83f3-52f54c400e83',\n",
       "   'type': 'VA',\n",
       "   'class': 'Analog',\n",
       "   'name': 'ACLineSegment_671680_Power',\n",
       "   'bus': '671',\n",
       "   'phases': 'C',\n",
       "   'eqtype': 'ACLineSegment',\n",
       "   'eqname': '671680',\n",
       "   'eqid': '_4C04F838-62AA-475E-AEFA-A63B7C889C13',\n",
       "   'trmid': '_8BE8D3EA-EEE9-406C-B24C-B169C8EC799A'},\n",
       "  {'measid': '_9cfc5e3f-55a3-4ad6-b2a2-76c959ab03b6',\n",
       "   'type': 'VA',\n",
       "   'class': 'Analog',\n",
       "   'name': 'ACLineSegment_671684_Power',\n",
       "   'bus': '671',\n",
       "   'phases': 'A',\n",
       "   'eqtype': 'ACLineSegment',\n",
       "   'eqname': '671684',\n",
       "   'eqid': '_D34B0D01-B082-4081-A3CC-B68B9B8313A4',\n",
       "   'trmid': '_A4C58654-2972-4A3E-AE65-3868941DA037'},\n",
       "  {'measid': '_5cfa4ec6-16d0-44a8-bc10-0ca74caccde1',\n",
       "   'type': 'VA',\n",
       "   'class': 'Analog',\n",
       "   'name': 'ACLineSegment_671684_Power',\n",
       "   'bus': '671',\n",
       "   'phases': 'C',\n",
       "   'eqtype': 'ACLineSegment',\n",
       "   'eqname': '671684',\n",
       "   'eqid': '_D34B0D01-B082-4081-A3CC-B68B9B8313A4',\n",
       "   'trmid': '_A4C58654-2972-4A3E-AE65-3868941DA037'},\n",
       "  {'measid': '_586672d3-d7ac-43f7-b33e-dcc9fb378907',\n",
       "   'type': 'VA',\n",
       "   'class': 'Analog',\n",
       "   'name': 'ACLineSegment_684611_Power',\n",
       "   'bus': 'tap',\n",
       "   'phases': 'C',\n",
       "   'eqtype': 'ACLineSegment',\n",
       "   'eqname': '684611',\n",
       "   'eqid': '_8E180773-2A9B-4136-BC9A-132A52C8E276',\n",
       "   'trmid': '_EA5FF2C4-F7E1-436D-BDEC-1C48D4DBB50D'},\n",
       "  {'measid': '_b1914fe5-12f2-4531-954f-72aaf19e26db',\n",
       "   'type': 'VA',\n",
       "   'class': 'Analog',\n",
       "   'name': 'ACLineSegment_684652_Power',\n",
       "   'bus': '684',\n",
       "   'phases': 'A',\n",
       "   'eqtype': 'ACLineSegment',\n",
       "   'eqname': '684652',\n",
       "   'eqid': '_ABF877D7-DAC2-4BF0-AB58-9A8A02E92EB3',\n",
       "   'trmid': '_3313C5A7-ED81-47D3-8114-AD654A5DE21B'},\n",
       "  {'measid': '_0746e22b-3181-4634-b2bc-fbba0f6cf904',\n",
       "   'type': 'VA',\n",
       "   'class': 'Analog',\n",
       "   'name': 'ACLineSegment_692675_Power',\n",
       "   'bus': '692',\n",
       "   'phases': 'A',\n",
       "   'eqtype': 'ACLineSegment',\n",
       "   'eqname': '692675',\n",
       "   'eqid': '_7060D0BB-B30D-4932-8FA1-40820A0FC4D0',\n",
       "   'trmid': '_B4E1784C-5500-47AE-958B-A286CE8C17A5'},\n",
       "  {'measid': '_be8bfaf1-b149-41e2-95ee-805870477691',\n",
       "   'type': 'VA',\n",
       "   'class': 'Analog',\n",
       "   'name': 'ACLineSegment_692675_Power',\n",
       "   'bus': '692',\n",
       "   'phases': 'B',\n",
       "   'eqtype': 'ACLineSegment',\n",
       "   'eqname': '692675',\n",
       "   'eqid': '_7060D0BB-B30D-4932-8FA1-40820A0FC4D0',\n",
       "   'trmid': '_B4E1784C-5500-47AE-958B-A286CE8C17A5'},\n",
       "  {'measid': '_10272793-8703-4e6d-88ee-50e93760059c',\n",
       "   'type': 'VA',\n",
       "   'class': 'Analog',\n",
       "   'name': 'ACLineSegment_692675_Power',\n",
       "   'bus': '692',\n",
       "   'phases': 'C',\n",
       "   'eqtype': 'ACLineSegment',\n",
       "   'eqname': '692675',\n",
       "   'eqid': '_7060D0BB-B30D-4932-8FA1-40820A0FC4D0',\n",
       "   'trmid': '_B4E1784C-5500-47AE-958B-A286CE8C17A5'}],\n",
       " 'responseComplete': True,\n",
       " 'id': '802048256'}"
      ]
     },
     "execution_count": 4,
     "metadata": {},
     "output_type": "execute_result"
    }
   ],
   "source": [
    "message = {\n",
    "    \"modelId\": model_mrid,\n",
    "    \"requestType\": \"QUERY_OBJECT_MEASUREMENTS\",\n",
    "    \"resultFormat\": \"JSON\",\n",
    "    \"objectType\": \"ACLineSegment\"\n",
    "}\n",
    "\n",
    "gapps.get_response(topic, message)"
   ]
  },
  {
   "cell_type": "markdown",
   "metadata": {},
   "source": [
    "[Return to Top](#Table-of-Contents)"
   ]
  },
  {
   "cell_type": "markdown",
   "metadata": {},
   "source": [
    "## 5.3. Filtering Returned Data\n",
    "\n",
    "After receiving the python dictionary of measurements, it will be necessary to parse it to inlcude just the desired set of measurements. This is done using the method presented in [Lesson 1.5, Section 3](Lesson%201.5.%20GridAPPS-D%20Messages.ipynb#3.-Parsing-Returned-Data)"
   ]
  },
  {
   "cell_type": "code",
   "execution_count": 11,
   "metadata": {},
   "outputs": [
    {
     "data": {
      "text/plain": [
       "[{'measid': '_95cd5a84-9c49-48e2-b7e1-f20c62230182',\n",
       "  'type': 'Pos',\n",
       "  'class': 'Discrete',\n",
       "  'name': 'LoadBreakSwitch_671692_State',\n",
       "  'bus': '671',\n",
       "  'phases': 'A',\n",
       "  'eqtype': 'LoadBreakSwitch',\n",
       "  'eqname': '671692',\n",
       "  'eqid': '_517413CB-6977-46FA-8911-C82332E42884',\n",
       "  'trmid': '_F1D6C919-22FA-4E94-81B1-36823F5A9FF5'},\n",
       " {'measid': '_3b72a23c-4e29-4c7a-b484-fc1d7293bfeb',\n",
       "  'type': 'Pos',\n",
       "  'class': 'Discrete',\n",
       "  'name': 'LoadBreakSwitch_671692_State',\n",
       "  'bus': '671',\n",
       "  'phases': 'B',\n",
       "  'eqtype': 'LoadBreakSwitch',\n",
       "  'eqname': '671692',\n",
       "  'eqid': '_517413CB-6977-46FA-8911-C82332E42884',\n",
       "  'trmid': '_F1D6C919-22FA-4E94-81B1-36823F5A9FF5'},\n",
       " {'measid': '_b54fb47b-0e27-4b25-907b-e7d64df40997',\n",
       "  'type': 'Pos',\n",
       "  'class': 'Discrete',\n",
       "  'name': 'LoadBreakSwitch_671692_State',\n",
       "  'bus': '671',\n",
       "  'phases': 'C',\n",
       "  'eqtype': 'LoadBreakSwitch',\n",
       "  'eqname': '671692',\n",
       "  'eqid': '_517413CB-6977-46FA-8911-C82332E42884',\n",
       "  'trmid': '_F1D6C919-22FA-4E94-81B1-36823F5A9FF5'}]"
      ]
     },
     "execution_count": 11,
     "metadata": {},
     "output_type": "execute_result"
    }
   ],
   "source": [
    "obj_msr_ACline = gapps.get_response(topic, message, timeout=10)\n",
    "\n",
    "# Filter to just values for 'data' key\n",
    "obj_msr_ACline = obj_msr_ACline['data'] \n",
    "\n",
    "# Chose specific measurement mrid. Screen out those whose type is not PNV. For example,\n",
    "obj_msr_ACline = [k for k in obj_msr_ACline if k['type'] == 'Pos']\n",
    "\n",
    "obj_msr_ACline"
   ]
  },
  {
   "cell_type": "markdown",
   "metadata": {},
   "source": [
    "[Return to Top](#Table-of-Contents)"
   ]
  },
  {
   "cell_type": "markdown",
   "metadata": {},
   "source": [
    "---\n",
    "# 6. GridAPPSD-Python Shortcut Methods\n",
    "\n",
    "A small number of simple PowerGrid Model API queries have pre-built Python functions that can be used without specifying the topic and a particular message.\n"
   ]
  },
  {
   "cell_type": "markdown",
   "metadata": {},
   "source": [
    "## 6.1. Querying for mRIDs of all Models\n",
    "\n",
    "The `.query_model_names` method is associated with the GridAPPSD connection object and returns a list of all the CIM XML classes of objects present in the Blazegraph for a particular model or all models in the database.\n",
    "\n",
    "\n",
    "This method will return identical results to the python dictionary message explained above in [Section 3.1](#3.1.-Query-for-mRIDs-of-all-Models)"
   ]
  },
  {
   "cell_type": "code",
   "execution_count": null,
   "metadata": {},
   "outputs": [],
   "source": [
    "gapps.query_model_names()"
   ]
  },
  {
   "cell_type": "markdown",
   "metadata": {},
   "source": [
    "[Return to Top](#Table-of-Contents)"
   ]
  },
  {
   "cell_type": "markdown",
   "metadata": {},
   "source": [
    "## 6.2. Query for CIM Classes of Objects in Model\n",
    "\n",
    "The `.query_object_types` method is associated with the GridAPPSD connection object and returns a list of all the CIM XML classes of objects present in the Blazegraph for a particular model or all models in the database.\n",
    "\n",
    "This method will return identical results to the python dictionary message explained above in [Section 4.1](#4.1.-Query-for-CIM-Classes-of-Objects-in-Model)\n",
    "\n",
    "Allowed parameters are\n",
    "\n",
    "* model_id (optional) - when specified, it searches only the particular model identified by the given unique mRID"
   ]
  },
  {
   "cell_type": "markdown",
   "metadata": {},
   "source": [
    "__1) Query entire Blazegraph database__\n",
    "\n",
    "Leave the arguments blank to search all models in the Blazegraph database"
   ]
  },
  {
   "cell_type": "code",
   "execution_count": null,
   "metadata": {},
   "outputs": [],
   "source": [
    "gapps.query_object_types()"
   ]
  },
  {
   "cell_type": "markdown",
   "metadata": {},
   "source": [
    "__2) Query for only a particular model__\n",
    "\n",
    "Specify the model MRID as a python string and pass it as a parameter to the method to return only the CIM classes of objects in that particular model"
   ]
  },
  {
   "cell_type": "code",
   "execution_count": null,
   "metadata": {},
   "outputs": [],
   "source": [
    "model_mrid = \"_49AD8E07-3BF9-A4E2-CB8F-C3722F837B62\" # IEEE 13 Node used for all example queries\n",
    "gapps.query_object_types(model_mrid)"
   ]
  },
  {
   "cell_type": "markdown",
   "metadata": {},
   "source": [
    "[Return to Top](#Table-of-Contents)"
   ]
  },
  {
   "cell_type": "markdown",
   "metadata": {},
   "source": [
    "## 6.3. Query for CIM Attributes of an Object\n",
    "\n",
    "The `.query_object` method is associated with the GridAPPSD connection object and returns a list of all the CIM XML classes of objects present in the Blazegraph for a particular model or all models in the database.\n",
    "\n",
    "This method will return identical results to the python dictionary message explained above in [Section 4.3](#4.3.-Query-for-CIM-Attributes-of-an-Object)"
   ]
  },
  {
   "cell_type": "code",
   "execution_count": null,
   "metadata": {},
   "outputs": [],
   "source": [
    "model_mrid = \"_49AD8E07-3BF9-A4E2-CB8F-C3722F837B62\" # IEEE 13 Node used for all example queries\n",
    "object_mrid = \"_2858B6C2-0886-4269-884C-06FA8B887319\"\n",
    "\n",
    "gapps.query_object(model_mrid, object_mrid)"
   ]
  }
 ],
 "metadata": {
  "kernelspec": {
   "display_name": "Python 3",
   "language": "python",
   "name": "python3"
  },
  "language_info": {
   "codemirror_mode": {
    "name": "ipython",
    "version": 3
   },
   "file_extension": ".py",
   "mimetype": "text/x-python",
   "name": "python",
   "nbconvert_exporter": "python",
   "pygments_lexer": "ipython3",
   "version": "3.8.3"
  }
 },
 "nbformat": 4,
 "nbformat_minor": 4
}
