{
 "cells": [
  {
   "cell_type": "markdown",
   "metadata": {},
   "source": [
    "# Lesson 2.2:\n",
    "# PowerGrid Models API - Using JSON Queries\n",
    "\n",
    "This tutorial introduces the PowerGrid Models API and how it can be used to query model data.\n",
    "\n",
    "__Learning Objectives:__\n",
    "\n",
    "At the end of the tutorial, the user should be able to use the PowerGrid Models API to\n",
    "\n",
    "* \n",
    "* \n",
    "* \n",
    "\n",
    "## Getting Started\n",
    "\n",
    "Before running any of the sample routines in this tutorial, it is first necessary to start the GridAPPS-D Platform and establish a connection to this notebook so that we can start passing calls to the API."
   ]
  },
  {
   "cell_type": "markdown",
   "metadata": {},
   "source": [
    "_Open the Ubuntu terminal and start the GridAPPS-D Platform if it is not running already:_\n",
    "\n",
    "`cd gridappsd-docker`\n",
    "\n",
    "~/gridappsd-docker$ `./run.sh -t develop`\n",
    "\n",
    "_Once containers are running,_\n",
    "\n",
    "gridappsd@[container]:/gridappsd$ `./run-gridappsd.sh`"
   ]
  },
  {
   "cell_type": "code",
   "execution_count": 1,
   "metadata": {},
   "outputs": [],
   "source": [
    "# Establish connection to GridAPPS-D Platform:\n",
    "from gridappsd import GridAPPSD\n",
    "gapps = GridAPPSD(\"('localhost', 61613)\", username='system', password='manager')\n",
    "model_mrid = \"_49AD8E07-3BF9-A4E2-CB8F-C3722F837B62\" # IEEE 13 Node used for all example queries"
   ]
  },
  {
   "cell_type": "markdown",
   "metadata": {},
   "source": [
    "---\n",
    "# Table of Contents\n",
    "\n",
    "* [1. Introduction to the PowerGrid Model API](#1.-Introduction-to-the-PowerGrid-Model-API)\n",
    "* [2. Using the PowerGrid Model API](#2.-Using-the-PowerGrid-Model-API)\n",
    "    * [2.1. Specifying the Topic](#2.1.-Specifying-the-Topic)\n",
    "    * [2.2. Structure of a JSON Query Message](#2.2.-Structure-of-a-JSON-Query-Message)\n",
    "    * [2.3. Specifying the requestType](#2.3.-Specifying-the-requestType)\n",
    "* [3. Querying for Feeder Model Info](#3.-Querying-for-Feeder-Model-Info)\n",
    "    * [3.1. Query for mRIDs of all Models](#3.1.-Query-for-mRIDs-of-all-Models)\n",
    "    * [3.2. Query for Details Dictionary of all Models](#3.2.-Query-for-Details-Dictionary-of-all-Models)\n",
    "* [4. Querying for Object Info](#4.-Querying-for-Object-Info)\n",
    "    * [4.1. Query for CIM Classes of Objects in Model](#4.1.-Query-for-CIM-Classes-of-Objects-in-Model)"
   ]
  },
  {
   "cell_type": "markdown",
   "metadata": {},
   "source": [
    "---\n",
    "# 1. Introduction to the PowerGrid Model API\n",
    "\n",
    "\n",
    "The PowerGrid Model API is used to pull model information, inlcuding the names, mRIDs, measurements, and nominal values of power system equipment in the feeder (such as lines, loads, switches, transformers, and DERs).\n",
    "\n",
    "INSERT MORE ON API\n",
    "\n",
    "INSERT MORE ON API\n",
    "\n",
    "INSERT MORE ON API"
   ]
  },
  {
   "cell_type": "markdown",
   "metadata": {},
   "source": []
  },
  {
   "cell_type": "markdown",
   "metadata": {},
   "source": [
    "---\n",
    "# 2. Using the PowerGrid Model API"
   ]
  },
  {
   "cell_type": "markdown",
   "metadata": {},
   "source": [
    "## 2.1. Specifying the Topic\n",
    "\n",
    "All queries passed to the PowerGrid Models API need to use the correct topic.For a review of GridAPPS-D topics, see Lesson 1.4 There are two ways to specify the topic. Both produce identical results."
   ]
  },
  {
   "cell_type": "markdown",
   "metadata": {},
   "source": [
    "__1) Specifying the topic as a string:__"
   ]
  },
  {
   "cell_type": "code",
   "execution_count": 2,
   "metadata": {},
   "outputs": [],
   "source": [
    "topic = \"goss.gridappsd.process.request.data.powergridmodel\""
   ]
  },
  {
   "cell_type": "markdown",
   "metadata": {},
   "source": [
    "__2) Using the `topics` library to specify the topic:__"
   ]
  },
  {
   "cell_type": "code",
   "execution_count": null,
   "metadata": {},
   "outputs": [],
   "source": [
    "from gridappsd import topics as t\n",
    "topic = t.REQUEST_POWERGRID_DATA"
   ]
  },
  {
   "cell_type": "markdown",
   "metadata": {},
   "source": [
    "[Return to Top](#Table-of-Contents)"
   ]
  },
  {
   "cell_type": "markdown",
   "metadata": {},
   "source": [
    "## 2.2. Structure of a JSON Query Message\n",
    "\n",
    "Most simple queries are passed to PowerGrid Models API as JSON scripts wrapped in python string. The general format is \n",
    "\n",
    "```\n",
    "message = \"\"\"\n",
    "{\n",
    "    \"requestType\": \"INSERT QUERY HERE\",\n",
    "    \"resultFormat\": \"JSON\",\n",
    "    \"modelId\": \"OPTIONAL INSERT MODEL mRID HERE\",\n",
    "    \"objectId\": \"OPTIONAL INSERT OBJECT mRID HERE\",\n",
    "    \"filter\": \"OPTIONAL INSERT SPARQL FILTER HERE\"\n",
    "}\n",
    "```\n",
    "\n",
    "The components of the message are as follows:\n",
    "\n",
    "* `\"requestType\":` -- Specifies the type of query. Available requestType are listed in the next section.\n",
    "\n",
    "\n",
    "* `\"resultFormat\":` -- Specifies the format of the response, can be `\"JSON\"`, `\"CSV\"`, or `\"XML\"`. (CAUTION: the PowerGridModel API uses the key _resultFormat_, while the Timeseries API uses the key _reponseFormat_. Using the wrong key for either API will result in a java.lang error.)\n",
    "\n",
    "\n",
    "* `\"modelID\":` -- Optional. Used to filter the query to only one particular model whose mRID is specified. Be aware of spelling and capitalization differences between JSON query spelling `\"modelId\"` and Python Library spelling `model_id`.\n",
    "\n",
    "\n",
    "* `\"objectType\":` -- Optional. Used to filter the query to only one CIM class of equipment. Speciying the _objectID_ will override any values specified for _objectType_. \n",
    "\n",
    "\n",
    "* `\"objectID\":` -- Optional. Used to filter the query to only one object whose mRID is specified. Specifying the _objectID_ will override any values specified for _objectType_. \n",
    "\n",
    "\n",
    "* `\"filter\":` -- Optional. Used to filter the query using a SPARQL filter. SPARQL queries are covered in the next lesson.\n",
    "\n",
    "\n",
    "The usage of each of these message components are explained in detail with code block examples below. \n",
    "\n",
    "__Important__: Be sure to pay attention to placement of commas ( __,__ ) at the end of each JSON line. Commas are placed at the end of each line _except_ the last line. Incorrect comma placement will result in a JsonSyntaxException. \n",
    "\n",
    "All of the queries are passed to the PowerGrid Model API using the `.get_response(topic, message)` method for the GridAPPS-D platform connection variable."
   ]
  },
  {
   "cell_type": "markdown",
   "metadata": {},
   "source": [
    "[Return to Top](#Table-of-Contents)"
   ]
  },
  {
   "cell_type": "markdown",
   "metadata": {},
   "source": [
    "## 2.3. Specifying the `requestType`\n",
    "\n",
    "Below are the possible `requestType` strings that are used to specify the type of each query. Executable code block examples are provided for each of the requests in the subsections below.\n",
    "\n",
    "The first group of _requestType_ key-value pairs are for queries for information related to the entire model or a set of models, such as the model name, mRID, region, and substation:\n",
    "\n",
    "* `\"requestType\": \"QUERY_MODEL_NAMES\"` -- [Query for the list of all model name mRIDs](#3.1.-Query-for-mRIDs-of-all-Models)\n",
    "\n",
    "\n",
    "* `\"requestType\": \"QUERY_MODEL_INFO\"` -- [Query for the dictionary of all details for all feeders in Blazegraph](#3.2.-Query-for-Details-Dictionary-of-all-Models)\n",
    "\n",
    "\n",
    "The second group of _requestType_ key-value pairs are for queries for a single object or a single class of objects withing a model, such as the object mRID, CIM attributes, or measurement points:\n",
    "\n",
    "* `\"requestType\": \"QUERY_OBJECT_TYPES\"` -- [Query for the types of CIM classes of objects in the model](#4.1.-Query-for-CIM-Classes-of-Objects-in-Model)\n",
    "\n",
    "\n",
    "* `\"requestType\": \"QUERY_OBJECT_IDS\"` -- Query for a list of all mRIDs for objects of a CIM class in the model\n",
    "\n",
    "\n",
    "* `\"requestType\": \"QUERY_OBJECT\"` -- Query for CIM attributes of an object using its unique mRID \n",
    "\n",
    "\n",
    "* `\"requestType\": \"QUERY_OBJECT_DICT\"` -- Query for the dictionary of all details for an object using either its _objectType_ OR its _objectID_\n",
    "\n",
    "\n",
    "* `\"requestType\": \"QUERY_OBJECT_MEASUREMENTS\"` -- Query for all measurement types and mRIDs for an object using either its _objectType_ OR its _ObjectID_.\n",
    "\n",
    "The third group of _requestType_ key-value pairs are for queries based on SPARQL filters or complete SPARQL queries. The structure of SPARQL was introduced in [Lesson 1.XX](). Usage of these two _requestType_ will covered separately in the next two lessons.\n",
    "\n",
    "* `\"requestType\": \"QUERY_MODEL\"` -- Query for all  part of a specified model, filtered by object type using a SPARQL filter.\n",
    "\n",
    "\n",
    "* `\"requestType\": \"QUERY\"` -- Query using a complete SPARQL query.\n",
    "\n",
    "\n"
   ]
  },
  {
   "cell_type": "markdown",
   "metadata": {},
   "source": [
    "[[Return to Top](#Table-of-Contents)]"
   ]
  },
  {
   "cell_type": "markdown",
   "metadata": {},
   "source": [
    "---\n",
    "# 3. Querying for Feeder Model Info\n",
    "\n",
    "\n",
    "This section outlines the pre-built JSON queries that can be passed to the PowerGrid Model API to obtain mRIDs and other information for all models and feeders stored in the Blazegraph Database."
   ]
  },
  {
   "cell_type": "markdown",
   "metadata": {},
   "source": [
    "## 3.1. Query for mRIDs of all Models\n",
    "\n",
    "This query obtains a list of all the model MRIDs stored in the Blazegraph database. \n",
    "\n",
    "Query requestType:\n",
    "\n",
    "* `\"requestType\": \"QUERY_MODEL_NAMES\"`\n",
    "\n",
    "Allowed parameters:\n",
    "\n",
    "* `\"resultFormat\":` – \"XML\" / \"JSON\" / \"CSV\" -- Optional. Will return results as a list in the format selected. "
   ]
  },
  {
   "cell_type": "code",
   "execution_count": 7,
   "metadata": {},
   "outputs": [],
   "source": [
    "message = \"\"\"{\n",
    "    \"requestType\": \"QUERY_MODEL_NAMES\",\n",
    "    \"resultFormat\": \"JSON\"\n",
    "}\"\"\""
   ]
  },
  {
   "cell_type": "code",
   "execution_count": 4,
   "metadata": {},
   "outputs": [
    {
     "data": {
      "text/plain": [
       "{'data': {'modelNames': ['_49AD8E07-3BF9-A4E2-CB8F-C3722F837B62',\n",
       "   '_4F76A5F9-271D-9EB8-5E31-AA362D86F2C3',\n",
       "   '_503D6E20-F499-4CC7-8051-971E23D0BF79',\n",
       "   '_5B816B93-7A5F-B64C-8460-47C17D6E4B0F',\n",
       "   '_67AB291F-DCCD-31B7-B499-338206B9828F',\n",
       "   '_77966920-E1EC-EE8A-23EE-4EFD23B205BD',\n",
       "   '_9CE150A8-8CC5-A0F9-B67E-BBD8C79D3095',\n",
       "   '_AAE94E4A-2465-6F5E-37B1-3E72183A4E44',\n",
       "   '_C1C3E687-6FFD-C753-582B-632A27E28507',\n",
       "   '_E407CBB6-8C8D-9BC9-589C-AB83FBF0826D']},\n",
       " 'responseComplete': True,\n",
       " 'id': '736502389'}"
      ]
     },
     "execution_count": 4,
     "metadata": {},
     "output_type": "execute_result"
    }
   ],
   "source": [
    "gapps.get_response(topic, message)"
   ]
  },
  {
   "cell_type": "code",
   "execution_count": 8,
   "metadata": {},
   "outputs": [
    {
     "data": {
      "text/plain": [
       "str"
      ]
     },
     "execution_count": 8,
     "metadata": {},
     "output_type": "execute_result"
    }
   ],
   "source": [
    "type(message)"
   ]
  },
  {
   "cell_type": "markdown",
   "metadata": {},
   "source": [
    "[Return to Top](#Table-of-Contents)"
   ]
  },
  {
   "cell_type": "markdown",
   "metadata": {},
   "source": [
    "## 3.2. Query for Details Dictionary of all Models\n",
    "\n",
    "This query returns a list of names and MRIDs for all models, substations, subregions, and regions for all available feeders stored in the Blazegraph database.\n",
    "\n",
    "Query requestType:\n",
    "\n",
    "* `\"requestType\": \"QUERY_MODEL_INFO\"`\n",
    "\n",
    "Allowed parameters:\n",
    "\n",
    "* `\"resultFormat\":` – \"XML\" / \"JSON\" / \"CSV\" -- Will return results as a list in the format selected."
   ]
  },
  {
   "cell_type": "code",
   "execution_count": null,
   "metadata": {},
   "outputs": [],
   "source": [
    "message = \"\"\"\n",
    "{\n",
    "    \"requestType\": \"QUERY_MODEL_INFO\",\n",
    "    \"resultFormat\": \"JSON\"\n",
    "}\n",
    "\"\"\""
   ]
  },
  {
   "cell_type": "code",
   "execution_count": null,
   "metadata": {},
   "outputs": [],
   "source": [
    "gapps.get_response(topic, message)"
   ]
  },
  {
   "cell_type": "markdown",
   "metadata": {},
   "source": [
    "[Return to Top](#Table-of-Contents)"
   ]
  },
  {
   "cell_type": "markdown",
   "metadata": {},
   "source": [
    "---\n",
    "# 4. Querying for Object Info\n",
    "\n",
    "This section outlines the pre-built JSON queries that can be passed to the PowerGrid Model API to obtain mRIDs and other information for a particular object or a class of objects for one or more feeders stored in the Blazegraph Database.\n",
    "\n",
    "All of the examples in this section use the IEEE 13 node model. The python constructor %s is used for all queries to enable the code block to be cut and paste into any python script without needing to change the model mRID."
   ]
  },
  {
   "cell_type": "code",
   "execution_count": 10,
   "metadata": {},
   "outputs": [],
   "source": [
    "model_mrid = \"_49AD8E07-3BF9-A4E2-CB8F-C3722F837B62\" # IEEE 13 Node used for all example queries"
   ]
  },
  {
   "cell_type": "markdown",
   "metadata": {},
   "source": [
    "## 4.1. Query for CIM Classes of Objects in Model\n",
    "\n",
    "This query is used to query for a list of all the CIM XML classes of objects present in the Blazegraph for a particular model or all models in the database.\n",
    "\n",
    "Query requestType is\n",
    "\n",
    "* `\"requestType\": \"QUERY_OBJECT_TYPES\"`\n",
    "\n",
    "Allowed parameters are\n",
    "\n",
    "* `\"modelId\":` \"model name mRID\" -- Optional. Searches only the particular model identified by the given unique mRID\n",
    "* `\"resultFormat\":` – \"XML\" / \"JSON\" / \"CSV\" -- Will return results as a list in the format selected. "
   ]
  },
  {
   "cell_type": "markdown",
   "metadata": {},
   "source": [
    "__1) Query entire Blazegraph database__\n",
    "\n",
    "Omit the \"modelId\" parameter to search the entire blazegraph database. "
   ]
  },
  {
   "cell_type": "code",
   "execution_count": 12,
   "metadata": {},
   "outputs": [],
   "source": [
    "message = \"\"\"\n",
    "{\n",
    "    \"requestType\": \"QUERY_OBJECT_TYPES\",\n",
    "    \"resultFormat\": \"JSON\"\n",
    "}\n",
    "\"\"\""
   ]
  },
  {
   "cell_type": "code",
   "execution_count": 13,
   "metadata": {},
   "outputs": [
    {
     "data": {
      "text/plain": [
       "{'data': {'objectTypes': ['http://iec.ch/TC57/CIM100#ACLineSegment',\n",
       "   'http://iec.ch/TC57/CIM100#BaseVoltage',\n",
       "   'http://iec.ch/TC57/CIM100#BatteryUnit',\n",
       "   'http://iec.ch/TC57/CIM100#ConnectivityNode',\n",
       "   'http://iec.ch/TC57/CIM100#CoordinateSystem',\n",
       "   'http://iec.ch/TC57/CIM100#CurrentLimit',\n",
       "   'http://iec.ch/TC57/CIM100#EnergyConsumer',\n",
       "   'http://iec.ch/TC57/CIM100#EnergySource',\n",
       "   'http://iec.ch/TC57/CIM100#Feeder',\n",
       "   'http://iec.ch/TC57/CIM100#GeographicalRegion',\n",
       "   'http://iec.ch/TC57/CIM100#IEC61970CIMVersion',\n",
       "   'http://iec.ch/TC57/CIM100#LoadResponseCharacteristic',\n",
       "   'http://iec.ch/TC57/CIM100#Location',\n",
       "   'http://iec.ch/TC57/CIM100#OperationalLimitSet',\n",
       "   'http://iec.ch/TC57/CIM100#OperationalLimitType',\n",
       "   'http://iec.ch/TC57/CIM100#PerLengthSequenceImpedance',\n",
       "   'http://iec.ch/TC57/CIM100#PhotovoltaicUnit',\n",
       "   'http://iec.ch/TC57/CIM100#PositionPoint',\n",
       "   'http://iec.ch/TC57/CIM100#PowerElectronicsConnection',\n",
       "   'http://iec.ch/TC57/CIM100#PowerTransformer',\n",
       "   'http://iec.ch/TC57/CIM100#PowerTransformerEnd',\n",
       "   'http://iec.ch/TC57/CIM100#SubGeographicalRegion',\n",
       "   'http://iec.ch/TC57/CIM100#Substation',\n",
       "   'http://iec.ch/TC57/CIM100#SynchronousMachine',\n",
       "   'http://iec.ch/TC57/CIM100#Terminal',\n",
       "   'http://iec.ch/TC57/CIM100#TopologicalIsland',\n",
       "   'http://iec.ch/TC57/CIM100#TopologicalNode',\n",
       "   'http://iec.ch/TC57/CIM100#TransformerCoreAdmittance',\n",
       "   'http://iec.ch/TC57/CIM100#TransformerMeshImpedance',\n",
       "   'http://iec.ch/TC57/CIM100#VoltageLimit',\n",
       "   'http://iec.ch/TC57/CIM100#Asset',\n",
       "   'http://iec.ch/TC57/CIM100#LinearShuntCompensator',\n",
       "   'http://iec.ch/TC57/CIM100#NoLoadTest',\n",
       "   'http://iec.ch/TC57/CIM100#PowerElectronicsConnectionPhase',\n",
       "   'http://iec.ch/TC57/CIM100#PowerTransformerInfo',\n",
       "   'http://iec.ch/TC57/CIM100#RegulatingControl',\n",
       "   'http://iec.ch/TC57/CIM100#ShortCircuitTest',\n",
       "   'http://iec.ch/TC57/CIM100#TransformerEndInfo',\n",
       "   'http://iec.ch/TC57/CIM100#TransformerTankInfo',\n",
       "   'http://iec.ch/TC57/CIM100#ACLineSegmentPhase',\n",
       "   'http://iec.ch/TC57/CIM100#LoadBreakSwitch',\n",
       "   'http://iec.ch/TC57/CIM100#RatioTapChanger',\n",
       "   'http://iec.ch/TC57/CIM100#TapChangerControl',\n",
       "   'http://iec.ch/TC57/CIM100#TapChangerInfo',\n",
       "   'http://iec.ch/TC57/CIM100#TransformerTank',\n",
       "   'http://iec.ch/TC57/CIM100#TransformerTankEnd',\n",
       "   'http://iec.ch/TC57/CIM100#EnergyConsumerPhase',\n",
       "   'http://iec.ch/TC57/CIM100#SwitchPhase',\n",
       "   'http://iec.ch/TC57/CIM100#PerLengthPhaseImpedance',\n",
       "   'http://iec.ch/TC57/CIM100#PhaseImpedanceData',\n",
       "   'http://iec.ch/TC57/CIM100#LinearShuntCompensatorPhase',\n",
       "   'http://iec.ch/TC57/CIM100#ConcentricNeutralCableInfo',\n",
       "   'http://iec.ch/TC57/CIM100#OverheadWireInfo',\n",
       "   'http://iec.ch/TC57/CIM100#TapeShieldCableInfo',\n",
       "   'http://iec.ch/TC57/CIM100#WirePosition',\n",
       "   'http://iec.ch/TC57/CIM100#WireSpacingInfo',\n",
       "   'http://iec.ch/TC57/CIM100#Breaker',\n",
       "   'http://iec.ch/TC57/CIM100#Fuse',\n",
       "   'http://iec.ch/TC57/CIM100#Recloser',\n",
       "   'http://iec.ch/TC57/CIM100#Analog',\n",
       "   'http://iec.ch/TC57/CIM100#Discrete',\n",
       "   'http://iec.ch/TC57/CIM100#House']},\n",
       " 'responseComplete': True,\n",
       " 'id': '1404200918'}"
      ]
     },
     "execution_count": 13,
     "metadata": {},
     "output_type": "execute_result"
    }
   ],
   "source": [
    "gapps.get_response(topic, message)"
   ]
  },
  {
   "cell_type": "markdown",
   "metadata": {},
   "source": [
    "__2) Query for only a particular model__\n",
    "\n",
    "Specify the model MRID as a python string and pass it as a parameter to the method to return only the CIM classes of objects in that particular model. \n",
    "\n",
    "Be aware of spelling and capitalization differences between JSON query spelling `\"modelId\"` and Python Library spelling `model_id`."
   ]
  },
  {
   "cell_type": "code",
   "execution_count": 11,
   "metadata": {},
   "outputs": [],
   "source": [
    "message = \"\"\"\n",
    "{\n",
    "    \"requestType\": \"QUERY_OBJECT_TYPES\",\n",
    "    \"modelId\": \"%s\",\n",
    "    \"resultFormat\": \"JSON\"\n",
    "}\n",
    "\"\"\" % model_mrid"
   ]
  },
  {
   "cell_type": "code",
   "execution_count": 12,
   "metadata": {},
   "outputs": [
    {
     "data": {
      "text/plain": [
       "{'data': {'objectTypes': ['http://iec.ch/TC57/CIM100#ConnectivityNode',\n",
       "   'http://iec.ch/TC57/CIM100#ACLineSegment',\n",
       "   'http://iec.ch/TC57/CIM100#EnergyConsumer',\n",
       "   'http://iec.ch/TC57/CIM100#TransformerTank',\n",
       "   'http://iec.ch/TC57/CIM100#PowerTransformer',\n",
       "   'http://iec.ch/TC57/CIM100#LoadBreakSwitch',\n",
       "   'http://iec.ch/TC57/CIM100#Fuse',\n",
       "   'http://iec.ch/TC57/CIM100#Breaker',\n",
       "   'http://iec.ch/TC57/CIM100#PowerElectronicsConnection',\n",
       "   'http://iec.ch/TC57/CIM100#EnergySource',\n",
       "   'http://iec.ch/TC57/CIM100#LinearShuntCompensator',\n",
       "   'http://iec.ch/TC57/CIM100#Recloser']},\n",
       " 'responseComplete': True,\n",
       " 'id': '380248986'}"
      ]
     },
     "execution_count": 12,
     "metadata": {},
     "output_type": "execute_result"
    }
   ],
   "source": [
    "gapps.get_response(topic, message)"
   ]
  },
  {
   "cell_type": "markdown",
   "metadata": {},
   "source": [
    "[Return to Top](#Table-of-Contents)"
   ]
  },
  {
   "cell_type": "markdown",
   "metadata": {},
   "source": [
    "## 4.2. Query for mRIDs of Objects in a Feeder\n",
    "\n",
    "This query is used to obtain all the mRIDs of objects of a particular CIM class in the feeder. \n",
    "\n",
    "Query responseType is\n",
    "\n",
    "* `\"requestType\": \"QUERY_OBJECT_IDS\"`\n",
    "\n",
    "Allowed parameters are:\n",
    "\n",
    "* `\"modelId\":` \"model name mRID\" -- When specified it searches against that model, if empty it will search against all models\n",
    "* `\"objectType\":` \"CIM Class\" -- Optional. Specifies the type of objects you wish to return details for.\n",
    "* `\"resultFormat\":` – \"XML\" / \"JSON\" / \"CSV\" -- Will return results as a list in the format selected. \n",
    "\n",
    "Within a particular feeder, it is possible to query for objects of all the CIM classes obtained using `\"requestType\": \"QUERY_OBJECT_TYPES\"` (discussed above in [Section 4.1](#4.1.-Query-for-CIM-Classes-of-Objects-in-Model)). Note that the RDF URI is not included in the query, only the name of the class, such as `\"objectType\": \"ACLineSegment\"` or `\"objectType\": \"LoadBreakSwitch\"`."
   ]
  },
  {
   "cell_type": "code",
   "execution_count": 19,
   "metadata": {},
   "outputs": [],
   "source": [
    "message = {\n",
    "    \"requestType\": \"QUERY_OBJECT_IDS\",\n",
    "    \"resultFormat\": \"JSON\",\n",
    "    \"modelId\": model_mrid,\n",
    "    \"objectType\": \"LoadBreakSwitch\"\n",
    "} "
   ]
  },
  {
   "cell_type": "code",
   "execution_count": 20,
   "metadata": {},
   "outputs": [
    {
     "data": {
      "text/plain": [
       "{'data': {'objectIds': ['_2858B6C2-0886-4269-884C-06FA8B887319',\n",
       "   '_517413CB-6977-46FA-8911-C82332E42884']},\n",
       " 'responseComplete': True,\n",
       " 'id': '33519682'}"
      ]
     },
     "execution_count": 20,
     "metadata": {},
     "output_type": "execute_result"
    }
   ],
   "source": [
    "gapps.get_response(topic, message)"
   ]
  },
  {
   "cell_type": "markdown",
   "metadata": {},
   "source": [
    "[Return to Top](#Table-of-Contents)"
   ]
  },
  {
   "cell_type": "markdown",
   "metadata": {},
   "source": [
    "## 4.3. Query for CIM Attributes of an Object\n",
    "\n",
    "This query is used to obtain all the attributes and mRIDs of those attributes for a particular object whose mRID is specified. \n",
    "\n",
    "Query responseType is\n",
    "\n",
    "* `\"requestType\": \"QUERY_OBJECT\"`\n",
    "\n",
    "Allowed parameters are:\n",
    "\n",
    "* `\"modelId\":` \"model name mRID\" -- When specified it searches against that model, if empty it will search against all models\n",
    "* `\"objectId\":` \"object mRID\" -- Optional. Specifies the type of objects you wish to return details for.\n",
    "* `\"resultFormat\":` – \"XML\" / \"JSON\" / \"CSV\" -- Will return results as a list in the format selected.\n",
    "\n",
    "Within a particular feeder, it is possible to query for objects of all the CIM classes obtained using `\"requestType\": \"QUERY_OBJECT_TYPES\"` (discussed above in [Section 4.1](#4.1.-Query-for-CIM-Classes-of-Objects-in-Model)). Note that the RDF URI is not included in the query, only the name of the class, such as `\"objectType\": \"ACLineSegment\"` or `\"objectType\": \"LoadBreakSwitch\"`."
   ]
  },
  {
   "cell_type": "code",
   "execution_count": 28,
   "metadata": {},
   "outputs": [],
   "source": [
    "object_mrid = \"_2858B6C2-0886-4269-884C-06FA8B887319\"\n",
    "message = \"\"\"\n",
    "{\n",
    "        \"requestType\": \"QUERY_OBJECT\",\n",
    "        \"resultFormat\": \"JSON\",\n",
    "        \"modelId\": \"%s\",\n",
    "        \"objectId\": \"%s\"\n",
    "}\n",
    "\"\"\" % (model_mrid, object_mrid)"
   ]
  },
  {
   "cell_type": "code",
   "execution_count": 9,
   "metadata": {},
   "outputs": [],
   "source": [
    "message = \"\"\"\n",
    "{\n",
    "        \"requestType\": \"QUERY_OBJECT\",\n",
    "        \"resultFormat\": \"JSON\",\n",
    "        \"objectId\": \"_4F76A5F9-271D-9EB8-5E31-AA362D86F2C3\"\n",
    "}\n",
    "\"\"\""
   ]
  },
  {
   "cell_type": "code",
   "execution_count": 10,
   "metadata": {},
   "outputs": [
    {
     "data": {
      "text/plain": [
       "{'data': {'head': {'vars': ['property', 'value']},\n",
       "  'results': {'bindings': [{'property': {'type': 'uri',\n",
       "      'value': 'http://iec.ch/TC57/CIM100#Feeder.NormalEnergizingSubstation'},\n",
       "     'value': {'type': 'uri',\n",
       "      'value': 'http://localhost:8889/bigdata/sparql#_F1E8E479-5FA0-4BFF-8173-B375D25B0AA2'}},\n",
       "    {'property': {'type': 'uri',\n",
       "      'value': 'http://iec.ch/TC57/CIM100#IdentifiedObject.mRID'},\n",
       "     'value': {'type': 'literal',\n",
       "      'value': '_4F76A5F9-271D-9EB8-5E31-AA362D86F2C3'}},\n",
       "    {'property': {'type': 'uri',\n",
       "      'value': 'http://iec.ch/TC57/CIM100#IdentifiedObject.name'},\n",
       "     'value': {'type': 'literal', 'value': 'ieee8500'}},\n",
       "    {'property': {'type': 'uri',\n",
       "      'value': 'http://iec.ch/TC57/CIM100#PowerSystemResource.Location'},\n",
       "     'value': {'type': 'uri',\n",
       "      'value': 'http://localhost:8889/bigdata/sparql#_9759A5A3-6813-4F79-8DA1-7E826468DF79'}},\n",
       "    {'property': {'type': 'uri',\n",
       "      'value': 'http://www.w3.org/1999/02/22-rdf-syntax-ns#type'},\n",
       "     'value': {'type': 'uri', 'value': 'http://iec.ch/TC57/CIM100#Feeder'}}]}},\n",
       " 'responseComplete': True,\n",
       " 'id': '753775522'}"
      ]
     },
     "execution_count": 10,
     "metadata": {},
     "output_type": "execute_result"
    }
   ],
   "source": [
    "gapps.get_response(topic, message)"
   ]
  },
  {
   "cell_type": "markdown",
   "metadata": {},
   "source": [
    "[Return to Top](#Table-of-Contents)"
   ]
  },
  {
   "cell_type": "markdown",
   "metadata": {},
   "source": []
  },
  {
   "cell_type": "code",
   "execution_count": null,
   "metadata": {},
   "outputs": [],
   "source": []
  },
  {
   "cell_type": "markdown",
   "metadata": {},
   "source": []
  },
  {
   "cell_type": "markdown",
   "metadata": {},
   "source": []
  },
  {
   "cell_type": "markdown",
   "metadata": {},
   "source": []
  },
  {
   "cell_type": "markdown",
   "metadata": {},
   "source": []
  },
  {
   "cell_type": "markdown",
   "metadata": {},
   "source": []
  },
  {
   "cell_type": "markdown",
   "metadata": {},
   "source": []
  },
  {
   "cell_type": "markdown",
   "metadata": {},
   "source": [
    "# 5. GridAPPSD-Python Shortcut Methods\n",
    "\n",
    "A small number of simple PowerGrid Model API queries have pre-built Python functions that can be used without specifying the topic and a particular message.\n"
   ]
  },
  {
   "cell_type": "markdown",
   "metadata": {},
   "source": [
    "## 3.1. `query_object_types`\n",
    "\n",
    "This method is associated with the GridAPPSD connection object and returns a list of all the CIM XML classes of objects present in the Blazegraph for a particular model or all models in the database.\n",
    "\n",
    "Allowed parameters are\n",
    "* model_id (optional) - when specified, it searches only the particular model identified by the given unique mRID"
   ]
  },
  {
   "cell_type": "markdown",
   "metadata": {},
   "source": [
    "__1) Query entire Blazegraph database__\n",
    "\n",
    "Leave the arguments blank to search all models in the Blazegraph database"
   ]
  },
  {
   "cell_type": "code",
   "execution_count": null,
   "metadata": {},
   "outputs": [],
   "source": [
    "gapps.query_object_types()"
   ]
  },
  {
   "cell_type": "markdown",
   "metadata": {},
   "source": [
    "__2) Query for only a particular model__\n",
    "\n",
    "Specify the model MRID as a python string and pass it as a parameter to the method to return only the CIM classes of objects in that particular model"
   ]
  },
  {
   "cell_type": "code",
   "execution_count": 11,
   "metadata": {},
   "outputs": [
    {
     "data": {
      "text/plain": [
       "{'data': {'objectTypes': ['http://iec.ch/TC57/CIM100#ConnectivityNode',\n",
       "   'http://iec.ch/TC57/CIM100#ACLineSegment',\n",
       "   'http://iec.ch/TC57/CIM100#EnergyConsumer',\n",
       "   'http://iec.ch/TC57/CIM100#TransformerTank',\n",
       "   'http://iec.ch/TC57/CIM100#PowerTransformer',\n",
       "   'http://iec.ch/TC57/CIM100#LoadBreakSwitch',\n",
       "   'http://iec.ch/TC57/CIM100#Fuse',\n",
       "   'http://iec.ch/TC57/CIM100#Breaker',\n",
       "   'http://iec.ch/TC57/CIM100#PowerElectronicsConnection',\n",
       "   'http://iec.ch/TC57/CIM100#EnergySource',\n",
       "   'http://iec.ch/TC57/CIM100#LinearShuntCompensator',\n",
       "   'http://iec.ch/TC57/CIM100#Recloser']},\n",
       " 'responseComplete': True,\n",
       " 'id': '408543013'}"
      ]
     },
     "execution_count": 11,
     "metadata": {},
     "output_type": "execute_result"
    }
   ],
   "source": [
    "model_mrid = \"_49AD8E07-3BF9-A4E2-CB8F-C3722F837B62\" # IEEE 13 Node used for all example queries\n",
    "gapps.query_object_types(model_id = model_mrid)"
   ]
  },
  {
   "cell_type": "markdown",
   "metadata": {},
   "source": []
  },
  {
   "cell_type": "markdown",
   "metadata": {},
   "source": []
  },
  {
   "cell_type": "markdown",
   "metadata": {},
   "source": []
  },
  {
   "cell_type": "markdown",
   "metadata": {},
   "source": []
  },
  {
   "cell_type": "markdown",
   "metadata": {},
   "source": []
  },
  {
   "cell_type": "markdown",
   "metadata": {},
   "source": []
  },
  {
   "cell_type": "markdown",
   "metadata": {},
   "source": [
    "## Query for Measurement mRIDs\n",
    "\n"
   ]
  },
  {
   "cell_type": "markdown",
   "metadata": {},
   "source": []
  },
  {
   "cell_type": "code",
   "execution_count": null,
   "metadata": {},
   "outputs": [],
   "source": []
  },
  {
   "cell_type": "markdown",
   "metadata": {},
   "source": []
  },
  {
   "cell_type": "markdown",
   "metadata": {},
   "source": []
  },
  {
   "cell_type": "markdown",
   "metadata": {},
   "source": []
  },
  {
   "cell_type": "code",
   "execution_count": 16,
   "metadata": {},
   "outputs": [
    {
     "data": {
      "text/plain": [
       "{'data': {'head': {'vars': ['property', 'value']},\n",
       "  'results': {'bindings': [{'property': {'type': 'uri',\n",
       "      'value': 'http://iec.ch/TC57/CIM100#Feeder.NormalEnergizingSubstation'},\n",
       "     'value': {'type': 'uri',\n",
       "      'value': 'http://localhost:8889/bigdata/sparql#_F1E8E479-5FA0-4BFF-8173-B375D25B0AA2'}},\n",
       "    {'property': {'type': 'uri',\n",
       "      'value': 'http://iec.ch/TC57/CIM100#IdentifiedObject.mRID'},\n",
       "     'value': {'type': 'literal',\n",
       "      'value': '_4F76A5F9-271D-9EB8-5E31-AA362D86F2C3'}},\n",
       "    {'property': {'type': 'uri',\n",
       "      'value': 'http://iec.ch/TC57/CIM100#IdentifiedObject.name'},\n",
       "     'value': {'type': 'literal', 'value': 'ieee8500'}},\n",
       "    {'property': {'type': 'uri',\n",
       "      'value': 'http://iec.ch/TC57/CIM100#PowerSystemResource.Location'},\n",
       "     'value': {'type': 'uri',\n",
       "      'value': 'http://localhost:8889/bigdata/sparql#_9759A5A3-6813-4F79-8DA1-7E826468DF79'}},\n",
       "    {'property': {'type': 'uri',\n",
       "      'value': 'http://www.w3.org/1999/02/22-rdf-syntax-ns#type'},\n",
       "     'value': {'type': 'uri', 'value': 'http://iec.ch/TC57/CIM100#Feeder'}}]}},\n",
       " 'responseComplete': True,\n",
       " 'id': '1187739048'}"
      ]
     },
     "execution_count": 16,
     "metadata": {},
     "output_type": "execute_result"
    }
   ],
   "source": [
    "message = {\n",
    "        \"requestType\": \"QUERY_OBJECT\",\n",
    "        \"resultFormat\": \"JSON\",\n",
    "        \"objectId\": \"_4F76A5F9-271D-9EB8-5E31-AA362D86F2C3\"\n",
    "}\n",
    "\n",
    "gapps.get_response(topic, message)"
   ]
  },
  {
   "cell_type": "code",
   "execution_count": null,
   "metadata": {},
   "outputs": [],
   "source": []
  },
  {
   "cell_type": "markdown",
   "metadata": {},
   "source": []
  },
  {
   "cell_type": "markdown",
   "metadata": {},
   "source": []
  },
  {
   "cell_type": "markdown",
   "metadata": {},
   "source": []
  },
  {
   "cell_type": "code",
   "execution_count": null,
   "metadata": {},
   "outputs": [],
   "source": [
    "message = {\n",
    "        \"modelId\": model_mrid,\n",
    "        \"requestType\": \"QUERY_OBJECT_MEASUREMENTS\",\n",
    "        \"resultFormat\": \"JSON\",\n",
    "        \"objectType\": \"ACLineSegment\"}\n",
    "obj_msr_ACline = gapps.get_response(topic, message, timeout=10)\n",
    "obj_msr_ACline = obj_msr_ACline['data']\n",
    "# Chose specific measurement mrid. Screen out those whose type is not PNV. For example,\n",
    "obj_msr_ACline = [k for k in obj_msr_ACline if k['type'] == 'PNV']"
   ]
  },
  {
   "cell_type": "code",
   "execution_count": null,
   "metadata": {},
   "outputs": [],
   "source": [
    "obj_msr_ACline"
   ]
  },
  {
   "cell_type": "markdown",
   "metadata": {},
   "source": []
  },
  {
   "cell_type": "markdown",
   "metadata": {},
   "source": []
  },
  {
   "cell_type": "markdown",
   "metadata": {},
   "source": []
  },
  {
   "cell_type": "markdown",
   "metadata": {},
   "source": [
    "## 2.1. Querying for All _modelNames_ mRIDs\n",
    "\n",
    "When passing commands through the API, it is often necessary to specify the MRID of the particular power system network model.\n",
    "\n",
    "The PowerGrid Models API containes a function to obtain a list of all the model MRIDs stored in the Blazegrpah database. \n",
    "\n",
    "This method will return identical results to the JSON message explained below in section 3."
   ]
  },
  {
   "cell_type": "code",
   "execution_count": null,
   "metadata": {},
   "outputs": [],
   "source": [
    "gapps.query_model_names()"
   ]
  }
 ],
 "metadata": {
  "kernelspec": {
   "display_name": "Python 3",
   "language": "python",
   "name": "python3"
  },
  "language_info": {
   "codemirror_mode": {
    "name": "ipython",
    "version": 3
   },
   "file_extension": ".py",
   "mimetype": "text/x-python",
   "name": "python",
   "nbconvert_exporter": "python",
   "pygments_lexer": "ipython3",
   "version": "3.8.3"
  }
 },
 "nbformat": 4,
 "nbformat_minor": 4
}
