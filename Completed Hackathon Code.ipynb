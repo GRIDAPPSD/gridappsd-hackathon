{
 "cells": [
  {
   "cell_type": "markdown",
   "metadata": {},
   "source": [
    "# Lesson 3.0.\n",
    "\n",
    "# Putting it all together: Hackathon!!\n",
    "\n",
    "\n",
    "### Objective: Find capacitor settings that minimize total substation real power (measuring line `l115`)\n",
    "\n",
    "Rules of Engagement: You will complete the following steps below in order in the code blocks provided. Each step should be commented with proper documentation of your code and from which lesson you pulled (such as \"pulled code from L2.6, S4.4 - Obtain measurement mRIDs\").\n",
    "\n",
    "Cheat Sheet: GridAPPS-D Sample App - opens and closes capacitors every 5 messages: https://github.com/GRIDAPPSD/gridappsd-sample-app/blob/master/sample_app/runsample.py\n"
   ]
  },
  {
   "cell_type": "markdown",
   "metadata": {},
   "source": [
    "# 1. Import Libraries"
   ]
  },
  {
   "cell_type": "code",
   "execution_count": 1,
   "metadata": {},
   "outputs": [],
   "source": [
    "import argparse\n",
    "import json\n",
    "import logging\n",
    "import sys\n",
    "import time\n",
    "import pytz\n",
    "import stomp\n",
    "\n",
    "import numpy as np"
   ]
  },
  {
   "cell_type": "code",
   "execution_count": 17,
   "metadata": {},
   "outputs": [],
   "source": [
    "from gridappsd import GridAPPSD, utils, DifferenceBuilder\n",
    "from gridappsd import topics as t\n",
    "from gridappsd.topics import simulation_input_topic, simulation_output_topic"
   ]
  },
  {
   "cell_type": "code",
   "execution_count": null,
   "metadata": {},
   "outputs": [],
   "source": []
  },
  {
   "cell_type": "markdown",
   "metadata": {},
   "source": [
    "# 2. Connect to GridAPPS-D Simulation"
   ]
  },
  {
   "cell_type": "code",
   "execution_count": 4,
   "metadata": {},
   "outputs": [],
   "source": [
    "viz_simulation_id = \"1768890986\"\n",
    "\n",
    "gapps = GridAPPSD(viz_simulation_id, \"('localhost', 61613)\", username='system', password='manager')"
   ]
  },
  {
   "cell_type": "code",
   "execution_count": null,
   "metadata": {},
   "outputs": [],
   "source": []
  },
  {
   "cell_type": "markdown",
   "metadata": {},
   "source": [
    "# 3. Obtain Equipment mRIDs"
   ]
  },
  {
   "cell_type": "code",
   "execution_count": 5,
   "metadata": {},
   "outputs": [],
   "source": [
    "# model ID from run123demo.py\n",
    "model_mrid = \"_C1C3E687-6FFD-C753-582B-632A27E28507\""
   ]
  },
  {
   "cell_type": "code",
   "execution_count": 6,
   "metadata": {},
   "outputs": [
    {
     "name": "stdout",
     "output_type": "stream",
     "text": [
      "['_3DE55D2D-34D3-487E-9D6E-3A4DB1E38E47', '_939CA567-AA3D-4972-AABC-1D0AAF4859FE', '_CABBC3A1-66F5-4B9C-ACB9-476E2389D119', '_D6C44FF1-BC60-49D3-9438-DFAD1AED0A28']\n"
     ]
    }
   ],
   "source": [
    "topic = \"goss.gridappsd.process.request.data.powergridmodel\"\n",
    "\n",
    "message = {\n",
    "    \"requestType\": \"QUERY_OBJECT_IDS\",\n",
    "    \"resultFormat\": \"JSON\",\n",
    "    \"modelId\": model_mrid,\n",
    "    \"objectType\": \"LinearShuntCompensator\"\n",
    "} \n",
    "\n",
    "gapps.get_response(topic, message)\n",
    "response_obj = gapps.get_response(topic, message)\n",
    "ShuntComp_id = response_obj['data']['objectIds']\n",
    "print(ShuntComp_id)"
   ]
  },
  {
   "cell_type": "code",
   "execution_count": 7,
   "metadata": {},
   "outputs": [],
   "source": [
    "topic = \"goss.gridappsd.process.request.data.powergridmodel\"\n",
    "message = {\n",
    "    \"requestType\": \"QUERY_OBJECT_DICT\",\n",
    "    \"resultFormat\": \"JSON\",\n",
    "    \"modelId\": model_mrid,\n",
    "    \"objectType\": \"ACLineSegment\"\n",
    "} \n",
    "\n",
    " \n",
    "\n",
    "gapps.get_response(topic, message)\n",
    "response_obj = gapps.get_response(topic, message)\n",
    "Line_info = response_obj['data']\n",
    "Line_l115_mrid = [k['IdentifiedObject.mRID'] for k in Line_info if k['IdentifiedObject.name'] == 'l115'] \n"
   ]
  },
  {
   "cell_type": "markdown",
   "metadata": {},
   "source": [
    "# 4. Obtain Measurement mRIDs"
   ]
  },
  {
   "cell_type": "code",
   "execution_count": 38,
   "metadata": {},
   "outputs": [],
   "source": [
    "message = {\n",
    "    \"modelId\": model_mrid,\n",
    "    \"requestType\": \"QUERY_OBJECT_MEASUREMENTS\",\n",
    "    \"resultFormat\": \"JSON\",\n",
    "    \"objectId\": Line_l115_mrid[0]\n",
    "}\n",
    "\n",
    "response_obj = gapps.get_response(t.REQUEST_POWERGRID_DATA,message)\n",
    "\n",
    "measurements_obj = response_obj[\"data\"]\n",
    "\n",
    "VA_obj = [k for k in measurements_obj if k['type'] == 'VA']\n",
    "\n",
    "VA_obj_a = [k for k in measurements_obj if k['type'] == 'VA' and k['phases'] == 'A']\n",
    "VA_obj_b = [k for k in measurements_obj if k['type'] == 'VA'and k['phases'] == 'B']\n",
    "VA_obj_c = [k for k in measurements_obj if k['type'] == 'VA' and k['phases'] == 'C']\n",
    "\n",
    "VA_obj_mrid_a = [k['measid'] for k in VA_obj_a]\n",
    "VA_obj_mrid_b = [k['measid'] for k in VA_obj_b]\n",
    "VA_obj_mrid_c = [k['measid'] for k in VA_obj_c]"
   ]
  },
  {
   "cell_type": "code",
   "execution_count": null,
   "metadata": {},
   "outputs": [],
   "source": []
  },
  {
   "cell_type": "markdown",
   "metadata": {},
   "source": [
    "# 5. Create Simulation Subscription Method or Function\n",
    "\n",
    "Note: Instead chose to query Timeseries Database"
   ]
  },
  {
   "cell_type": "code",
   "execution_count": 49,
   "metadata": {},
   "outputs": [],
   "source": [
    "def my_timeseries_query(VA_obj_mrid_a, VA_obj_mrid_b, VA_obj_mrid_c):\n",
    "    topic = \"goss.gridappsd.process.request.data.timeseries\" # Specify Timeseries API GridAPPS-D topic\n",
    "    \n",
    "    # Get time that capacitor diff message was sent\n",
    "    diff_message_time = int(time.time())-60\n",
    "    \n",
    "    # Wait 10 seconds for cap command to execute, new measurement to be created, \n",
    "    # then measurement saved to Timeseries Influx DB. This takes a bit of time, so wait to query\n",
    "    #time.sleep(20)\n",
    "    \n",
    "\n",
    "    \n",
    "    # Query for a particular set of measurments, starting at time cap was commanded\n",
    "    message = {\n",
    "        \"queryMeasurement\":\"simulation\",\n",
    "        \"queryFilter\":{\"simulation_id\": viz_simulation_id,\n",
    "                       \"startTime\": diff_message_time, \n",
    "                       \"measurement_mrid\":VA_obj_mrid_a},\n",
    "        \"responseFormat\":\"JSON\"\n",
    "    } \n",
    "\n",
    "    \n",
    "    VA_measurement_a = gapps.get_response(topic, message)  \n",
    "    VA_measurement_obj_a = VA_measurement_a['data']\n",
    "    \n",
    "\n",
    "\n",
    "    # Query for a particular set of measurments\n",
    "    message = {\n",
    "        \"queryMeasurement\":\"simulation\",\n",
    "        \"queryFilter\":{\"simulation_id\": viz_simulation_id,\n",
    "                       \"startTime\": diff_message_time, \n",
    "                       \"measurement_mrid\":VA_obj_mrid_b},\n",
    "        \"responseFormat\":\"JSON\"\n",
    "    } \n",
    "\n",
    "    VA_measurement_b = gapps.get_response(topic, message)  \n",
    "    VA_measurement_obj_b = VA_measurement_b['data']\n",
    "\n",
    "   \n",
    "    # Query for a particular set of measurments\n",
    "    message = {\n",
    "        \"queryMeasurement\":\"simulation\",\n",
    "        \"queryFilter\":{\"simulation_id\": viz_simulation_id,\n",
    "                       \"startTime\": diff_message_time, \n",
    "                       \"measurement_mrid\":VA_obj_mrid_c},\n",
    "        \"responseFormat\":\"JSON\"\n",
    "    } \n",
    "\n",
    "    VA_measurement_c = gapps.get_response(topic, message)  \n",
    "    VA_measurement_obj_c = VA_measurement_c['data']\n",
    "\n",
    "    VA_meas_mag_a = []\n",
    "    VA_meas_ang_a = []\n",
    "    for index in VA_measurement_obj_a:\n",
    "        magnitude = index['magnitude']\n",
    "        angle = index['angle']\n",
    "        VA_meas_mag_a.append(magnitude)\n",
    "        VA_meas_ang_a.append(angle)\n",
    "\n",
    "    VA_meas_mag_b = []\n",
    "    VA_meas_ang_b = []\n",
    "    for index in VA_measurement_obj_b:\n",
    "        magnitude = index['magnitude']\n",
    "        angle = index['angle']\n",
    "        VA_meas_mag_b.append(magnitude)\n",
    "        VA_meas_ang_b.append(angle)\n",
    "\n",
    "    VA_meas_mag_c = []\n",
    "    VA_meas_ang_c = []\n",
    "    for index in VA_measurement_obj_c:\n",
    "        magnitude = index['magnitude']\n",
    "        angle = index['angle']\n",
    "        VA_meas_mag_c.append(magnitude)\n",
    "        VA_meas_ang_c.append(angle)\n",
    "        \n",
    "    P_a = VA_meas_mag_a[-1]*np.cos(VA_meas_ang_a[-1]*np.pi/180)\n",
    "    P_b = VA_meas_mag_b[-1]*np.cos(VA_meas_ang_b[-1]*np.pi/180)\n",
    "    P_c = VA_meas_mag_c[-1]*np.cos(VA_meas_ang_c[-1]*np.pi/180)\n",
    "    P = P_a + P_b + P_c\n",
    "\n",
    "    return P"
   ]
  },
  {
   "cell_type": "markdown",
   "metadata": {},
   "source": [
    "# 6. Run Optimization, Get Results"
   ]
  },
  {
   "cell_type": "markdown",
   "metadata": {},
   "source": [
    "[Link to list of control attributes for difference message](Lesson%202.6.%20Simulation%20API%20-%20Publishing%20and%20Subscribing.ipynb#3.2.-Obtain-Equipment-Control-mRIDs)"
   ]
  },
  {
   "cell_type": "code",
   "execution_count": 54,
   "metadata": {},
   "outputs": [
    {
     "name": "stdout",
     "output_type": "stream",
     "text": [
      "Worst value is 3745407.546634\n",
      ".....\n",
      "Best value is 3694657.0859089997\n"
     ]
    }
   ],
   "source": [
    "# Get control attribute from Lesson 2.6, Section 3.2\n",
    "\n",
    "input_topic = simulation_input_topic(viz_simulation_id)\n",
    "\n",
    "my_diff_build = DifferenceBuilder(viz_simulation_id)\n",
    "\n",
    "P_list=[]\n",
    "P = my_timeseries_query(VA_obj_mrid_a, VA_obj_mrid_b, VA_obj_mrid_c)\n",
    "P_list.append(P)\n",
    "\n",
    "# Open all Caps\n",
    "for k in ShuntComp_id:\n",
    "    my_diff_build.add_difference(k, \"ShuntCompensator.sections\", 0, 1) # status change for capacitor given by cap_mrid\n",
    "    message = my_diff_build.get_message()\n",
    "    gapps.send(input_topic,message)\n",
    "\n",
    "time.sleep(60)\n",
    "\n",
    "P = my_timeseries_query(VA_obj_mrid_a, VA_obj_mrid_b, VA_obj_mrid_c)\n",
    "P_list.append(P)\n",
    "    \n",
    "for k in ShuntComp_id:\n",
    "    my_diff_build.add_difference(k, \"ShuntCompensator.sections\", 1, 0) # status change for capacitor given by cap_mrid\n",
    "    message = my_diff_build.get_message()\n",
    "    gapps.send(input_topic,message)\n",
    "    \n",
    "time.sleep(60)\n",
    "\n",
    "P = my_timeseries_query(VA_obj_mrid_a, VA_obj_mrid_b, VA_obj_mrid_c)\n",
    "P_list.append(P)\n",
    "\n",
    "P_max = max(P_list)\n",
    "P_min = min(P_list)\n",
    "print(\"Worst value is\", P_max)\n",
    "print(\".....\")\n",
    "print(\"Best value is\", P_min)"
   ]
  }
 ],
 "metadata": {
  "kernelspec": {
   "display_name": "Python 3",
   "language": "python",
   "name": "python3"
  },
  "language_info": {
   "codemirror_mode": {
    "name": "ipython",
    "version": 3
   },
   "file_extension": ".py",
   "mimetype": "text/x-python",
   "name": "python",
   "nbconvert_exporter": "python",
   "pygments_lexer": "ipython3",
   "version": "3.8.3"
  }
 },
 "nbformat": 4,
 "nbformat_minor": 4
}
