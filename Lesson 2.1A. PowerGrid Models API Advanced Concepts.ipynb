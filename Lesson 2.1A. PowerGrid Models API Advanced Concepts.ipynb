{
 "cells": [
  {
   "cell_type": "markdown",
   "metadata": {},
   "source": [
    "# Lesson XX:\n",
    "# PowerGrid Models API\n",
    "\n",
    "This tutorial introduces the PowerGrid Models API and how it can be used to query model data.\n",
    "\n",
    "__Learning Objectives:__\n",
    "\n",
    "At the end of the tutorial, the user should be able to\n",
    "\n",
    "* \n",
    "* \n",
    "* \n",
    "\n",
    "## Getting Started\n",
    "\n",
    "Before running any of the sample routines in this tutorial, it is first necessary to establish a connection to the GridAPPS-D Platform so that we can start passing calls to the API:"
   ]
  },
  {
   "cell_type": "code",
   "execution_count": 1,
   "metadata": {},
   "outputs": [],
   "source": [
    "# Establish connection to GridAPPS-D Platform:\n",
    "from gridappsd import GridAPPSD\n",
    "gridappsd_conn = GridAPPSD(\"('localhost', 61613)\", username='system', password='manager')"
   ]
  },
  {
   "cell_type": "markdown",
   "metadata": {},
   "source": [
    "---\n",
    "# Table of Contents\n",
    "\n"
   ]
  },
  {
   "cell_type": "markdown",
   "metadata": {},
   "source": [
    "---\n",
    "## Generic SPARQL Query\n",
    "\n"
   ]
  },
  {
   "cell_type": "markdown",
   "metadata": {},
   "source": [
    "---\n",
    "### 1.1. Specifying the Topic\n",
    "\n",
    "All queries passed to the PowerGrid Models API need to use the correct topic. There are two ways to specify the topic:"
   ]
  },
  {
   "cell_type": "markdown",
   "metadata": {},
   "source": [
    "__1) Specifying the topic as a string:__"
   ]
  },
  {
   "cell_type": "code",
   "execution_count": 2,
   "metadata": {},
   "outputs": [],
   "source": [
    "topic = \"goss.gridappsd.process.request.data.powergridmodel\""
   ]
  },
  {
   "cell_type": "markdown",
   "metadata": {},
   "source": [
    "__2) Using the `topics` library to specify the topic:__"
   ]
  },
  {
   "cell_type": "code",
   "execution_count": null,
   "metadata": {},
   "outputs": [],
   "source": [
    "from gridappsd import topics as t\n",
    "topic = t.REQUEST_POWERGRID_DATA"
   ]
  },
  {
   "cell_type": "markdown",
   "metadata": {},
   "source": [
    "---\n",
    "## Query for All Model Info\n",
    "\n",
    "This query returns a list of names and MRIDs for all models, substations, subregions, and regions for all available feeders.\n",
    "\n"
   ]
  },
  {
   "cell_type": "markdown",
   "metadata": {},
   "source": [
    "---\n",
    "## Querying for Model Name MRIDs\n",
    "\n",
    "When passing commands through the API, it is often necessary to specify the MRID of the particular power system network model.\n",
    "\n",
    "The PowerGrid Models API containes a (routine/query/call??) to obtain a list of all the model MRIDs stored in the Blazegrpah database. \n",
    "\n",
    "There are two ways to phrase this query. Both will return identical results."
   ]
  },
  {
   "cell_type": "markdown",
   "metadata": {},
   "source": [
    "__1) Using the in-built API call in the GridAPPSD-Python Library:__"
   ]
  },
  {
   "cell_type": "code",
   "execution_count": null,
   "metadata": {},
   "outputs": [],
   "source": [
    "gridappsd_conn.query_model_names()"
   ]
  },
  {
   "cell_type": "markdown",
   "metadata": {},
   "source": [
    "__2) Using a JSON message string:__"
   ]
  },
  {
   "cell_type": "code",
   "execution_count": 11,
   "metadata": {},
   "outputs": [
    {
     "data": {
      "text/plain": [
       "{'error': 'Invalid json returned',\n",
       " 'header': {'content-length': '561',\n",
       "  'expires': '0',\n",
       "  'destination': '/temp-queue/response.20201008Oct1518',\n",
       "  'GOSS_SUBJECT': 'system',\n",
       "  'subscription': '849150',\n",
       "  'priority': '4',\n",
       "  'transformation': 'TEXT',\n",
       "  'GOSS_HAS_SUBJECT': 'true',\n",
       "  'message-id': 'ID:f516ef737acc-39375-1602107460711-4:9:-1:1:35',\n",
       "  'persistent': 'true',\n",
       "  'timestamp': '1602188118761'},\n",
       " 'message': '{\"data\":<?xml version=\"1.0\" encoding=\"UTF-8\" standalone=\"no\"?>\\n<modelNames>\\n  <_49AD8E07-3BF9-A4E2-CB8F-C3722F837B62/>\\n  <_4F76A5F9-271D-9EB8-5E31-AA362D86F2C3/>\\n  <_503D6E20-F499-4CC7-8051-971E23D0BF79/>\\n  <_5B816B93-7A5F-B64C-8460-47C17D6E4B0F/>\\n  <_67AB291F-DCCD-31B7-B499-338206B9828F/>\\n  <_77966920-E1EC-EE8A-23EE-4EFD23B205BD/>\\n  <_9CE150A8-8CC5-A0F9-B67E-BBD8C79D3095/>\\n  <_AAE94E4A-2465-6F5E-37B1-3E72183A4E44/>\\n  <_C1C3E687-6FFD-C753-582B-632A27E28507/>\\n  <_E407CBB6-8C8D-9BC9-589C-AB83FBF0826D/>\\n</modelNames>\\n,\"responseComplete\":true,\"id\":\"84071283\"}'}"
      ]
     },
     "execution_count": 11,
     "metadata": {},
     "output_type": "execute_result"
    }
   ],
   "source": [
    "message = '{\"requestType\": \"QUERY_MODEL_NAMES\", \"resultFormat\": \"JSON\"}'\n",
    "\n",
    "gridappsd_conn.get_response(topic, message)"
   ]
  },
  {
   "cell_type": "code",
   "execution_count": null,
   "metadata": {},
   "outputs": [],
   "source": []
  }
 ],
 "metadata": {
  "kernelspec": {
   "display_name": "Python 3",
   "language": "python",
   "name": "python3"
  },
  "language_info": {
   "codemirror_mode": {
    "name": "ipython",
    "version": 3
   },
   "file_extension": ".py",
   "mimetype": "text/x-python",
   "name": "python",
   "nbconvert_exporter": "python",
   "pygments_lexer": "ipython3",
   "version": "3.8.3"
  }
 },
 "nbformat": 4,
 "nbformat_minor": 4
}
