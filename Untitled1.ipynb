{
 "cells": [
  {
   "cell_type": "code",
   "execution_count": 4,
   "metadata": {},
   "outputs": [],
   "source": [
    "# Establish connection to GridAPPS-D Platform:\n",
    "from gridappsd import GridAPPSD\n",
    "gridappsd_conn = GridAPPSD(\"('localhost', 61613)\", username='system', password='manager')"
   ]
  },
  {
   "cell_type": "code",
   "execution_count": 5,
   "metadata": {},
   "outputs": [],
   "source": [
    "topic = \"goss.gridappsd.process.request.data.powergridmodel\""
   ]
  },
  {
   "cell_type": "code",
   "execution_count": 12,
   "metadata": {},
   "outputs": [],
   "source": [
    "message = \"\"\"\n",
    "{\n",
    "        \"requestType\": \"QUERY_MODEL\",\n",
    "        \"modelId\": \"_49AD8E07-3BF9-A4E2-CB8F-C3722F837B62\",\n",
    "        \"resultFormat\": \"JSON\",\n",
    "        \"filter\": \"\n",
    "        {\n",
    "        # list the bus name and xy coordinates\n",
    "        # basis of qbus_template in InsertDER.py\n",
    "        PREFIX r:  <http://www.w3.org/1999/02/22-rdf-syntax-ns#>\n",
    "        PREFIX c:  <http://iec.ch/TC57/CIM100#>\n",
    "        SELECT ?bus ?seq ?locid ?x ?y WHERE { # ?cnid ?tid ?eqid\n",
    "         ?fdr c:IdentifiedObject.mRID ?fdrid.\n",
    "         ?cn c:ConnectivityNode.ConnectivityNodeContainer ?fdr.\n",
    "         ?trm c:Terminal.ConnectivityNode ?cn.\n",
    "         ?trm c:ACDCTerminal.sequenceNumber ?seq.\n",
    "         ?trm c:Terminal.ConductingEquipment ?eq.\n",
    "         ?eq c:PowerSystemResource.Location ?loc.\n",
    "         ?trm c:IdentifiedObject.mRID ?tid.\n",
    "         ?cn c:IdentifiedObject.mRID ?cnid.\n",
    "         ?cn c:IdentifiedObject.name ?bus.\n",
    "         ?eq c:IdentifiedObject.mRID ?eqid.\n",
    "         ?loc c:IdentifiedObject.mRID ?locid.\n",
    "         ?pt c:PositionPoint.Location ?loc.\n",
    "        }\n",
    "        ORDER BY ?bus ?locid,\n",
    "        \"\n",
    "        \"objectType\": \"http://iec.ch/TC57/CIM100#ConnectivityNode\"\n",
    "}\n",
    "\"\"\""
   ]
  },
  {
   "cell_type": "code",
   "execution_count": 20,
   "metadata": {},
   "outputs": [],
   "source": [
    "query=\"\"\"\n",
    "# list the bus name and xy coordinates\n",
    "# basis of qbus_template in InsertDER.py\n",
    "PREFIX r:  <http://www.w3.org/1999/02/22-rdf-syntax-ns#>\n",
    "PREFIX c:  <http://iec.ch/TC57/CIM100#>\n",
    "SELECT ?bus ?seq ?locid ?x ?y WHERE { # ?cnid ?tid ?eqid\n",
    " ?fdr c:IdentifiedObject.mRID ?fdrid.\n",
    " ?cn c:ConnectivityNode.ConnectivityNodeContainer ?fdr.\n",
    " ?trm c:Terminal.ConnectivityNode ?cn.\n",
    " ?trm c:ACDCTerminal.sequenceNumber ?seq.\n",
    " ?trm c:Terminal.ConductingEquipment ?eq.\n",
    " ?eq c:PowerSystemResource.Location ?loc.\n",
    " ?trm c:IdentifiedObject.mRID ?tid.\n",
    " ?cn c:IdentifiedObject.mRID ?cnid.\n",
    " ?cn c:IdentifiedObject.name ?bus.\n",
    " ?eq c:IdentifiedObject.mRID ?eqid.\n",
    " ?loc c:IdentifiedObject.mRID ?locid.\n",
    " ?pt c:PositionPoint.Location ?loc.\n",
    "}\n",
    "ORDER BY ?bus ?locid\n",
    "\"\"\""
   ]
  },
  {
   "cell_type": "code",
   "execution_count": 21,
   "metadata": {},
   "outputs": [
    {
     "name": "stderr",
     "output_type": "stream",
     "text": [
      "Could not connect to host localhost, port 61613\n",
      "Traceback (most recent call last):\n",
      "  File \"C:\\Users\\Energ\\miniconda3\\lib\\site-packages\\stomp\\transport.py\", line 737, in attempt_connection\n",
      "    self.socket = socket.create_connection(host_and_port, self.__timeout)\n",
      "  File \"C:\\Users\\Energ\\miniconda3\\lib\\socket.py\", line 808, in create_connection\n",
      "    raise err\n",
      "  File \"C:\\Users\\Energ\\miniconda3\\lib\\socket.py\", line 796, in create_connection\n",
      "    sock.connect(sa)\n",
      "ConnectionRefusedError: [WinError 10061] No connection could be made because the target machine actively refused it\n",
      "Could not connect to host localhost, port 61613\n",
      "Traceback (most recent call last):\n",
      "  File \"C:\\Users\\Energ\\miniconda3\\lib\\site-packages\\stomp\\transport.py\", line 737, in attempt_connection\n",
      "    self.socket = socket.create_connection(host_and_port, self.__timeout)\n",
      "  File \"C:\\Users\\Energ\\miniconda3\\lib\\socket.py\", line 808, in create_connection\n",
      "    raise err\n",
      "  File \"C:\\Users\\Energ\\miniconda3\\lib\\socket.py\", line 796, in create_connection\n",
      "    sock.connect(sa)\n",
      "ConnectionRefusedError: [WinError 10061] No connection could be made because the target machine actively refused it\n",
      "Could not connect to host localhost, port 61613\n",
      "Traceback (most recent call last):\n",
      "  File \"C:\\Users\\Energ\\miniconda3\\lib\\site-packages\\stomp\\transport.py\", line 737, in attempt_connection\n",
      "    self.socket = socket.create_connection(host_and_port, self.__timeout)\n",
      "  File \"C:\\Users\\Energ\\miniconda3\\lib\\socket.py\", line 808, in create_connection\n",
      "    raise err\n",
      "  File \"C:\\Users\\Energ\\miniconda3\\lib\\socket.py\", line 796, in create_connection\n",
      "    sock.connect(sa)\n",
      "ConnectionRefusedError: [WinError 10061] No connection could be made because the target machine actively refused it\n"
     ]
    },
    {
     "ename": "ConnectFailedException",
     "evalue": "",
     "output_type": "error",
     "traceback": [
      "\u001b[1;31m---------------------------------------------------------------------------\u001b[0m",
      "\u001b[1;31mConnectFailedException\u001b[0m                    Traceback (most recent call last)",
      "\u001b[1;32m<ipython-input-21-dbabfb62e280>\u001b[0m in \u001b[0;36m<module>\u001b[1;34m\u001b[0m\n\u001b[1;32m----> 1\u001b[1;33m \u001b[0mgridappsd_conn\u001b[0m\u001b[1;33m.\u001b[0m\u001b[0mquery_data\u001b[0m\u001b[1;33m(\u001b[0m\u001b[0mquery\u001b[0m\u001b[1;33m)\u001b[0m\u001b[1;33m\u001b[0m\u001b[1;33m\u001b[0m\u001b[0m\n\u001b[0m",
      "\u001b[1;32m~\\miniconda3\\lib\\site-packages\\gridappsd\\gridappsd.py\u001b[0m in \u001b[0;36mquery_data\u001b[1;34m(self, query, database_type, timeout)\u001b[0m\n\u001b[0;32m    160\u001b[0m         \u001b[1;31m# Do this so we can eventually support other db through this mechanism.\u001b[0m\u001b[1;33m\u001b[0m\u001b[1;33m\u001b[0m\u001b[1;33m\u001b[0m\u001b[0m\n\u001b[0;32m    161\u001b[0m         \u001b[0mrequest_topic\u001b[0m \u001b[1;33m=\u001b[0m \u001b[1;34m'.'\u001b[0m\u001b[1;33m.\u001b[0m\u001b[0mjoin\u001b[0m\u001b[1;33m(\u001b[0m\u001b[1;33m(\u001b[0m\u001b[0mt\u001b[0m\u001b[1;33m.\u001b[0m\u001b[0mREQUEST_DATA\u001b[0m\u001b[1;33m,\u001b[0m \u001b[0mdatabase_type\u001b[0m\u001b[1;33m)\u001b[0m\u001b[1;33m)\u001b[0m\u001b[1;33m\u001b[0m\u001b[1;33m\u001b[0m\u001b[0m\n\u001b[1;32m--> 162\u001b[1;33m         \u001b[1;32mreturn\u001b[0m \u001b[0mself\u001b[0m\u001b[1;33m.\u001b[0m\u001b[0mget_response\u001b[0m\u001b[1;33m(\u001b[0m\u001b[0mrequest_topic\u001b[0m\u001b[1;33m,\u001b[0m \u001b[0mjson\u001b[0m\u001b[1;33m.\u001b[0m\u001b[0mdumps\u001b[0m\u001b[1;33m(\u001b[0m\u001b[0mpayload\u001b[0m\u001b[1;33m)\u001b[0m\u001b[1;33m,\u001b[0m \u001b[0mtimeout\u001b[0m\u001b[1;33m=\u001b[0m\u001b[0mtimeout\u001b[0m\u001b[1;33m)\u001b[0m\u001b[1;33m\u001b[0m\u001b[1;33m\u001b[0m\u001b[0m\n\u001b[0m\u001b[0;32m    163\u001b[0m \u001b[1;33m\u001b[0m\u001b[0m\n\u001b[0;32m    164\u001b[0m     \u001b[1;32mdef\u001b[0m \u001b[0mget_platform_status\u001b[0m\u001b[1;33m(\u001b[0m\u001b[0mself\u001b[0m\u001b[1;33m,\u001b[0m \u001b[0mapplications\u001b[0m\u001b[1;33m=\u001b[0m\u001b[1;32mTrue\u001b[0m\u001b[1;33m,\u001b[0m \u001b[0mservices\u001b[0m\u001b[1;33m=\u001b[0m\u001b[1;32mTrue\u001b[0m\u001b[1;33m,\u001b[0m \u001b[0mappInstances\u001b[0m\u001b[1;33m=\u001b[0m\u001b[1;32mTrue\u001b[0m\u001b[1;33m,\u001b[0m \u001b[0mserviceInstances\u001b[0m\u001b[1;33m=\u001b[0m\u001b[1;32mTrue\u001b[0m\u001b[1;33m)\u001b[0m\u001b[1;33m:\u001b[0m\u001b[1;33m\u001b[0m\u001b[1;33m\u001b[0m\u001b[0m\n",
      "\u001b[1;32m~\\miniconda3\\lib\\site-packages\\gridappsd\\goss.py\u001b[0m in \u001b[0;36mget_response\u001b[1;34m(self, topic, message, timeout)\u001b[0m\n\u001b[0;32m    155\u001b[0m \u001b[1;33m\u001b[0m\u001b[0m\n\u001b[0;32m    156\u001b[0m         \u001b[0mlistener\u001b[0m \u001b[1;33m=\u001b[0m \u001b[0mResponseListener\u001b[0m\u001b[1;33m(\u001b[0m\u001b[0mreply_to\u001b[0m\u001b[1;33m)\u001b[0m\u001b[1;33m\u001b[0m\u001b[1;33m\u001b[0m\u001b[0m\n\u001b[1;32m--> 157\u001b[1;33m         \u001b[0mself\u001b[0m\u001b[1;33m.\u001b[0m\u001b[0msubscribe\u001b[0m\u001b[1;33m(\u001b[0m\u001b[0mreply_to\u001b[0m\u001b[1;33m,\u001b[0m \u001b[0mlistener\u001b[0m\u001b[1;33m)\u001b[0m\u001b[1;33m\u001b[0m\u001b[1;33m\u001b[0m\u001b[0m\n\u001b[0m\u001b[0;32m    158\u001b[0m \u001b[1;33m\u001b[0m\u001b[0m\n\u001b[0;32m    159\u001b[0m         self._conn.send(body=message, destination=topic,\n",
      "\u001b[1;32m~\\miniconda3\\lib\\site-packages\\gridappsd\\goss.py\u001b[0m in \u001b[0;36msubscribe\u001b[1;34m(self, topic, callback)\u001b[0m\n\u001b[0;32m    196\u001b[0m             \u001b[1;32mraise\u001b[0m \u001b[0mAttributeError\u001b[0m\u001b[1;33m(\u001b[0m\u001b[0merr\u001b[0m\u001b[1;33m)\u001b[0m\u001b[1;33m\u001b[0m\u001b[1;33m\u001b[0m\u001b[0m\n\u001b[0;32m    197\u001b[0m \u001b[1;33m\u001b[0m\u001b[0m\n\u001b[1;32m--> 198\u001b[1;33m         \u001b[0mself\u001b[0m\u001b[1;33m.\u001b[0m\u001b[0m_make_connection\u001b[0m\u001b[1;33m(\u001b[0m\u001b[1;33m)\u001b[0m\u001b[1;33m\u001b[0m\u001b[1;33m\u001b[0m\u001b[0m\n\u001b[0m\u001b[0;32m    199\u001b[0m \u001b[1;33m\u001b[0m\u001b[0m\n\u001b[0;32m    200\u001b[0m         \u001b[1;32mif\u001b[0m \u001b[0mself\u001b[0m\u001b[1;33m.\u001b[0m\u001b[0m_conn\u001b[0m\u001b[1;33m.\u001b[0m\u001b[0mget_listener\u001b[0m\u001b[1;33m(\u001b[0m\u001b[1;34m'gridappsd'\u001b[0m\u001b[1;33m)\u001b[0m \u001b[1;32mis\u001b[0m \u001b[1;32mNone\u001b[0m\u001b[1;33m:\u001b[0m\u001b[1;33m\u001b[0m\u001b[1;33m\u001b[0m\u001b[0m\n",
      "\u001b[1;32m~\\miniconda3\\lib\\site-packages\\gridappsd\\goss.py\u001b[0m in \u001b[0;36m_make_connection\u001b[1;34m(self)\u001b[0m\n\u001b[0;32m    241\u001b[0m                 \u001b[0mself\u001b[0m\u001b[1;33m.\u001b[0m\u001b[0m_conn\u001b[0m\u001b[1;33m.\u001b[0m\u001b[0mtransport\u001b[0m\u001b[1;33m.\u001b[0m\u001b[0moverride_threading\u001b[0m\u001b[1;33m(\u001b[0m\u001b[0mself\u001b[0m\u001b[1;33m.\u001b[0m\u001b[0m_override_thread_fc\u001b[0m\u001b[1;33m)\u001b[0m\u001b[1;33m\u001b[0m\u001b[1;33m\u001b[0m\u001b[0m\n\u001b[0;32m    242\u001b[0m             \u001b[1;32mtry\u001b[0m\u001b[1;33m:\u001b[0m\u001b[1;33m\u001b[0m\u001b[1;33m\u001b[0m\u001b[0m\n\u001b[1;32m--> 243\u001b[1;33m                 \u001b[0mself\u001b[0m\u001b[1;33m.\u001b[0m\u001b[0m_conn\u001b[0m\u001b[1;33m.\u001b[0m\u001b[0mconnect\u001b[0m\u001b[1;33m(\u001b[0m\u001b[0mself\u001b[0m\u001b[1;33m.\u001b[0m\u001b[0m__user\u001b[0m\u001b[1;33m,\u001b[0m \u001b[0mself\u001b[0m\u001b[1;33m.\u001b[0m\u001b[0m__pass\u001b[0m\u001b[1;33m,\u001b[0m \u001b[0mwait\u001b[0m\u001b[1;33m=\u001b[0m\u001b[1;32mTrue\u001b[0m\u001b[1;33m)\u001b[0m\u001b[1;33m\u001b[0m\u001b[1;33m\u001b[0m\u001b[0m\n\u001b[0m\u001b[0;32m    244\u001b[0m             \u001b[1;32mexcept\u001b[0m \u001b[0mTypeError\u001b[0m \u001b[1;32mas\u001b[0m \u001b[0me\u001b[0m\u001b[1;33m:\u001b[0m\u001b[1;33m\u001b[0m\u001b[1;33m\u001b[0m\u001b[0m\n\u001b[0;32m    245\u001b[0m                 \u001b[0m_log\u001b[0m\u001b[1;33m.\u001b[0m\u001b[0merror\u001b[0m\u001b[1;33m(\u001b[0m\u001b[1;34m\"TypeError: {e}\"\u001b[0m\u001b[1;33m.\u001b[0m\u001b[0mformat\u001b[0m\u001b[1;33m(\u001b[0m\u001b[0me\u001b[0m\u001b[1;33m=\u001b[0m\u001b[0me\u001b[0m\u001b[1;33m)\u001b[0m\u001b[1;33m)\u001b[0m\u001b[1;33m\u001b[0m\u001b[1;33m\u001b[0m\u001b[0m\n",
      "\u001b[1;32m~\\miniconda3\\lib\\site-packages\\stomp\\connect.py\u001b[0m in \u001b[0;36mconnect\u001b[1;34m(self, *args, **kwargs)\u001b[0m\n\u001b[0;32m    213\u001b[0m \u001b[1;33m\u001b[0m\u001b[0m\n\u001b[0;32m    214\u001b[0m     \u001b[1;32mdef\u001b[0m \u001b[0mconnect\u001b[0m\u001b[1;33m(\u001b[0m\u001b[0mself\u001b[0m\u001b[1;33m,\u001b[0m \u001b[1;33m*\u001b[0m\u001b[0margs\u001b[0m\u001b[1;33m,\u001b[0m \u001b[1;33m**\u001b[0m\u001b[0mkwargs\u001b[0m\u001b[1;33m)\u001b[0m\u001b[1;33m:\u001b[0m\u001b[1;33m\u001b[0m\u001b[1;33m\u001b[0m\u001b[0m\n\u001b[1;32m--> 215\u001b[1;33m         \u001b[0mself\u001b[0m\u001b[1;33m.\u001b[0m\u001b[0mtransport\u001b[0m\u001b[1;33m.\u001b[0m\u001b[0mstart\u001b[0m\u001b[1;33m(\u001b[0m\u001b[1;33m)\u001b[0m\u001b[1;33m\u001b[0m\u001b[1;33m\u001b[0m\u001b[0m\n\u001b[0m\u001b[0;32m    216\u001b[0m         \u001b[0mProtocol12\u001b[0m\u001b[1;33m.\u001b[0m\u001b[0mconnect\u001b[0m\u001b[1;33m(\u001b[0m\u001b[0mself\u001b[0m\u001b[1;33m,\u001b[0m \u001b[1;33m*\u001b[0m\u001b[0margs\u001b[0m\u001b[1;33m,\u001b[0m \u001b[1;33m**\u001b[0m\u001b[0mkwargs\u001b[0m\u001b[1;33m)\u001b[0m\u001b[1;33m\u001b[0m\u001b[1;33m\u001b[0m\u001b[0m\n\u001b[0;32m    217\u001b[0m \u001b[1;33m\u001b[0m\u001b[0m\n",
      "\u001b[1;32m~\\miniconda3\\lib\\site-packages\\stomp\\transport.py\u001b[0m in \u001b[0;36mstart\u001b[1;34m(self)\u001b[0m\n\u001b[0;32m    103\u001b[0m         \"\"\"\n\u001b[0;32m    104\u001b[0m         \u001b[0mself\u001b[0m\u001b[1;33m.\u001b[0m\u001b[0mrunning\u001b[0m \u001b[1;33m=\u001b[0m \u001b[1;32mTrue\u001b[0m\u001b[1;33m\u001b[0m\u001b[1;33m\u001b[0m\u001b[0m\n\u001b[1;32m--> 105\u001b[1;33m         \u001b[0mself\u001b[0m\u001b[1;33m.\u001b[0m\u001b[0mattempt_connection\u001b[0m\u001b[1;33m(\u001b[0m\u001b[1;33m)\u001b[0m\u001b[1;33m\u001b[0m\u001b[1;33m\u001b[0m\u001b[0m\n\u001b[0m\u001b[0;32m    106\u001b[0m         \u001b[0mreceiver_thread\u001b[0m \u001b[1;33m=\u001b[0m \u001b[0mself\u001b[0m\u001b[1;33m.\u001b[0m\u001b[0mcreate_thread_fc\u001b[0m\u001b[1;33m(\u001b[0m\u001b[0mself\u001b[0m\u001b[1;33m.\u001b[0m\u001b[0m__receiver_loop\u001b[0m\u001b[1;33m)\u001b[0m\u001b[1;33m\u001b[0m\u001b[1;33m\u001b[0m\u001b[0m\n\u001b[0;32m    107\u001b[0m         \u001b[0mlogging\u001b[0m\u001b[1;33m.\u001b[0m\u001b[0minfo\u001b[0m\u001b[1;33m(\u001b[0m\u001b[1;34m\"Created thread %s using func %s\"\u001b[0m\u001b[1;33m,\u001b[0m \u001b[0mreceiver_thread\u001b[0m\u001b[1;33m,\u001b[0m \u001b[0mself\u001b[0m\u001b[1;33m.\u001b[0m\u001b[0mcreate_thread_fc\u001b[0m\u001b[1;33m)\u001b[0m\u001b[1;33m\u001b[0m\u001b[1;33m\u001b[0m\u001b[0m\n",
      "\u001b[1;32m~\\miniconda3\\lib\\site-packages\\stomp\\transport.py\u001b[0m in \u001b[0;36mattempt_connection\u001b[1;34m(self)\u001b[0m\n\u001b[0;32m    808\u001b[0m \u001b[1;33m\u001b[0m\u001b[0m\n\u001b[0;32m    809\u001b[0m         \u001b[1;32mif\u001b[0m \u001b[1;32mnot\u001b[0m \u001b[0mself\u001b[0m\u001b[1;33m.\u001b[0m\u001b[0msocket\u001b[0m\u001b[1;33m:\u001b[0m\u001b[1;33m\u001b[0m\u001b[1;33m\u001b[0m\u001b[0m\n\u001b[1;32m--> 810\u001b[1;33m             \u001b[1;32mraise\u001b[0m \u001b[0mexception\u001b[0m\u001b[1;33m.\u001b[0m\u001b[0mConnectFailedException\u001b[0m\u001b[1;33m(\u001b[0m\u001b[1;33m)\u001b[0m\u001b[1;33m\u001b[0m\u001b[1;33m\u001b[0m\u001b[0m\n\u001b[0m\u001b[0;32m    811\u001b[0m \u001b[1;33m\u001b[0m\u001b[0m\n\u001b[0;32m    812\u001b[0m     def set_ssl(self,\n",
      "\u001b[1;31mConnectFailedException\u001b[0m: "
     ]
    }
   ],
   "source": [
    "gridappsd_conn.query_data(query)"
   ]
  },
  {
   "cell_type": "code",
   "execution_count": 13,
   "metadata": {},
   "outputs": [
    {
     "data": {
      "text/plain": [
       "{'error': {'message': 'com.google.gson.JsonSyntaxException: com.google.gson.stream.MalformedJsonException: Unterminated object at line 28 column 10 path $.filter\\n\\tat com.google.gson.Gson.fromJson(Gson.java:825)\\n\\tat com.google.gson.Gson.fromJson(Gson.java:775)\\n\\tat com.google.gson.Gson.fromJson(Gson.java:724)\\n\\tat com.google.gson.Gson.fromJson(Gson.java:696)\\n\\tat gov.pnnl.goss.gridappsd.dto.PowergridModelDataRequest.parse(PowergridModelDataRequest.java:92)\\n\\tat gov.pnnl.goss.gridappsd.data.BGPowergridModelDataManagerHandlerImpl.handle(BGPowergridModelDataManagerHandlerImpl.java:25)\\n\\tat gov.pnnl.goss.gridappsd.data.DataManagerImpl.processDataRequest(DataManagerImpl.java:149)\\n\\tat gov.pnnl.goss.gridappsd.process.ProcessEvent.onMessage(ProcessEvent.java:229)\\n\\tat pnnl.goss.core.client.GossClient$1.run(GossClient.java:329)\\n\\tat java.lang.Thread.run(Thread.java:748)\\nCaused by: com.google.gson.stream.MalformedJsonException: Unterminated object at line 28 column 10 path $.filter\\n\\tat com.google.gson.stream.JsonReader.syntaxError(JsonReader.java:1573)\\n\\tat com.google.gson.stream.JsonReader.doPeek(JsonReader.java:495)\\n\\tat com.google.gson.stream.JsonReader.hasNext(JsonReader.java:418)\\n\\tat com.google.gson.internal.bind.ReflectiveTypeAdapterFactory$Adapter.read(ReflectiveTypeAdapterFactory.java:190)\\n\\tat com.google.gson.Gson.fromJson(Gson.java:810)\\n\\t... 9 more\\n'},\n",
       " 'responseComplete': True,\n",
       " 'id': 'ff5d9991-285c-4cb3-9fa5-96f070ee80fa'}"
      ]
     },
     "execution_count": 13,
     "metadata": {},
     "output_type": "execute_result"
    }
   ],
   "source": [
    "gridappsd_conn.get_response(topic, message)"
   ]
  },
  {
   "cell_type": "code",
   "execution_count": null,
   "metadata": {},
   "outputs": [],
   "source": []
  },
  {
   "cell_type": "code",
   "execution_count": null,
   "metadata": {},
   "outputs": [],
   "source": []
  },
  {
   "cell_type": "code",
   "execution_count": null,
   "metadata": {},
   "outputs": [],
   "source": []
  },
  {
   "cell_type": "code",
   "execution_count": null,
   "metadata": {},
   "outputs": [],
   "source": []
  },
  {
   "cell_type": "code",
   "execution_count": null,
   "metadata": {},
   "outputs": [],
   "source": []
  },
  {
   "cell_type": "code",
   "execution_count": 18,
   "metadata": {},
   "outputs": [],
   "source": [
    "query = \"\"\"\n",
    "    # capacitors (does not account for 2+ unequal phases on same LinearShuntCompensator) - DistCapacitor\n",
    "PREFIX r:  <http://www.w3.org/1999/02/22-rdf-syntax-ns#>\n",
    "PREFIX c:  <http://iec.ch/TC57/CIM100#>\n",
    "SELECT \n",
    "#?name ?basev ?nomu ?bsection ?bus ?conn ?grnd ?phs ?ctrlenabled ?discrete ?mode ?deadband ?setpoint ?delay ?monclass ?moneq ?monbus ?monphs \n",
    "?id ?fdrid WHERE {\n",
    " ?s r:type c:LinearShuntCompensator.\n",
    "# feeder selection options - if all commented out, query matches all feeders\n",
    "VALUES ?fdrid {\"%s\"}\n",
    " ?s c:Equipment.EquipmentContainer ?fdr.\n",
    " ?fdr c:IdentifiedObject.mRID ?fdrid.\n",
    " ?s c:IdentifiedObject.name ?name.\n",
    " ?s c:ConductingEquipment.BaseVoltage ?bv.\n",
    " ?bv c:BaseVoltage.nominalVoltage ?basev.\n",
    " ?s c:ShuntCompensator.nomU ?nomu. \n",
    " ?s c:LinearShuntCompensator.bPerSection ?bsection. \n",
    " ?s c:ShuntCompensator.phaseConnection ?connraw.\n",
    "   bind(strafter(str(?connraw),\"PhaseShuntConnectionKind.\") as ?conn)\n",
    " ?s c:ShuntCompensator.grounded ?grnd.\n",
    " OPTIONAL {?scp c:ShuntCompensatorPhase.ShuntCompensator ?s.\n",
    " ?scp c:ShuntCompensatorPhase.phase ?phsraw.\n",
    "   bind(strafter(str(?phsraw),\"SinglePhaseKind.\") as ?phs) }\n",
    " OPTIONAL {?ctl c:RegulatingControl.RegulatingCondEq ?s.\n",
    "          ?ctl c:RegulatingControl.discrete ?discrete.\n",
    "          ?ctl c:RegulatingControl.enabled ?ctrlenabled.\n",
    "          ?ctl c:RegulatingControl.mode ?moderaw.\n",
    "           bind(strafter(str(?moderaw),\"RegulatingControlModeKind.\") as ?mode)\n",
    "          ?ctl c:RegulatingControl.monitoredPhase ?monraw.\n",
    "           bind(strafter(str(?monraw),\"PhaseCode.\") as ?monphs)\n",
    "          ?ctl c:RegulatingControl.targetDeadband ?deadband.\n",
    "          ?ctl c:RegulatingControl.targetValue ?setpoint.\n",
    "          ?s c:ShuntCompensator.aVRDelay ?delay.\n",
    "          ?ctl c:RegulatingControl.Terminal ?trm.\n",
    "          ?trm c:Terminal.ConductingEquipment ?eq.\n",
    "          ?eq a ?classraw.\n",
    "           bind(strafter(str(?classraw),\"CIM100#\") as ?monclass)\n",
    "          ?eq c:IdentifiedObject.name ?moneq.\n",
    "          ?trm c:Terminal.ConnectivityNode ?moncn.\n",
    "          ?moncn c:IdentifiedObject.name ?monbus.\n",
    "          }\n",
    " ?s c:IdentifiedObject.mRID ?id. \n",
    " ?t c:Terminal.ConductingEquipment ?s.\n",
    " ?t c:Terminal.ConnectivityNode ?cn. \n",
    " ?cn c:IdentifiedObject.name ?bus\n",
    "}\n",
    "ORDER by ?name\n",
    "\"\"\""
   ]
  },
  {
   "cell_type": "code",
   "execution_count": 19,
   "metadata": {},
   "outputs": [
    {
     "ename": "TimeoutError",
     "evalue": "Request not responded to in a timely manner!",
     "output_type": "error",
     "traceback": [
      "\u001b[1;31m---------------------------------------------------------------------------\u001b[0m",
      "\u001b[1;31mTimeoutError\u001b[0m                              Traceback (most recent call last)",
      "\u001b[1;32m<ipython-input-19-dbabfb62e280>\u001b[0m in \u001b[0;36m<module>\u001b[1;34m\u001b[0m\n\u001b[1;32m----> 1\u001b[1;33m \u001b[0mgridappsd_conn\u001b[0m\u001b[1;33m.\u001b[0m\u001b[0mquery_data\u001b[0m\u001b[1;33m(\u001b[0m\u001b[0mquery\u001b[0m\u001b[1;33m)\u001b[0m\u001b[1;33m\u001b[0m\u001b[1;33m\u001b[0m\u001b[0m\n\u001b[0m",
      "\u001b[1;32m~\\miniconda3\\lib\\site-packages\\gridappsd\\gridappsd.py\u001b[0m in \u001b[0;36mquery_data\u001b[1;34m(self, query, database_type, timeout)\u001b[0m\n\u001b[0;32m    160\u001b[0m         \u001b[1;31m# Do this so we can eventually support other db through this mechanism.\u001b[0m\u001b[1;33m\u001b[0m\u001b[1;33m\u001b[0m\u001b[1;33m\u001b[0m\u001b[0m\n\u001b[0;32m    161\u001b[0m         \u001b[0mrequest_topic\u001b[0m \u001b[1;33m=\u001b[0m \u001b[1;34m'.'\u001b[0m\u001b[1;33m.\u001b[0m\u001b[0mjoin\u001b[0m\u001b[1;33m(\u001b[0m\u001b[1;33m(\u001b[0m\u001b[0mt\u001b[0m\u001b[1;33m.\u001b[0m\u001b[0mREQUEST_DATA\u001b[0m\u001b[1;33m,\u001b[0m \u001b[0mdatabase_type\u001b[0m\u001b[1;33m)\u001b[0m\u001b[1;33m)\u001b[0m\u001b[1;33m\u001b[0m\u001b[1;33m\u001b[0m\u001b[0m\n\u001b[1;32m--> 162\u001b[1;33m         \u001b[1;32mreturn\u001b[0m \u001b[0mself\u001b[0m\u001b[1;33m.\u001b[0m\u001b[0mget_response\u001b[0m\u001b[1;33m(\u001b[0m\u001b[0mrequest_topic\u001b[0m\u001b[1;33m,\u001b[0m \u001b[0mjson\u001b[0m\u001b[1;33m.\u001b[0m\u001b[0mdumps\u001b[0m\u001b[1;33m(\u001b[0m\u001b[0mpayload\u001b[0m\u001b[1;33m)\u001b[0m\u001b[1;33m,\u001b[0m \u001b[0mtimeout\u001b[0m\u001b[1;33m=\u001b[0m\u001b[0mtimeout\u001b[0m\u001b[1;33m)\u001b[0m\u001b[1;33m\u001b[0m\u001b[1;33m\u001b[0m\u001b[0m\n\u001b[0m\u001b[0;32m    163\u001b[0m \u001b[1;33m\u001b[0m\u001b[0m\n\u001b[0;32m    164\u001b[0m     \u001b[1;32mdef\u001b[0m \u001b[0mget_platform_status\u001b[0m\u001b[1;33m(\u001b[0m\u001b[0mself\u001b[0m\u001b[1;33m,\u001b[0m \u001b[0mapplications\u001b[0m\u001b[1;33m=\u001b[0m\u001b[1;32mTrue\u001b[0m\u001b[1;33m,\u001b[0m \u001b[0mservices\u001b[0m\u001b[1;33m=\u001b[0m\u001b[1;32mTrue\u001b[0m\u001b[1;33m,\u001b[0m \u001b[0mappInstances\u001b[0m\u001b[1;33m=\u001b[0m\u001b[1;32mTrue\u001b[0m\u001b[1;33m,\u001b[0m \u001b[0mserviceInstances\u001b[0m\u001b[1;33m=\u001b[0m\u001b[1;32mTrue\u001b[0m\u001b[1;33m)\u001b[0m\u001b[1;33m:\u001b[0m\u001b[1;33m\u001b[0m\u001b[1;33m\u001b[0m\u001b[0m\n",
      "\u001b[1;32m~\\miniconda3\\lib\\site-packages\\gridappsd\\goss.py\u001b[0m in \u001b[0;36mget_response\u001b[1;34m(self, topic, message, timeout)\u001b[0m\n\u001b[0;32m    172\u001b[0m             \u001b[1;32mreturn\u001b[0m \u001b[0mlistener\u001b[0m\u001b[1;33m.\u001b[0m\u001b[0mresponse\u001b[0m\u001b[1;33m\u001b[0m\u001b[1;33m\u001b[0m\u001b[0m\n\u001b[0;32m    173\u001b[0m \u001b[1;33m\u001b[0m\u001b[0m\n\u001b[1;32m--> 174\u001b[1;33m         \u001b[1;32mraise\u001b[0m \u001b[0mTimeoutError\u001b[0m\u001b[1;33m(\u001b[0m\u001b[1;34m\"Request not responded to in a timely manner!\"\u001b[0m\u001b[1;33m)\u001b[0m\u001b[1;33m\u001b[0m\u001b[1;33m\u001b[0m\u001b[0m\n\u001b[0m\u001b[0;32m    175\u001b[0m \u001b[1;33m\u001b[0m\u001b[0m\n\u001b[0;32m    176\u001b[0m     \u001b[1;32mdef\u001b[0m \u001b[0msubscribe\u001b[0m\u001b[1;33m(\u001b[0m\u001b[0mself\u001b[0m\u001b[1;33m,\u001b[0m \u001b[0mtopic\u001b[0m\u001b[1;33m,\u001b[0m \u001b[0mcallback\u001b[0m\u001b[1;33m)\u001b[0m\u001b[1;33m:\u001b[0m\u001b[1;33m\u001b[0m\u001b[1;33m\u001b[0m\u001b[0m\n",
      "\u001b[1;31mTimeoutError\u001b[0m: Request not responded to in a timely manner!"
     ]
    }
   ],
   "source": [
    "gridappsd_conn.query_data(query)"
   ]
  },
  {
   "cell_type": "code",
   "execution_count": null,
   "metadata": {},
   "outputs": [],
   "source": []
  }
 ],
 "metadata": {
  "kernelspec": {
   "display_name": "Python 3",
   "language": "python",
   "name": "python3"
  },
  "language_info": {
   "codemirror_mode": {
    "name": "ipython",
    "version": 3
   },
   "file_extension": ".py",
   "mimetype": "text/x-python",
   "name": "python",
   "nbconvert_exporter": "python",
   "pygments_lexer": "ipython3",
   "version": "3.8.3"
  }
 },
 "nbformat": 4,
 "nbformat_minor": 4
}
