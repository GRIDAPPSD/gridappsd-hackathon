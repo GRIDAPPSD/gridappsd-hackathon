{
 "cells": [
  {
   "cell_type": "markdown",
   "metadata": {},
   "source": [
    "# Docker Environment for Applications\n",
    "\n",
    "The Dockerfile in the gridappsd-python repository is the base for the\n",
    "gridappsd/app-container-base:main container.  It is meant to extended for applications\n",
    "to utilize.  An example of this is used in the\n",
    "[gridappsd-sample-app](https://github.com/GRIDAPPSD/gridappsd-sample-app).\n",
    "\n",
    "## Application Creation\n",
    "\n",
    "Create a new directory to hold your application.  Please create a document structure as\n",
    "in the gridappsd-sample-app above.\n",
    "\n",
    "The following Dockerfile is the preferred way of allowing your application to self-register\n",
    "with the gridappsd server.  Please follow the gridappsd-sample-app directory structure.\n",
    "\n",
    "````\n",
    "# Dockerfile from gridappsd-sample-app\n",
    "\n",
    "# Use the base application container to allow the application to be controlled\n",
    "# from the gridappsd container.\n",
    "FROM gridappsd/app-container-base:main\n",
    "\n",
    "# Add the TIMESTAMP variable to capture the build information from\n",
    "# the travis docker build command and add them to the image.\n",
    "ARG TIMESTAMP\n",
    "RUN echo $TIMESTAMP > /dockerbuildversion.txt\n",
    "\n",
    "# Pick a spot to put our application code\n",
    "# (note gridappsd-python is located at /usr/src/gridappsd-python)\n",
    "# and is already installed in the app-container-base environment.\n",
    "WORKDIR /usr/src/gridappsd-sample\n",
    "\n",
    "# Add dependencies to the requirements.txt file before\n",
    "# uncommenting the next two lines\n",
    "# COPY requirements.txt ./\n",
    "# RUN RUN pip install --no-cache-dir -r requirements.txt\n",
    "\n",
    "# Copy all of the source over to the container.\n",
    "COPY . .\n",
    "\n",
    "# Use a symbolic link to the sample app rather than having to\n",
    "# mount it at run time (note can still be overriden in docker-compose file)\n",
    "RUN ln -s /usr/src/gridappsd-sample/sample_app.config /appconfig\n",
    "````\n"
   ]
  },
  {
   "cell_type": "code",
   "execution_count": null,
   "metadata": {},
   "outputs": [],
   "source": []
  }
 ],
 "metadata": {
  "kernelspec": {
   "display_name": "Python 3",
   "language": "python",
   "name": "python3"
  },
  "language_info": {
   "codemirror_mode": {
    "name": "ipython",
    "version": 3
   },
   "file_extension": ".py",
   "mimetype": "text/x-python",
   "name": "python",
   "nbconvert_exporter": "python",
   "pygments_lexer": "ipython3",
   "version": "3.8.3"
  }
 },
 "nbformat": 4,
 "nbformat_minor": 4
}
