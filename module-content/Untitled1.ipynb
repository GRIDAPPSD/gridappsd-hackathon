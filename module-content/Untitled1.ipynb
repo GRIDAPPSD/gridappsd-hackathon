{
 "cells": [
  {
   "cell_type": "code",
   "execution_count": 6,
   "metadata": {},
   "outputs": [
    {
     "name": "stderr",
     "output_type": "stream",
     "text": [
      "Error in callback router\n"
     ]
    },
    {
     "ename": "NameError",
     "evalue": "name 'time' is not defined",
     "output_type": "error",
     "traceback": [
      "\u001b[0;31m---------------------------------------------------------------------------\u001b[0m",
      "\u001b[0;31mNameError\u001b[0m                                 Traceback (most recent call last)",
      "\u001b[0;32m<ipython-input-6-76d3bc070729>\u001b[0m in \u001b[0;36m<module>\u001b[0;34m\u001b[0m\n\u001b[1;32m     21\u001b[0m \u001b[0mgapps\u001b[0m\u001b[0;34m.\u001b[0m\u001b[0msend\u001b[0m\u001b[0;34m(\u001b[0m\u001b[0;34m'subcribe.topic'\u001b[0m\u001b[0;34m,\u001b[0m \u001b[0;34m'A message about subscription'\u001b[0m\u001b[0;34m)\u001b[0m\u001b[0;34m\u001b[0m\u001b[0;34m\u001b[0m\u001b[0m\n\u001b[1;32m     22\u001b[0m \u001b[0;34m\u001b[0m\u001b[0m\n\u001b[0;32m---> 23\u001b[0;31m \u001b[0mtime\u001b[0m\u001b[0;34m.\u001b[0m\u001b[0msleep\u001b[0m\u001b[0;34m(\u001b[0m\u001b[0;36m5\u001b[0m\u001b[0;34m)\u001b[0m\u001b[0;34m\u001b[0m\u001b[0;34m\u001b[0m\u001b[0m\n\u001b[0m\u001b[1;32m     24\u001b[0m \u001b[0;34m\u001b[0m\u001b[0m\n\u001b[1;32m     25\u001b[0m \u001b[0mgapps\u001b[0m\u001b[0;34m.\u001b[0m\u001b[0mclose\u001b[0m\u001b[0;34m(\u001b[0m\u001b[0;34m)\u001b[0m\u001b[0;34m\u001b[0m\u001b[0;34m\u001b[0m\u001b[0m\n",
      "\u001b[0;31mNameError\u001b[0m: name 'time' is not defined"
     ]
    },
    {
     "name": "stderr",
     "output_type": "stream",
     "text": [
      "{'content-type': 'text/plain', 'message': 'Subject [app_user] is not authorized to write to destination: queue://goss.gridappsd.process.request.data.powergridmodel'}\n",
      "org.apache.shiro.authz.UnauthorizedException: Subject [app_user] is not authorized to write to destination: queue://goss.gridappsd.process.request.data.powergridmodel\n",
      "\tat org.apache.activemq.shiro.authz.AuthorizationFilter.assertAuthorized(AuthorizationFilter.java:148)\n",
      "\tat org.apache.activemq.shiro.authz.AuthorizationFilter.send(AuthorizationFilter.java:221)\n",
      "\tat org.apache.activemq.broker.MutableBrokerFilter.send(MutableBrokerFilter.java:157)\n",
      "\tat org.apache.activemq.broker.MutableBrokerFilter.send(MutableBrokerFilter.java:157)\n",
      "\tat org.apache.activemq.broker.MutableBrokerFilter.send(MutableBrokerFilter.java:157)\n",
      "\tat org.apache.activemq.broker.MutableBrokerFilter.send(MutableBrokerFilter.java:157)\n",
      "\tat org.apache.activemq.broker.TransportConnection.processMessage(TransportConnection.java:541)\n",
      "\tat org.apache.activemq.command.ActiveMQMessage.visit(ActiveMQMessage.java:768)\n",
      "\tat org.apache.activemq.broker.TransportConnection.service(TransportConnection.java:334)\n",
      "\tat org.apache.activemq.broker.TransportConnection$1.onCommand(TransportConnection.java:188)\n",
      "\tat org.apache.activemq.transport.MutexTransport.onCommand(MutexTransport.java:45)\n",
      "\tat org.apache.activemq.transport.AbstractInactivityMonitor.onCommand(AbstractInactivityMonitor.java:270)\n",
      "\tat org.apache.activemq.transport.stomp.StompTransportFilter.sendToActiveMQ(StompTransportFilter.java:87)\n",
      "\tat org.apache.activemq.transport.stomp.ProtocolConverter.sendToActiveMQ(ProtocolConverter.java:199)\n",
      "\tat org.apache.activemq.transport.stomp.ProtocolConverter.onStompSend(ProtocolConverter.java:332)\n",
      "\tat org.apache.activemq.transport.stomp.ProtocolConverter.onStompCommand(ProtocolConverter.java:245)\n",
      "\tat org.apache.activemq.transport.stomp.StompTransportFilter.onCommand(StompTransportFilter.java:75)\n",
      "\tat org.apache.activemq.transport.TransportSupport.doConsume(TransportSupport.java:83)\n",
      "\tat org.apache.activemq.transport.tcp.TcpTransport.doRun(TcpTransport.java:214)\n",
      "\tat org.apache.activemq.transport.tcp.TcpTransport.run(TcpTransport.java:196)\n",
      "\tat java.lang.Thread.run(Thread.java:748)\n",
      "\n",
      "Error in callback router\n",
      "{'content-type': 'text/plain', 'message': 'Subject [app_user] is not authorized to read from destination: queue://subscribe.topic'}\n",
      "org.apache.shiro.authz.UnauthorizedException: Subject [app_user] is not authorized to read from destination: queue://subscribe.topic\n",
      "\tat org.apache.activemq.shiro.authz.AuthorizationFilter.assertAuthorized(AuthorizationFilter.java:148)\n",
      "\tat org.apache.activemq.shiro.authz.AuthorizationFilter.addConsumer(AuthorizationFilter.java:198)\n",
      "\tat org.apache.activemq.broker.MutableBrokerFilter.addConsumer(MutableBrokerFilter.java:107)\n",
      "\tat org.apache.activemq.broker.MutableBrokerFilter.addConsumer(MutableBrokerFilter.java:107)\n",
      "\tat org.apache.activemq.broker.MutableBrokerFilter.addConsumer(MutableBrokerFilter.java:107)\n",
      "\tat org.apache.activemq.broker.MutableBrokerFilter.addConsumer(MutableBrokerFilter.java:107)\n",
      "\tat org.apache.activemq.broker.TransportConnection.processAddConsumer(TransportConnection.java:663)\n",
      "\tat org.apache.activemq.command.ConsumerInfo.visit(ConsumerInfo.java:348)\n",
      "\tat org.apache.activemq.broker.TransportConnection.service(TransportConnection.java:334)\n",
      "\tat org.apache.activemq.broker.TransportConnection$1.onCommand(TransportConnection.java:188)\n",
      "\tat org.apache.activemq.transport.MutexTransport.onCommand(MutexTransport.java:45)\n",
      "\tat org.apache.activemq.transport.AbstractInactivityMonitor.onCommand(AbstractInactivityMonitor.java:270)\n",
      "\tat org.apache.activemq.transport.stomp.StompTransportFilter.sendToActiveMQ(StompTransportFilter.java:87)\n",
      "\tat org.apache.activemq.transport.stomp.ProtocolConverter.sendToActiveMQ(ProtocolConverter.java:199)\n",
      "\tat org.apache.activemq.transport.stomp.ProtocolConverter.onStompSubscribe(ProtocolConverter.java:663)\n",
      "\tat org.apache.activemq.transport.stomp.ProtocolConverter.onStompCommand(ProtocolConverter.java:257)\n",
      "\tat org.apache.activemq.transport.stomp.StompTransportFilter.onCommand(StompTransportFilter.java:75)\n",
      "\tat org.apache.activemq.transport.TransportSupport.doConsume(TransportSupport.java:83)\n",
      "\tat org.apache.activemq.transport.tcp.TcpTransport.doRun(TcpTransport.java:214)\n",
      "\tat org.apache.activemq.transport.tcp.TcpTransport.run(TcpTransport.java:196)\n",
      "\tat java.lang.Thread.run(Thread.java:748)\n",
      "\n",
      "Error in callback router\n",
      "{'content-type': 'text/plain', 'message': 'Subject [app_user] is not authorized to write to destination: queue://subcribe.topic'}\n",
      "org.apache.shiro.authz.UnauthorizedException: Subject [app_user] is not authorized to write to destination: queue://subcribe.topic\n",
      "\tat org.apache.activemq.shiro.authz.AuthorizationFilter.assertAuthorized(AuthorizationFilter.java:148)\n",
      "\tat org.apache.activemq.shiro.authz.AuthorizationFilter.send(AuthorizationFilter.java:221)\n",
      "\tat org.apache.activemq.broker.MutableBrokerFilter.send(MutableBrokerFilter.java:157)\n",
      "\tat org.apache.activemq.broker.MutableBrokerFilter.send(MutableBrokerFilter.java:157)\n",
      "\tat org.apache.activemq.broker.MutableBrokerFilter.send(MutableBrokerFilter.java:157)\n",
      "\tat org.apache.activemq.broker.MutableBrokerFilter.send(MutableBrokerFilter.java:157)\n",
      "\tat org.apache.activemq.broker.TransportConnection.processMessage(TransportConnection.java:541)\n",
      "\tat org.apache.activemq.command.ActiveMQMessage.visit(ActiveMQMessage.java:768)\n",
      "\tat org.apache.activemq.broker.TransportConnection.service(TransportConnection.java:334)\n",
      "\tat org.apache.activemq.broker.TransportConnection$1.onCommand(TransportConnection.java:188)\n",
      "\tat org.apache.activemq.transport.MutexTransport.onCommand(MutexTransport.java:45)\n",
      "\tat org.apache.activemq.transport.AbstractInactivityMonitor.onCommand(AbstractInactivityMonitor.java:270)\n",
      "\tat org.apache.activemq.transport.stomp.StompTransportFilter.sendToActiveMQ(StompTransportFilter.java:87)\n",
      "\tat org.apache.activemq.transport.stomp.ProtocolConverter.sendToActiveMQ(ProtocolConverter.java:199)\n",
      "\tat org.apache.activemq.transport.stomp.ProtocolConverter.onStompSend(ProtocolConverter.java:332)\n",
      "\tat org.apache.activemq.transport.stomp.ProtocolConverter.onStompCommand(ProtocolConverter.java:245)\n",
      "\tat org.apache.activemq.transport.stomp.StompTransportFilter.onCommand(StompTransportFilter.java:75)\n",
      "\tat org.apache.activemq.transport.TransportSupport.doConsume(TransportSupport.java:83)\n",
      "\tat org.apache.activemq.transport.tcp.TcpTransport.doRun(TcpTransport.java:214)\n",
      "\tat org.apache.activemq.transport.tcp.TcpTransport.run(TcpTransport.java:196)\n",
      "\tat java.lang.Thread.run(Thread.java:748)\n",
      "\n"
     ]
    }
   ],
   "source": [
    "\n",
    "from gridappsd import GridAPPSD\n",
    "\n",
    "def on_message_callback(header, message):\n",
    "    print(f\"header: {header} message: {message}\")\n",
    "\n",
    "# Note these should be changed on the server in a cyber secure environment!\n",
    "username = \"system\"\n",
    "password = \"manager\"\n",
    "\n",
    "# Note: there are other parameters for connecting to\n",
    "# systems other than localhost\n",
    "gapps = GridAPPSD(username=username, password=password)\n",
    "\n",
    "assert gapps.connected\n",
    "\n",
    "gapps.get_response('goss.gridappsd.process.request.data.powergridmodel', {\"requestType\": \"QUERY_MODEL_NAMES\", \"resultFormat\": \"JSON\"})\n",
    "\n",
    "# Note we are sending the function not executing the function in the second parameter\n",
    "#gapps.subscribe('subscribe.topic', on_message_callback)\n",
    "\n",
    "#gapps.send('subcribe.topic', 'A message about subscription')\n",
    "\n",
    "time.sleep(5)\n",
    "\n",
    "#gapps.close()\n",
    "\n"
   ]
  },
  {
   "cell_type": "code",
   "execution_count": null,
   "metadata": {},
   "outputs": [],
   "source": []
  }
 ],
 "metadata": {
  "kernelspec": {
   "display_name": "Python 3",
   "language": "python",
   "name": "python3"
  },
  "language_info": {
   "codemirror_mode": {
    "name": "ipython",
    "version": 3
   },
   "file_extension": ".py",
   "mimetype": "text/x-python",
   "name": "python",
   "nbconvert_exporter": "python",
   "pygments_lexer": "ipython3",
   "version": "3.8.3"
  }
 },
 "nbformat": 4,
 "nbformat_minor": 4
}
