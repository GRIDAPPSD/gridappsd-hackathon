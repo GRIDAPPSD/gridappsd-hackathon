{
 "cells": [
  {
   "cell_type": "markdown",
   "metadata": {},
   "source": [
    "# Module 3: GridAPPS-D Application Programming Interface\n",
    "\n",
    "This module provide an in-depth dive into the GridAPPS-D Application Programming Interface and GridAPPS-D Python Library. Each lessons includes step-by-step methods with interactive code blocks for handling database queries, running simulations, and connecting applications through the API."
   ]
  },
  {
   "cell_type": "markdown",
   "metadata": {},
   "source": [
    "---"
   ]
  },
  {
   "cell_type": "markdown",
   "metadata": {},
   "source": [
    "## Select a lesson module to get started\n",
    "\n",
    "Each lesson opens in a new browser tab\n",
    "\n",
    "* [Lesson 3.1](3.1%20--%20Lesson%203.1%20--%20API%20Communication%20Channels.ipynb) introduces the communication channel topics that ensure API messages are delivered to the correct GridAPPS-D Core Service Manager\n",
    "* [Lesson 3.2](3.2%20--%20Lesson%203.2%20--%20API%20Message%20Structure.ipynb) introduces the typical message structure used by API calls\n",
    "* [Lesson 3.3]\n",
    "* "
   ]
  },
  {
   "cell_type": "markdown",
   "metadata": {},
   "source": []
  },
  {
   "cell_type": "markdown",
   "metadata": {},
   "source": [
    "[](3.1%20--%20Lesson%203.1%20--%20API%20Communication%20Channels.ipynb)"
   ]
  }
 ],
 "metadata": {
  "kernelspec": {
   "display_name": "Python 3",
   "language": "python",
   "name": "python3"
  },
  "language_info": {
   "codemirror_mode": {
    "name": "ipython",
    "version": 3
   },
   "file_extension": ".py",
   "mimetype": "text/x-python",
   "name": "python",
   "nbconvert_exporter": "python",
   "pygments_lexer": "ipython3",
   "version": "3.8.3"
  }
 },
 "nbformat": 4,
 "nbformat_minor": 4
}
