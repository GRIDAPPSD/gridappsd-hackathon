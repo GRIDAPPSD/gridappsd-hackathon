{
 "cells": [
  {
   "cell_type": "markdown",
   "metadata": {},
   "source": [
    "# Introduction to GridAPPS-D Python"
   ]
  },
  {
   "cell_type": "markdown",
   "metadata": {},
   "source": [
    "This tutorial provides a first look at the importing the GridAPPS-D Python API Library\n",
    "\n",
    "-------------------------------------------------------------------------------------------------------------------------------\n"
   ]
  },
  {
   "cell_type": "markdown",
   "metadata": {},
   "source": [
    "The first step is to import the required libraries for your sample application:\n",
    "\n",
    "* _argparse_ -- This is the recommended command-line parsing module in Python.([Online Documentation](https://docs.python.org/3/howto/argparse.html))\n",
    "\n",
    "* _json_ -- Encoder and decoder for JavaScript Object Notation (JSON). ([Online Documentation](https://docs.python.org/3/library/json.html))\n",
    "\n",
    "* _logging_ -- This module defines classes and functions for event logging. ([Online Documentation](https://docs.python.org/3/library/logging.html)\n",
    "\n",
    "* _sys_ -- Python module for system specific parameters. ([Online Documentation](https://docs.python.org/3/library/sys.html))\n",
    "\n",
    "* _time_ -- Time access and conversions. ([Online Documentation](https://docs.python.org/3/library/time.html))\n",
    "\n",
    "* _pytz_ -- Library to enable resolution of cross-platform time zones and ambiguous times. ([Online Documentation](https://pypi.org/project/pytz/)\n",
    "\n",
    "* _stomp_ -- Python client for accessing messaging servers using the Simple Text Oriented Messaging Protocol (STOMP). ([Online Documentation](https://pypi.org/project/stomp.py/))\n",
    "\n",
    "\n",
    "\n"
   ]
  },
  {
   "cell_type": "code",
   "execution_count": 1,
   "metadata": {},
   "outputs": [],
   "source": [
    "import argparse\n",
    "import json\n",
    "import logging\n",
    "import sys\n",
    "import time\n",
    "import pytz\n",
    "import stomp"
   ]
  },
  {
   "cell_type": "markdown",
   "metadata": {},
   "source": [
    "Next, the GridAPPS-Python API needs to be added to the path for executing the python Notebook. This is not necessary if the application is containerized and running in docker along with the GridAPPS-D platform.\n",
    "\n",
    "__Be sure to modify the path to match your local path where you downloaded on cloned the GridAPPS-Python API folder__"
   ]
  },
  {
   "cell_type": "code",
   "execution_count": 2,
   "metadata": {},
   "outputs": [],
   "source": [
    "sys.path.append('C:\\\\Users\\\\Energ\\\\Documents\\\\GridAPPS-D\\\\Notebook Lessons\\\\gridappsd-python') # Windows\n",
    "\n",
    "#sys.path.append() # Linux\n",
    "\n",
    "#sys.path.append() # MacOS\n",
    "\n"
   ]
  },
  {
   "cell_type": "markdown",
   "metadata": {},
   "source": [
    "The GridAPPS-Python API contains several libraries, which are used to query for information, subscribe to measurements, and publish commands to the GOSS message bus. These inlcude\n",
    "\n",
    "_GridAPPSD_ -- does something\n",
    "\n",
    "---------\n",
    "\n",
    "___DifferenceBuilder___ -- Creates forward and reverse differences for publishing equipment control commands using the equipment MRID, current state (reverse_value), and new desired state (forward_value)\n",
    "\n",
    "--------------------------------------------\n",
    "\n",
    "___utils___ -- A set of utilities to assist with common commands, inlcuding\n",
    "\n",
    "* _utils.validate_gridappsd_uri()_ -- Checks if GridAPPS-D is hosted on the correct port\n",
    "\n",
    "\n",
    "* _utils.get_gridappsd_address()_ -- Returns the platform address such that response can be passed directly to a socket or the STOMP library\n",
    "\n",
    "\n",
    "* _utils.get_gridappsd_user()_ -- Returns the login username\n",
    "\n",
    "\n",
    "* _utils.get_gridappsd_pass()_ -- Returns the login password\n",
    "\n",
    "\n",
    "* _utils.get_gridappsd_application_id()_ -- Only applicable for docker container for which the environment variable 'GRIDAPPSD_APPLICATION_ID' has been set\n",
    "\n",
    "\n",
    "* _utils.get_gridappsd_simulation_id()_ -- retrieves the simulation id from the environment.\n",
    "\n",
    "\n"
   ]
  },
  {
   "cell_type": "code",
   "execution_count": 3,
   "metadata": {},
   "outputs": [],
   "source": [
    "from gridappsd import GridAPPSD, DifferenceBuilder, utils"
   ]
  },
  {
   "cell_type": "markdown",
   "metadata": {},
   "source": [
    "There are also several topics for the platform, services, applications, and simulations to which one can subscribe:\n",
    "\n",
    "_platform_log_topic_ -- Utility method for getting the platform.log base topic\n",
    "\n",
    "_service_input_topic_ -- Utility method for getting the input topic for a specific service\n",
    "\n",
    "_service_output_topic_ -- Utility method for getting the output topic for a specific service\n",
    "\n",
    "_application_input_topic_ -- Utility method for getting the input topic for a specific application\n",
    "\n",
    "_application_output_topic_ -- Utility method for getting the output topic for a specific application\n",
    "\n",
    "_simulation_input_topic_ -- Gets the topic to write data to for the simulation\n",
    "\n",
    "_simulation_output_topic_ -- Gets the topic for subscribing to output from the simulation\n",
    "\n",
    "_simulation_log_topic_ -- Topic for the [Logging API](https://gridappsd.readthedocs.io/en/latest/using_gridappsd/index.html#subscribing-to-logs)\n",
    "\n",
    "\n",
    "\n"
   ]
  },
  {
   "cell_type": "code",
   "execution_count": 4,
   "metadata": {},
   "outputs": [],
   "source": [
    "from gridappsd.topics import simulation_input_topic, simulation_output_topic, simulation_log_topic"
   ]
  },
  {
   "cell_type": "code",
   "execution_count": 5,
   "metadata": {},
   "outputs": [],
   "source": [
    "logging.getLogger('stomp.py').setLevel(logging.ERROR)\n",
    "\n",
    "_log = logging.getLogger(__name__)\n",
    "\n"
   ]
  },
  {
   "cell_type": "code",
   "execution_count": 8,
   "metadata": {},
   "outputs": [
    {
     "ename": "TimeoutError",
     "evalue": "Request not responded to in a timely manner!",
     "output_type": "error",
     "traceback": [
      "\u001b[1;31m---------------------------------------------------------------------------\u001b[0m",
      "\u001b[1;31mTimeoutError\u001b[0m                              Traceback (most recent call last)",
      "\u001b[1;32m<ipython-input-8-459f0795a420>\u001b[0m in \u001b[0;36m<module>\u001b[1;34m\u001b[0m\n\u001b[0;32m     11\u001b[0m \u001b[0mdifference_message_open\u001b[0m\u001b[1;33m=\u001b[0m\u001b[1;34m'{ \"command\": \"update\", \"input\": { \"simulation_id\": simulation_id, \"message\": { \"timestamp\": 1357048800, \"difference_mrid\": \"123a456b-789c-012d-345e-678f901a235c\", \"reverse_differences\": [{ \"object\": \"_6C1FDA90-1F4E-4716-BC90-1CCB59A6D5A9\", \"attribute\": \"Switch.open\", \"value\": 0 } ], \"forward_differences\": [{ \"object\": \"_6C1FDA90-1F4E-4716-BC90-1CCB59A6D5A9\", \"attribute\": \"Switch.open\", \"value\": 1 } ] } } }'\u001b[0m\u001b[1;33m\u001b[0m\u001b[1;33m\u001b[0m\u001b[0m\n\u001b[0;32m     12\u001b[0m \u001b[1;33m\u001b[0m\u001b[0m\n\u001b[1;32m---> 13\u001b[1;33m \u001b[0mgridappsd_conn\u001b[0m\u001b[1;33m.\u001b[0m\u001b[0mget_response\u001b[0m\u001b[1;33m(\u001b[0m\u001b[0mtopic\u001b[0m\u001b[1;33m,\u001b[0m\u001b[0mdifference_message_open\u001b[0m\u001b[1;33m)\u001b[0m\u001b[1;33m\u001b[0m\u001b[1;33m\u001b[0m\u001b[0m\n\u001b[0m\u001b[0;32m     14\u001b[0m \u001b[1;33m\u001b[0m\u001b[0m\n\u001b[0;32m     15\u001b[0m \u001b[1;33m\u001b[0m\u001b[0m\n",
      "\u001b[1;32m~\\Documents\\GridAPPS-D\\Notebook Lessons\\gridappsd-python\\gridappsd\\goss.py\u001b[0m in \u001b[0;36mget_response\u001b[1;34m(self, topic, message, timeout)\u001b[0m\n\u001b[0;32m    172\u001b[0m             \u001b[1;32mreturn\u001b[0m \u001b[0mlistener\u001b[0m\u001b[1;33m.\u001b[0m\u001b[0mresponse\u001b[0m\u001b[1;33m\u001b[0m\u001b[1;33m\u001b[0m\u001b[0m\n\u001b[0;32m    173\u001b[0m \u001b[1;33m\u001b[0m\u001b[0m\n\u001b[1;32m--> 174\u001b[1;33m         \u001b[1;32mraise\u001b[0m \u001b[0mTimeoutError\u001b[0m\u001b[1;33m(\u001b[0m\u001b[1;34m\"Request not responded to in a timely manner!\"\u001b[0m\u001b[1;33m)\u001b[0m\u001b[1;33m\u001b[0m\u001b[1;33m\u001b[0m\u001b[0m\n\u001b[0m\u001b[0;32m    175\u001b[0m \u001b[1;33m\u001b[0m\u001b[0m\n\u001b[0;32m    176\u001b[0m     \u001b[1;32mdef\u001b[0m \u001b[0msubscribe\u001b[0m\u001b[1;33m(\u001b[0m\u001b[0mself\u001b[0m\u001b[1;33m,\u001b[0m \u001b[0mtopic\u001b[0m\u001b[1;33m,\u001b[0m \u001b[0mcallback\u001b[0m\u001b[1;33m)\u001b[0m\u001b[1;33m:\u001b[0m\u001b[1;33m\u001b[0m\u001b[1;33m\u001b[0m\u001b[0m\n",
      "\u001b[1;31mTimeoutError\u001b[0m: Request not responded to in a timely manner!"
     ]
    }
   ],
   "source": [
    "simulation_id='1455521966'\n",
    "\n",
    "# gridappsd_conn = GridAPPSD(simulation_id, address=\"tcp://localhost:61613\",\n",
    "#                            username=\"system\", password=\"manager\")\n",
    "\n",
    "gridappsd_conn = GridAPPSD(simulation_id, \"('localhost', 61613)\", #address=utils.get_gridappsd_address(),\n",
    "          username=utils.get_gridappsd_user(), password=utils.get_gridappsd_pass())\n",
    "    \n",
    "topic = \"/topic/goss.gridappsd.simulation.input.\"+simulation_id\n",
    "    \n",
    "difference_message_open='{ \"command\": \"update\", \"input\": { \"simulation_id\": simulation_id, \"message\": { \"timestamp\": 1357048800, \"difference_mrid\": \"123a456b-789c-012d-345e-678f901a235c\", \"reverse_differences\": [{ \"object\": \"_6C1FDA90-1F4E-4716-BC90-1CCB59A6D5A9\", \"attribute\": \"Switch.open\", \"value\": 0 } ], \"forward_differences\": [{ \"object\": \"_6C1FDA90-1F4E-4716-BC90-1CCB59A6D5A9\", \"attribute\": \"Switch.open\", \"value\": 1 } ] } } }'\n",
    "    \n",
    "gridappsd_conn.get_response(topic,difference_message_open)\n",
    "    \n",
    " \n",
    "    "
   ]
  },
  {
   "cell_type": "code",
   "execution_count": null,
   "metadata": {},
   "outputs": [],
   "source": []
  },
  {
   "cell_type": "markdown",
   "metadata": {},
   "source": [
    "type -i markdown"
   ]
  },
  {
   "cell_type": "code",
   "execution_count": null,
   "metadata": {},
   "outputs": [],
   "source": []
  }
 ],
 "metadata": {
  "kernelspec": {
   "display_name": "Python 3",
   "language": "python",
   "name": "python3"
  },
  "language_info": {
   "codemirror_mode": {
    "name": "ipython",
    "version": 3
   },
   "file_extension": ".py",
   "mimetype": "text/x-python",
   "name": "python",
   "nbconvert_exporter": "python",
   "pygments_lexer": "ipython3",
   "version": "3.8.3"
  }
 },
 "nbformat": 4,
 "nbformat_minor": 4
}
