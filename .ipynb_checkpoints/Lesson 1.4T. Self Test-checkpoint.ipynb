{
 "cells": [
  {
   "cell_type": "markdown",
   "metadata": {},
   "source": [
    "# Exercise for Lesson 1.4.\n",
    "# Introduction to GridAPPS-D Topics\n",
    "\n",
    "Lesson 1.4 introduced the topics library in GridAPPS-D and how it can be used a shortcut for specifying \n",
    "\n",
    "__Learning Objectives:__\n",
    "\n",
    "At the end of the tutorial, the user should be able to\n",
    "\n",
    "* Describe what are GridAPPS-D Topics\n",
    "* Explain the difference between `/queue/` and `/topic/` channels\n",
    "* Import and use the GridAPPSD-Python library of topics\n",
    "* Implement shortcut functions for creating GridAPPS-D Topics"
   ]
  },
  {
   "cell_type": "markdown",
   "metadata": {},
   "source": [
    "Complete the quiz below either in your browser by clicking the link below or answering it in the notebook embed below!\n",
    "\n",
    "__[Open Quiz in a new browser window](https://docs.google.com/forms/d/e/1FAIpQLSc3AV4XjWxbL0thU2HWQlffs_38YX4oTixhZYpTyvpF5uSBvg/viewform?)__\n",
    "\n",
    "\n",
    "."
   ]
  },
  {
   "cell_type": "code",
   "execution_count": 3,
   "metadata": {},
   "outputs": [
    {
     "data": {
      "text/html": [
       "<iframe src=\"https://docs.google.com/forms/d/e/1FAIpQLSc3AV4XjWxbL0thU2HWQlffs_38YX4oTixhZYpTyvpF5uSBvg/viewform?embedded=true\" width=\"750\" height=\"1275\" frameborder=\"0\" marginheight=\"0\" marginwidth=\"0\">Loading…</iframe>\n"
      ],
      "text/plain": [
       "<IPython.core.display.HTML object>"
      ]
     },
     "metadata": {},
     "output_type": "display_data"
    }
   ],
   "source": [
    "%%html\n",
    "<iframe src=\"https://docs.google.com/forms/d/e/1FAIpQLSc3AV4XjWxbL0thU2HWQlffs_38YX4oTixhZYpTyvpF5uSBvg/viewform?embedded=true\" width=\"750\" height=\"1275\" frameborder=\"0\" marginheight=\"0\" marginwidth=\"0\">Loading…</iframe>"
   ]
  },
  {
   "cell_type": "code",
   "execution_count": null,
   "metadata": {},
   "outputs": [],
   "source": []
  }
 ],
 "metadata": {
  "kernelspec": {
   "display_name": "Python 3",
   "language": "python",
   "name": "python3"
  },
  "language_info": {
   "codemirror_mode": {
    "name": "ipython",
    "version": 3
   },
   "file_extension": ".py",
   "mimetype": "text/x-python",
   "name": "python",
   "nbconvert_exporter": "python",
   "pygments_lexer": "ipython3",
   "version": "3.8.3"
  }
 },
 "nbformat": 4,
 "nbformat_minor": 4
}
