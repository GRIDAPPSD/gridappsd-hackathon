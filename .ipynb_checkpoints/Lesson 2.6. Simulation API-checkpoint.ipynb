{
 "cells": [
  {
   "cell_type": "markdown",
   "metadata": {},
   "source": [
    "# Lesson 2.6:\n",
    "# Simulation API\n",
    "\n",
    "This tutorial introduces the Simulation API and how it can be used to run power system simulations, subscribe to measurement data, and publish equipment control commands.\n",
    "\n",
    "__Learning Objectives:__\n",
    "\n",
    "At the end of the tutorial, the user should be able to use the Simulation API to\n",
    "\n",
    "* \n",
    "* \n",
    "* \n",
    "\n",
    "## Getting Started\n",
    "\n",
    "Before running any of the sample routines in this tutorial, it is first necessary to start the GridAPPS-D Platform and establish a connection to this notebook so that we can start passing calls to the API."
   ]
  },
  {
   "cell_type": "markdown",
   "metadata": {},
   "source": [
    "_Open the Ubuntu terminal and start the GridAPPS-D Platform if it is not running already:_\n",
    "\n",
    "`cd gridappsd-docker`\n",
    "\n",
    "~/gridappsd-docker$ `./run.sh -t develop`\n",
    "\n",
    "_Once containers are running,_\n",
    "\n",
    "gridappsd@[container]:/gridappsd$ `./run-gridappsd.sh`"
   ]
  },
  {
   "cell_type": "code",
   "execution_count": 1,
   "metadata": {},
   "outputs": [],
   "source": [
    "# Establish connection to GridAPPS-D Platform:\n",
    "from gridappsd import GridAPPSD\n",
    "gapps = GridAPPSD(\"('localhost', 61613)\", username='system', password='manager')\n",
    "model_mrid = \"_49AD8E07-3BF9-A4E2-CB8F-C3722F837B62\" # IEEE 13 Node used for all example queries"
   ]
  },
  {
   "cell_type": "markdown",
   "metadata": {},
   "source": [
    "---\n",
    "# Table of Contents\n",
    "\n",
    "* [1. Introduction to the PowerGrid Model API](#1.-Introduction-to-the-PowerGrid-Model-API)\n",
    "* [2. Using the PowerGrid Model API](#2.-Using-the-PowerGrid-Model-API)\n",
    "    * [2.1. Specifying the Topic](#2.1.-Specifying-the-Topic)\n",
    "        * [2.1.1. Topic to Start a Simulation](#2.1.1.-Topic-to-Start-a-Simulation)\n",
    "        * [2.1.2. Topic to Pause, Resume, or Stop a Simulation](#2.1.2.-Topic-to-Pause,-Resume,-or-Stop-a-Simulation)\n",
    "        * [2.1.3. Topic to Subscribe to Simulation Output](#2.1.3.-Topic-to-Subscribe-to-Simulation-Output)\n",
    "        * [2.1.4. Topic to Publish to Simulation Input](#2.1.4.-Topic-to-Publish-to-Simulation-Input)\n",
    "        * [2.1.5. Topic to Subscribe to Simulation Logs](#2.1.5.-Topic-to-Subscribe-to-Simulation-Logs)\n",
    "    * [2.2. Structure of a JSON Query Message](#2.2.-Structure-of-a-JSON-Query-Message)\n",
    "    * [2.3. Specifying the requestType](#2.3.-Specifying-the-requestType)\n",
    "* [3. Querying for Feeder Model Info](#3.-Querying-for-Feeder-Model-Info)\n",
    "    * [3.1. Query for mRIDs of all Models](#3.1.-Query-for-mRIDs-of-all-Models)\n",
    "    * [3.2. Query for Details Dictionary of all Models](#3.2.-Query-for-Details-Dictionary-of-all-Models)\n",
    "* [4. Querying for Object Info](#4.-Querying-for-Object-Info)\n",
    "    * [4.1. Query for CIM Classes of Objects in Model](#4.1.-Query-for-CIM-Classes-of-Objects-in-Model)"
   ]
  },
  {
   "cell_type": "markdown",
   "metadata": {},
   "source": [
    "---\n",
    "# 1. Introduction to the Simulation API\n",
    "\n",
    "\n",
    "The Simulation API is used for all actions related to a power system simulation. It is used to start, pause, restart, and stop a simulation from the command line or inside an application. It is all used to subscribe to measurements of equipment (such as line flows, loads, and DG setpoints) and the statuses of switches, capacitors, transformer taps, etc. It is also used to publish equipment control and other simulation input commands."
   ]
  },
  {
   "cell_type": "markdown",
   "metadata": {},
   "source": [
    "---\n",
    "# 2. Using the Simulation API"
   ]
  },
  {
   "cell_type": "markdown",
   "metadata": {},
   "source": [
    "## 2.1. Specifying the Topic\n",
    "\n",
    "In the previous lessons all the queries passed to other APIs all used static `/queue/` channels to pass API calls to the GOSS message bus and the GridAPPS-D Platform. \n",
    "\n",
    "However, the Simulation API is used to communicate with a broad range of subscribers. The list of topics covered by the Simulation API cover both static `/queue/` and dynamic `/topic/` communication channel names. \n",
    "\n",
    "Extreme care is needed to use the correct topic. For a review of GridAPPS-D topics, see Lesson 1.4."
   ]
  },
  {
   "cell_type": "markdown",
   "metadata": {},
   "source": [
    "### 2.1.1. Topic to Start a Simulation\n",
    "\n",
    "This is a static `/queue/` communication channel\n",
    "\n",
    "1) Specifying the topic as a string:\n",
    "\n",
    "* `topic = \"goss.gridappsd.process.request.simulation\"`\n",
    "\n",
    "2) Using the topics library to specify the topic:\n",
    "\n",
    "* `from gridappsd import topics as t`\n",
    "* `topic = t.REQUEST_SIMULATION`"
   ]
  },
  {
   "cell_type": "markdown",
   "metadata": {},
   "source": [
    "### 2.1.2. Topic to Pause, Resume, or Stop a Simulation\n",
    "\n",
    "This is a dynamic `/topic/` communication channel that is best implemented by importing the GriAPPSD-Python library function for generating the correct topic. \n",
    "\n",
    "* `from gridappsd import simulation_input_topic`\n",
    "* `topic = simulation_input_topic(simulation_id)`"
   ]
  },
  {
   "cell_type": "markdown",
   "metadata": {},
   "source": [
    "### 2.1.3. Topic to Subscribe to Simulation Output\n",
    "\n",
    "This is a dynamic `/topic/` communication channel that is best implemented by importing the GriAPPSD-Python library function for generating the correct topic. \n",
    "\n",
    "* `from gridappsd import simulation_output_topic`\n",
    "* `topic = simulation_output_topic(simulation_id)`"
   ]
  },
  {
   "cell_type": "markdown",
   "metadata": {},
   "source": [
    "### 2.1.4. Topic to Publish to Simulation Input\n",
    "\n",
    "This is a dynamic `/topic/` communication channel that is best implemented by importing the GriAPPSD-Python library function for generating the correct topic. \n",
    "\n",
    "* `from gridappsd import simulation_input_topic`\n",
    "* `topic = simulation_input_topic(simulation_id)`"
   ]
  },
  {
   "cell_type": "markdown",
   "metadata": {},
   "source": [
    "### 2.1.5. Topic to Subscribe to Simulation Logs\n",
    "\n",
    "This is a dynamic `/topic/` communication channel that is best implemented by importing the GriAPPSD-Python library function for generating the correct topic. \n",
    "\n",
    "* `from gridappsd import simulation_log_topic`\n",
    "* `topic = simulation_log_topic(simulation_id)`"
   ]
  },
  {
   "cell_type": "markdown",
   "metadata": {},
   "source": [
    "[Return to Top](#Table-of-Contents)"
   ]
  },
  {
   "cell_type": "markdown",
   "metadata": {},
   "source": [
    "## 2.2. Structure of a JSON Query Message\n",
    "\n",
    "\n",
    "Queries passed to Timeseries API are formatted as python dictionaries or equivalent JSON scripts wrapped as a python string. \n",
    "\n",
    "The accepted set of key-value pairs for the \n",
    "\n",
    "```\n",
    "message = \"\"\"\n",
    "{\n",
    "    \"requestType\": \"INSERT QUERY HERE\",\n",
    "    \"resultFormat\": \"JSON\",\n",
    "    \"modelId\": \"OPTIONAL INSERT MODEL mRID HERE\",\n",
    "    \"objectId\": \"OPTIONAL INSERT OBJECT mRID HERE\",\n",
    "    \"filter\": \"OPTIONAL INSERT SPARQL FILTER HERE\"\n",
    "}\n",
    "```\n",
    "\n",
    "The components of the message are as follows:\n",
    "\n",
    "* `\"requestType\":` -- Specifies the type of query. Available requestType are listed in the next section.\n",
    "\n",
    "\n",
    "* `\"resultFormat\":` -- Specifies the format of the response, can be `\"JSON\"`, `\"CSV\"`, or `\"XML\"`. (CAUTION: the PowerGridModel API uses the key _resultFormat_, while the Timeseries API uses the key _reponseFormat_. Using the wrong key for either API will result in a java.lang error.)\n",
    "\n",
    "\n",
    "* `\"modelID\":` -- Optional. Used to filter the query to only one particular model whose mRID is specified. Be aware of spelling and capitalization differences between JSON query spelling `\"modelId\"` and Python Library spelling `model_id`.\n",
    "\n",
    "\n",
    "* `\"objectType\":` -- Optional. Used to filter the query to only one CIM class of equipment. Speciying the _objectID_ will override any values specified for _objectType_. \n",
    "\n",
    "\n",
    "* `\"objectID\":` -- Optional. Used to filter the query to only one object whose mRID is specified. Specifying the _objectID_ will override any values specified for _objectType_. \n",
    "\n",
    "\n",
    "* `\"filter\":` -- Optional. Used to filter the query using a SPARQL filter. SPARQL queries are covered in the next lesson.\n",
    "\n",
    "\n",
    "The usage of each of these message components are explained in detail with code block examples below. \n",
    "\n",
    "__Important__: Be sure to pay attention to placement of commas ( __,__ ) at the end of each JSON line. Commas are placed at the end of each line _except_ the last line. Incorrect comma placement will result in a JsonSyntaxException. \n",
    "\n",
    "All of the queries are passed to the PowerGrid Model API using the `.get_response(topic, message)` method for the GridAPPS-D platform connection variable."
   ]
  },
  {
   "cell_type": "markdown",
   "metadata": {},
   "source": [
    "[Return to Top](#Table-of-Contents)"
   ]
  },
  {
   "cell_type": "markdown",
   "metadata": {},
   "source": [
    "## 2.3. Specifying the `requestType`\n",
    "\n",
    "Below are the possible `requestType` strings that are used to specify the type of each query. Executable code block examples are provided for each of the requests in the subsections below.\n",
    "\n",
    "The first group of _requestType_ are for queries for information related to the entire model or a set of models, such as the model name, mRID, region, and substation:\n",
    "\n",
    "* `\"requestType\": \"QUERY_MODEL_NAMES\"` -- [Query for the list of all model name mRIDs](#3.1.-Query-for-mRIDs-of-all-Models)\n",
    "\n",
    "\n",
    "* `\"requestType\": \"QUERY_MODEL_INFO\"` -- [Query for the dictionary of all details for all feeders in Blazegraph](#3.2.-Query-for-Details-Dictionary-of-all-Models)\n",
    "\n",
    "\n",
    "The second group of _requestType_ are for queries for a single object or a single class of objects withing a model, such as the object mRID, CIM attributes, or measurement points:\n",
    "\n",
    "* `\"requestType\": \"QUERY_OBJECT_TYPES\"` -- [Query for the types of CIM classes of objects in the model](#4.1.-Query-for-CIM-Classes-of-Objects-in-Model)\n",
    "\n",
    "\n",
    "* `\"requestType\": \"QUERY_OBJECT_IDS\"` -- Query for a list of all mRIDs for objects of a CIM class in the model\n",
    "\n",
    "\n",
    "* `\"requestType\": \"QUERY_OBJECT\"` -- Query for CIM attributes of an object using its unique mRID \n",
    "\n",
    "\n",
    "* `\"requestType\": \"QUERY_OBJECT_DICT\"` -- Query for the dictionary of all details for an object using either its _objectType_ OR its _objectID_\n",
    "\n",
    "\n",
    "* `\"requestType\": \"QUERY_OBJECT_MEASUREMENTS\"` -- Query for all measurement types and mRIDs for an object using either its _objectType_ OR its _ObjectID_.\n",
    "\n",
    "The third group of _requestType_ are for queries based on SPARQL filters or complete SPARQL queries. The structure of SPARQL was introduced in [Lesson 1.XX](). Usage of these two _requestType_ will covered separately in the next two lessons.\n",
    "\n",
    "* `\"requestType\": \"QUERY_MODEL\"` -- Query for all  part of a specified model, filtered by object type using a SPARQL filter.\n",
    "\n",
    "\n",
    "* `\"requestType\": \"QUERY\"` -- Query using a complete SPARQL query.\n",
    "\n",
    "\n"
   ]
  },
  {
   "cell_type": "markdown",
   "metadata": {},
   "source": [
    "[[Return to Top](#Table-of-Contents)]"
   ]
  },
  {
   "cell_type": "code",
   "execution_count": null,
   "metadata": {},
   "outputs": [],
   "source": [
    "%run Run123NodeDemo.py"
   ]
  },
  {
   "cell_type": "code",
   "execution_count": null,
   "metadata": {},
   "outputs": [],
   "source": [
    "from gridappsd import utils\n",
    "\n",
    "sim_id = utils.get_gridappsd_simulation_id()\n",
    "\n",
    "print(sim_id)"
   ]
  },
  {
   "cell_type": "code",
   "execution_count": 1,
   "metadata": {},
   "outputs": [],
   "source": [
    "import Run123NodeDemo as r\n",
    "simulation_id = r.simulation.simulation_id"
   ]
  },
  {
   "cell_type": "code",
   "execution_count": 2,
   "metadata": {},
   "outputs": [
    {
     "data": {
      "text/plain": [
       "'1101066887'"
      ]
     },
     "execution_count": 2,
     "metadata": {},
     "output_type": "execute_result"
    }
   ],
   "source": [
    "simulation_id"
   ]
  },
  {
   "cell_type": "code",
   "execution_count": null,
   "metadata": {},
   "outputs": [],
   "source": []
  }
 ],
 "metadata": {
  "kernelspec": {
   "display_name": "Python 3",
   "language": "python",
   "name": "python3"
  },
  "language_info": {
   "codemirror_mode": {
    "name": "ipython",
    "version": 3
   },
   "file_extension": ".py",
   "mimetype": "text/x-python",
   "name": "python",
   "nbconvert_exporter": "python",
   "pygments_lexer": "ipython3",
   "version": "3.8.3"
  }
 },
 "nbformat": 4,
 "nbformat_minor": 4
}
