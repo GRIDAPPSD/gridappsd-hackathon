{
 "cells": [
  {
   "cell_type": "markdown",
   "metadata": {},
   "source": [
    "# Lesson 2.2:\n",
    "# PowerGrid Models API - Using JSON Queries\n",
    "\n",
    "This tutorial introduces the PowerGrid Models API and how it can be used to query model data.\n",
    "\n",
    "__Learning Objectives:__\n",
    "\n",
    "At the end of the tutorial, the user should be able to use the PowerGrid Models API to\n",
    "\n",
    "* Query for feeder information\n",
    "* Query for equipment information\n",
    "* Query for device measurements\n",
    "\n",
    "## Getting Started\n",
    "\n",
    "Before running any of the sample routines in this tutorial, it is first necessary to start the GridAPPS-D Platform and establish a connection to this notebook so that we can start passing calls to the API."
   ]
  },
  {
   "cell_type": "markdown",
   "metadata": {},
   "source": [
    "_Open the Ubuntu terminal and start the GridAPPS-D Platform if it is not running already:_\n",
    "\n",
    "`cd gridappsd-docker`\n",
    "\n",
    "~/gridappsd-docker$ `./run.sh -t develop`\n",
    "\n",
    "_Once containers are running,_\n",
    "\n",
    "gridappsd@[container]:/gridappsd$ `./run-gridappsd.sh`"
   ]
  },
  {
   "cell_type": "code",
   "execution_count": null,
   "metadata": {},
   "outputs": [],
   "source": [
    "# Establish connection to GridAPPS-D Platform:\n",
    "from gridappsd import GridAPPSD\n",
    "gapps = GridAPPSD(\"('localhost', 61613)\", username='system', password='manager')\n",
    "model_mrid = \"_49AD8E07-3BF9-A4E2-CB8F-C3722F837B62\" # IEEE 13 Node used for all example queries"
   ]
  },
  {
   "cell_type": "markdown",
   "metadata": {},
   "source": [
    "---\n",
    "# Table of Contents\n",
    "\n",
    "* [1. Introduction to the PowerGrid Model API](#1.-Introduction-to-the-PowerGrid-Model-API)\n",
    "\n",
    "\n",
    "* [2. Using the PowerGrid Model API](#2.-Using-the-PowerGrid-Model-API)\n",
    "    * [2.1. Specifying the Topic](#2.1.-Specifying-the-Topic)\n",
    "    * [2.2. Structure of a Query Message](#2.2.-Structure-of-a-Query-Message)\n",
    "    * [2.3. Specifying the requestType](#2.3.-Specifying-the-requestType)\n",
    "    \n",
    "\n",
    "* [3. Querying for Feeder Model Info](#3.-Querying-for-Feeder-Model-Info)\n",
    "    * [3.1. Query for mRIDs of all Models](#3.1.-Query-for-mRIDs-of-all-Models)\n",
    "    * [3.2.-Query for Details Dictionary of all Models](#3.2.-Query-for-Details-Dictionary-of-all-Models)\n",
    "    \n",
    "    \n",
    "* [4. Querying for Object Info](#4.-Querying-for-Object-Info)\n",
    "    * [4.1. Query for CIM Classes of Objects in Model](#4.1.-Query-for-CIM-Classes-of-Objects-in-Model)\n",
    "    * [4.2. Query for mRIDs of Objects in a Feeder](#4.2.-Query-for-mRIDs-of-Objects-in-a-Feeder)\n",
    "    * [4.3. Query for CIM Attributes of an Object](#4.3.-Query-for-CIM-Attributes-of-an-Object)\n",
    "    * [4.4. Query for Object Dictionary](#4.4.-Query-for-Object-Dictionary)\n",
    "    \n",
    "    \n",
    "* [5. Querying for Object Measurements](#5.-Querying-for-Object-Measurements)\n",
    "    * [5.1. Object mRIDs vs Measurement mRIDs](#5.1.-Object-mRIDs-vs-Measurement-mRIDs)\n",
    "    * [5.2. Querying for Measurements](#5.2.-Querying-for-Measurements)\n",
    "    * [5.3. Filtering Returned Data](#5.3.-Filtering-Returned-Data)\n",
    "    \n",
    "    \n",
    "* [6. GridAPPSD-Python Shortcut Methods](#6.-GridAPPSD-Python-Shortcut-Methods)\n",
    "    * [6.1. Querying for mRIDs of all Models](#6.1.-Querying-for-mRIDs-of-all-Models)\n",
    "    * [6.2. Query for CIM Classes of Objects in Model](#6.2.-Query-for-CIM-Classes-of-Objects-in-Model)\n",
    "    * [6.3. Query for CIM Attributes of an Object](#6.3.-Query-for-CIM-Attributes-of-an-Object)"
   ]
  },
  {
   "cell_type": "markdown",
   "metadata": {},
   "source": [
    "---\n",
    "# 1. Introduction to the PowerGrid Model API\n",
    "\n",
    "\n",
    "The PowerGrid Model API is used to pull model information, inlcuding the names, mRIDs, measurements, and nominal values of power system equipment in the feeder (such as lines, loads, switches, transformers, and DERs).\n"
   ]
  },
  {
   "cell_type": "markdown",
   "metadata": {},
   "source": [
    "---\n",
    "# 2. Using the PowerGrid Model API"
   ]
  },
  {
   "cell_type": "markdown",
   "metadata": {},
   "source": [
    "## 2.1. Specifying the Topic\n",
    "\n",
    "All queries passed to the PowerGrid Models API need to use the correct topic, which is obtained using the GridAPPS-D Topics library. For a review of GridAPPS-D topics, see Lesson 1.4 "
   ]
  },
  {
   "cell_type": "code",
   "execution_count": null,
   "metadata": {},
   "outputs": [],
   "source": [
    "from gridappsd import topics as t\n",
    "topic = t.REQUEST_POWERGRID_DATA"
   ]
  },
  {
   "cell_type": "markdown",
   "metadata": {},
   "source": [
    "[Return to Top](#Table-of-Contents)"
   ]
  },
  {
   "cell_type": "markdown",
   "metadata": {},
   "source": [
    "## 2.2. Structure of a Query Message\n",
    "\n",
    "Queries passed to PowerGrid Models API are formatted as python dictionaries or equivalent JSON scripts wrapped as a python string. \n",
    "\n",
    "```\n",
    "message = {\n",
    "    \"requestType\": \"INSERT QUERY HERE\",\n",
    "    \"resultFormat\": \"JSON\",\n",
    "    \"modelId\": \"OPTIONAL INSERT MODEL mRID HERE\",\n",
    "    \"objectType\": \"OPTIONAL INSERT CIM CLASS HERE\",\n",
    "    \"objectId\": \"OPTIONAL INSERT OBJECT mRID HERE\",\n",
    "    \"filter\": \"OPTIONAL INSERT SPARQL FILTER HERE\"\n",
    "}\n",
    "```\n",
    "\n",
    "The components of the message are as follows:\n",
    "\n",
    "* `\"requestType\":` -- Specifies the type of query. Available requestType are listed in the next section.\n",
    "\n",
    "\n",
    "* `\"resultFormat\":` -- Specifies the format of the response, can be `\"JSON\"`, `\"CSV\"`, or `\"XML\"`. (CAUTION: the PowerGridModel API uses the key _resultFormat_, while the Timeseries API uses the key _reponseFormat_. Using the wrong key for either API will result in a java.lang error.)\n",
    "\n",
    "\n",
    "* `\"modelID\":` -- Optional. Used to filter the query to only one particular model whose mRID is specified. Be aware of spelling and capitalization differences between JSON query spelling `\"modelId\"` and Python Library spelling `model_id`.\n",
    "\n",
    "\n",
    "* `\"objectType\":` -- Optional. Used to filter the query to only one CIM class of equipment. Speciying the _objectID_ will override any values specified for _objectType_. \n",
    "\n",
    "\n",
    "* `\"objectID\":` -- Optional. Used to filter the query to only one object whose mRID is specified. Specifying the _objectID_ will override any values specified for _objectType_. \n",
    "\n",
    "\n",
    "* `\"filter\":` -- Optional. Used to filter the query using a SPARQL filter. SPARQL queries are covered in the next lesson.\n",
    "\n",
    "\n",
    "The usage of each of these message components are explained in detail with code block examples below. \n",
    "\n",
    "__Important__: Be sure to pay attention to placement of commas ( __,__ ) at the end of each JSON line. Commas are placed at the end of each line _except_ the last line. Incorrect comma placement will result in a JsonSyntaxException. \n",
    "\n",
    "All of the queries are passed to the PowerGrid Model API using the `.get_response(topic, message)` method for the GridAPPS-D platform connection variable."
   ]
  },
  {
   "cell_type": "markdown",
   "metadata": {},
   "source": [
    "[Return to Top](#Table-of-Contents)"
   ]
  },
  {
   "cell_type": "markdown",
   "metadata": {},
   "source": [
    "## 2.3. Specifying the `requestType`\n",
    "\n",
    "Below are the possible `requestType` strings that are used to specify the type of each query. Executable code block examples are provided for each of the requests in the subsections below.\n",
    "\n",
    "The first group of _requestType_ key-value pairs are for queries for information related to the entire model or a set of models, such as the model name, mRID, region, and substation:\n",
    "\n",
    "* `\"requestType\": \"QUERY_MODEL_NAMES\"` -- [Query for the list of all model name mRIDs](#3.1.-Query-for-mRIDs-of-all-Models)\n",
    "\n",
    "\n",
    "* `\"requestType\": \"QUERY_MODEL_INFO\"` -- [Query for the dictionary of all details for all feeders in Blazegraph](#3.2.-Query-for-Details-Dictionary-of-all-Models)\n",
    "\n",
    "\n",
    "The second group of _requestType_ key-value pairs are for queries for a single object or a single class of objects withing a model, such as the object mRID, CIM attributes, or measurement points:\n",
    "\n",
    "* `\"requestType\": \"QUERY_OBJECT_TYPES\"` -- [Query for the types of CIM classes of objects in the model](#4.1.-Query-for-CIM-Classes-of-Objects-in-Model)\n",
    "\n",
    "\n",
    "* `\"requestType\": \"QUERY_OBJECT_IDS\"` -- [Query for a list of all mRIDs for objects of a CIM class in the model](#4.2.-Query-for-mRIDs-of-Objects-in-a-Feeder)\n",
    "\n",
    "\n",
    "* `\"requestType\": \"QUERY_OBJECT\"` -- [Query for CIM attributes of an object using its unique mRID](#4.3.-Query-for-CIM-Attributes-of-an-Object)\n",
    "\n",
    "\n",
    "* `\"requestType\": \"QUERY_OBJECT_DICT\"` -- [Query for the dictionary of all details for an object using either its _objectType_ OR its _objectID_](#4.4.-Query-for-Object-Dictionary)\n",
    "\n",
    "\n",
    "* `\"requestType\": \"QUERY_OBJECT_MEASUREMENTS\"` -- [Query for all measurement types and mRIDs for an object using either its _objectType_ OR its _ObjectID_](#5.2.-Querying-for-Measurements)\n",
    "\n",
    "The third group of _requestType_ key-value pairs are for queries based on SPARQL filters or complete SPARQL queries. The structure of SPARQL was introduced in Lesson 1.7 (to be completed soon). Usage of these two _requestType_ will covered separately in the next two lessons.\n",
    "\n",
    "* `\"requestType\": \"QUERY_MODEL\"` -- Query for all  part of a specified model, filtered by object type using a SPARQL filter.\n",
    "\n",
    "\n",
    "* `\"requestType\": \"QUERY\"` -- Query using a complete SPARQL query.\n",
    "\n",
    "\n"
   ]
  },
  {
   "cell_type": "markdown",
   "metadata": {},
   "source": [
    "[[Return to Top](#Table-of-Contents)]"
   ]
  },
  {
   "cell_type": "markdown",
   "metadata": {},
   "source": [
    "---\n",
    "# 3. Querying for Feeder Model Info\n",
    "\n",
    "\n",
    "This section outlines the pre-built JSON queries that can be passed to the PowerGrid Model API to obtain mRIDs and other information for all models and feeders stored in the Blazegraph Database."
   ]
  },
  {
   "cell_type": "markdown",
   "metadata": {},
   "source": [
    "## 3.1. Query for mRIDs of all Models\n",
    "\n",
    "This query obtains a list of all the model MRIDs stored in the Blazegraph database. \n",
    "\n",
    "Query requestType:\n",
    "\n",
    "* `\"requestType\": \"QUERY_MODEL_NAMES\"`\n",
    "\n",
    "Allowed parameters:\n",
    "\n",
    "* `\"resultFormat\":` – \"XML\" / \"JSON\" / \"CSV\" -- Optional. Will return results as a list in the format selected. "
   ]
  },
  {
   "cell_type": "code",
   "execution_count": null,
   "metadata": {},
   "outputs": [],
   "source": [
    "message = {\n",
    "    \"requestType\": \"QUERY_MODEL_NAMES\",\n",
    "    \"resultFormat\": \"JSON\"\n",
    "}"
   ]
  },
  {
   "cell_type": "code",
   "execution_count": null,
   "metadata": {},
   "outputs": [],
   "source": [
    "gapps.get_response(topic, message)"
   ]
  },
  {
   "cell_type": "markdown",
   "metadata": {},
   "source": [
    "[Return to Top](#Table-of-Contents)"
   ]
  },
  {
   "cell_type": "markdown",
   "metadata": {},
   "source": [
    "## 3.2. Query for Details Dictionary of all Models\n",
    "\n",
    "This query returns a list of names and MRIDs for all models, substations, subregions, and regions for all available feeders stored in the Blazegraph database.\n",
    "\n",
    "Query requestType:\n",
    "\n",
    "* `\"requestType\": \"QUERY_MODEL_INFO\"`\n",
    "\n",
    "Allowed parameters:\n",
    "\n",
    "* `\"resultFormat\":` – \"XML\" / \"JSON\" / \"CSV\" -- Will return results as a list in the format selected."
   ]
  },
  {
   "cell_type": "code",
   "execution_count": null,
   "metadata": {},
   "outputs": [],
   "source": [
    "message = {\n",
    "    \"requestType\": \"QUERY_MODEL_INFO\",\n",
    "    \"resultFormat\": \"JSON\"\n",
    "}"
   ]
  },
  {
   "cell_type": "code",
   "execution_count": null,
   "metadata": {},
   "outputs": [],
   "source": [
    "gapps.get_response(topic, message)"
   ]
  },
  {
   "cell_type": "markdown",
   "metadata": {},
   "source": [
    "[Return to Top](#Table-of-Contents)"
   ]
  },
  {
   "cell_type": "markdown",
   "metadata": {},
   "source": [
    "---\n",
    "# 4. Querying for Object Info\n",
    "\n",
    "This section outlines the pre-built JSON queries that can be passed to the PowerGrid Model API to obtain mRIDs and other information for a particular object or a class of objects for one or more feeders stored in the Blazegraph Database.\n",
    "\n",
    "All of the examples in this section use the IEEE 13 node model. The python constructor %s is used for all queries to enable the code block to be cut and paste into any python script without needing to change the model mRID."
   ]
  },
  {
   "cell_type": "code",
   "execution_count": null,
   "metadata": {},
   "outputs": [],
   "source": [
    "model_mrid = \"_49AD8E07-3BF9-A4E2-CB8F-C3722F837B62\" # IEEE 13 Node used for all example queries"
   ]
  },
  {
   "cell_type": "markdown",
   "metadata": {},
   "source": [
    "## 4.1. Query for CIM Classes of Objects in Model\n",
    "\n",
    "This query is used to query for a list of all the CIM XML classes of objects present in the Blazegraph for a particular model or all models in the database.\n",
    "\n",
    "Query requestType is\n",
    "\n",
    "* `\"requestType\": \"QUERY_OBJECT_TYPES\"`\n",
    "\n",
    "Allowed parameters are\n",
    "\n",
    "* `\"modelId\":` \"model name mRID\" -- Optional. Searches only the particular model identified by the given unique mRID\n",
    "* `\"resultFormat\":` – \"XML\" / \"JSON\" / \"CSV\" -- Will return results as a list in the format selected. "
   ]
  },
  {
   "cell_type": "markdown",
   "metadata": {},
   "source": [
    "__1) Query entire Blazegraph database__\n",
    "\n",
    "Omit the \"modelId\" parameter to search the entire blazegraph database. "
   ]
  },
  {
   "cell_type": "code",
   "execution_count": null,
   "metadata": {},
   "outputs": [],
   "source": [
    "message = {\n",
    "    \"requestType\": \"QUERY_OBJECT_TYPES\",\n",
    "    \"resultFormat\": \"JSON\"\n",
    "}"
   ]
  },
  {
   "cell_type": "code",
   "execution_count": null,
   "metadata": {},
   "outputs": [],
   "source": [
    "gapps.get_response(topic, message)"
   ]
  },
  {
   "cell_type": "markdown",
   "metadata": {},
   "source": [
    "__2) Query for only a particular model__\n",
    "\n",
    "Specify the model MRID as a python string and pass it as a parameter to the method to return only the CIM classes of objects in that particular model. \n",
    "\n",
    "Be aware of spelling and capitalization differences between JSON query spelling `\"modelId\"` and Python Library spelling `model_id`."
   ]
  },
  {
   "cell_type": "code",
   "execution_count": null,
   "metadata": {},
   "outputs": [],
   "source": [
    "message = {\n",
    "    \"requestType\": \"QUERY_OBJECT_TYPES\",\n",
    "    \"modelId\": model_mrid,\n",
    "    \"resultFormat\": \"JSON\"\n",
    "}"
   ]
  },
  {
   "cell_type": "code",
   "execution_count": null,
   "metadata": {},
   "outputs": [],
   "source": [
    "gapps.get_response(topic, message)"
   ]
  },
  {
   "cell_type": "markdown",
   "metadata": {},
   "source": [
    "[Return to Top](#Table-of-Contents)"
   ]
  },
  {
   "cell_type": "markdown",
   "metadata": {},
   "source": [
    "## 4.2. Query for mRIDs of Objects in a Feeder\n",
    "\n",
    "This query is used to obtain all the mRIDs of objects of a particular CIM class in the feeder. \n",
    "\n",
    "Query responseType is\n",
    "\n",
    "* `\"requestType\": \"QUERY_OBJECT_IDS\"`\n",
    "\n",
    "Allowed parameters are:\n",
    "\n",
    "* `\"modelId\":` \"model name mRID\" -- When specified it searches against that model, if empty it will search against all models\n",
    "* `\"objectType\":` \"CIM Class\" -- Optional. Specifies the type of objects you wish to return details for.\n",
    "* `\"resultFormat\":` – \"XML\" / \"JSON\" / \"CSV\" -- Will return results as a list in the format selected. \n",
    "\n",
    "Within a particular feeder, it is possible to query for objects of all the CIM classes obtained using `\"requestType\": \"QUERY_OBJECT_TYPES\"` (discussed above in [Section 4.1](#4.1.-Query-for-CIM-Classes-of-Objects-in-Model)). Note that the RDF URI is not included in the query, only the name of the class, such as `\"objectType\": \"ACLineSegment\"` or `\"objectType\": \"LoadBreakSwitch\"`."
   ]
  },
  {
   "cell_type": "code",
   "execution_count": null,
   "metadata": {},
   "outputs": [],
   "source": [
    "message = {\n",
    "    \"requestType\": \"QUERY_OBJECT_IDS\",\n",
    "    \"resultFormat\": \"JSON\",\n",
    "    \"modelId\": model_mrid,\n",
    "    \"objectType\": \"LoadBreakSwitch\"\n",
    "} "
   ]
  },
  {
   "cell_type": "code",
   "execution_count": null,
   "metadata": {},
   "outputs": [],
   "source": [
    "response_obj = gapps.get_response(topic, message)"
   ]
  },
  {
   "cell_type": "code",
   "execution_count": null,
   "metadata": {},
   "outputs": [],
   "source": [
    "response_obj['data']"
   ]
  },
  {
   "cell_type": "code",
   "execution_count": null,
   "metadata": {},
   "outputs": [],
   "source": [
    "switch_mrids = response_obj['data']['objectIds']"
   ]
  },
  {
   "cell_type": "markdown",
   "metadata": {},
   "source": [
    "[Return to Top](#Table-of-Contents)"
   ]
  },
  {
   "cell_type": "markdown",
   "metadata": {},
   "source": [
    "## 4.3. Query for CIM Attributes of an Object\n",
    "\n",
    "This query is used to obtain all the attributes and mRIDs of those attributes for a particular object whose mRID is specified. \n",
    "\n",
    "Query responseType is\n",
    "\n",
    "* `\"requestType\": \"QUERY_OBJECT\"`\n",
    "\n",
    "Allowed parameters are:\n",
    "\n",
    "* `\"modelId\":` \"model name mRID\" -- When specified it searches against that model, if empty it will search against all models\n",
    "* `\"objectId\":` \"object mRID\" -- Optional. Specifies the type of objects you wish to return details for.\n",
    "* `\"resultFormat\":` – \"XML\" / \"JSON\" / \"CSV\" -- Will return results as a list in the format selected.\n",
    "\n",
    "Within a particular feeder, it is possible to query for objects of all the CIM classes obtained using `\"requestType\": \"QUERY_OBJECT_TYPES\"` (discussed above in [Section 4.1](#4.1.-Query-for-CIM-Classes-of-Objects-in-Model)). Note that the RDF URI is not included in the query, only the name of the class, such as `\"objectType\": \"ACLineSegment\"` or `\"objectType\": \"LoadBreakSwitch\"`."
   ]
  },
  {
   "cell_type": "code",
   "execution_count": null,
   "metadata": {},
   "outputs": [],
   "source": [
    "object_mrid = \"_2858B6C2-0886-4269-884C-06FA8B887319\"\n",
    "message = \"\"\"\n",
    "{\n",
    "        \"requestType\": \"QUERY_OBJECT\",\n",
    "        \"resultFormat\": \"JSON\",\n",
    "        \"modelId\": \"%s\",\n",
    "        \"objectId\": \"%s\"\n",
    "}\n",
    "\"\"\" % (model_mrid, object_mrid)"
   ]
  },
  {
   "cell_type": "code",
   "execution_count": null,
   "metadata": {},
   "outputs": [],
   "source": [
    "message = {\n",
    "        \"requestType\": \"QUERY_OBJECT\",\n",
    "        \"resultFormat\": \"JSON\",\n",
    "        \"objectId\": \"_4F76A5F9-271D-9EB8-5E31-AA362D86F2C3\"\n",
    "}"
   ]
  },
  {
   "cell_type": "code",
   "execution_count": null,
   "metadata": {},
   "outputs": [],
   "source": [
    "gapps.get_response(topic, message)"
   ]
  },
  {
   "cell_type": "markdown",
   "metadata": {},
   "source": [
    "[Return to Top](#Table-of-Contents)"
   ]
  },
  {
   "cell_type": "markdown",
   "metadata": {},
   "source": [
    "## 4.4. Query for Object Dictionary\n",
    "\n",
    "This query returns a python dictionary of all the equipment attributes and mRIDs. The query can be for 1) all objects of a particular `objectType` or 2) for those connected to a particular object based on the `objectId`. \n",
    "\n",
    "If neither `objectType` or `objectId` is provided, the query will provide all measurements belonging to the model.\n",
    "Query responseType is\n",
    "\n",
    "* `\"requestType\": \"QUERY_OBJECT_DICT\"`\n",
    "\n",
    "Allowed parameters are:\n",
    "\n",
    "* `\"modelId\":` \"model name mRID\" -- When specified it searches against that model, if empty it will search against all models\n",
    "\n",
    "* `\"objectId\":` \"object mRID\" -- Optional. Specifies the type of objects you wish to return details for.\n",
    "\n",
    "* `\"objectType\":` \"CIM Class\" -- Optional. Specifies the type of objects you wish to return details for.\n",
    "\n",
    "* `\"resultFormat\":` \"XML\" / \"JSON\" / \"CSV\" -- Will return results as a list in the format selected.\n",
    "\n",
    "Speciying the `objectID` will override any values specified for `objectType`."
   ]
  },
  {
   "cell_type": "markdown",
   "metadata": {},
   "source": [
    "__Example 1: Querying for model dictionary for an `\"objectID\":`__"
   ]
  },
  {
   "cell_type": "code",
   "execution_count": null,
   "metadata": {},
   "outputs": [],
   "source": [
    "message = {\n",
    "    \"modelId\": model_mrid,\n",
    "    \"requestType\": \"QUERY_OBJECT_DICT\",\n",
    "    \"resultFormat\": \"JSON\",\n",
    "    \"objectId\": switch_mrids[1]\n",
    "}\n",
    "\n",
    "gapps.get_response(topic, message)"
   ]
  },
  {
   "cell_type": "markdown",
   "metadata": {},
   "source": [
    "__Example 2: Querying for model dictionary for an `\"objectType\":`__"
   ]
  },
  {
   "cell_type": "code",
   "execution_count": null,
   "metadata": {},
   "outputs": [],
   "source": [
    "message = {\n",
    "    \"modelId\": model_mrid,\n",
    "    \"requestType\": \"QUERY_OBJECT_DICT\",\n",
    "    \"resultFormat\": \"JSON\",\n",
    "    \"objectType\": \"LoadBreakSwitch\"\n",
    "}\n",
    "\n",
    "gapps.get_response(topic, message)"
   ]
  },
  {
   "cell_type": "markdown",
   "metadata": {},
   "source": [
    "[Return to Top](#Table-of-Contents)"
   ]
  },
  {
   "cell_type": "markdown",
   "metadata": {},
   "source": [
    "---\n",
    "# 5. Querying for Object Measurements\n",
    "\n"
   ]
  },
  {
   "cell_type": "markdown",
   "metadata": {},
   "source": [
    "## 5.1. Object mRIDs vs Measurement mRIDs\n",
    "\n",
    "A key concept in GridAPPS-D and CIM XML power system models is the difference between the object mRID of a piece of equipment and multiple measurement mRIDs associated with its control settings and power flow values.\n",
    "\n",
    "Measurements differ from the state variables (e.g. those obtained from State Estimator or a power flow calculation) in that the values are measured here and not calculated or estimated. Each Measurement is associated to a _PowerSystemResource_, and in GridAPPS-D for now, also a Terminal that belongs to the same _PowerSystemResource_. (Non-electrical measurements, for example weather, would not have the Terminal). \n",
    "\n",
    "The _measurementType_ is a string code from IEC 61850, with the following currently suppported:\n",
    "\n",
    "* __PNV__ -- Phase to Neutral Voltage\n",
    "\n",
    "\n",
    "* __VA__  -- Volt-Amperes (apparent power)\n",
    "\n",
    "\n",
    "* __A__ -- Amperes (current)\n",
    "\n",
    "\n",
    "* __POS__ -- Position for switches and transformer taps\n",
    "\n",
    "Each measurement object has a __name__, __mRID__, and __phases__. In GridAPPS-D, each phase is measured individually so multi-phase codes like ABC should not be used. \n",
    "\n",
    "Pos measurements will be discrete, for such things as tap position, switch position, or capacitor bank position. \n",
    "\n",
    "The others will be Analog, with magnitude and optional angle in degrees. \n",
    "\n",
    "Each MeasurementValue will have a timeStamp and mRID inherited from IdentifiedObject, so the values can be traced.\n",
    "\n"
   ]
  },
  {
   "cell_type": "markdown",
   "metadata": {},
   "source": [
    "[Return to Top](#Table-of-Contents)"
   ]
  },
  {
   "cell_type": "markdown",
   "metadata": {},
   "source": [
    "## 5.2. Querying for Measurements\n",
    "\n",
    "This query returns details for the measurements within a model. The query can be for 1) all objects of a particular `objectType` or 2) for those connected to a particular object based on the `objectId`. \n",
    "\n",
    "If neither `objectType` or `objectId` is provided, the query will provide all measurements belonging to the model.\n",
    "Query responseType is\n",
    "\n",
    "* `\"requestType\": \"QUERY_OBJECT_MEASUREMENTS\"`\n",
    "\n",
    "Allowed parameters are:\n",
    "\n",
    "* `\"modelId\":` \"model name mRID\" -- When specified it searches against that model, if empty it will search against all models\n",
    "\n",
    "* `\"objectId\":` \"object mRID\" -- Optional. Specifies the type of objects you wish to return details for.\n",
    "\n",
    "* `\"objectType\":` \"CIM Class\" -- Optional. Specifies the type of objects you wish to return details for.\n",
    "\n",
    "* `\"resultFormat\":` \"XML\" / \"JSON\" / \"CSV\" -- Will return results as a list in the format selected.\n",
    "\n",
    "Speciying the `objectID` will override any values specified for `objectType`."
   ]
  },
  {
   "cell_type": "markdown",
   "metadata": {},
   "source": [
    "__Example 1: Querying for all measurements for an `\"objectID\":`__"
   ]
  },
  {
   "cell_type": "code",
   "execution_count": null,
   "metadata": {},
   "outputs": [],
   "source": [
    "message = {\n",
    "    \"modelId\": model_mrid,\n",
    "    \"requestType\": \"QUERY_OBJECT_MEASUREMENTS\",\n",
    "    \"resultFormat\": \"JSON\",\n",
    "    \"objectId\": switch_mrids[1]\n",
    "}\n",
    "\n",
    "gapps.get_response(topic, message)"
   ]
  },
  {
   "cell_type": "code",
   "execution_count": null,
   "metadata": {},
   "outputs": [],
   "source": [
    "switch_mrids[1]"
   ]
  },
  {
   "cell_type": "markdown",
   "metadata": {},
   "source": [
    "__Example 2: Querying for all measurements for an `\"objectType\":`__"
   ]
  },
  {
   "cell_type": "code",
   "execution_count": null,
   "metadata": {},
   "outputs": [],
   "source": [
    "message = {\n",
    "    \"modelId\": model_mrid,\n",
    "    \"requestType\": \"QUERY_OBJECT_MEASUREMENTS\",\n",
    "    \"resultFormat\": \"JSON\",\n",
    "    \"objectType\": \"ACLineSegment\"\n",
    "}\n",
    "\n",
    "gapps.get_response(topic, message)"
   ]
  },
  {
   "cell_type": "markdown",
   "metadata": {},
   "source": [
    "[Return to Top](#Table-of-Contents)"
   ]
  },
  {
   "cell_type": "markdown",
   "metadata": {},
   "source": [
    "## 5.3. Filtering Returned Data\n",
    "\n",
    "After receiving the python dictionary of measurements, it will be necessary to parse it to inlcude just the desired set of measurements. This is done using the method presented in [Lesson 1.5, Section 3](Lesson%201.5.%20GridAPPS-D%20Messages.ipynb#3.-Parsing-Returned-Data)"
   ]
  },
  {
   "cell_type": "code",
   "execution_count": null,
   "metadata": {},
   "outputs": [],
   "source": [
    "obj_msr_ACline = gapps.get_response(topic, message, timeout=10)\n",
    "\n",
    "# Filter to just values for 'data' key\n",
    "obj_msr_ACline = obj_msr_ACline['data'] \n",
    "\n",
    "# Chose specific measurement mrid. Screen out those whose type is not PNV. For example,\n",
    "obj_msr_ACline = [k for k in obj_msr_ACline if k['type'] == 'Pos']\n",
    "\n",
    "obj_msr_ACline"
   ]
  },
  {
   "cell_type": "markdown",
   "metadata": {},
   "source": [
    "[Return to Top](#Table-of-Contents)"
   ]
  },
  {
   "cell_type": "markdown",
   "metadata": {},
   "source": [
    "---\n",
    "# 6. GridAPPSD-Python Shortcut Methods\n",
    "\n",
    "A small number of simple PowerGrid Model API queries have pre-built Python functions that can be used without specifying the topic and a particular message.\n"
   ]
  },
  {
   "cell_type": "markdown",
   "metadata": {},
   "source": [
    "## 6.1. Querying for mRIDs of all Models\n",
    "\n",
    "The `.query_model_names` method is associated with the GridAPPSD connection object and returns a list of all the CIM XML classes of objects present in the Blazegraph for a particular model or all models in the database.\n",
    "\n",
    "\n",
    "This method will return identical results to the python dictionary message explained above in [Section 3.1](#3.1.-Query-for-mRIDs-of-all-Models)"
   ]
  },
  {
   "cell_type": "code",
   "execution_count": null,
   "metadata": {},
   "outputs": [],
   "source": [
    "gapps.query_model_names()"
   ]
  },
  {
   "cell_type": "markdown",
   "metadata": {},
   "source": [
    "[Return to Top](#Table-of-Contents)"
   ]
  },
  {
   "cell_type": "markdown",
   "metadata": {},
   "source": [
    "## 6.2. Query for CIM Classes of Objects in Model\n",
    "\n",
    "The `.query_object_types` method is associated with the GridAPPSD connection object and returns a list of all the CIM XML classes of objects present in the Blazegraph for a particular model or all models in the database.\n",
    "\n",
    "This method will return identical results to the python dictionary message explained above in [Section 4.1](#4.1.-Query-for-CIM-Classes-of-Objects-in-Model)\n",
    "\n",
    "Allowed parameters are\n",
    "\n",
    "* model_id (optional) - when specified, it searches only the particular model identified by the given unique mRID"
   ]
  },
  {
   "cell_type": "markdown",
   "metadata": {},
   "source": [
    "__1) Query entire Blazegraph database__\n",
    "\n",
    "Leave the arguments blank to search all models in the Blazegraph database"
   ]
  },
  {
   "cell_type": "code",
   "execution_count": null,
   "metadata": {},
   "outputs": [],
   "source": [
    "gapps.query_object_types()"
   ]
  },
  {
   "cell_type": "markdown",
   "metadata": {},
   "source": [
    "__2) Query for only a particular model__\n",
    "\n",
    "Specify the model MRID as a python string and pass it as a parameter to the method to return only the CIM classes of objects in that particular model"
   ]
  },
  {
   "cell_type": "code",
   "execution_count": null,
   "metadata": {},
   "outputs": [],
   "source": [
    "model_mrid = \"_49AD8E07-3BF9-A4E2-CB8F-C3722F837B62\" # IEEE 13 Node used for all example queries\n",
    "gapps.query_object_types(model_mrid)"
   ]
  },
  {
   "cell_type": "markdown",
   "metadata": {},
   "source": [
    "[Return to Top](#Table-of-Contents)"
   ]
  },
  {
   "cell_type": "markdown",
   "metadata": {},
   "source": [
    "## 6.3. Query for CIM Attributes of an Object\n",
    "\n",
    "The `.query_object` method is associated with the GridAPPSD connection object and returns a list of all the CIM XML classes of objects present in the Blazegraph for a particular model or all models in the database.\n",
    "\n",
    "This method will return identical results to the python dictionary message explained above in [Section 4.3](#4.3.-Query-for-CIM-Attributes-of-an-Object)"
   ]
  },
  {
   "cell_type": "code",
   "execution_count": null,
   "metadata": {},
   "outputs": [],
   "source": [
    "model_mrid = \"_49AD8E07-3BF9-A4E2-CB8F-C3722F837B62\" # IEEE 13 Node used for all example queries\n",
    "object_mrid = \"_2858B6C2-0886-4269-884C-06FA8B887319\"\n",
    "\n",
    "gapps.query_object(model_mrid, object_mrid)"
   ]
  }
 ],
 "metadata": {
  "kernelspec": {
   "display_name": "Python 3",
   "language": "python",
   "name": "python3"
  },
  "language_info": {
   "codemirror_mode": {
    "name": "ipython",
    "version": 3
   },
   "file_extension": ".py",
   "mimetype": "text/x-python",
   "name": "python",
   "nbconvert_exporter": "python",
   "pygments_lexer": "ipython3",
   "version": "3.8.3"
  }
 },
 "nbformat": 4,
 "nbformat_minor": 4
}
