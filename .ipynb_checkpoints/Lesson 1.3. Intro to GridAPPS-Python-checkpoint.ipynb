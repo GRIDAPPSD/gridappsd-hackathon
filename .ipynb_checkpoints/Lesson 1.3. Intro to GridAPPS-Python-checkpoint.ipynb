{
 "cells": [
  {
   "cell_type": "markdown",
   "metadata": {},
   "source": [
    "# Lesson 3:\n",
    "\n",
    "# Introduction to GridAPPS-D Python"
   ]
  },
  {
   "cell_type": "markdown",
   "metadata": {},
   "source": [
    "This tutorial provides a first look at the GridAPPS-D Python Library\n",
    "\n",
    "__Learning Objectives:__\n",
    "\n",
    "At the end of the tutorial, the user should be able to\n",
    "\n",
    "* Explain how API calls can be wrapped in a generic programming language\n",
    "* Import required Python libraries and modules\n",
    "* Import GridAPPS-D utilities and describe how they are used\n",
    "* Establish a connection to the GridAPPS-D platform\n",
    "* Pass a simple API call and print the response received"
   ]
  },
  {
   "cell_type": "markdown",
   "metadata": {},
   "source": [
    "------\n",
    "## What is GridAPPSD-Python?\n",
    "\n",
    "GridAPPSD-Python is a Python library that can wrap API calls and pass them to the various GridAPPS-D APIs through the GOSS Message Bus\n",
    "\n",
    "The library has numerous shortcuts to help you develop applications faster and interface them with other applications, services, and GridAPPS-D compatible software packages.\n",
    "\n",
    "\n"
   ]
  },
  {
   "cell_type": "markdown",
   "metadata": {},
   "source": [
    "--------\n",
    "## Import Required Python Libraries\n",
    "\n",
    "The first step is to import the required libraries for your sample application:\n",
    "\n",
    "* _argparse_ -- This is the recommended command-line parsing module in Python.([Online Documentation](https://docs.python.org/3/howto/argparse.html))\n",
    "\n",
    "* _json_ -- Encoder and decoder for JavaScript Object Notation (JSON). ([Online Documentation](https://docs.python.org/3/library/json.html))\n",
    "\n",
    "* _logging_ -- This module defines classes and functions for event logging. ([Online Documentation](https://docs.python.org/3/library/logging.html)\n",
    "\n",
    "* _sys_ -- Python module for system specific parameters. ([Online Documentation](https://docs.python.org/3/library/sys.html))\n",
    "\n",
    "* _time_ -- Time access and conversions. ([Online Documentation](https://docs.python.org/3/library/time.html))\n",
    "\n",
    "* _pytz_ -- Library to enable resolution of cross-platform time zones and ambiguous times. ([Online Documentation](https://pypi.org/project/pytz/)\n",
    "\n",
    "* _stomp_ -- Python client for accessing messaging servers using the Simple Text Oriented Messaging Protocol (STOMP). ([Online Documentation](https://pypi.org/project/stomp.py/))\n",
    "\n",
    "\n",
    "\n"
   ]
  },
  {
   "cell_type": "code",
   "execution_count": 1,
   "metadata": {},
   "outputs": [],
   "source": [
    "import argparse\n",
    "import json\n",
    "import logging\n",
    "import sys\n",
    "import time\n",
    "import pytz\n",
    "import stomp"
   ]
  },
  {
   "cell_type": "markdown",
   "metadata": {},
   "source": [
    "-----------\n",
    "## Import Required GridAPPS-D Libraries\n",
    "\n",
    "The GridAPPS-Python API contains several libraries, which are used to query for information, subscribe to measurements, and publish commands to the GOSS message bus. These inlcude\n",
    "\n",
    "___GridAPPSD___ -- does something\n",
    "\n"
   ]
  },
  {
   "cell_type": "markdown",
   "metadata": {},
   "source": [
    "___utils___ -- A set of utilities to assist with common commands, inlcuding\n",
    "\n",
    " \n",
    "\n",
    "<p style='text-align: left;'> Function Call | <p style='text-align: left;'> Usage\n",
    "--------------|-----------\n",
    "<p style='text-align: left;'> _utils.validate_gridappsd_uri()_ | <p style='text-align: left;'> Checks if GridAPPS-D is hosted on the correct port\n",
    "<p style='text-align: left;' > _utils.get_gridappsd_address()_ | <p style='text-align: left;'> Returns the platform address such that response can be passed directly to a socket or the STOMP library\n",
    "<p style='text-align: left;'> _utils.get_gridappsd_user()_ | <p style='text-align: left;'> Returns the login username \n",
    "<p style='text-align: left;'> _utils.get_gridappsd_pass()_ | <p style='text-align: left;'> Returns the login password\n",
    "<p style='text-align: left;'> _utils.get_gridappsd_application_id()_ | <p style='text-align: left;'> Only applicable if the environment variable 'GRIDAPPSD_APPLICATION_ID' has been set\n",
    "<p style='text-align: left;'> utils.get_gridappsd_simulation_id()_ | <p style='text-align: left;'> retrieves the simulation id from the environment.\n",
    "\n"
   ]
  },
  {
   "cell_type": "code",
   "execution_count": 2,
   "metadata": {},
   "outputs": [],
   "source": [
    "from gridappsd import GridAPPSD, utils"
   ]
  },
  {
   "cell_type": "markdown",
   "metadata": {},
   "source": [
    "-------\n",
    "\n",
    "## Establish a Connection to GridAPPS-D Platform\n",
    "\n",
    "The next step is to establish a connection with the GridAPPS-D platform so that API calls can be passed and processed. \n",
    "\n",
    "This can be done by 1) manually specifying the connection and port or 2) using the GridAPPS-D utils to automatically determine the port"
   ]
  },
  {
   "cell_type": "markdown",
   "metadata": {},
   "source": [
    "### Start Docker containers\n",
    "\n",
    "[blah blah blah]"
   ]
  },
  {
   "cell_type": "markdown",
   "metadata": {},
   "source": [
    "### Option 1: Manually specify connection parameters\n",
    "\n",
    "By default, the GridAPPS-D API communicates with the platform on port 61613. "
   ]
  },
  {
   "cell_type": "code",
   "execution_count": 3,
   "metadata": {},
   "outputs": [],
   "source": [
    "gridappsd_conn = GridAPPSD(\"('localhost', 61613)\", username='system', password='manager')"
   ]
  },
  {
   "cell_type": "markdown",
   "metadata": {},
   "source": [
    "### Option 2: Use GridAPPS-D utils to determine connection\n",
    "\n",
    "The GridAPPS-D utils include several functions to automatically determine the location of the platform and security credentials for passing API commands"
   ]
  },
  {
   "cell_type": "code",
   "execution_count": null,
   "metadata": {},
   "outputs": [],
   "source": [
    "gridappsd_conn = GridAPPSD(address=utils.get_gridappsd_address(),\n",
    "          username=utils.get_gridappsd_user(), password=utils.get_gridappsd_pass())"
   ]
  },
  {
   "cell_type": "markdown",
   "metadata": {},
   "source": [
    "-----\n",
    "## Pass a Simple API Call\n",
    "\n",
    "\n",
    "\n",
    "There are three generic API call routines:\n",
    "\n",
    "* _send(self, topic, message)_ -- \n",
    "* _get_response(self, topic, message)_ -- \n",
    "* _subscribe(self, topic, callback)_ -- \n",
    "\n",
    "For this example, we will use a very short query to request the MRIDs of the models available in the GridAPPS-D Platform. We will explain how to make various kinds of queries in the upcoming lessons on how to use each API."
   ]
  },
  {
   "cell_type": "markdown",
   "metadata": {},
   "source": [
    "The first step is to define the topic, which specifies the channel on which to communicate with the API. The specific topic definitions and their purposes will be discussed in greater detail in the lessons on each GridAPPS-D API."
   ]
  },
  {
   "cell_type": "code",
   "execution_count": 4,
   "metadata": {},
   "outputs": [],
   "source": [
    "topic = \"goss.gridappsd.process.request.data.powergridmodel\""
   ]
  },
  {
   "cell_type": "markdown",
   "metadata": {},
   "source": [
    "Next, we need to create the message the will be passed. The message must be a valid JSON format, concatenated into a string. We can do this two ways."
   ]
  },
  {
   "cell_type": "markdown",
   "metadata": {},
   "source": [
    "If it is a short query, we can write it as a single line with concatenating quotes (`'query text'`)."
   ]
  },
  {
   "cell_type": "code",
   "execution_count": 5,
   "metadata": {},
   "outputs": [],
   "source": [
    "message = '{\"requestType\": \"QUERY_MODEL_NAMES\", \"resultFormat\": \"JSON\"}'"
   ]
  },
  {
   "cell_type": "markdown",
   "metadata": {},
   "source": [
    "If it is a long query, we use three quotes at the beginning and end of the JSON query text to concatenate it into a string that can be passed to the API, like this:\n",
    "\n",
    "`message = \"\"\"\n",
    "{\n",
    "QUERY TEXT LINE 1\n",
    "QUERY TEXT LINE 2\n",
    "...\n",
    "QUERY TEXT LINE N\n",
    "}\"\"\"`\n"
   ]
  },
  {
   "cell_type": "code",
   "execution_count": null,
   "metadata": {},
   "outputs": [],
   "source": [
    "message = \"\"\"\n",
    "{\n",
    "\"requestType\": \"QUERY_MODEL_NAMES\",\n",
    "\"resultFormat\": \"JSON\"\n",
    "}\"\"\""
   ]
  },
  {
   "cell_type": "markdown",
   "metadata": {},
   "source": [
    "The GridAPPSD-Python Library then wraps that string and passes it as a message to the API through the GOSS Message Bus."
   ]
  },
  {
   "cell_type": "code",
   "execution_count": 6,
   "metadata": {},
   "outputs": [
    {
     "data": {
      "text/plain": [
       "{'data': {'modelNames': ['_49AD8E07-3BF9-A4E2-CB8F-C3722F837B62',\n",
       "   '_4F76A5F9-271D-9EB8-5E31-AA362D86F2C3',\n",
       "   '_503D6E20-F499-4CC7-8051-971E23D0BF79',\n",
       "   '_5B816B93-7A5F-B64C-8460-47C17D6E4B0F',\n",
       "   '_67AB291F-DCCD-31B7-B499-338206B9828F',\n",
       "   '_77966920-E1EC-EE8A-23EE-4EFD23B205BD',\n",
       "   '_9CE150A8-8CC5-A0F9-B67E-BBD8C79D3095',\n",
       "   '_AAE94E4A-2465-6F5E-37B1-3E72183A4E44',\n",
       "   '_C1C3E687-6FFD-C753-582B-632A27E28507',\n",
       "   '_E407CBB6-8C8D-9BC9-589C-AB83FBF0826D']},\n",
       " 'responseComplete': True,\n",
       " 'id': '1345020170'}"
      ]
     },
     "execution_count": 6,
     "metadata": {},
     "output_type": "execute_result"
    }
   ],
   "source": [
    "gridappsd_conn.get_response(topic, message)"
   ]
  },
  {
   "cell_type": "markdown",
   "metadata": {},
   "source": [
    "----\n",
    "## Conclusion\n",
    "\n",
    "Congratulations! You have passed your first API call using the GridAPPSD-Python Library.\n",
    "\n",
    "You should now be able to establish a connection with the GridAPPS-D Platform and pass API calls."
   ]
  }
 ],
 "metadata": {
  "kernelspec": {
   "display_name": "Python 3",
   "language": "python",
   "name": "python3"
  },
  "language_info": {
   "codemirror_mode": {
    "name": "ipython",
    "version": 3
   },
   "file_extension": ".py",
   "mimetype": "text/x-python",
   "name": "python",
   "nbconvert_exporter": "python",
   "pygments_lexer": "ipython3",
   "version": "3.8.3"
  }
 },
 "nbformat": 4,
 "nbformat_minor": 4
}
