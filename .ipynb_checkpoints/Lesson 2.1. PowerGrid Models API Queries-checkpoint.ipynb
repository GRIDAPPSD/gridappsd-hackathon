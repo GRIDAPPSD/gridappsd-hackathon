{
 "cells": [
  {
   "cell_type": "markdown",
   "metadata": {},
   "source": [
    "# Lesson 2.1:\n",
    "# PowerGrid Models API\n",
    "\n",
    "This tutorial introduces the PowerGrid Models API and how it can be used to query model data.\n",
    "\n",
    "__Learning Objectives:__\n",
    "\n",
    "At the end of the tutorial, the user should be able to\n",
    "\n",
    "* \n",
    "* \n",
    "* \n",
    "\n",
    "## Getting Started\n",
    "\n",
    "Before running any of the sample routines in this tutorial, it is first necessary to establish a connection to the GridAPPS-D Platform so that we can start passing calls to the API:"
   ]
  },
  {
   "cell_type": "code",
   "execution_count": 1,
   "metadata": {},
   "outputs": [],
   "source": [
    "# Establish connection to GridAPPS-D Platform:\n",
    "from gridappsd import GridAPPSD\n",
    "gridappsd_conn = GridAPPSD(\"('localhost', 61613)\", username='system', password='manager')"
   ]
  },
  {
   "cell_type": "markdown",
   "metadata": {},
   "source": [
    "---\n",
    "## Specifying the Topic\n",
    "\n",
    "All queries passed to the PowerGrid Models API need to use the correct topic. There are two ways to specify the topic:"
   ]
  },
  {
   "cell_type": "markdown",
   "metadata": {},
   "source": [
    "__1) Specifying the topic as a string:__"
   ]
  },
  {
   "cell_type": "code",
   "execution_count": 3,
   "metadata": {},
   "outputs": [],
   "source": [
    "topic = \"goss.gridappsd.process.request.data.powergridmodel\""
   ]
  },
  {
   "cell_type": "markdown",
   "metadata": {},
   "source": [
    "__2) Using the `topics` library to specify the topic:__"
   ]
  },
  {
   "cell_type": "code",
   "execution_count": 4,
   "metadata": {},
   "outputs": [],
   "source": [
    "from gridappsd import topics as t\n",
    "topic = t.REQUEST_POWERGRID_DATA"
   ]
  },
  {
   "cell_type": "markdown",
   "metadata": {},
   "source": [
    "---\n",
    "## Query for All Model Info\n",
    "\n",
    "This query returns a list of names and MRIDs for all models, substations, subregions, and regions for all available feeders.\n",
    "\n"
   ]
  },
  {
   "cell_type": "code",
   "execution_count": 5,
   "metadata": {},
   "outputs": [
    {
     "data": {
      "text/plain": [
       "{'data': {'models': [{'modelName': 'acep_psil',\n",
       "    'modelId': '_77966920-E1EC-EE8A-23EE-4EFD23B205BD',\n",
       "    'stationName': 'UAF',\n",
       "    'stationId': '_22B12048-23DF-007B-9291-826A16DBCB21',\n",
       "    'subRegionName': 'Fairbanks',\n",
       "    'subRegionId': '_2F8FC9BF-FF32-A197-D541-0A2529D04DF7',\n",
       "    'regionName': 'Alaska',\n",
       "    'regionId': '_96465E7A-6EC3-ECCA-BC27-31B53F05C96E'},\n",
       "   {'modelName': 'ieee123',\n",
       "    'modelId': '_C1C3E687-6FFD-C753-582B-632A27E28507',\n",
       "    'stationName': 'IEEE123',\n",
       "    'stationId': '_FE44B314-385E-C2BF-3983-3A10C6060022',\n",
       "    'subRegionName': 'Medium',\n",
       "    'subRegionId': '_1CD7D2EE-3C91-3248-5662-A43EFEFAC224',\n",
       "    'regionName': 'IEEE',\n",
       "    'regionId': '_73C512BD-7249-4F50-50DA-D93849B89C43'},\n",
       "   {'modelName': 'ieee123pv',\n",
       "    'modelId': '_E407CBB6-8C8D-9BC9-589C-AB83FBF0826D',\n",
       "    'stationName': 'IEEE123',\n",
       "    'stationId': '_FE44B314-385E-C2BF-3983-3A10C6060022',\n",
       "    'subRegionName': 'Medium',\n",
       "    'subRegionId': '_1CD7D2EE-3C91-3248-5662-A43EFEFAC224',\n",
       "    'regionName': 'IEEE',\n",
       "    'regionId': '_73C512BD-7249-4F50-50DA-D93849B89C43'},\n",
       "   {'modelName': 'ieee123transactive',\n",
       "    'modelId': '_503D6E20-F499-4CC7-8051-971E23D0BF79',\n",
       "    'stationName': 'PNNL',\n",
       "    'stationId': '_A4C079AE-FE2B-4D11-969E-1268AFC562E9',\n",
       "    'subRegionName': 'Medium',\n",
       "    'subRegionId': '_2BBFD370-B30F-4EC5-B7AE-6873921C8C7C',\n",
       "    'regionName': 'IEEE',\n",
       "    'regionId': '_24BA911D-65D5-4769-9A30-4178B2DFA203'},\n",
       "   {'modelName': 'ieee13nodeckt',\n",
       "    'modelId': '_49AD8E07-3BF9-A4E2-CB8F-C3722F837B62',\n",
       "    'stationName': 'IEEE13',\n",
       "    'stationId': '_6C62C905-6FC7-653D-9F1E-1340F974A587',\n",
       "    'subRegionName': 'Small',\n",
       "    'subRegionId': '_ABEB635F-729D-24BF-B8A4-E2EF268D8B9E',\n",
       "    'regionName': 'IEEE',\n",
       "    'regionId': '_73C512BD-7249-4F50-50DA-D93849B89C43'},\n",
       "   {'modelName': 'ieee13nodecktassets',\n",
       "    'modelId': '_5B816B93-7A5F-B64C-8460-47C17D6E4B0F',\n",
       "    'stationName': 'IEEE13',\n",
       "    'stationId': '_6C62C905-6FC7-653D-9F1E-1340F974A587',\n",
       "    'subRegionName': 'Small',\n",
       "    'subRegionId': '_ABEB635F-729D-24BF-B8A4-E2EF268D8B9E',\n",
       "    'regionName': 'IEEE',\n",
       "    'regionId': '_73C512BD-7249-4F50-50DA-D93849B89C43'},\n",
       "   {'modelName': 'ieee8500',\n",
       "    'modelId': '_4F76A5F9-271D-9EB8-5E31-AA362D86F2C3',\n",
       "    'stationName': 'IEEE8500',\n",
       "    'stationId': '_F1E8E479-5FA0-4BFF-8173-B375D25B0AA2',\n",
       "    'subRegionName': 'Large',\n",
       "    'subRegionId': '_A1170111-942A-6ABD-D325-C64886DC4D7D',\n",
       "    'regionName': 'IEEE',\n",
       "    'regionId': '_73C512BD-7249-4F50-50DA-D93849B89C43'},\n",
       "   {'modelName': 'j1',\n",
       "    'modelId': '_67AB291F-DCCD-31B7-B499-338206B9828F',\n",
       "    'stationName': 'J1',\n",
       "    'stationId': '_A3C31EE7-4EE6-A167-87C7-915B1C6E97F0',\n",
       "    'subRegionName': 'DPV',\n",
       "    'subRegionId': '_096FDFB8-2692-D811-F483-553D578399F2',\n",
       "    'regionName': 'EPRI',\n",
       "    'regionId': '_9A1E61E4-5CF1-982B-C7EF-0918D26645C7'},\n",
       "   {'modelName': 'sourceckt',\n",
       "    'modelId': '_9CE150A8-8CC5-A0F9-B67E-BBD8C79D3095',\n",
       "    'stationName': 'sourceckt_Substation',\n",
       "    'stationId': '_933D85C1-BE1C-4C05-D4DD-4B41D941C52C',\n",
       "    'subRegionName': 'Taxonomy',\n",
       "    'subRegionId': '_656EE259-23FF-086E-1DC0-39CB9DC60A20',\n",
       "    'regionName': 'PNNL',\n",
       "    'regionId': '_79C9D814-3CE0-DC11-534D-BDA1AF949810'},\n",
       "   {'modelName': 'test9500new',\n",
       "    'modelId': '_AAE94E4A-2465-6F5E-37B1-3E72183A4E44',\n",
       "    'stationName': 'ThreeSubs',\n",
       "    'stationId': '_40485321-9B2C-1B8C-EC33-39D2F7948163',\n",
       "    'subRegionName': 'Large',\n",
       "    'subRegionId': '_A1170111-942A-6ABD-D325-C64886DC4D7D',\n",
       "    'regionName': 'IEEE',\n",
       "    'regionId': '_73C512BD-7249-4F50-50DA-D93849B89C43'}]},\n",
       " 'responseComplete': True,\n",
       " 'id': '1200515270'}"
      ]
     },
     "execution_count": 5,
     "metadata": {},
     "output_type": "execute_result"
    }
   ],
   "source": [
    "message = '{\"requestType\": \"QUERY_MODEL_INFO\",\"resultFormat\": \"JSON\"}'\n",
    "gridappsd_conn.get_response(topic, message)"
   ]
  },
  {
   "cell_type": "markdown",
   "metadata": {},
   "source": [
    "---\n",
    "## Querying for Model Name MRIDs\n",
    "\n",
    "When passing commands through the API, it is often necessary to specify the MRID of the particular power system network model.\n",
    "\n",
    "The PowerGrid Models API containes a (routine/query/call??) to obtain a list of all the model MRIDs stored in the Blazegrpah database. \n",
    "\n",
    "There are two ways to phrase this query. Both will return identical results."
   ]
  },
  {
   "cell_type": "markdown",
   "metadata": {},
   "source": [
    "__1) Using the in-built API call in the GridAPPSD-Python Library:__"
   ]
  },
  {
   "cell_type": "code",
   "execution_count": 5,
   "metadata": {},
   "outputs": [
    {
     "ename": "NameError",
     "evalue": "name 'query_model_names' is not defined",
     "output_type": "error",
     "traceback": [
      "\u001b[1;31m---------------------------------------------------------------------------\u001b[0m",
      "\u001b[1;31mNameError\u001b[0m                                 Traceback (most recent call last)",
      "\u001b[1;32m<ipython-input-5-6a261eae9ccf>\u001b[0m in \u001b[0;36m<module>\u001b[1;34m\u001b[0m\n\u001b[1;32m----> 1\u001b[1;33m \u001b[0mquery_model_names\u001b[0m\u001b[1;33m(\u001b[0m\u001b[1;33m)\u001b[0m\u001b[1;33m\u001b[0m\u001b[1;33m\u001b[0m\u001b[0m\n\u001b[0m",
      "\u001b[1;31mNameError\u001b[0m: name 'query_model_names' is not defined"
     ]
    }
   ],
   "source": [
    "gridappsd_conn.query_model_names()"
   ]
  },
  {
   "cell_type": "markdown",
   "metadata": {},
   "source": [
    "__2) Using a JSON message string:__"
   ]
  },
  {
   "cell_type": "code",
   "execution_count": 3,
   "metadata": {},
   "outputs": [
    {
     "data": {
      "text/plain": [
       "{'data': {'modelNames': ['_49AD8E07-3BF9-A4E2-CB8F-C3722F837B62',\n",
       "   '_4F76A5F9-271D-9EB8-5E31-AA362D86F2C3',\n",
       "   '_503D6E20-F499-4CC7-8051-971E23D0BF79',\n",
       "   '_5B816B93-7A5F-B64C-8460-47C17D6E4B0F',\n",
       "   '_67AB291F-DCCD-31B7-B499-338206B9828F',\n",
       "   '_77966920-E1EC-EE8A-23EE-4EFD23B205BD',\n",
       "   '_9CE150A8-8CC5-A0F9-B67E-BBD8C79D3095',\n",
       "   '_AAE94E4A-2465-6F5E-37B1-3E72183A4E44',\n",
       "   '_C1C3E687-6FFD-C753-582B-632A27E28507',\n",
       "   '_E407CBB6-8C8D-9BC9-589C-AB83FBF0826D']},\n",
       " 'responseComplete': True,\n",
       " 'id': '1924828117'}"
      ]
     },
     "execution_count": 3,
     "metadata": {},
     "output_type": "execute_result"
    }
   ],
   "source": [
    "message = '{\"requestType\": \"QUERY_MODEL_NAMES\", \"resultFormat\": \"JSON\"}'\n",
    "gridappsd_conn.get_response(topic, message)"
   ]
  },
  {
   "cell_type": "code",
   "execution_count": null,
   "metadata": {},
   "outputs": [],
   "source": []
  }
 ],
 "metadata": {
  "kernelspec": {
   "display_name": "Python 3",
   "language": "python",
   "name": "python3"
  },
  "language_info": {
   "codemirror_mode": {
    "name": "ipython",
    "version": 3
   },
   "file_extension": ".py",
   "mimetype": "text/x-python",
   "name": "python",
   "nbconvert_exporter": "python",
   "pygments_lexer": "ipython3",
   "version": "3.8.3"
  }
 },
 "nbformat": 4,
 "nbformat_minor": 4
}
