{
 "cells": [
  {
   "cell_type": "markdown",
   "metadata": {},
   "source": [
    "# Lesson 2.5:\n",
    "# Configuration File API\n",
    "\n",
    "This tutorial introduces the Simulation API and how it can be used to run power system simulations, subscribe to measurement data, and publish equipment control commands.\n",
    "\n",
    "__Learning Objectives:__\n",
    "\n",
    "At the end of the tutorial, the user should be able to use the Simulation API to\n",
    "\n",
    "* \n",
    "* \n",
    "* \n",
    "\n",
    "## Getting Started\n",
    "\n",
    "Before running any of the sample routines in this tutorial, it is first necessary to start the GridAPPS-D Platform and establish a connection to this notebook so that we can start passing calls to the API."
   ]
  },
  {
   "cell_type": "markdown",
   "metadata": {},
   "source": [
    "_Open the Ubuntu terminal and start the GridAPPS-D Platform if it is not running already:_\n",
    "\n",
    "`cd gridappsd-docker`\n",
    "\n",
    "~/gridappsd-docker$ `./run.sh -t develop`\n",
    "\n",
    "_Once containers are running,_\n",
    "\n",
    "gridappsd@[container]:/gridappsd$ `./run-gridappsd.sh`"
   ]
  },
  {
   "cell_type": "code",
   "execution_count": 1,
   "metadata": {},
   "outputs": [],
   "source": [
    "# Establish connection to GridAPPS-D Platform:\n",
    "from gridappsd import GridAPPSD\n",
    "gapps = GridAPPSD(\"('localhost', 61613)\", username='system', password='manager')\n",
    "model_mrid = \"_49AD8E07-3BF9-A4E2-CB8F-C3722F837B62\" # IEEE 13 Node used for all example queries"
   ]
  },
  {
   "cell_type": "markdown",
   "metadata": {},
   "source": [
    "---\n",
    "# Table of Contents\n",
    "\n",
    "* [1. Introduction to the Configuration File API](#1.-Introduction-to-the-Configuration-File-API)\n",
    "* [2. Using the Configuration File API](#2.-Using-the-Configuration-File-API)\n",
    "    * [2.1. Specifying the Topic](#2.1.-Specifying-the-Topic)\n",
    "    * [2.2. Structure of a Query Message](#2.2.-Structure-of-a-Query-Message)\n",
    "    * [2.3. Specifying the requestType](#2.3.-Specifying-the-requestType)\n",
    "* [3. Querying for Feeder Model Info](#3.-Querying-for-Feeder-Model-Info)\n",
    "    * [3.1. Query for mRIDs of all Models](#3.1.-Query-for-mRIDs-of-all-Models)\n",
    "    * [3.2. Query for Details Dictionary of all Models](#3.2.-Query-for-Details-Dictionary-of-all-Models)\n",
    "* [4. Querying for Object Info](#4.-Querying-for-Object-Info)\n",
    "    * [4.1. Query for CIM Classes of Objects in Model](#4.1.-Query-for-CIM-Classes-of-Objects-in-Model)"
   ]
  },
  {
   "cell_type": "markdown",
   "metadata": {},
   "source": [
    "---\n",
    "# 1. Introduction to the Simulation API\n",
    "\n",
    "\n",
    "The Simulation API is used for all actions related to a power system simulation. It is used to start, pause, restart, and stop a simulation from the command line or inside an application. It is all used to subscribe to measurements of equipment (such as line flows, loads, and DG setpoints) and the statuses of switches, capacitors, transformer taps, etc. It is also used to publish equipment control and other simulation input commands."
   ]
  },
  {
   "cell_type": "markdown",
   "metadata": {},
   "source": [
    "---\n",
    "# 2. Using the Simulation API"
   ]
  },
  {
   "cell_type": "markdown",
   "metadata": {},
   "source": [
    "## 2.1. Specifying the Topic\n",
    "\n",
    "All queries passed to the Simulation API need to use the correct topic.For a review of GridAPPS-D topics, see Lesson 1.4 There are two ways to specify the topic. Both produce identical results."
   ]
  },
  {
   "cell_type": "markdown",
   "metadata": {},
   "source": [
    "__1) Specifying the topic as a string:__"
   ]
  },
  {
   "cell_type": "code",
   "execution_count": 2,
   "metadata": {},
   "outputs": [],
   "source": [
    "topic = \"goss.gridappsd.process.request.config\""
   ]
  },
  {
   "cell_type": "markdown",
   "metadata": {},
   "source": [
    "__2) Using the topics library to specify the topic:__"
   ]
  },
  {
   "cell_type": "code",
   "execution_count": 2,
   "metadata": {},
   "outputs": [],
   "source": [
    "from gridappsd import topics as t\n",
    "topic = t.CONFIG"
   ]
  },
  {
   "cell_type": "markdown",
   "metadata": {},
   "source": [
    "[Return to Top](#Table-of-Contents)"
   ]
  },
  {
   "cell_type": "markdown",
   "metadata": {},
   "source": [
    "## 2.2. Structure of a Query Message\n",
    "\n",
    "Queries passed to Configuration File API are formatted as python dictionaries or equivalent JSON scripts wrapped as a python string. \n",
    "\n",
    "The accepted set of key-value pairs for the Configuration File API query message is\n",
    "\n",
    "```\n",
    "message = {\n",
    "    \"configurationType\": \"INSERT QUERY HERE\",\n",
    "    \"parameters\": {\n",
    "        \"key1\": \"value1\",\n",
    "        \"key2\": \"value2\"}        \n",
    "}\n",
    "```\n",
    "\n",
    "The components of the message are as follows:\n",
    "\n",
    "* `\"configurationType\":` -- Specifies the type of configuration file requested.\n",
    "\n",
    "\n",
    "* `\"parameters\":` -- Specifies any specific power system model parameters. Values depend on the particular configurationType.\n",
    "\n",
    "\n",
    "The usage of each of these message components are explained in detail with code block examples below. \n",
    "\n",
    "__Important__: Be sure to pay attention to placement of commas ( __,__ ) at the end of each JSON line. Commas are placed at the end of each line _except_ the last line. Incorrect comma placement will result in a JsonSyntaxException. \n",
    "\n",
    "All of the queries are passed to the Configuration API using the `.get_response(topic, message)` method for the GridAPPS-D platform connection variable."
   ]
  },
  {
   "cell_type": "markdown",
   "metadata": {},
   "source": [
    "[Return to Top](#Table-of-Contents)"
   ]
  },
  {
   "cell_type": "markdown",
   "metadata": {},
   "source": [
    "## 2.3. Specifying the `configurationType`\n",
    "\n",
    "Below are the possible `configurationType` key-value pairs that are used to specify the type of each query. Executable code block examples are provided for each of the requests in the subsections below.\n",
    "\n",
    "The first group of _configurationType_ key-value pairs are for queries for information related to the GridLab-D GLM file and settings:\n",
    "\n",
    "\n",
    "* `\"configurationType\": \"GridLab-D All\"` -- [Query for all GridLab-D files](#3.1.-Query-for-mRIDs-of-all-Models)\n",
    "\n",
    "\n",
    "* `\"configurationType\": \"GridLab-D Base GLM\"` -- [Query for GridLab-D base GLM file](#3.2.-Query-for-Details-Dictionary-of-all-Models)\n",
    "\n",
    "\n",
    "* `\"configurationType\": \"GridLab-D Symbols\"` -- [Query for GridLab-D symbols file](#4.1.-Query-for-CIM-Classes-of-Objects-in-Model)\n",
    "\n",
    "\n",
    "The second group of _configurationType_ are for queries for CIM dictionary and index files:\n",
    "\n",
    "* `\"configurationType\": \"CIM Dictionary\"` -- [Query for python dictionary of CIM XML model](#4.1.-Query-for-CIM-Classes-of-Objects-in-Model)\n",
    "\n",
    "\n",
    "* `\"requestType\": \"QUERY_OBJECT_IDS\"` -- Query for a list of all mRIDs for objects of a CIM class in the model\n",
    "\n",
    "\n",
    "* `\"requestType\": \"QUERY_OBJECT\"` -- Query for CIM attributes of an object using its unique mRID \n",
    "\n",
    "\n",
    "* `\"requestType\": \"QUERY_OBJECT_DICT\"` -- Query for the dictionary of all details for an object using either its _objectType_ OR its _objectID_\n",
    "\n",
    "\n",
    "* `\"requestType\": \"QUERY_OBJECT_MEASUREMENTS\"` -- Query for all measurement types and mRIDs for an object using either its _objectType_ OR its _ObjectID_.\n",
    "\n",
    "The third group of _requestType_ are for queries based on SPARQL filters or complete SPARQL queries. The structure of SPARQL was introduced in [Lesson 1.XX](). Usage of these two _requestType_ will covered separately in the next two lessons.\n",
    "\n",
    "* `\"requestType\": \"QUERY_MODEL\"` -- Query for all  part of a specified model, filtered by object type using a SPARQL filter.\n",
    "\n",
    "\n",
    "* `\"requestType\": \"QUERY\"` -- Query using a complete SPARQL query.\n",
    "\n",
    "\n"
   ]
  },
  {
   "cell_type": "code",
   "execution_count": null,
   "metadata": {},
   "outputs": [],
   "source": []
  }
 ],
 "metadata": {
  "kernelspec": {
   "display_name": "Python 3",
   "language": "python",
   "name": "python3"
  },
  "language_info": {
   "codemirror_mode": {
    "name": "ipython",
    "version": 3
   },
   "file_extension": ".py",
   "mimetype": "text/x-python",
   "name": "python",
   "nbconvert_exporter": "python",
   "pygments_lexer": "ipython3",
   "version": "3.8.3"
  }
 },
 "nbformat": 4,
 "nbformat_minor": 4
}
