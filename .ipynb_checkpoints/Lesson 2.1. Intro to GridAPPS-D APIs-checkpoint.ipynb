{
 "cells": [
  {
   "cell_type": "markdown",
   "metadata": {},
   "source": [
    "# Lesson 2.1:\n",
    "# Introduction to the GridAPPS-D APIs\n",
    "\n",
    "This tutorial focuses on how to make generic queries of the PowerGrid Models API to obtain names, mRIDs, measurements, and control setting objects modeled in CIM XML for common power system equipment used in GridAPPS-D.\n",
    "\n",
    "The lesson reviews the format used for making generic SPARQL queries and then presents an extensive catalog of cut-and-paste code blocks for the most common queries.\n",
    "\n",
    "__Learning Objectives:__\n",
    "\n",
    "At the end of the tutorial, the user should be able to use the PowerGrid Models API to\n",
    "\n",
    "* \n",
    "* \n",
    "* \n",
    "\n",
    "## Getting Started\n",
    "\n",
    "Before running any of the sample routines in this tutorial, it is first necessary to start the GridAPPS-D Platform and establish a connection to this notebook so that we can start passing calls to the API."
   ]
  },
  {
   "cell_type": "markdown",
   "metadata": {},
   "source": [
    "_Open the Ubuntu terminal and start the GridAPPS-D Platform if it is not running already:_\n",
    "\n",
    "`cd gridappsd-docker`\n",
    "\n",
    "~/gridappsd-docker$ `./run.sh -t develop`\n",
    "\n",
    "_Once containers are running,_\n",
    "\n",
    "gridappsd@[container]:/gridappsd$ `./run-gridappsd.sh`"
   ]
  },
  {
   "cell_type": "code",
   "execution_count": null,
   "metadata": {},
   "outputs": [],
   "source": [
    "# Establish connection to GridAPPS-D Platform:\n",
    "from gridappsd import GridAPPSD\n",
    "gapps = GridAPPSD(\"('localhost', 61613)\", username='system', password='manager')\n",
    "model_mrid = \"_49AD8E07-3BF9-A4E2-CB8F-C3722F837B62\" # IEEE 13 Node used for all example queries"
   ]
  },
  {
   "cell_type": "markdown",
   "metadata": {},
   "source": [
    "---\n",
    "# Table of Contents\n",
    "\n",
    "\n"
   ]
  },
  {
   "cell_type": "markdown",
   "metadata": {},
   "source": [
    "---\n",
    "# 1. GridAPPSD-Python Wrappers\n",
    "\n",
    "Applications use the set of API call wrappers provided by the GridAPPSD-Python Library to interact with the platform and the various GridAPPS-D APIs. \n",
    "\n",
    "A specific GridAPPS-D topic covered in [Lesson 1.4]() is needed to communicate with the GridAPPS-D platform of the correct channel for each API. There will be a specific topic to do such\n",
    "things. \n",
    "\n",
    "\n",
    "\n",
    "The GridAPPS-D Python provides three core methods for the `gapps = GridAPPSD(...)` object to interact with the platform: \n",
    "\n",
    "* `gapps.send(self, topic, message)` -- This is used to send an API call or publish a command. A response from the API and Platform is NOT expected.\n",
    "\n",
    "\n",
    "* `gapps.get_response(self, topic, message, timeout=5)` -- This is used to request information from the API and Platform. A response is expected within the time frame specified by `timeout`.\n",
    "\n",
    "\n",
    "* `gapps.subscribe(self, topic, callback, id=None)` -- This is used to "
   ]
  }
 ],
 "metadata": {
  "kernelspec": {
   "display_name": "Python 3",
   "language": "python",
   "name": "python3"
  },
  "language_info": {
   "codemirror_mode": {
    "name": "ipython",
    "version": 3
   },
   "file_extension": ".py",
   "mimetype": "text/x-python",
   "name": "python",
   "nbconvert_exporter": "python",
   "pygments_lexer": "ipython3",
   "version": "3.8.3"
  }
 },
 "nbformat": 4,
 "nbformat_minor": 4
}
