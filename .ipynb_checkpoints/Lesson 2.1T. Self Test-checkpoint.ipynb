{
 "cells": [
  {
   "cell_type": "markdown",
   "metadata": {},
   "source": [
    "# Self Test for Lesson 2.1.\n",
    "# Introduction to the GridAPPS-D APIs\n",
    "\n",
    "Lesson 2.1. provided an overview of the APIs available in GridAPPS-D and how they can be used to perform various tasks, inlcuding pulling power system model data, subscribing to simulation measurements, and publishing equipment control commands.\n",
    "\n",
    "__Learning Objectives:__\n",
    "\n",
    "After completing the tutorial, the user should be able to\n",
    "\n",
    "* Enumerate the three methods for passing API calls to the GridAPPS-D Platform\n",
    "* Explain the purpose of the PowerGrid Model API\n",
    "* Describe the role of the Configuration File API\n",
    "* List the two common uses of the Simulation API\n",
    "* Describe some types of data obtained from the Timeseries API"
   ]
  },
  {
   "cell_type": "markdown",
   "metadata": {},
   "source": [
    "Complete the quiz below either in your browser by clicking the link below or answering it in the notebook embed below!\n",
    "\n",
    "__[Open Quiz in a new browser window](https://docs.google.com/forms/d/e/1FAIpQLSfbVO1cog3jfB3kEBrgq-_H-pwn58SybJOfnksMWB-0XPoBiA/viewform)__\n",
    "\n",
    "\n",
    "."
   ]
  },
  {
   "cell_type": "code",
   "execution_count": 3,
   "metadata": {
    "scrolled": false
   },
   "outputs": [
    {
     "data": {
      "text/html": [
       "<iframe src=\"https://docs.google.com/forms/d/e/1FAIpQLSfbVO1cog3jfB3kEBrgq-_H-pwn58SybJOfnksMWB-0XPoBiA/viewform?embedded=true\" width=\"640\" height=\"1523\" frameborder=\"0\" marginheight=\"0\" marginwidth=\"0\">Loading…</iframe>\n"
      ],
      "text/plain": [
       "<IPython.core.display.HTML object>"
      ]
     },
     "metadata": {},
     "output_type": "display_data"
    }
   ],
   "source": [
    "%%html\n",
    "<iframe src=\"https://docs.google.com/forms/d/e/1FAIpQLSfbVO1cog3jfB3kEBrgq-_H-pwn58SybJOfnksMWB-0XPoBiA/viewform?embedded=true\" width=\"640\" height=\"1523\" frameborder=\"0\" marginheight=\"0\" marginwidth=\"0\">Loading…</iframe>"
   ]
  },
  {
   "cell_type": "code",
   "execution_count": null,
   "metadata": {},
   "outputs": [],
   "source": []
  }
 ],
 "metadata": {
  "kernelspec": {
   "display_name": "Python 3",
   "language": "python",
   "name": "python3"
  },
  "language_info": {
   "codemirror_mode": {
    "name": "ipython",
    "version": 3
   },
   "file_extension": ".py",
   "mimetype": "text/x-python",
   "name": "python",
   "nbconvert_exporter": "python",
   "pygments_lexer": "ipython3",
   "version": "3.8.3"
  }
 },
 "nbformat": 4,
 "nbformat_minor": 4
}
