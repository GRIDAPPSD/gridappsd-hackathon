{
 "cells": [
  {
   "cell_type": "markdown",
   "metadata": {},
   "source": [
    "# Exercise for Lesson 1.5:\n",
    "# Introduction to GridAPPS-D Messages\n",
    "\n",
    "Lesson 1.5. introduced the structure and format of GridAPPS-D messages and how they are used to pass API calls.\n",
    "\n",
    "__Learning Objectives:__\n",
    "\n",
    "After completing the tutorial, the user should be able to\n",
    "\n",
    "* Differentiate between a Python Dictionary and JSON String\n",
    "* Describe how a Python Dictionary is structured\n",
    "* Access the STOMP Client in the GridAPPS-D Vizualization App\n",
    "* Test GridAPPS-D messages using the STOMP Client"
   ]
  },
  {
   "cell_type": "markdown",
   "metadata": {},
   "source": [
    "Complete the quiz below either in your browser by clicking the link below or answering it in the notebook embed below!\n",
    "\n",
    "__[Open Quiz in a new browser window](https://docs.google.com/forms/d/e/1FAIpQLSeFb6lBv126UZeCdlvu1uELnOHAuMOQTNOv9XKP4N6hSTlm-g/viewform)__\n",
    "\n",
    "\n",
    "."
   ]
  },
  {
   "cell_type": "code",
   "execution_count": 1,
   "metadata": {},
   "outputs": [
    {
     "data": {
      "text/html": [
       "<iframe src=\"https://docs.google.com/forms/d/e/1FAIpQLSeFb6lBv126UZeCdlvu1uELnOHAuMOQTNOv9XKP4N6hSTlm-g/viewform?embedded=true\" width=\"750\" height=\"1432\" frameborder=\"0\" marginheight=\"0\" marginwidth=\"0\">Loading…</iframe>\n"
      ],
      "text/plain": [
       "<IPython.core.display.HTML object>"
      ]
     },
     "metadata": {},
     "output_type": "display_data"
    }
   ],
   "source": [
    "%%html\n",
    "<iframe src=\"https://docs.google.com/forms/d/e/1FAIpQLSeFb6lBv126UZeCdlvu1uELnOHAuMOQTNOv9XKP4N6hSTlm-g/viewform?embedded=true\" width=\"750\" height=\"1432\" frameborder=\"0\" marginheight=\"0\" marginwidth=\"0\">Loading…</iframe>"
   ]
  },
  {
   "cell_type": "code",
   "execution_count": null,
   "metadata": {},
   "outputs": [],
   "source": []
  }
 ],
 "metadata": {
  "kernelspec": {
   "display_name": "Python 3",
   "language": "python",
   "name": "python3"
  },
  "language_info": {
   "codemirror_mode": {
    "name": "ipython",
    "version": 3
   },
   "file_extension": ".py",
   "mimetype": "text/x-python",
   "name": "python",
   "nbconvert_exporter": "python",
   "pygments_lexer": "ipython3",
   "version": "3.8.3"
  }
 },
 "nbformat": 4,
 "nbformat_minor": 4
}
