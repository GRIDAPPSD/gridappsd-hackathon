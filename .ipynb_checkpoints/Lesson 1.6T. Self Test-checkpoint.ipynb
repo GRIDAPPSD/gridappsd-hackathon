{
 "cells": [
  {
   "cell_type": "markdown",
   "metadata": {},
   "source": [
    "# Self Test for Lesson 1.6.\n",
    "# Introduction to the Common Information Model\n",
    "\n",
    "Lesson 1.6. introduced the CIM and how its classes and attributes can be used to decribe a power system model.\n",
    "\n",
    "__Learning Objectives:__\n",
    "\n",
    "After completing Lesson 1.6, the user should be able to\n",
    "\n",
    "* Describe the importance of data integration and common data formats\n",
    "* Explain what information is contained in UML class and sequence diagrams\n",
    "* Summarize RDF models and how they are used to create CIM XML files\n",
    "* Enumerate the most common CIM classes for representing power system equipment and data"
   ]
  },
  {
   "cell_type": "markdown",
   "metadata": {},
   "source": [
    "Complete the quiz below either in your browser by clicking the link below or answering it in the notebook embed below!\n",
    "\n",
    "__[Open Quiz in a new browser window](https://docs.google.com/forms/d/e/1FAIpQLSeygGlwvVClL_F-pVcVvZcFYQdC0P3b8HBbJZTN4zJB173Lvw/viewform)__\n",
    "\n",
    "\n",
    "."
   ]
  },
  {
   "cell_type": "code",
   "execution_count": 1,
   "metadata": {
    "scrolled": false
   },
   "outputs": [
    {
     "data": {
      "text/html": [
       "<iframe src=\"https://docs.google.com/forms/d/e/1FAIpQLSeygGlwvVClL_F-pVcVvZcFYQdC0P3b8HBbJZTN4zJB173Lvw/viewform?embedded=true\" width=\"640\" height=\"1517\" frameborder=\"0\" marginheight=\"0\" marginwidth=\"0\">Loading…</iframe>\n"
      ],
      "text/plain": [
       "<IPython.core.display.HTML object>"
      ]
     },
     "metadata": {},
     "output_type": "display_data"
    }
   ],
   "source": [
    "%%html\n",
    "<iframe src=\"https://docs.google.com/forms/d/e/1FAIpQLSeygGlwvVClL_F-pVcVvZcFYQdC0P3b8HBbJZTN4zJB173Lvw/viewform?embedded=true\" width=\"640\" height=\"1517\" frameborder=\"0\" marginheight=\"0\" marginwidth=\"0\">Loading…</iframe>"
   ]
  },
  {
   "cell_type": "code",
   "execution_count": null,
   "metadata": {},
   "outputs": [],
   "source": []
  }
 ],
 "metadata": {
  "kernelspec": {
   "display_name": "Python 3",
   "language": "python",
   "name": "python3"
  },
  "language_info": {
   "codemirror_mode": {
    "name": "ipython",
    "version": 3
   },
   "file_extension": ".py",
   "mimetype": "text/x-python",
   "name": "python",
   "nbconvert_exporter": "python",
   "pygments_lexer": "ipython3",
   "version": "3.8.3"
  }
 },
 "nbformat": 4,
 "nbformat_minor": 4
}
