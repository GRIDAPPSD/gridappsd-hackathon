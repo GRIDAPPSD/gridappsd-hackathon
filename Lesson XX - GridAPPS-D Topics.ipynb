{
 "cells": [
  {
   "cell_type": "markdown",
   "metadata": {},
   "source": [
    "# Lesson XX:\n",
    "# Introduction to GridAPPS-D Topics\n",
    "\n",
    "This tutorial introduces the topics library in GridAPPS-D and how it can be used\n",
    "\n",
    "__Learning Objectives:__\n",
    "\n",
    "At the end of the tutorial, the user should be able to\n",
    "\n",
    "* Describe what are GridAPPS-D Topics\n",
    "* Explain the difference between `/queue/` and `/topic/` channels\n",
    "* Import and use the GridAPPSD-Python library of topics\n",
    "* Implement shortcut functions for creating GridAPPS-D Topics"
   ]
  },
  {
   "cell_type": "markdown",
   "metadata": {},
   "source": [
    "---\n",
    "# What are Topics in GridAPPS-D?\n",
    "\n",
    "When communicating with the GridAPPS-D Platform through API, it is necessary to specify a topic, which tells (GOSS Message Bus??) on which channel to communicate with the application.\n",
    "\n",
    "In the previous lessons, we manually specified the topic as a string, like this\n",
    "\n",
    "`topic = \"goss.gridappsd.process.request.data.powergridmodel\"`\n",
    "\n",
    "It is entirely possible to use this method throughout your application. However, this requires you to look up or remember the correct topic for each API call."
   ]
  },
  {
   "cell_type": "markdown",
   "metadata": {},
   "source": [
    "---\n",
    "# `/queue/` vs `/topic/`\n",
    "\n",
    "GridAPPS-D uses two types of topics to determine the visibility of the API call to other applications and services.\n",
    "\n",
    "## Queue Channels\n",
    "\n",
    "`/queue/` is used for communication channels where only the GridAPPS-D Platform is listening to the API call. These API calls are processed on a first-in, first-out basis. There is only one subscriber to the communication channel.\n",
    "\n",
    "API calls to the Blazegraph database, Logs, Timeseries database, Config files, and Platform status are all queue channels. All the GridAPPS-D Topics for queue channels typically do not change over the course of an application or simulation run.\n",
    "\n",
    "In the GridAPPSD-Python library, it is assumed that a topic is a queue channel if not otherwise specified. These two GridAPPS-D Topic definitions are equivalent:\n",
    "\n",
    "`topic = '/queue/goss.gridappsd.process.request.data.powergridmodel'`\n",
    "\n",
    "`topic = 'goss.gridappsd.process.request.data.powergridmodel'`\n",
    "\n",
    "\n",
    "## Topic Channels\n",
    "\n",
    "`/topic/` is used for communication channels where the API call is to broadcast to all subscribers through the GOSS Message Bus, inlcuding other applications, services, FNCS Bridge, etc. \n",
    "\n",
    "API calls to the Simulation, services, and active applications use topic channels to communicate and typically need to the specify the Simulation ID, Service ID, and Application ID. The particular topic for such an API call will change between simulations and instances, and so shortcut functions are provided in GridAPPSD-Python library to assist in generating the correct Topic.\n",
    "\n",
    "In GridAPPSD-Python, it is necessary to specify if a GridAPPS-D Topic is a `/topic/` channel broadcasting to all subscribers:\n",
    "\n",
    "`topic = \"/topic/goss.gridappsd.simulation.input.\"+simulation_id`"
   ]
  },
  {
   "cell_type": "markdown",
   "metadata": {},
   "source": [
    "---\n",
    "# Advantages of Importing the Topics Library\n",
    "\n",
    "The GridAPPSD-Python Library contains several shortcuts so that you can use the correct topic quickly, without needing to look up the correct string for a particular API call. It also helps make your code more readable.\n",
    "\n",
    "## Queue Channels\n",
    "\n",
    "The GridAPPSD-Python Library contains shortcut functions for all of the API calls that use queue channels to communicate with the GridAPPS-D Platform. As a result, a general user would not need to look up these topics. Advanced developers can find more details and shortcuts in the Advanced Concepts section at the end of this tutorial.\n",
    "\n",
    "## Topic Channels\n",
    "\n",
    "The GridAPPSD-Python Library contains several functions for creating topics for passing API calls to the GridAPPS-D Platform, applications, and services. A complete list of functions is provided below."
   ]
  },
  {
   "cell_type": "markdown",
   "metadata": {},
   "source": [
    "---\n",
    "# GridAPPSD-Python Topics Functions\n",
    "\n",
    "Before running any of the sample routines in this tutorial, it is first necessary to establish a connection to the GridAPPS-D Platform so that we can start passing calls to the API. \n",
    "\n",
    "Start the GridAPPS-D Platform and start a simulation of any model. Then run the two calls below to connect to the platform and obtain the Simulation ID."
   ]
  },
  {
   "cell_type": "code",
   "execution_count": null,
   "metadata": {},
   "outputs": [],
   "source": [
    "# Establish connection to GridAPPS-D Platform:\n",
    "from gridappsd import GridAPPSD, utils\n",
    "gridappsd_conn = GridAPPSD(utils.get_gridappsd_simulation_id, address=utils.get_gridappsd_address(),\n",
    "          username=utils.get_gridappsd_user(), password=utils.get_gridappsd_pass())"
   ]
  },
  {
   "cell_type": "code",
   "execution_count": null,
   "metadata": {},
   "outputs": [],
   "source": [
    "# Obtain Simulation ID\n",
    "simulation_id = '12345678'\n",
    "\n",
    "# simulation_id = utils.get_gridappsd_simulation_id() # Doesn't work yet\n",
    "# print(simulation_id)"
   ]
  },
  {
   "cell_type": "markdown",
   "metadata": {},
   "source": [
    "## Subscribe to Simulation Output\n",
    "\n",
    "This topic is used to communicate with the Simulation API, which is covered in detail in Lesson XX. The Simulation Output Topic is used to subscribe to the simulation output, which applications use to\n",
    "* Listen to switching actions\n",
    "* Obtaining equipment measurements\n",
    "* ___GET FULL LIST___\n",
    "\n",
    "The GridAPPSD-Python shortcut function for generating the correct topic is\n",
    "\n",
    "`simulation_output_topic(simulation_id)`\n",
    "\n",
    "There are two ways to use the function. The first is to call the library function directly. The second is to use it as part of a class definition."
   ]
  },
  {
   "cell_type": "markdown",
   "metadata": {},
   "source": [
    "__1) Call the topic function directly__"
   ]
  },
  {
   "cell_type": "code",
   "execution_count": null,
   "metadata": {},
   "outputs": [],
   "source": [
    "# Import GridAPPS-D Topic Function:\n",
    "from gridappsd.topics import simulation_output_topic\n",
    "\n",
    "# Call GridAPPSD-Python Topic Function\n",
    "topic = simulation_output_topic(simulation_id)\n",
    "\n",
    "# Print to Notebook Kernel:\n",
    "print(topic)"
   ]
  },
  {
   "cell_type": "markdown",
   "metadata": {},
   "source": [
    "__2) Use the topic function in a class definition__"
   ]
  },
  {
   "cell_type": "code",
   "execution_count": null,
   "metadata": {},
   "outputs": [],
   "source": [
    "# Import GridAPPS-D Topic Function:\n",
    "from gridappsd.topics import simulation_output_topic\n",
    "\n",
    "# Define Subscription Class\n",
    "class MySubscription(object):\n",
    "    def __init__(self,simulation_id):\n",
    "        self._subscribe_to_topic = simulation_output_topic(simulation_id)\n",
    "        \n",
    "# Define Main Function: \n",
    "def _main():\n",
    "    subscription = MySubscription(simulation_id)\n",
    "    print(subscription._subscribe_to_topic)\n",
    "    \n",
    "# Call Main Function:\n",
    "_main()"
   ]
  },
  {
   "cell_type": "markdown",
   "metadata": {},
   "source": [
    "## Publish to Simulation Output\n",
    "\n",
    "This topic is used to communicate with the Simulation API, which is covered in detail in Lesson XX. The Simulation Input Topic is used to subscribe to the simulation output, which applications use to\n",
    "* Listen to switching actions\n",
    "* List"
   ]
  },
  {
   "cell_type": "code",
   "execution_count": null,
   "metadata": {},
   "outputs": [],
   "source": []
  },
  {
   "cell_type": "code",
   "execution_count": null,
   "metadata": {},
   "outputs": [],
   "source": []
  },
  {
   "cell_type": "markdown",
   "metadata": {},
   "source": [
    "## Request Platform Logs\n",
    "\n",
    "This topic is used to communicate with the Logging API, which is covered in detail in Lesson XX. The Platform Logs Topic is used to \n",
    "* DO SOMETHING\n",
    "\n",
    "The function used to create a Platform Logs Topic is\n",
    "\n",
    "`platform_log_topic()`\n",
    "\n",
    "___NEED TO UNDERSTAND DIFFERENCE BETWEEN PLATFORM.LOG AND SIMULATION.LOG___"
   ]
  },
  {
   "cell_type": "code",
   "execution_count": null,
   "metadata": {},
   "outputs": [],
   "source": []
  },
  {
   "cell_type": "markdown",
   "metadata": {},
   "source": [
    "---\n",
    "# Advanced Concepts & Development Tools\n",
    "\n",
    "\n",
    "\n",
    "\n",
    "We can take a look again at the example from Lesson 2, performing a basic query for the model MRIDs:"
   ]
  },
  {
   "cell_type": "code",
   "execution_count": null,
   "metadata": {},
   "outputs": [],
   "source": [
    "# Establish connection to GridAPPS-D Platform:\n",
    "from gridappsd import GridAPPSD\n",
    "gridappsd_conn = GridAPPSD(\"('localhost', 61613)\", username='system', password='manager')\n",
    "\n",
    "# Form JSON query message:\n",
    "message = '{\"requestType\": \"QUERY_MODEL_NAMES\", \"resultFormat\": \"JSON\"}'"
   ]
  },
  {
   "cell_type": "markdown",
   "metadata": {},
   "source": [
    "Original method from Lesson 2 - Not using topics library:"
   ]
  },
  {
   "cell_type": "code",
   "execution_count": null,
   "metadata": {},
   "outputs": [],
   "source": [
    "topic = \"goss.gridappsd.process.request.data.powergridmodel\"\n",
    "gridappsd_conn.get_response(topic, message)"
   ]
  },
  {
   "cell_type": "markdown",
   "metadata": {},
   "source": [
    "Using a pre-formed GridAPPS-D topic:"
   ]
  },
  {
   "cell_type": "code",
   "execution_count": null,
   "metadata": {},
   "outputs": [],
   "source": [
    "from gridappsd import topics as t\n",
    "gridappsd_conn.get_response(t.REQUEST_POWERGRID_DATA, message)"
   ]
  },
  {
   "cell_type": "markdown",
   "metadata": {},
   "source": [
    "----------\n",
    "## Old material (delete when done)\n",
    "\n",
    "The GridAPPS-D API uses topics to specify the channel on which to communicate.\n",
    "\n",
    "There are also several topics for the platform, services, applications, and simulations to which one can subscribe:\n",
    "\n",
    "* _platform_log_topic_ -- Utility method for getting the platform.log base topic\n",
    "\n",
    "* _service_input_topic_ -- Utility method for getting the input topic for a specific service\n",
    "\n",
    "* _service_output_topic_ -- Utility method for getting the output topic for a specific service\n",
    "\n",
    "* _application_input_topic_ -- Utility method for getting the input topic for a specific application\n",
    "\n",
    "* _application_output_topic_ -- Utility method for getting the output topic for a specific application\n",
    "\n",
    "* _simulation_input_topic_ -- Gets the topic to write data to for the simulation\n",
    "\n",
    "* _simulation_output_topic_ -- Gets the topic for subscribing to output from the simulation\n",
    "\n",
    "* _simulation_log_topic_ -- Topic for the [Logging API](https://gridappsd.readthedocs.io/en/latest/using_gridappsd/index.html#subscribing-to-logs)\n"
   ]
  },
  {
   "cell_type": "code",
   "execution_count": null,
   "metadata": {},
   "outputs": [],
   "source": []
  },
  {
   "cell_type": "code",
   "execution_count": null,
   "metadata": {},
   "outputs": [],
   "source": []
  },
  {
   "cell_type": "code",
   "execution_count": null,
   "metadata": {},
   "outputs": [],
   "source": []
  }
 ],
 "metadata": {
  "kernelspec": {
   "display_name": "Python 3",
   "language": "python",
   "name": "python3"
  },
  "language_info": {
   "codemirror_mode": {
    "name": "ipython",
    "version": 3
   },
   "file_extension": ".py",
   "mimetype": "text/x-python",
   "name": "python",
   "nbconvert_exporter": "python",
   "pygments_lexer": "ipython3",
   "version": "3.8.3"
  }
 },
 "nbformat": 4,
 "nbformat_minor": 4
}
