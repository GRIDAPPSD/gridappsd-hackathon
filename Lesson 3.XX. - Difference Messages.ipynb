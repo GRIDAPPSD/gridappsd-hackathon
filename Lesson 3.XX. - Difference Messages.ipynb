{
 "cells": [
  {
   "cell_type": "markdown",
   "metadata": {},
   "source": [
    "# Lesson XX:\n",
    "# Difference Messages\n",
    "\n",
    "This tutorial introduces what are Difference Messages and how they are used to control equipment\n",
    "\n",
    "__Learning Objectives:__\n",
    "\n",
    "At the end of the tutorial, the user should be able to\n",
    "\n",
    "* \n",
    "* \n",
    "* "
   ]
  },
  {
   "cell_type": "code",
   "execution_count": 6,
   "metadata": {},
   "outputs": [],
   "source": [
    "# Establish connection to GridAPPS-D Platform:\n",
    "from gridappsd import GridAPPSD, utils\n",
    "gridappsd_conn = GridAPPSD(utils.get_gridappsd_simulation_id(), address=utils.get_gridappsd_address(),\n",
    "          username=utils.get_gridappsd_user(), password=utils.get_gridappsd_pass())"
   ]
  },
  {
   "cell_type": "code",
   "execution_count": 10,
   "metadata": {},
   "outputs": [
    {
     "name": "stdout",
     "output_type": "stream",
     "text": [
      "None\n",
      "system\n"
     ]
    }
   ],
   "source": [
    "simulation_id = utils.get_gridappsd_simulation_id()\n",
    "username=utils.get_gridappsd_user()\n",
    "print(simulation_id)\n",
    "print(username)"
   ]
  },
  {
   "cell_type": "code",
   "execution_count": 11,
   "metadata": {},
   "outputs": [],
   "source": [
    "\n",
    "simulation_id='497699800'\n",
    "\n",
    "gridappsd_conn = GridAPPSD(simulation_id, address=utils.get_gridappsd_address(),\n",
    "          username=utils.get_gridappsd_user(), password=utils.get_gridappsd_pass())\n",
    "    \n",
    "topic = \"/topic/goss.gridappsd.simulation.input.\"+simulation_id\n",
    "    \n",
    "difference_message_open='{ \"command\": \"update\", \"input\": { \"simulation_id\": simulation_id, \"message\": { \"timestamp\": 1357048800, \"difference_mrid\": \"123a456b-789c-012d-345e-678f901a235c\", \"reverse_differences\": [{ \"object\": \"_6C1FDA90-1F4E-4716-BC90-1CCB59A6D5A9\", \"attribute\": \"Switch.open\", \"value\": 0 } ], \"forward_differences\": [{ \"object\": \"_6C1FDA90-1F4E-4716-BC90-1CCB59A6D5A9\", \"attribute\": \"Switch.open\", \"value\": 1 } ] } } }'\n",
    "    \n",
    "gridappsd_conn.send(topic,difference_message_open)"
   ]
  },
  {
   "cell_type": "code",
   "execution_count": null,
   "metadata": {},
   "outputs": [],
   "source": []
  },
  {
   "cell_type": "code",
   "execution_count": null,
   "metadata": {},
   "outputs": [],
   "source": []
  },
  {
   "cell_type": "code",
   "execution_count": null,
   "metadata": {},
   "outputs": [],
   "source": []
  },
  {
   "cell_type": "code",
   "execution_count": null,
   "metadata": {},
   "outputs": [],
   "source": []
  },
  {
   "cell_type": "code",
   "execution_count": null,
   "metadata": {},
   "outputs": [],
   "source": []
  },
  {
   "cell_type": "code",
   "execution_count": null,
   "metadata": {},
   "outputs": [],
   "source": [
    "    \n",
    "difference_message_open='{ \"command\": \"update\", \"input\": { \"simulation_id\": simulation_id, \"message\": { \"timestamp\": 1357048800, \"difference_mrid\": \"123a456b-789c-012d-345e-678f901a235c\", \"reverse_differences\": [{ \"object\": \"_6C1FDA90-1F4E-4716-BC90-1CCB59A6D5A9\", \"attribute\": \"Switch.open\", \"value\": 0 } ], \"forward_differences\": [{ \"object\": \"_6C1FDA90-1F4E-4716-BC90-1CCB59A6D5A9\", \"attribute\": \"Switch.open\", \"value\": 1 } ] } } }'\n"
   ]
  }
 ],
 "metadata": {
  "kernelspec": {
   "display_name": "Python 3",
   "language": "python",
   "name": "python3"
  },
  "language_info": {
   "codemirror_mode": {
    "name": "ipython",
    "version": 3
   },
   "file_extension": ".py",
   "mimetype": "text/x-python",
   "name": "python",
   "nbconvert_exporter": "python",
   "pygments_lexer": "ipython3",
   "version": "3.8.3"
  }
 },
 "nbformat": 4,
 "nbformat_minor": 4
}
