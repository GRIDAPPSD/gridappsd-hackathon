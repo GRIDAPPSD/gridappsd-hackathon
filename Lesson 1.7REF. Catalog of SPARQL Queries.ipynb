{
 "cells": [
  {
   "cell_type": "markdown",
   "metadata": {},
   "source": []
  },
  {
   "cell_type": "markdown",
   "metadata": {},
   "source": []
  },
  {
   "cell_type": "markdown",
   "metadata": {},
   "source": []
  },
  {
   "cell_type": "markdown",
   "metadata": {},
   "source": []
  },
  {
   "cell_type": "markdown",
   "metadata": {},
   "source": []
  },
  {
   "cell_type": "markdown",
   "metadata": {},
   "source": []
  },
  {
   "cell_type": "markdown",
   "metadata": {},
   "source": [
    "# 1. Querying for Buses and Nodes"
   ]
  },
  {
   "cell_type": "markdown",
   "metadata": {},
   "source": [
    "## 1.1. List the bus name and xy coordinates\n",
    "Note: this query is the basis of qbus_template in InsertDER.py\n",
    "\n",
    "```\n",
    "PREFIX r:  <http://www.w3.org/1999/02/22-rdf-syntax-ns#>\n",
    "PREFIX c:  <http://iec.ch/TC57/CIM100#>\n",
    "SELECT ?bus ?seq ?locid ?x ?y WHERE { # ?cnid ?tid ?eqid\n",
    " ?fdr c:IdentifiedObject.mRID ?fdrid.\n",
    " ?cn c:ConnectivityNode.ConnectivityNodeContainer ?fdr.\n",
    " ?trm c:Terminal.ConnectivityNode ?cn.\n",
    " ?trm c:ACDCTerminal.sequenceNumber ?seq.\n",
    " ?trm c:Terminal.ConductingEquipment ?eq.\n",
    " ?eq c:PowerSystemResource.Location ?loc.\n",
    " ?trm c:IdentifiedObject.mRID ?tid.\n",
    " ?cn c:IdentifiedObject.mRID ?cnid.\n",
    " ?cn c:IdentifiedObject.name ?bus.\n",
    " ?eq c:IdentifiedObject.mRID ?eqid.\n",
    " ?loc c:IdentifiedObject.mRID ?locid.\n",
    " ?pt c:PositionPoint.Location ?loc.\n",
    "  # caution - these next three triples make the query very slow....\n",
    " ?pt c:PositionPoint.sequenceNumber ?seq.\n",
    " ?pt c:PositionPoint.xPosition ?x.\n",
    " ?pt c:PositionPoint.yPosition ?y\n",
    "}\n",
    "ORDER BY ?bus ?locid\n",
    "```"
   ]
  },
  {
   "cell_type": "markdown",
   "metadata": {},
   "source": [
    "## 1.2. List all the connectivity node base voltages by feeder, for sensor service\n",
    "```\n",
    "PREFIX r:  <http://www.w3.org/1999/02/22-rdf-syntax-ns#>\n",
    "PREFIX c:  <http://iec.ch/TC57/CIM100#>\n",
    "SELECT DISTINCT ?feeder ?busname ?cnid ?nomv WHERE {\n",
    "# VALUES ?fdrid {\"_49AD8E07-3BF9-A4E2-CB8F-C3722F837B62\"}  # 13 bus\n",
    " ?fdr c:IdentifiedObject.mRID ?fdrid.\n",
    " ?bus c:ConnectivityNode.ConnectivityNodeContainer ?fdr.\n",
    " ?bus r:type c:ConnectivityNode.\n",
    " ?bus c:IdentifiedObject.name ?busname.\n",
    " ?bus c:IdentifiedObject.mRID ?cnid.\n",
    " ?fdr c:IdentifiedObject.name ?feeder.\n",
    " ?trm c:Terminal.ConnectivityNode ?bus.\n",
    " ?trm c:Terminal.ConductingEquipment ?ce.\n",
    " ?ce  c:ConductingEquipment.BaseVoltage ?bv.\n",
    " ?bv  c:BaseVoltage.nominalVoltage ?nomv.\n",
    "}\n",
    "ORDER by ?feeder ?busname ?nomv\n",
    "```"
   ]
  },
  {
   "cell_type": "markdown",
   "metadata": {},
   "source": []
  },
  {
   "cell_type": "markdown",
   "metadata": {},
   "source": []
  },
  {
   "cell_type": "markdown",
   "metadata": {},
   "source": []
  },
  {
   "cell_type": "markdown",
   "metadata": {},
   "source": []
  },
  {
   "cell_type": "markdown",
   "metadata": {},
   "source": []
  },
  {
   "cell_type": "markdown",
   "metadata": {},
   "source": []
  },
  {
   "cell_type": "markdown",
   "metadata": {},
   "source": [
    "## 2. Get all the mRID values by class and name\n",
    "```\n",
    "PREFIX r:  <http://www.w3.org/1999/02/22-rdf-syntax-ns#>\n",
    "PREFIX c:  <http://iec.ch/TC57/CIM100#>\n",
    "SELECT ?type ?name ?id WHERE {\n",
    " ?s c:IdentifiedObject.name ?name.\n",
    " ?s c:IdentifiedObject.mRID ?id.\n",
    " ?s r:type ?rawtype.\n",
    "  bind(strafter(str(?rawtype),\"#\") as ?type)\n",
    "}\n",
    "ORDER by ?type ?name\n",
    "```"
   ]
  },
  {
   "cell_type": "markdown",
   "metadata": {},
   "source": []
  }
 ],
 "metadata": {
  "kernelspec": {
   "display_name": "Python 3",
   "language": "python",
   "name": "python3"
  },
  "language_info": {
   "codemirror_mode": {
    "name": "ipython",
    "version": 3
   },
   "file_extension": ".py",
   "mimetype": "text/x-python",
   "name": "python",
   "nbconvert_exporter": "python",
   "pygments_lexer": "ipython3",
   "version": "3.8.3"
  }
 },
 "nbformat": 4,
 "nbformat_minor": 4
}
