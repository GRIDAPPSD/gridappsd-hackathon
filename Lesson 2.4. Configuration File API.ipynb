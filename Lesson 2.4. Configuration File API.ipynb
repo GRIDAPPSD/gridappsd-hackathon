{
 "cells": [
  {
   "cell_type": "markdown",
   "metadata": {},
   "source": [
    "# Lesson 2.4:\n",
    "# Configuration File API\n",
    "\n",
    "This tutorial introduces the Configuration File API and how it can be used to generate and export custom GridLab-D and OpenDSS versions of the power system models stored in the Blazegraph database.\n",
    "\n",
    "__Learning Objectives:__\n",
    "\n",
    "At the end of the tutorial, the user should be able to use the Configuration File API to\n",
    "\n",
    "* Generate a custom GridLab-D simulation file\n",
    "* Export a GridLab-D base GLM file\n",
    "* Export a list of GridLab-D measurements\n",
    "* Generate a customer OpenDSS power system model\n",
    "* Export a list of OpenDSS location coordinates\n",
    "* Create and export the model Y-Bus Matrix\n",
    "\n",
    "## Getting Started\n",
    "\n",
    "Before running any of the sample routines in this tutorial, it is first necessary to start the GridAPPS-D Platform and establish a connection to this notebook so that we can start passing calls to the API."
   ]
  },
  {
   "cell_type": "markdown",
   "metadata": {},
   "source": [
    "_Open the Ubuntu terminal and start the GridAPPS-D Platform if it is not running already:_\n",
    "\n",
    "`cd gridappsd-docker`\n",
    "\n",
    "~/gridappsd-docker$ `./run.sh -t develop`\n",
    "\n",
    "_Once containers are running,_\n",
    "\n",
    "gridappsd@[container]:/gridappsd$ `./run-gridappsd.sh`"
   ]
  },
  {
   "cell_type": "code",
   "execution_count": null,
   "metadata": {},
   "outputs": [],
   "source": [
    "# Establish connection to GridAPPS-D Platform:\n",
    "from gridappsd import GridAPPSD\n",
    "gapps = GridAPPSD(\"('localhost', 61613)\", username='system', password='manager')\n",
    "model_mrid = \"_49AD8E07-3BF9-A4E2-CB8F-C3722F837B62\" # IEEE 13 Node used for all example queries"
   ]
  },
  {
   "cell_type": "markdown",
   "metadata": {},
   "source": [
    "---\n",
    "# Table of Contents\n",
    "\n",
    "* [1. Introduction to the Configuration File API](#1.-Introduction-to-the-Configuration-File-API)\n",
    "\n",
    "\n",
    "* [2. Using the Configuration File API](#2.-Using-the-Configuration-File-API)\n",
    "    * [2.1. Specifying the Topic](#2.1.-Specifying-the-Topic)\n",
    "    * [2.2. Structure of a Query Message](#2.2.-Structure-of-a-Query-Message)\n",
    "    * [2.3. Specifying the configurationType](#2.3.-Specifying-the-configurationType)\n",
    "    \n",
    "    \n",
    "* [3. Querying for Feeder Model Info](#3.-Querying-for-Feeder-Model-Info)\n",
    "    * [3.1. Query for all GridLab-D Files](#3.1.-Query-for-all-GridLab-D-Files)\n",
    "    * [3.2. Query for GridLab-D Base GLM File](#3.2.-Query-for-GridLab-D-Base-GLM-File)\n",
    "    * [3.3. Query for GridLab-D Symbols File](#3.3.-Query-for-GridLab-D-Symbols-File)\n",
    "    * [3.4. Query for GridLab-D Measurement Types](#3.4.-Query-for-GridLab-D-Measurement-Types)\n",
    "    \n",
    "    \n",
    "* [4. Querying for CIM Dictionary Files](#4.-Querying-for-CIM-Dictionary-Files)\n",
    "    * [4.1. Query for CIM Model Dictionary](#4.1.-Query-for-Model-Dictionary)\n",
    "    * [4.2. Query for CIM Feeder Index](#4.2.-Query-for-CIM-Feeder-Index)\n",
    "\n",
    "\n",
    "* [5. Querying for OpenDSS Configuration Files](#5.-Querying-for-OpenDSS-Configuration-Files)\n",
    "    * [5.1. Query for all OpenDSS Files](#5.1.-Query-for-all-OpenDSS-Files)\n",
    "    * [5.2. Query for OpenDSS Base File](#5.2.-Query-for-OpenDSS-Base-File)\n",
    "    * [5.3. Query for OpenDSS Coordinate File](#5.3.-Query-for-OpenDSS-Coordinate-File)\n",
    "    * [5.4.-Query for Y-Bus Matrix](#5.4.-Query-for-Y-Bus-Matrix)"
   ]
  },
  {
   "cell_type": "markdown",
   "metadata": {},
   "source": [
    "---\n",
    "# 1. Introduction to the Configuration File API\n",
    "\n",
    "\n",
    "The Configuration File API is used to generate power system models that can be solved in GridLab-D or OpenDSS based on the original CIM XML model. The load profile and ZIP parameters can be modified from the nominal values prior to model creation and export.  "
   ]
  },
  {
   "cell_type": "markdown",
   "metadata": {},
   "source": [
    "---\n",
    "# 2. Using the Configuration File API"
   ]
  },
  {
   "cell_type": "markdown",
   "metadata": {},
   "source": [
    "## 2.1. Specifying the Topic\n",
    "\n",
    "All queries passed to the Simulation API need to use the correct topic.For a review of GridAPPS-D topics, see Lesson 1.4 There are two ways to specify the topic. Both produce identical results."
   ]
  },
  {
   "cell_type": "markdown",
   "metadata": {},
   "source": [
    "__1) Specifying the topic as a string:__"
   ]
  },
  {
   "cell_type": "code",
   "execution_count": null,
   "metadata": {},
   "outputs": [],
   "source": [
    "topic = \"goss.gridappsd.process.request.config\""
   ]
  },
  {
   "cell_type": "markdown",
   "metadata": {},
   "source": [
    "__2) Using the topics library to specify the topic:__"
   ]
  },
  {
   "cell_type": "code",
   "execution_count": null,
   "metadata": {},
   "outputs": [],
   "source": [
    "from gridappsd import topics as t\n",
    "topic = t.CONFIG"
   ]
  },
  {
   "cell_type": "markdown",
   "metadata": {},
   "source": [
    "[Return to Top](#Table-of-Contents)"
   ]
  },
  {
   "cell_type": "markdown",
   "metadata": {},
   "source": [
    "## 2.2. Structure of a Query Message\n",
    "\n",
    "Queries passed to Configuration File API are formatted as python dictionaries or equivalent JSON scripts wrapped as a python string. \n",
    "\n",
    "The accepted set of key-value pairs for the Configuration File API query message is\n",
    "\n",
    "```\n",
    "message = {\n",
    "    \"configurationType\": \"INSERT QUERY HERE\",\n",
    "    \"parameters\": {\n",
    "        \"key1\": \"value1\",\n",
    "        \"key2\": \"value2\"}        \n",
    "}\n",
    "```\n",
    "\n",
    "The components of the message are as follows:\n",
    "\n",
    "* `\"configurationType\":` -- Specifies the type of configuration file requested.\n",
    "\n",
    "\n",
    "* `\"parameters\":` -- Specifies any specific power system model parameters. Values depend on the particular configurationType.\n",
    "\n",
    "\n",
    "The usage of each of these message components are explained in detail with code block examples below. \n",
    "\n",
    "__Important__: Be sure to pay attention to placement of commas ( __,__ ) at the end of each JSON line. Commas are placed at the end of each line _except_ the last line. Incorrect comma placement will result in a JsonSyntaxException. \n",
    "\n",
    "All of the queries are passed to the Configuration API using the `.get_response(topic, message)` method for the GridAPPS-D platform connection variable."
   ]
  },
  {
   "cell_type": "markdown",
   "metadata": {},
   "source": [
    "[Return to Top](#Table-of-Contents)"
   ]
  },
  {
   "cell_type": "markdown",
   "metadata": {},
   "source": [
    "## 2.3. Specifying the `configurationType`\n",
    "\n",
    "Below are the possible `configurationType` key-value pairs that are used to specify the type of each query. Executable code block examples are provided for each of the requests in the subsections below.\n",
    "\n",
    "The first group of _configurationType_ key-value pairs are for queries for information related to the GridLab-D GLM files and settings:\n",
    "\n",
    "\n",
    "* `\"configurationType\": \"GridLab-D All\"` -- [Query for all GridLab-D files](#3.1.-Query-for-all-GridLab-D-Files)\n",
    "\n",
    "\n",
    "* `\"configurationType\": \"GridLab-D Base GLM\"` -- [Query for GridLab-D base GLM file](#3.2.-Query-for-GridLab-D-Base-GLM-File)\n",
    "\n",
    "\n",
    "* `\"configurationType\": \"GridLab-D Symbols\"` -- [Query for GridLab-D symbols file](#3.3.-Query-for-GridLab-D-Symbols-File)\n",
    "\n",
    "\n",
    "* `\"configurationType\": \"GridLab-D Simulation Output\"` -- [Query for available measurement types](#3.4.-Query-for-GridLab-D-Measurement-Types)\n"
   ]
  },
  {
   "cell_type": "markdown",
   "metadata": {},
   "source": [
    "\n",
    "The second group of _configurationType_ are for queries for CIM dictionary and feeder index files:\n",
    "\n",
    "* `\"configurationType\": \"CIM Dictionary\"` -- [Query for python dictionary of CIM XML model](#4.1.-Query-for-Model-Dictionary)\n",
    "\n",
    "\n",
    "* `\"configurationType\": \"CIM Feeder Index\"` -- [Query for python dictionary of model mRIDs](#4.2.-Query-for-CIM-Feeder-Index)\n",
    "\n"
   ]
  },
  {
   "cell_type": "markdown",
   "metadata": {},
   "source": [
    "\n",
    "The third group of _configurationType_ key-value pairs are for queries for OpenDSS model files\n",
    "\n",
    "\n",
    "* `\"configurationType\": \"DSS All\"` -- [Query for all OpenDSS model files](#5.1.-Query-for-all-OpenDSS-Files)\n",
    "\n",
    "\n",
    "* `\"configurationType\": \"DSS Base\"` -- [Query for OpenDSS version of power system model](#5.2.-Query-for-OpenDSS-Base-File)\n",
    "\n",
    "\n",
    "* `\"configurationType\": \"DSS Coordinate\"` -- [Query for list of OpenDSS XY coordinates](#5.3.-Query-for-OpenDSS-Coordinate-File)\n",
    "\n",
    "\n",
    "* `\"configurationType\": \"YBus Export\"` -- [Export Y-Bus matrix from OpenDSS](#5.4.-Query-for-Y-Bus-Matrix)"
   ]
  },
  {
   "cell_type": "markdown",
   "metadata": {},
   "source": [
    "[Return to Top](#Table-of-Contents)"
   ]
  },
  {
   "cell_type": "markdown",
   "metadata": {},
   "source": [
    "# 3. Querying for GridLab-D Configuration Files\n",
    "\n",
    "This section outlines the details of key-value pairs for the possible queries associated with each value of the `queryMeasurement` key listed above."
   ]
  },
  {
   "cell_type": "markdown",
   "metadata": {},
   "source": [
    "## 3.1. Query for all GridLab-D Files\n",
    "\n",
    "This API call generates all the GLM files necessary to solve the power system model in GridLab-D. The query returns a directory where the set of GLM files are located. \n",
    "\n",
    "Configuration File request key-value pair:\n",
    "\n",
    "* `\"configurationType\": \"GridLab-D All\"`\n",
    "\n",
    "The `parameters` key has a set of required values as well as some optional values:\n",
    "\n",
    "```\n",
    "\"parameters\": {     REQUIRED KEYS                   REQUIRED VALUES\n",
    "                \"model_id\":                           mRID as string ,\n",
    "                \"directory\":                          output directory as string ,\n",
    "                \"simulation_name\":                    string ,\n",
    "                \"simulation_start_time\":              epoch time number ,\n",
    "                \"simulation_duration\":                number ,\n",
    "                \"simulation_id\":                      number ,\n",
    "                \"simulation_broker_host\":             string ,\n",
    "                \"simulation_broker_port\":             number ,\n",
    "                    OPTIONAL KEYS                  OPTIONAL VALUES\n",
    "                \"i_fraction\":                         number ,\n",
    "                \"p_fraction\":                         number ,\n",
    "                \"z_fraction\":                         number ,\n",
    "                \"load_scaling_factor\":                number ,\n",
    "                \"schedule_name\":                      string ,\n",
    "                \"solver_method\":                      string }\n",
    "                \n",
    "```\n",
    "\n",
    "The numeric values for the key-value pairs associated with `parameters` can be written as number or as strings. The key-value pairs can be specified in any order."
   ]
  },
  {
   "cell_type": "markdown",
   "metadata": {},
   "source": [
    "__Example: Export IEEE 13 node model with constant current loads to GLM files :__"
   ]
  },
  {
   "cell_type": "code",
   "execution_count": null,
   "metadata": {},
   "outputs": [],
   "source": [
    "topic = \"goss.gridappsd.process.request.config\"\n",
    "\n",
    "message = {\n",
    "    \"configurationType\": \"GridLAB-D All\",\n",
    "    \"parameters\": {\n",
    "        \"directory\": \"/tmp/gridlabdsimulation/\",\n",
    "        \"model_id\": model_mrid,\n",
    "        \"simulation_id\": \"12345678\",\n",
    "        \"simulation_name\": \"mysimulation\",\n",
    "        \"simulation_start_time\": \"1518958800\",\n",
    "        \"simulation_duration\": \"60\",\n",
    "        \"simulation_broker_host\": \"localhost\",\n",
    "        \"simulation_broker_port\": \"61616\",\n",
    "        \"schedule_name\": \"ieeezipload\",\n",
    "        \"load_scaling_factor\": \"1.0\",\n",
    "        \"z_fraction\": \"0.0\",\n",
    "        \"i_fraction\": \"1.0\",\n",
    "        \"p_fraction\": \"0.0\",\n",
    "        \"solver_method\": \"NR\" }\n",
    "}\n",
    "\n",
    "gapps.get_response(topic, message, timeout = 120)"
   ]
  },
  {
   "cell_type": "markdown",
   "metadata": {},
   "source": [
    "__Note:__ The output directory is inside the GridAPPS-D Docker Container, not in your Ubuntu or Windows environment. To access the files, it is necessary to change directories to those inside the docker container.\n",
    "\n",
    "Open a new Ubuntu terminal and run:\n",
    "* `docker exec -it gridappsd-docker_gridappsd_1 bash`\n",
    "* `cd /tmp/gridlabdsimulation`\n",
    "* `ls -l`\n",
    "\n",
    "To copy the files to your regular directory, see Lesson 0.XX (to be released shortly) on working with Docker containers."
   ]
  },
  {
   "attachments": {
    "2_7_config_file_docker_directory.png": {
     "image/png": "[encoded data removed]"
    }
   },
   "cell_type": "markdown",
   "metadata": {},
   "source": [
    "![2_7_config_file_docker_directory.png](attachment:2_7_config_file_docker_directory.png)"
   ]
  },
  {
   "cell_type": "markdown",
   "metadata": {},
   "source": [
    "[Return to Top](#Table-of-Contents)"
   ]
  },
  {
   "cell_type": "markdown",
   "metadata": {},
   "source": [
    "## 3.2. Query for GridLab-D Base GLM File\n",
    "\n",
    "This API call generates a single GLM file that contains the entire power system model that can be solved in GridLab-D. The query returns the entire model GLM file wrapped in a python dictionary.\n",
    "\n",
    "Configuration File request key-value pair:\n",
    "\n",
    "* `\"configurationType\": \"GridLab-D Base GLM\"`\n",
    "\n",
    "The `parameters` key has a set of required values as well as some optional values:\n",
    "\n",
    "```\n",
    "\"parameters\": {     REQUIRED KEYS                   REQUIRED VALUES\n",
    "                \"model_id\":                           mRID as string ,\n",
    "                    OPTIONAL KEYS                  OPTIONAL VALUES\n",
    "                \"i_fraction\":                         number ,\n",
    "                \"p_fraction\":                         number ,\n",
    "                \"z_fraction\":                         number ,\n",
    "                \"load_scaling_factor\":                number ,\n",
    "                \"schedule_name\":                      string }\n",
    "                \n",
    "```\n",
    "\n",
    "The numeric values for the key-value pairs associated with `parameters` can be written as number or as strings. The key-value pairs can be specified in any order."
   ]
  },
  {
   "cell_type": "markdown",
   "metadata": {},
   "source": [
    "__Example 1: Create GLM base file using nominal load values:__"
   ]
  },
  {
   "cell_type": "code",
   "execution_count": null,
   "metadata": {},
   "outputs": [],
   "source": [
    "topic = \"goss.gridappsd.process.request.config\"\n",
    "\n",
    "message = {\n",
    "    \"configurationType\": \"GridLAB-D Base GLM\",\n",
    "    \"parameters\": {\"model_id\": model_mrid}\n",
    "}\n",
    "\n",
    "gapps.get_response(topic, message, timeout = 60)"
   ]
  },
  {
   "cell_type": "markdown",
   "metadata": {},
   "source": [
    "__Example 2: Create GLM base file using all constant current loads and hourly load curve:__"
   ]
  },
  {
   "cell_type": "code",
   "execution_count": null,
   "metadata": {},
   "outputs": [],
   "source": [
    "topic = \"goss.gridappsd.process.request.config\"\n",
    "\n",
    "message = {\n",
    "    \"configurationType\": \"GridLAB-D Base GLM\",\n",
    "    \"parameters\": {\n",
    "        \"model_id\": model_mrid,\n",
    "        \"load_scaling_factor\": \"1.0\",\n",
    "        \"z_fraction\": 0.0,\n",
    "        \"i_fraction\": 1.0,\n",
    "        \"p_fraction\": \"0.0\",\n",
    "        \"schedule_name\": \"ieeezipload\"}\n",
    "}\n",
    "\n",
    "gapps.get_response(topic, message, timeout = 60)"
   ]
  },
  {
   "cell_type": "markdown",
   "metadata": {},
   "source": [
    "[Return to Top](#Table-of-Contents)"
   ]
  },
  {
   "cell_type": "markdown",
   "metadata": {},
   "source": [
    "## 3.3. Query for GridLab-D Symbols File\n",
    "\n",
    "This API call generates a file with all the XY coordinates used by GridLab-D when running a simulation.\n",
    "\n",
    "Configuration File request key-value pair:\n",
    "\n",
    "* `\"configurationType\": \"GridLab-D Symbols\"`\n",
    "\n",
    "The `parameters` key has a set of required values as well as some optional values:\n",
    "\n",
    "```\n",
    "\"parameters\": {     REQUIRED KEYS                   REQUIRED VALUES\n",
    "                \"model_id\":                           mRID as string ,\n",
    "                    OPTIONAL KEYS                  OPTIONAL VALUES\n",
    "                \"simulation_id\":                      number }\n",
    "                \n",
    "```\n",
    "The key-value pairs can be specified in any order."
   ]
  },
  {
   "cell_type": "code",
   "execution_count": null,
   "metadata": {},
   "outputs": [],
   "source": [
    "topic = \"goss.gridappsd.process.request.config\"\n",
    "\n",
    "message = {\n",
    "    \"configurationType\": \"GridLAB-D Symbols\",\n",
    "    \"parameters\": { \"model_id\": model_mrid }\n",
    "}\n",
    "\n",
    "gapps.get_response(topic, message)"
   ]
  },
  {
   "cell_type": "markdown",
   "metadata": {},
   "source": [
    "[Return to Top](#Table-of-Contents)"
   ]
  },
  {
   "cell_type": "markdown",
   "metadata": {},
   "source": [
    "## 3.4. Query for GridLab-D Measurement Types\n",
    "\n",
    "This API call returns a list of device names and types of available measurement in the GridLab-D format (__not__ CIM classes or measurement mRIDs)\n",
    "\n",
    "Configuration File request key-value pair:\n",
    "\n",
    "* `\"configurationType\": \"GridLab-D Simulation Output\"`\n",
    "\n",
    "The `parameters` key has a set of required values as well as some optional values:\n",
    "\n",
    "```\n",
    "\"parameters\": {     REQUIRED KEYS                   REQUIRED VALUES\n",
    "                \"model_id\":                           mRID as string ,\n",
    "                    OPTIONAL KEYS                  OPTIONAL VALUES\n",
    "                \"simulation_id\":                      number }\n",
    "                \n",
    "```\n",
    "The key-value pairs can be specified in any order."
   ]
  },
  {
   "cell_type": "code",
   "execution_count": null,
   "metadata": {},
   "outputs": [],
   "source": [
    "topic = \"goss.gridappsd.process.request.config\"\n",
    "\n",
    "message = {\n",
    "    \"configurationType\": \"GridLAB-D Simulation Output\",\n",
    "    \"parameters\":{\"model_id\": model_mrid}\n",
    "}\n",
    "\n",
    "gapps.get_response(topic, message)"
   ]
  },
  {
   "cell_type": "markdown",
   "metadata": {},
   "source": [
    "[Return to Top](#Table-of-Contents)"
   ]
  },
  {
   "cell_type": "markdown",
   "metadata": {},
   "source": [
    "---\n",
    "# 4. Querying for CIM Dictionary Files\n",
    "\n",
    "## 4.1. Query for Model Dictionary\n",
    "\n",
    "This API generates a python dictionary which maps the CIM mRIDs of objects in the power system model to names of model objects used in other simulators.\n",
    "\n",
    "Configuration File request key-value pair:\n",
    "\n",
    "* `\"configurationType\": \"CIM Dictionary\"`\n",
    "\n",
    "The `parameters` key has a set of required values as well as some optional values:\n",
    "\n",
    "```\n",
    "\"parameters\": {     REQUIRED KEYS                   REQUIRED VALUES\n",
    "                \"model_id\":                           mRID as string ,\n",
    "                    OPTIONAL KEYS                  OPTIONAL VALUES\n",
    "                \"simulation_id\":                      number }\n",
    "                \n",
    "```\n",
    "The key-value pairs can be specified in any order."
   ]
  },
  {
   "cell_type": "code",
   "execution_count": null,
   "metadata": {},
   "outputs": [],
   "source": [
    "topic = \"goss.gridappsd.process.request.config\"\n",
    "\n",
    "message = {\n",
    "    \"configurationType\": \"CIM Dictionary\",\n",
    "    \"parameters\":{\"model_id\": model_mrid}\n",
    "}\n",
    "\n",
    "gapps.get_response(topic, message)"
   ]
  },
  {
   "cell_type": "markdown",
   "metadata": {},
   "source": [
    "[Return to Top](#Table-of-Contents)"
   ]
  },
  {
   "cell_type": "markdown",
   "metadata": {},
   "source": [
    "## 4.2. Query for CIM Feeder Index \n",
    "\n",
    "This API call returns a python dictionary of the available feeders in the Blazegraph database of power system models.\n",
    "\n",
    "Configuration File request key-value pair:\n",
    "\n",
    "* `\"configurationType\": \"CIM Feeder Index\"`\n",
    "\n",
    "The `parameters` key has a set of required values as well as some optional values:\n",
    "\n",
    "```\n",
    "\"parameters\": {     REQUIRED KEYS                   REQUIRED VALUES\n",
    "                \"model_id\":                           mRID as string ,\n",
    "                    OPTIONAL KEYS                  OPTIONAL VALUES\n",
    "                \"simulation_id\":                      number }\n",
    "                \n",
    "```\n",
    "The key-value pairs can be specified in any order."
   ]
  },
  {
   "cell_type": "code",
   "execution_count": null,
   "metadata": {},
   "outputs": [],
   "source": [
    "topic = \"goss.gridappsd.process.request.config\"\n",
    "\n",
    "message = {\n",
    "    \"configurationType\": \"CIM Feeder Index\",\n",
    "    \"parameters\":{\"model_id\": model_mrid}\n",
    "}\n",
    "\n",
    "gapps.get_response(topic, message)"
   ]
  },
  {
   "cell_type": "markdown",
   "metadata": {},
   "source": [
    "[Return to Top](#Table-of-Contents)"
   ]
  },
  {
   "cell_type": "markdown",
   "metadata": {},
   "source": [
    "---\n",
    "# 5. Querying for OpenDSS Configuration Files\n",
    "\n",
    "## 5.1. Query for all OpenDSS Files\n",
    "\n",
    "This API call generates all the OpenDSS files necessary to solve the power system model in OpenDSS. The query returns a directory where the set of DSS files are located. \n",
    "\n",
    "Configuration File request key-value pair:\n",
    "\n",
    "* `\"configurationType\": \"DSS All\"`\n",
    "\n",
    "The `parameters` key has a set of required values as well as some optional values:\n",
    "\n",
    "```\n",
    "\"parameters\": {     REQUIRED KEYS                   REQUIRED VALUES\n",
    "                \"model_id\":                           mRID as string ,\n",
    "                \"directory\":                          desired output directory as string ,\n",
    "                \"simulation_name\":                     string ,\n",
    "                \"simulation_start_time\":              epoch time number ,\n",
    "                \"simulation_duration\":                number ,\n",
    "                \"simulation_id\":                      number ,\n",
    "                \"simulation_broker_host\":             string ,\n",
    "                \"simulation_broker_port\":             number ,\n",
    "                    OPTIONAL KEYS                  OPTIONAL VALUES\n",
    "                \"i_fraction\":                         number ,\n",
    "                \"p_fraction\":                         number ,\n",
    "                \"z_fraction\":                         number ,\n",
    "                \"load_scaling_factor\":                number ,\n",
    "                \"schedule_name\":                      string ,\n",
    "                \"solver_method\":                      string }\n",
    "                \n",
    "```\n",
    "\n",
    "The numeric values for the key-value pairs associated with `parameters` can be written as number or as strings. The key-value pairs can be specified in any order.\n",
    "\n",
    "__Example: Export IEEE 13 node model with constant current loads to DSS files :__\n",
    "\n"
   ]
  },
  {
   "cell_type": "code",
   "execution_count": null,
   "metadata": {},
   "outputs": [],
   "source": [
    "topic = \"goss.gridappsd.process.request.config\"\n",
    "\n",
    "message = {\n",
    "    \"configurationType\": \"DSS All\",\n",
    "    \"parameters\": {\n",
    "        \"directory\": \"/tmp/dsssimulation/\",\n",
    "        \"model_id\": model_mrid,\n",
    "        \"simulation_id\": \"12345678\",\n",
    "        \"simulation_name\": \"ieee13\",\n",
    "        \"simulation_start_time\": \"1518958800\",\n",
    "        \"simulation_duration\": \"60\",\n",
    "        \"simulation_broker_host\": \"localhost\",\n",
    "        \"simulation_broker_port\": \"61616\",\n",
    "        \"schedule_name\": \"ieeezipload\",\n",
    "        \"load_scaling_factor\": \"1.0\",\n",
    "        \"z_fraction\": \"0.0\",\n",
    "        \"i_fraction\": \"1.0\",\n",
    "        \"p_fraction\": \"0.0\",\n",
    "        \"solver_method\": \"NR\" }\n",
    "}\n",
    "\n",
    "gapps.get_response(topic, message)"
   ]
  },
  {
   "cell_type": "markdown",
   "metadata": {},
   "source": [
    "__Note:__ The output directory is inside the GridAPPS-D Docker Container, not in your Ubuntu or Windows environment. To access the files, it is necessary to change directories to those inside the docker container.\n",
    "\n",
    "Open a new Ubuntu terminal and run:\n",
    "* `docker exec -it gridappsd-docker_gridappsd_1 bash`\n",
    "* `cd /tmp/dssdsimulation`\n",
    "* `ls -l`\n",
    "\n",
    "To copy the files to your regular directory, see Lesson 0.XX (to be released shortly) on working with Docker containers."
   ]
  },
  {
   "cell_type": "markdown",
   "metadata": {},
   "source": [
    "[Return to Top](#Table-of-Contents)"
   ]
  },
  {
   "cell_type": "markdown",
   "metadata": {},
   "source": [
    "## 5.2. Query for OpenDSS Base File\n",
    "\n",
    "This API call generates a single DSS file that contains the entire power system model that can be solved in OpenDSS. The query returns the entire model DSS file wrapped in a python dictionary.\n",
    "\n",
    "Configuration File request key-value pair:\n",
    "\n",
    "* `\"configurationType\": \"DSS Base\"`\n",
    "\n",
    "The `parameters` key has a set of required values as well as some optional values:\n",
    "\n",
    "```\n",
    "\"parameters\": {     REQUIRED KEYS                   REQUIRED VALUES\n",
    "                \"model_id\":                           mRID as string ,\n",
    "                    OPTIONAL KEYS                  OPTIONAL VALUES\n",
    "                \"i_fraction\":                         number ,\n",
    "                \"p_fraction\":                         number ,\n",
    "                \"z_fraction\":                         number ,\n",
    "                \"load_scaling_factor\":                number ,\n",
    "                \"schedule_name\":                      string }\n",
    "                \n",
    "```\n",
    "\n",
    "The numeric values for the key-value pairs associated with `parameters` can be written as number or as strings. The key-value pairs can be specified in any order."
   ]
  },
  {
   "cell_type": "markdown",
   "metadata": {},
   "source": [
    "__Example 1: Create GLM base file using nominal load values:__"
   ]
  },
  {
   "cell_type": "code",
   "execution_count": null,
   "metadata": {},
   "outputs": [],
   "source": [
    "topic = \"goss.gridappsd.process.request.config\"\n",
    "\n",
    "message = {\n",
    "    \"configurationType\": \"DSS Base\",\n",
    "    \"parameters\": {\"model_id\": model_mrid}\n",
    "}\n",
    "\n",
    "gapps.get_response(topic, message)"
   ]
  },
  {
   "cell_type": "markdown",
   "metadata": {},
   "source": [
    "__Example 2: Create GLM base file using all constant current loads and hourly load curve:__"
   ]
  },
  {
   "cell_type": "code",
   "execution_count": null,
   "metadata": {},
   "outputs": [],
   "source": [
    "topic = \"goss.gridappsd.process.request.config\"\n",
    "\n",
    "message = {\n",
    "    \"configurationType\": \"DSS Base\",\n",
    "    \"parameters\": {\n",
    "        \"model_id\": model_mrid,\n",
    "        \"load_scaling_factor\": \"1.0\",\n",
    "        \"z_fraction\": 0.0,\n",
    "        \"i_fraction\": 1.0,\n",
    "        \"p_fraction\": \"0.0\",\n",
    "        \"schedule_name\": \"ieeezipload\"}\n",
    "}\n",
    "\n",
    "gapps.get_response(topic, message)"
   ]
  },
  {
   "cell_type": "markdown",
   "metadata": {},
   "source": [
    "[Return to Top](#Table-of-Contents)"
   ]
  },
  {
   "cell_type": "markdown",
   "metadata": {},
   "source": [
    "## 5.3. Query for OpenDSS Coordinate File\n",
    "\n",
    "This API call generates a file with all the XY coordinates used by OpenDSS when plotting the feeder.\n",
    "\n",
    "Configuration File request key-value pair:\n",
    "\n",
    "* `\"configurationType\": \"DSS Coordinate\"`\n",
    "\n",
    "The `parameters` key has a set of required values as well as some optional values:\n",
    "\n",
    "```\n",
    "\"parameters\": {     REQUIRED KEYS                   REQUIRED VALUES\n",
    "                \"model_id\":                           mRID as string ,\n",
    "                    OPTIONAL KEYS                  OPTIONAL VALUES\n",
    "                \"simulation_id\":                      number }\n",
    "                \n",
    "```\n",
    "The key-value pairs can be specified in any order."
   ]
  },
  {
   "cell_type": "code",
   "execution_count": null,
   "metadata": {},
   "outputs": [],
   "source": [
    "topic = \"goss.gridappsd.process.request.config\"\n",
    "\n",
    "message = {\n",
    "    \"configurationType\": \"DSS Coordinate\",\n",
    "    \"parameters\": {\"model_id\": model_mrid}\n",
    "}\n",
    "\n",
    "gapps.get_response(topic, message)"
   ]
  },
  {
   "cell_type": "markdown",
   "metadata": {},
   "source": [
    "[Return to Top](#Table-of-Contents)"
   ]
  },
  {
   "cell_type": "markdown",
   "metadata": {},
   "source": [
    "## 5.4. Query for Y-Bus Matrix\n",
    "\n",
    "This API call generates a Y-Bus matrix from __either__ the model mRID or the simulation id.\n",
    "\n",
    "__Note:__ The GridAPPS-D platform currently does not have an in-built topology processor, so the Y-Bus matrix is NOT updated during the simulation to reflect switching actions or transformer tap changes that happen in real time.  \n",
    "\n",
    "Configuration File request key-value pair:\n",
    "\n",
    "* `\"configurationType\": \"YBus Export\"`\n",
    "\n",
    "The `parameters` key has a set of required values as well as some optional values:\n",
    "\n",
    "```\n",
    "\"parameters\": {     REQUIRED KEYS                   REQUIRED VALUES\n",
    "                \"model_id\":                           mRID as string ,\n",
    "                    OR\n",
    "                \"simulation_id\":                      number }\n",
    "                \n",
    "```\n",
    "The key-value pairs can be specified in any order."
   ]
  },
  {
   "cell_type": "markdown",
   "metadata": {},
   "source": [
    "__Example 1: Request Y-Bus for IEEE 13 node model using model mRID:__"
   ]
  },
  {
   "cell_type": "code",
   "execution_count": null,
   "metadata": {},
   "outputs": [],
   "source": [
    "topic = \"goss.gridappsd.process.request.config\"\n",
    "\n",
    "message = {\n",
    "    \"configurationType\": \"YBus Export\",\n",
    "    \"parameters\": {\"model_id\": model_mrid}\n",
    "}\n",
    "\n",
    "gapps.get_response(topic, message)"
   ]
  },
  {
   "cell_type": "markdown",
   "metadata": {},
   "source": [
    "__Example 2: Request Y-Bus for IEEE 13 node model with all loads set as constant current using model mRID:__"
   ]
  },
  {
   "cell_type": "code",
   "execution_count": null,
   "metadata": {},
   "outputs": [],
   "source": [
    "topic = \"goss.gridappsd.process.request.config\"\n",
    "\n",
    "message = {\n",
    "    \"configurationType\": \"YBus Export\",\n",
    "    \"parameters\": {\n",
    "        \"model_id\": \"_C1C3E687-6FFD-C753-582B-632A27E28507\",\n",
    "        \"load_scaling_factor\": \"2.0\",\n",
    "        \"schedule_name\": \"ieeezipload\",\n",
    "        \"z_fraction\": \"0.4\",\n",
    "        \"i_fraction\": \"0.3\",\n",
    "        \"p_fraction\": \"0.3\" }\n",
    "}\n",
    "\n",
    "gapps.get_response(topic, message)"
   ]
  },
  {
   "cell_type": "markdown",
   "metadata": {},
   "source": [
    "__Example 3: Obtain Y-Bus from simulation_id:__"
   ]
  },
  {
   "cell_type": "code",
   "execution_count": null,
   "metadata": {},
   "outputs": [],
   "source": [
    "viz_simulation_id = \"paste id here\""
   ]
  },
  {
   "cell_type": "code",
   "execution_count": null,
   "metadata": {},
   "outputs": [],
   "source": [
    "topic = \"goss.gridappsd.process.request.config\"\n",
    "\n",
    "message = {\n",
    "    \"configurationType\":\"YBus Export\",\n",
    "    \"parameters\":{\"simulation_id\": viz_simulation_id}\n",
    "}\n",
    "\n",
    "gapps.get_response(topic, message)"
   ]
  },
  {
   "cell_type": "markdown",
   "metadata": {},
   "source": [
    "[Return to Top](#Table-of-Contents)"
   ]
  }
 ],
 "metadata": {
  "kernelspec": {
   "display_name": "Python 3",
   "language": "python",
   "name": "python3"
  },
  "language_info": {
   "codemirror_mode": {
    "name": "ipython",
    "version": 3
   },
   "file_extension": ".py",
   "mimetype": "text/x-python",
   "name": "python",
   "nbconvert_exporter": "python",
   "pygments_lexer": "ipython3",
   "version": "3.8.3"
  }
 },
 "nbformat": 4,
 "nbformat_minor": 4
}
