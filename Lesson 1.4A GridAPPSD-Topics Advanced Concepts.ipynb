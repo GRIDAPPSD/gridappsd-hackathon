{
 "cells": [
  {
   "cell_type": "code",
   "execution_count": null,
   "metadata": {},
   "outputs": [],
   "source": [
    "# Establish connection to GridAPPS-D Platform:\n",
    "from gridappsd import GridAPPSD\n",
    "gridappsd_conn = GridAPPSD(\"('localhost', 61613)\", username='system', password='manager')\n",
    "\n",
    "# Form JSON query message:\n",
    "message = '{\"requestType\": \"QUERY_MODEL_NAMES\", \"resultFormat\": \"JSON\"}'"
   ]
  },
  {
   "cell_type": "markdown",
   "metadata": {},
   "source": [
    "Original method from Lesson 2 - Not using topics library:"
   ]
  },
  {
   "cell_type": "code",
   "execution_count": null,
   "metadata": {},
   "outputs": [],
   "source": [
    "topic = \"goss.gridappsd.process.request.data.powergridmodel\"\n",
    "gridappsd_conn.get_response(topic, message)"
   ]
  },
  {
   "cell_type": "markdown",
   "metadata": {},
   "source": [
    "Using a pre-formed GridAPPS-D topic:"
   ]
  },
  {
   "cell_type": "code",
   "execution_count": null,
   "metadata": {},
   "outputs": [],
   "source": [
    "from gridappsd import topics as t\n",
    "gridappsd_conn.get_response(t.REQUEST_POWERGRID_DATA, message)"
   ]
  },
  {
   "cell_type": "markdown",
   "metadata": {},
   "source": [
    "----------\n",
    "## Old material (delete when done)\n",
    "\n",
    "The GridAPPS-D API uses topics to specify the channel on which to communicate.\n",
    "\n",
    "There are also several topics for the platform, services, applications, and simulations to which one can subscribe:\n",
    "\n",
    "* _platform_log_topic_ -- Utility method for getting the platform.log base topic\n",
    "\n",
    "* _service_input_topic_ -- Utility method for getting the input topic for a specific service\n",
    "\n",
    "* _service_output_topic_ -- Utility method for getting the output topic for a specific service\n",
    "\n",
    "* _application_input_topic_ -- Utility method for getting the input topic for a specific application\n",
    "\n",
    "* _application_output_topic_ -- Utility method for getting the output topic for a specific application\n",
    "\n",
    "* _simulation_input_topic_ -- Gets the topic to write data to for the simulation\n",
    "\n",
    "* _simulation_output_topic_ -- Gets the topic for subscribing to output from the simulation\n",
    "\n",
    "* _simulation_log_topic_ -- Topic for the [Logging API](https://gridappsd.readthedocs.io/en/latest/using_gridappsd/index.html#subscribing-to-logs)\n"
   ]
  },
  {
   "cell_type": "code",
   "execution_count": null,
   "metadata": {},
   "outputs": [],
   "source": [
    "from gridappsd import topics as t\n",
    "gridappsd_conn.get_response(t.REQUEST_POWERGRID_DATA, message)"
   ]
  }
 ],
 "metadata": {
  "kernelspec": {
   "display_name": "Python 3",
   "language": "python",
   "name": "python3"
  },
  "language_info": {
   "codemirror_mode": {
    "name": "ipython",
    "version": 3
   },
   "file_extension": ".py",
   "mimetype": "text/x-python",
   "name": "python",
   "nbconvert_exporter": "python",
   "pygments_lexer": "ipython3",
   "version": "3.8.3"
  }
 },
 "nbformat": 4,
 "nbformat_minor": 4
}
