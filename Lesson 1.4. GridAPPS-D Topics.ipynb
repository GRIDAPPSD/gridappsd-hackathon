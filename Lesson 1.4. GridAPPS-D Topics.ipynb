{
 "cells": [
  {
   "cell_type": "markdown",
   "metadata": {},
   "source": [
    "# Lesson 1.4:\n",
    "# GridAPPS-D Topics Library\n",
    "\n",
    "This tutorial introduces the topics library in GridAPPS-D and how it can be used\n",
    "\n",
    "__Learning Objectives:__\n",
    "\n",
    "At the end of the tutorial, the user should be able to\n",
    "\n",
    "* Describe what are GridAPPS-D Topics\n",
    "* Explain the difference between `/queue/` and `/topic/` channels\n",
    "* Import and use the GridAPPSD-Python library of topics\n",
    "* Implement shortcut functions for creating GridAPPS-D Topics"
   ]
  },
  {
   "cell_type": "markdown",
   "metadata": {},
   "source": [
    "# Table of Contents\n",
    "\n",
    "* [1. What are Topics?](#1.-What-are-Topics-in-GridAPPS-D?)\n",
    "* [2. /queue/ vs /topic/](#2.-/queue/-vs-/topic/)\n",
    "\t* [2.1. Queue Channels](#2.1.-Queue-Channels)\n",
    "    * [2.2. Topic Channels](#2.2.-Topic-Channels)\n",
    "* [3. Advantages of Importing the Topics Library](#3.-Advantages-of-Importing-the-Topics-Library)\n",
    "* [4. GridAPPS-D Python Topic Functions](#4.-GridAPPSD-Python-Topics-Functions)\n",
    "    * [4.1. Subscribe to Simulation Output - `simulation_output_topic(simulation_id)`](#4.1.-Subscribe-to-Simulation-Output)\n",
    "    * [4.2. Publish to Simulation Input](#4.2.-Publish-to-Simulation-Input)\n",
    "    * [4.3. Subscribe to Application Output](#4.3.-Subscribe-to-Application-Output)\n",
    "    * [4.4. Publish to Application Input](#4.4.-Subscribe-to-Application-Input)\n",
    "    * [4.5. Subscribe to Service Output](#4.3.-Subscribe-to-Service-Output)\n",
    "    * [4.6. Publish to Service Input](#4.4.-Subscribe-to-Service-Input)\n"
   ]
  },
  {
   "cell_type": "markdown",
   "metadata": {},
   "source": [
    "---\n",
    "# 1. What are Topics in GridAPPS-D?\n",
    "\n",
    "When communicating with the GridAPPS-D Platform through API, it is necessary to specify a topic, which tells (GOSS Message Bus??) on which channel to communicate with the application.\n",
    "\n",
    "In the previous lessons, we manually specified the topic as a string, like this\n",
    "\n",
    "`topic = \"goss.gridappsd.process.request.data.powergridmodel\"`\n",
    "\n",
    "It is entirely possible to use this method throughout your application. However, this requires you to look up or remember the correct topic for each API call."
   ]
  },
  {
   "cell_type": "markdown",
   "metadata": {},
   "source": [
    "---\n",
    "# 2. `/queue/` vs `/topic/`\n",
    "\n",
    "GridAPPS-D uses two types of topics to determine the visibility of the API call to other applications and services.\n",
    "\n",
    "## 2.1. Queue Channels\n",
    "\n",
    "`/queue/` is used for communication channels where only the GridAPPS-D Platform is listening to the API call. These API calls are processed on a first-in, first-out basis. There is only one subscriber to the communication channel.\n",
    "\n",
    "API calls to the Blazegraph database, Logs, Timeseries database, Config files, and Platform status are all queue channels. All the GridAPPS-D Topics for queue channels typically do not change over the course of an application or simulation run.\n",
    "\n",
    "In the GridAPPSD-Python library, it is assumed that a topic is a queue channel if not otherwise specified. These two GridAPPS-D Topic definitions are equivalent:\n",
    "\n",
    "`topic = '/queue/goss.gridappsd.process.request.data.powergridmodel'`\n",
    "\n",
    "`topic = 'goss.gridappsd.process.request.data.powergridmodel'`\n",
    "\n",
    "\n",
    "## 2.2. Topic Channels\n",
    "\n",
    "`/topic/` is used for communication channels where the API call is to broadcast to all subscribers through the GOSS Message Bus, inlcuding other applications, services, FNCS Bridge, etc. \n",
    "\n",
    "API calls to the Simulation, services, and active applications use topic channels to communicate and typically need to the specify the Simulation ID, Service ID, and Application ID. The particular topic for such an API call will change between simulations and instances, and so shortcut functions are provided in GridAPPSD-Python library to assist in generating the correct Topic.\n",
    "\n",
    "In GridAPPSD-Python, it is necessary to specify if a GridAPPS-D Topic is a `/topic/` channel broadcasting to all subscribers:\n",
    "\n",
    "`topic = \"/topic/goss.gridappsd.simulation.input.\"+simulation_id`"
   ]
  },
  {
   "cell_type": "markdown",
   "metadata": {},
   "source": [
    "---\n",
    "# 3. Advantages of Importing the Topics Library\n",
    "\n",
    "The GridAPPSD-Python Library contains several shortcuts so that you can use the correct topic quickly, without needing to look up the correct string for a particular API call. It also helps make your code more readable.\n",
    "\n",
    "## Queue Channels\n",
    "\n",
    "The GridAPPSD-Python Library contains shortcut functions for all of the API calls that use queue channels to communicate with the GridAPPS-D Platform. As a result, a general user would not need to look up these topics. Advanced developers can find more details and shortcuts in the Advanced Concepts section at the end of this tutorial.\n",
    "\n",
    "## Topic Channels\n",
    "\n",
    "The GridAPPSD-Python Library contains several functions for creating topics for passing API calls to the GridAPPS-D Platform, applications, and services. A complete list of functions is provided below."
   ]
  },
  {
   "cell_type": "markdown",
   "metadata": {},
   "source": [
    "---\n",
    "# 4. GridAPPSD-Python Topics Functions\n",
    "\n",
    "Before running any of the sample routines in this tutorial, it is first necessary to establish a connection to the GridAPPS-D Platform so that we can start passing calls to the API. \n",
    "\n",
    "Start the GridAPPS-D Platform and start a simulation of any model. Then run the two calls below to connect to the platform and obtain the Simulation ID."
   ]
  },
  {
   "cell_type": "code",
   "execution_count": null,
   "metadata": {},
   "outputs": [],
   "source": [
    "# Establish connection to GridAPPS-D Platform:\n",
    "from gridappsd import GridAPPSD, utils\n",
    "gridappsd_conn = GridAPPSD(utils.get_gridappsd_simulation_id, address=utils.get_gridappsd_address(),\n",
    "          username=utils.get_gridappsd_user(), password=utils.get_gridappsd_pass())"
   ]
  },
  {
   "cell_type": "code",
   "execution_count": null,
   "metadata": {},
   "outputs": [],
   "source": [
    "# Obtain Simulation ID\n",
    "simulation_id = '12345678'\n",
    "\n",
    "# simulation_id = utils.get_gridappsd_simulation_id() # Doesn't work yet\n",
    "# print(simulation_id)"
   ]
  },
  {
   "cell_type": "markdown",
   "metadata": {},
   "source": [
    "---\n",
    "## 4.1. Subscribe to Simulation Output\n",
    "\n",
    "This topic is used to communicate with the Simulation API, which is covered in detail in Lesson XX. The Simulation Output Topic is used to subscribe to the simulation output, which applications use to\n",
    "* Listen to switching actions\n",
    "* Obtaining equipment measurements\n",
    "* ___GET FULL LIST___\n",
    "\n",
    "The GridAPPSD-Python shortcut function for generating the correct topic is\n",
    "\n",
    "`simulation_output_topic(simulation_id)`\n",
    "\n",
    "There are two ways to use the function. The first is to call the library function directly. The second is to use it as part of a class definition."
   ]
  },
  {
   "cell_type": "markdown",
   "metadata": {},
   "source": [
    "__1) Call the topic function directly__"
   ]
  },
  {
   "cell_type": "code",
   "execution_count": null,
   "metadata": {},
   "outputs": [],
   "source": [
    "# Import GridAPPS-D Topic Function:\n",
    "from gridappsd.topics import simulation_output_topic\n",
    "\n",
    "# Call GridAPPSD-Python Topic Function\n",
    "topic = simulation_output_topic(simulation_id)\n",
    "\n",
    "# Print to Notebook Kernel:\n",
    "print(topic)"
   ]
  },
  {
   "cell_type": "markdown",
   "metadata": {},
   "source": [
    "__2) Use the topic function in a class definition__"
   ]
  },
  {
   "cell_type": "code",
   "execution_count": null,
   "metadata": {},
   "outputs": [],
   "source": [
    "# Import GridAPPS-D Topic Function:\n",
    "from gridappsd.topics import simulation_output_topic\n",
    "\n",
    "# Define Subscription Class\n",
    "class MySubscription(object):\n",
    "    def __init__(self,simulation_id):\n",
    "        self._subscribe_to_topic = simulation_output_topic(simulation_id)\n",
    "        \n",
    "# Define Main Function: \n",
    "def _main():\n",
    "    subscription = MySubscription(simulation_id)\n",
    "    print(subscription._subscribe_to_topic)\n",
    "    \n",
    "# Call Main Function:\n",
    "_main()"
   ]
  },
  {
   "cell_type": "markdown",
   "metadata": {},
   "source": [
    "---\n",
    "## 4.2. Publish to Simulation Input\n",
    "\n",
    "This topic is used to communicate with the Simulation API, which is covered in detail in Lesson XX. The Simulation Input Topic is used to publish commands to the GOSS Message Bus, which are then broadcast to all applications, services, and simulations that are listening.\n",
    "\n",
    "Examples of actions that will use this topic include\n",
    "\n",
    "* Taking switching actions\n",
    "* Adjusting DER setpoints\n",
    "* Changing regulator taps\n",
    "* __GET FULL LIST__\n",
    "\n",
    "The GridAPPSD-Python shortcut function for generating the correct topic is\n",
    "\n",
    "`simulation_input_topic(simulation_id)`\n",
    "\n",
    "There are two ways to use the function. The first is to call the library function directly. The second is to use it as part of a class definition."
   ]
  },
  {
   "cell_type": "markdown",
   "metadata": {},
   "source": [
    "__1) Call the topic function directly__"
   ]
  },
  {
   "cell_type": "code",
   "execution_count": null,
   "metadata": {},
   "outputs": [],
   "source": [
    "# Import GridAPPS-D Topic Function:\n",
    "from gridappsd.topics import simulation_input_topic\n",
    "\n",
    "# Call GridAPPSD-Python Topic Function\n",
    "topic = simulation_output_topic(simulation_id)\n",
    "\n",
    "# Print to Notebook Kernel:\n",
    "print(topic)"
   ]
  },
  {
   "cell_type": "markdown",
   "metadata": {},
   "source": [
    "__2) Use the topic function in a class definition__"
   ]
  },
  {
   "cell_type": "code",
   "execution_count": null,
   "metadata": {},
   "outputs": [],
   "source": [
    "# Import GridAPPS-D Topic Function:\n",
    "from gridappsd.topics import simulation_input_topic\n",
    "\n",
    "# Define Subscription Class\n",
    "class MySimulationPublisher(object):\n",
    "    def __init__(self,simulation_id):\n",
    "        self._publish_to_topic = simulation_input_topic(simulation_id)\n",
    "        \n",
    "# Define Main Function: \n",
    "def _main():\n",
    "    subscription = MySimulationPublisher(simulation_id)\n",
    "    print(subscription._publish_to_topic)\n",
    "    \n",
    "# Call Main Function:\n",
    "_main()"
   ]
  },
  {
   "cell_type": "markdown",
   "metadata": {},
   "source": [
    "---\n",
    "## 4.3. Subsribe to Application Output\n",
    "\n",
    "This topic is used to communicate with the Simulation API, which is covered in detail in Lesson XX. The Simulation Input Topic is used to publish commands to the GOSS Message Bus, which are then broadcast to all applications, services, and simulations that are listening.\n",
    "\n",
    "Examples of actions that will use this topic include\n",
    "\n",
    "* Taking switching actions\n",
    "* Adjusting DER setpoints\n",
    "* Changing regulator taps\n",
    "* __GET FULL LIST__\n",
    "\n",
    "The GridAPPSD-Python shortcut function for generating the correct topic is\n",
    "\n",
    "`simulation_input_topic(simulation_id)`\n",
    "\n",
    "There are two ways to use the function. The first is to call the library function directly. The second is to use it as part of a class definition."
   ]
  },
  {
   "cell_type": "markdown",
   "metadata": {},
   "source": [
    "__1) Call the topic function directly__"
   ]
  },
  {
   "cell_type": "code",
   "execution_count": null,
   "metadata": {},
   "outputs": [],
   "source": [
    "# Import GridAPPS-D Topic Function:\n",
    "from gridappsd.topics import simulation_input_topic\n",
    "\n",
    "# Call GridAPPSD-Python Topic Function\n",
    "topic = simulation_output_topic(simulation_id)\n",
    "\n",
    "# Print to Notebook Kernel:\n",
    "print(topic)"
   ]
  },
  {
   "cell_type": "markdown",
   "metadata": {},
   "source": [
    "__2) Use the topic function in a class definition__"
   ]
  },
  {
   "cell_type": "code",
   "execution_count": null,
   "metadata": {},
   "outputs": [],
   "source": [
    "# Import GridAPPS-D Topic Function:\n",
    "from gridappsd.topics import simulation_input_topic\n",
    "\n",
    "# Define Subscription Class\n",
    "class MySimulationPublisher(object):\n",
    "    def __init__(self,simulation_id):\n",
    "        self._publish_to_topic = simulation_input_topic(simulation_id)\n",
    "        \n",
    "# Define Main Function: \n",
    "def _main():\n",
    "    subscription = MySimulationPublisher(simulation_id)\n",
    "    print(subscription._publish_to_topic)\n",
    "    \n",
    "# Call Main Function:\n",
    "_main()"
   ]
  },
  {
   "cell_type": "markdown",
   "metadata": {},
   "source": []
  },
  {
   "cell_type": "code",
   "execution_count": null,
   "metadata": {},
   "outputs": [],
   "source": []
  },
  {
   "cell_type": "markdown",
   "metadata": {},
   "source": []
  },
  {
   "cell_type": "markdown",
   "metadata": {},
   "source": []
  },
  {
   "cell_type": "markdown",
   "metadata": {},
   "source": []
  },
  {
   "cell_type": "markdown",
   "metadata": {},
   "source": []
  },
  {
   "cell_type": "markdown",
   "metadata": {},
   "source": []
  },
  {
   "cell_type": "markdown",
   "metadata": {},
   "source": [
    "## Request Platform Logs\n",
    "\n",
    "This topic is used to communicate with the Logging API, which is covered in detail in Lesson XX. The Platform Logs Topic is used to \n",
    "* DO SOMETHING\n",
    "\n",
    "The function used to create a Platform Logs Topic is\n",
    "\n",
    "`platform_log_topic()`\n",
    "\n",
    "___NEED TO UNDERSTAND DIFFERENCE BETWEEN PLATFORM.LOG AND SIMULATION.LOG___"
   ]
  },
  {
   "cell_type": "code",
   "execution_count": null,
   "metadata": {},
   "outputs": [],
   "source": []
  },
  {
   "cell_type": "code",
   "execution_count": null,
   "metadata": {},
   "outputs": [],
   "source": []
  },
  {
   "cell_type": "code",
   "execution_count": null,
   "metadata": {},
   "outputs": [],
   "source": []
  }
 ],
 "metadata": {
  "kernelspec": {
   "display_name": "Python 3",
   "language": "python",
   "name": "python3"
  },
  "language_info": {
   "codemirror_mode": {
    "name": "ipython",
    "version": 3
   },
   "file_extension": ".py",
   "mimetype": "text/x-python",
   "name": "python",
   "nbconvert_exporter": "python",
   "pygments_lexer": "ipython3",
   "version": "3.8.3"
  }
 },
 "nbformat": 4,
 "nbformat_minor": 4
}
