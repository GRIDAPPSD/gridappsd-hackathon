{
 "cells": [
  {
   "cell_type": "code",
   "execution_count": 4,
   "metadata": {},
   "outputs": [
    {
     "ename": "AssertionError",
     "evalue": "",
     "output_type": "error",
     "traceback": [
      "\u001b[1;31m---------------------------------------------------------------------------\u001b[0m",
      "\u001b[1;31mAssertionError\u001b[0m                            Traceback (most recent call last)",
      "\u001b[1;32m<ipython-input-4-0243f95f5e2b>\u001b[0m in \u001b[0;36m<module>\u001b[1;34m\u001b[0m\n\u001b[0;32m     43\u001b[0m \"\"\"\n\u001b[0;32m     44\u001b[0m \u001b[1;33m\u001b[0m\u001b[0m\n\u001b[1;32m---> 45\u001b[1;33m \u001b[0msim\u001b[0m \u001b[1;33m=\u001b[0m \u001b[0mSimulation\u001b[0m\u001b[1;33m(\u001b[0m\u001b[0mgappsd\u001b[0m\u001b[1;33m,\u001b[0m \u001b[0msim_config\u001b[0m\u001b[1;33m)\u001b[0m\u001b[1;33m\u001b[0m\u001b[1;33m\u001b[0m\u001b[0m\n\u001b[0m\u001b[0;32m     46\u001b[0m \u001b[1;33m\u001b[0m\u001b[0m\n\u001b[0;32m     47\u001b[0m \u001b[0msim\u001b[0m\u001b[1;33m.\u001b[0m\u001b[0mstart_simulation\u001b[0m\u001b[1;33m(\u001b[0m\u001b[1;33m)\u001b[0m\u001b[1;33m\u001b[0m\u001b[1;33m\u001b[0m\u001b[0m\n",
      "\u001b[1;32m~\\miniconda3\\lib\\site-packages\\gridappsd\\simulation.py\u001b[0m in \u001b[0;36m__init__\u001b[1;34m(self, gapps, run_config)\u001b[0m\n\u001b[0;32m     28\u001b[0m     \u001b[1;32mdef\u001b[0m \u001b[0m__init__\u001b[0m\u001b[1;33m(\u001b[0m\u001b[0mself\u001b[0m\u001b[1;33m,\u001b[0m \u001b[0mgapps\u001b[0m\u001b[1;33m:\u001b[0m \u001b[1;34m'GridAPPSD'\u001b[0m\u001b[1;33m,\u001b[0m \u001b[0mrun_config\u001b[0m\u001b[1;33m)\u001b[0m\u001b[1;33m:\u001b[0m\u001b[1;33m\u001b[0m\u001b[1;33m\u001b[0m\u001b[0m\n\u001b[0;32m     29\u001b[0m         \u001b[1;32massert\u001b[0m \u001b[0mtype\u001b[0m\u001b[1;33m(\u001b[0m\u001b[0mgapps\u001b[0m\u001b[1;33m)\u001b[0m\u001b[1;33m.\u001b[0m\u001b[0m__name__\u001b[0m \u001b[1;33m==\u001b[0m \u001b[1;34m'GridAPPSD'\u001b[0m\u001b[1;33m,\u001b[0m  \u001b[1;34m\"Must be an instance of GridAPPSD\"\u001b[0m\u001b[1;33m\u001b[0m\u001b[1;33m\u001b[0m\u001b[0m\n\u001b[1;32m---> 30\u001b[1;33m         \u001b[1;32massert\u001b[0m \u001b[0misinstance\u001b[0m\u001b[1;33m(\u001b[0m\u001b[0mrun_config\u001b[0m\u001b[1;33m,\u001b[0m \u001b[0mdict\u001b[0m\u001b[1;33m)\u001b[0m\u001b[1;33m\u001b[0m\u001b[1;33m\u001b[0m\u001b[0m\n\u001b[0m\u001b[0;32m     31\u001b[0m         \u001b[0mself\u001b[0m\u001b[1;33m.\u001b[0m\u001b[0m_gapps\u001b[0m \u001b[1;33m=\u001b[0m \u001b[0mgapps\u001b[0m\u001b[1;33m\u001b[0m\u001b[1;33m\u001b[0m\u001b[0m\n\u001b[0;32m     32\u001b[0m         \u001b[0mself\u001b[0m\u001b[1;33m.\u001b[0m\u001b[0m_run_config\u001b[0m \u001b[1;33m=\u001b[0m \u001b[0mdeepcopy\u001b[0m\u001b[1;33m(\u001b[0m\u001b[0mrun_config\u001b[0m\u001b[1;33m)\u001b[0m\u001b[1;33m\u001b[0m\u001b[1;33m\u001b[0m\u001b[0m\n",
      "\u001b[1;31mAssertionError\u001b[0m: "
     ]
    }
   ],
   "source": [
    "from gridappsd import GridAPPSD, topics as t\n",
    "from gridappsd.simulation import Simulation\n",
    "\n",
    "from gridappsd import GridAPPSD\n",
    "gridappsd_conn = GridAPPSD(\"('localhost', 61613)\", username='system', password='manager')\n",
    "\n",
    "def gappsd():\n",
    "    gappsd = GridAPPSD()\n",
    "    \n",
    "\n",
    "sim_config = \"\"\"\n",
    "{\n",
    "  \"power_system_config\": {\n",
    "    \"GeographicalRegion_name\": \"_73C512BD-7249-4F50-50DA-D93849B89C43\",\n",
    "    \"SubGeographicalRegion_name\": \"_A1170111-942A-6ABD-D325-C64886DC4D7D\",\n",
    "    \"Line_name\": \"_49AD8E07-3BF9-A4E2-CB8F-C3722F837B62\"\n",
    "  },\n",
    "  \"application_config\": {\n",
    "    \"applications\": []\n",
    "  },\n",
    "  \"simulation_config\": {\n",
    "    \"start_time\": \"1358121600\",\n",
    "    \"duration\": \"600\",\n",
    "    \"simulator\": \"GridLAB-D\",\n",
    "    \"timestep_frequency\": \"1000\",\n",
    "    \"timestep_increment\": \"1000\",\n",
    "    \"run_realtime\": false,\n",
    "    \"simulation_name\": \"ieee13\",\n",
    "    \"power_flow_solver_method\": \"NR\",\n",
    "    \"model_creation_config\": {\n",
    "      \"load_scaling_factor\": \"1\",\n",
    "      \"schedule_name\": \"ieeezipload\",\n",
    "      \"z_fraction\": \"0\",\n",
    "      \"i_fraction\": \"1\",\n",
    "      \"p_fraction\": \"0\",\n",
    "      \"randomize_zipload_fractions\": false,\n",
    "      \"use_houses\": false\n",
    "    }\n",
    "  },\n",
    "  \"test_config\": {\n",
    "    \"events\": [],\n",
    "    \"appId\": \"\"\n",
    "  }\n",
    "}\n",
    "\"\"\"\n",
    "\n",
    "sim = Simulation(gappsd, sim_config)\n",
    "\n",
    "sim.start_simulation()"
   ]
  },
  {
   "cell_type": "code",
   "execution_count": 41,
   "metadata": {},
   "outputs": [],
   "source": [
    "from gridappsd import GridAPPSD\n",
    "# model_map = {\n",
    "#\n",
    "# {\"configurationType\":\"CIM Dictionary\",\"parameters\":{\"model_id\":\"_49AD8E07-3BF9-A4E2-CB8F-C3722F837B62\"}}\n",
    "# }\n",
    "from gridappsd.simulation import Simulation\n",
    "models = dict(ieee123=u'_C1C3E687-6FFD-C753-582B-632A27E28507',\n",
    "              ieee8500=u'_4F76A5F9-271D-9EB8-5E31-AA362D86F2C3',\n",
    "              ieee13nodeckt=u'_49AD8E07-3BF9-A4E2-CB8F-C3722F837B62')\n",
    "run_config_123 = {\n",
    "    \"power_system_config\": {\n",
    "        \"GeographicalRegion_name\": \"_73C512BD-7249-4F50-50DA-D93849B89C43\",\n",
    "        \"SubGeographicalRegion_name\": \"_1CD7D2EE-3C91-3248-5662-A43EFEFAC224\",\n",
    "        \"Line_name\": \"_C1C3E687-6FFD-C753-582B-632A27E28507\"\n",
    "    },\n",
    "    \"application_config\": {\n",
    "        \"applications\": []\n",
    "    },\n",
    "    \"simulation_config\": {\n",
    "        \"simulation_id\": \"12345678\",\n",
    "        \"simulation_name\": \"ieee123demo\",\n",
    "        \"start_time\": \"1562453292\",\n",
    "        \"duration\": \"300\",\n",
    "        \"simulator\": \"GridLAB-D\",\n",
    "        \"timestep_frequency\": \"1000\",\n",
    "        \"timestep_increment\": \"1000\",\n",
    "        \"run_realtime\": True,\n",
    "        \"simulation_name\": \"ieee123\",\n",
    "        \"power_flow_solver_method\": \"NR\",\n",
    "        \n",
    "    },\n",
    "    \"test_config\": {\n",
    "        \"events\": [],\n",
    "        \"appId\": \"_C1C3E687-6FFD-C753-582B-632A27E28507\"\n",
    "    }\n",
    "}\n"
   ]
  },
  {
   "cell_type": "code",
   "execution_count": 45,
   "metadata": {},
   "outputs": [],
   "source": [
    "def timestep(data):\n",
    "    pprint(data)\n",
    "def test_model_retrieval():\n",
    "    gapps = GridAPPSD()\n",
    "    request = {\"configurationType\":\"CIM Dictionary\",\"parameters\":{\"model_id\":\"_C1C3E687-6FFD-C753-582B-632A27E28507\"}}\n",
    "    #response = gapps.get_response(\"goss.gridappsd.process.request.config\", json.dumps(request))\n",
    "    #response = gapps.query_model_info()\n",
    "    simulation = Simulation(gapps, run_config_123)\n",
    "    #simulation.add_timestep_callback(timestep)\n",
    "    simulation.start_simulation()\n",
    "    print(simulation.simulation_id)"
   ]
  },
  {
   "cell_type": "code",
   "execution_count": 46,
   "metadata": {},
   "outputs": [
    {
     "name": "stdout",
     "output_type": "stream",
     "text": [
      "782693080\n"
     ]
    }
   ],
   "source": [
    "test_model_retrieval()"
   ]
  },
  {
   "cell_type": "code",
   "execution_count": 44,
   "metadata": {},
   "outputs": [
    {
     "ename": "NameError",
     "evalue": "name 'simulation' is not defined",
     "output_type": "error",
     "traceback": [
      "\u001b[1;31m---------------------------------------------------------------------------\u001b[0m",
      "\u001b[1;31mNameError\u001b[0m                                 Traceback (most recent call last)",
      "\u001b[1;32m<ipython-input-44-0e44a290313d>\u001b[0m in \u001b[0;36m<module>\u001b[1;34m\u001b[0m\n\u001b[1;32m----> 1\u001b[1;33m \u001b[0mprint\u001b[0m\u001b[1;33m(\u001b[0m\u001b[0msimulation\u001b[0m\u001b[1;33m.\u001b[0m\u001b[0msimulation_id\u001b[0m\u001b[1;33m)\u001b[0m\u001b[1;33m\u001b[0m\u001b[1;33m\u001b[0m\u001b[0m\n\u001b[0m",
      "\u001b[1;31mNameError\u001b[0m: name 'simulation' is not defined"
     ]
    }
   ],
   "source": [
    "print(simulation.simulation_id)"
   ]
  },
  {
   "cell_type": "code",
   "execution_count": null,
   "metadata": {},
   "outputs": [],
   "source": []
  }
 ],
 "metadata": {
  "kernelspec": {
   "display_name": "Python 3",
   "language": "python",
   "name": "python3"
  },
  "language_info": {
   "codemirror_mode": {
    "name": "ipython",
    "version": 3
   },
   "file_extension": ".py",
   "mimetype": "text/x-python",
   "name": "python",
   "nbconvert_exporter": "python",
   "pygments_lexer": "ipython3",
   "version": "3.8.3"
  }
 },
 "nbformat": 4,
 "nbformat_minor": 4
}
