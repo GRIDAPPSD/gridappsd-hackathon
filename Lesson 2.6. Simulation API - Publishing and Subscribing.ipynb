{
 "cells": [
  {
   "cell_type": "markdown",
   "metadata": {},
   "source": [
    "# Lesson 2.6:\n",
    "# Publishing and Subscribing with the Simulation API\n",
    "\n",
    "This tutorial introduces the Simulation API and how it can be used to run power system simulations, subscribe to measurement data, and publish equipment control commands.\n",
    "\n",
    "__Learning Objectives:__\n",
    "\n",
    "At the end of the tutorial, the user should be able to use the Simulation API to\n",
    "\n",
    "* \n",
    "* \n",
    "* \n",
    "\n",
    "## Getting Started\n",
    "\n",
    "__1) Start GridAPPS-D Platform if not running:__\n",
    "\n",
    "Before running any of the sample routines in this tutorial, it is first necessary to start the GridAPPS-D Platform and establish a connection to this notebook so that we can start passing calls to the API."
   ]
  },
  {
   "cell_type": "markdown",
   "metadata": {},
   "source": [
    "_Open the Ubuntu terminal and start the GridAPPS-D Platform if it is not running already:_\n",
    "\n",
    "`cd gridappsd-docker`\n",
    "\n",
    "~/gridappsd-docker$ `./run.sh -t develop`\n",
    "\n",
    "_Once containers are running,_\n",
    "\n",
    "gridappsd@[container]:/gridappsd$ `./run-gridappsd.sh`"
   ]
  },
  {
   "cell_type": "markdown",
   "metadata": {},
   "source": [
    "__2) Start a simulation in the GridAPPS-D Viz:__\n",
    "\n",
    "The Simulation API calls covered in this lesson need to be passed to an active simulation. For the purposes of this tutorial, we will use the GridAPPS-D Viz to start a simulation of the IEEE 123 Node model with a 3600 sec simulation time. After starting the simulation, paste the simulation_id into the code block below.\n",
    "\n",
    "When your application is containerized in Docker and registered with the GridAPPS-D Platform using the docker-compose file, the simulation_id and feeder model mRID as passed as part of the application start call. For this notebook, that information needs to be copied and pasted into the first code block below. "
   ]
  },
  {
   "cell_type": "code",
   "execution_count": null,
   "metadata": {},
   "outputs": [],
   "source": [
    "# Establish connection to GridAPPS-D Platform:\n",
    "from gridappsd import GridAPPSD\n",
    "\n",
    "viz_simulation_id = \"1768931822\"\n",
    "\n",
    "model_mrid = \"_C1C3E687-6FFD-C753-582B-632A27E28507\"\n",
    "\n",
    "gapps = GridAPPSD(viz_simulation_id, \"('localhost', 61613)\", username='system', password='manager')"
   ]
  },
  {
   "cell_type": "markdown",
   "metadata": {},
   "source": [
    "---\n",
    "# Table of Contents\n",
    "\n"
   ]
  },
  {
   "cell_type": "markdown",
   "metadata": {},
   "source": [
    "---\n",
    "# 1. Introduction to the Simulation API\n",
    "\n",
    "\n",
    "The Simulation API is used for all actions related to a power system simulation. It is used to start, pause, restart, and stop a simulation from the command line or inside an application. It is all used to subscribe to measurements of equipment (such as line flows, loads, and DG setpoints) and the statuses of switches, capacitors, transformer taps, etc. It is also used to publish equipment control and other simulation input commands."
   ]
  },
  {
   "cell_type": "markdown",
   "metadata": {},
   "source": [
    "---\n",
    "# 2. Using the Simulation API"
   ]
  },
  {
   "cell_type": "markdown",
   "metadata": {},
   "source": [
    "## 2.1. Specifying the Topic\n",
    "\n",
    "In the previous lessons all the queries passed to other APIs all used static `/queue/` channels to pass API calls to the GOSS message bus and the GridAPPS-D Platform. \n",
    "\n",
    "However, the Simulation API is used to communicate with a broad range of subscribers. The list of topics covered by the Simulation API cover both static `/queue/` and dynamic `/topic/` communication channel names. \n",
    "\n",
    "Extreme care is needed to use the correct topic. For a review of GridAPPS-D topics, see [Lesson 1.4.](Lesson%201.4.%20GridAPPS-D%20Topics.ipynb)\n",
    "\n",
    "The correct topic for each Simulation API call will be provided in the corresponding section for each API task below."
   ]
  },
  {
   "cell_type": "markdown",
   "metadata": {},
   "source": [
    "## 2.2. Structure of a Simulation Message\n",
    "\n",
    "\n",
    "Due to the wide range of tasks accomplished by the Simualtion API, there is no single message format that is used across all API Calls. \n",
    "\n",
    "Each message takes the form of a python dictionary or equivalent JSON script wrapped as a python string. \n",
    "\n",
    "The structure of each Simulation API call message will be provided in the corresponding section for each API task below."
   ]
  },
  {
   "cell_type": "markdown",
   "metadata": {},
   "source": [
    "[Return to Top](#Table-of-Contents)"
   ]
  },
  {
   "cell_type": "markdown",
   "metadata": {},
   "source": [
    "# 3. Publishing to Simulation Input\n"
   ]
  },
  {
   "cell_type": "markdown",
   "metadata": {},
   "source": [
    "## 3.1. Topic to Publish to Simulation Input\n",
    "\n",
    "This is a dynamic `/topic/` communication channel that is best implemented by importing the GriAPPSD-Python library function for generating the correct topic. \n",
    "\n",
    "* `from gridappsd.topics import simulation_input_topic`\n",
    "* `input_topic = simulation_input_topic(simulation_id)`"
   ]
  },
  {
   "cell_type": "code",
   "execution_count": null,
   "metadata": {},
   "outputs": [],
   "source": [
    "from gridappsd.topics import simulation_input_topic\n",
    "\n",
    "input_topic = simulation_input_topic(viz_simulation_id)"
   ]
  },
  {
   "cell_type": "markdown",
   "metadata": {},
   "source": [
    "## 3.2. Obtain Equipment Control mRIDs\n",
    "\n",
    "The mRIDs for controlling equipment are generally the same as those obtained using the `QUERY_OBJECT_TYPES` key with the PowerGrid Models API, which was covered in [Lesson 2.2, Section 4.4](Lesson%202.2.%20PowerGrid%20Models%20API%20-%20Using%20JSON%20Queries.ipynb#4.4.-Query-for-Object-Dictionary).\n",
    "\n",
    "However, the control attributes for each class of equipment in CIM use a different naming convention than those for the object types. Below is a list of `\"objectType\"` used to query for mRIDs and the associated control attribute used in a difference message for each category of power system equipment:\n",
    "\n",
    "* __Switches__\n",
    "    * CIM Class Key: `\"objectType\": \"LoadBreakSwitch\"`\n",
    "    * Control Attribute: `\"attribute\": \"Switch.open\"`\n",
    "    * Values: `1` is open, `0` is closed\n",
    "\n",
    "* __Capacitor Banks:__\n",
    "    * CIM Class Key: `\"objectType\": \"LinearShuntCompensator\"`\n",
    "    * Control Attribute: `\"attribute\": \"ShuntCompensator.sections\"`\n",
    "    * Values: `0` is off/open, `1` is on/closed\n",
    "    \n",
    "* __Inverter-based DERs:__\n",
    "    * CIM Class Key: `\"objectType\": \"PowerElectronicsConnection\"`\n",
    "    * Control Attribute: `\"attribute\": \"PowerElectronicsConnection.p\"`\n",
    "    * Control Attribute: `\"attribute\": \"PowerElectronicsConnection.q\"`\n",
    "    * Values: number in Watts or VArs (not kW)\n",
    "    \n",
    "* __Synchronous Rotating (diesel) DGs:__\n",
    "    * CIM Class Key: `\"objectType\": \"SynchronousMachine\"`\n",
    "    * Control Attribute: `\"attribute\": \"RotatingMachine.p\"`\n",
    "    * Control Attribute: `\"attribute\": \"RotatingMachine.q\"`\n",
    "    * Values: number in Watts or VArs (not kW)\n",
    "    \n",
    "* __Regulating Transformer Tap:__\n",
    "    * CIM Class Key: `\"objectType\": \"RatioTapChanger\"`\n",
    "    * Control Attribute: `\"attribute\": \"TapChanger.step\"`\n",
    "    * Values: integer value for tap step\n",
    "    \n",
    "Note on releases_2020.09.0: The query for RatioTapChanger is not supported in the PowerGrid Models API at the current time. A custom SPARQL query needs to be done, as illustrated in [Lesson 2.3, Section X.XX]()\n",
    "\n",
    "The example below shows a query to obtain the correct mRID for switch SW2 in the IEEE 123 node model:"
   ]
  },
  {
   "cell_type": "code",
   "execution_count": null,
   "metadata": {},
   "outputs": [],
   "source": [
    "from gridappsd import topics as t\n",
    "\n",
    "message = {\n",
    "    \"modelId\": model_mrid,\n",
    "    \"requestType\": \"QUERY_OBJECT_DICT\",\n",
    "    \"resultFormat\": \"JSON\",\n",
    "    \"objectType\": \"LoadBreakSwitch\"\n",
    "}\n",
    "\n",
    "response_obj = gapps.get_response(t.REQUEST_POWERGRID_DATA, message)\n",
    "switch_dict = response_obj[\"data\"]\n",
    "\n",
    "# Filter to get mRID for switch SW2:\n",
    "for index in switch_dict:\n",
    "    if index[\"IdentifiedObject.name\"] == 'sw2':\n",
    "        sw_mrid = index[\"IdentifiedObject.mRID\"]\n",
    "        "
   ]
  },
  {
   "cell_type": "markdown",
   "metadata": {},
   "source": [
    "## 3.3. Format of a Difference Message\n",
    "\n",
    "The general format for a difference message is a python dictionary or equivalent JSON string that specifies the reverse difference and the forward difference, in compliance with the CIM standard:\n",
    "\n",
    "The __reverse difference__ is the current status / value associated with the control attribute. It is a formatted as a list of dictionary constructs, with each dictionary specifying the equipment mRID associated with the CIM class keys above, the control attribute, and the current value of that control attribute. The list can contain reverse differences for multiple pieces of equipment.\n",
    "\n",
    "The __forward difference__ is the desired new status / value associated with the control attribute. It is a formatted as a list of dictionary constructs, with each dictionary specifying the equipment mRID associated with the CIM class keys above, the control attribute, and the current value of that control attribute. The list can contain foward differences for multiple pieces of equipment.\n",
    "\n",
    "```\n",
    "message = {\n",
    "  \"command\": \"update\",\n",
    "  \"input\": {\n",
    "      \"simulation_id\": \"simulation id as string\",\n",
    "      \"message\": {\n",
    "          \"timestamp\": epoch time number,\n",
    "          \"difference_mrid\": \"optional unique mRID for command logs\",\n",
    "          \"reverse_differences\": [{\n",
    "\n",
    "                  \"object\": \"first equipment mRID\",\n",
    "                  \"attribute\": \"control attribute\",\n",
    "                  \"value\": current value\n",
    "              },\n",
    "              {\n",
    "\n",
    "                  \"object\": \"second equipment mRID\",\n",
    "                  \"attribute\": \"control attribute\",\n",
    "                  \"value\": current value\n",
    "              }\n",
    "          ],\n",
    "          \"forward_differences\": [{\n",
    "\n",
    "                  \"object\": \"first equipment mRID\",\n",
    "                  \"attribute\": \"control attribute\",\n",
    "                  \"value\": new value\n",
    "              },\n",
    "              {\n",
    "\n",
    "                  \"object\": \"second equipment mRID\",\n",
    "                  \"attribute\": \"control attribute\",\n",
    "                  \"value\": new value\n",
    "              }\n",
    "              ]\n",
    "              }\n",
    "      }\n",
    "}\n",
    "\n",
    "```\n",
    "\n",
    "Note: The GridAPPS-D platform does not validate whether `\"reverse_differences\":` has the correct equipment control values for the current time. It is used just for compliance with the CIM standard."
   ]
  },
  {
   "cell_type": "markdown",
   "metadata": {},
   "source": [
    "## 3.4. Using GridAPPSD-Python `DifferenceBuilder`\n",
    "\n"
   ]
  },
  {
   "cell_type": "markdown",
   "metadata": {},
   "source": [
    "The `DifferenceBuilder` class is a GridAPPSD-Python tool that can be used to automatically build the difference message with correct formatting. \n",
    "\n",
    "First import DifferenceBuilder from the GridAPPSD-Python Library and create an object that will be used to create the desired difference messages. "
   ]
  },
  {
   "cell_type": "code",
   "execution_count": null,
   "metadata": {},
   "outputs": [],
   "source": [
    "from gridappsd import DifferenceBuilder\n",
    "\n",
    "my_diff_build = DifferenceBuilder(viz_simulation_id)"
   ]
  },
  {
   "cell_type": "markdown",
   "metadata": {},
   "source": [
    "We then use two methods associated with the DifferenceBuilder object:\n",
    "* `.add_difference(self, object_mrid, control_attribute, new_value, old_value)` -- Generates a correctly formatted difference message.\n",
    "* `.get_message()` -- Saves the message as a python dictionary that can be published using gapps.send()"
   ]
  },
  {
   "cell_type": "code",
   "execution_count": null,
   "metadata": {},
   "outputs": [],
   "source": [
    "my_diff_build.add_difference(sw_mrid, \"Switch.open\", 1, 0)\n",
    "\n",
    "message = my_diff_build.get_message()"
   ]
  },
  {
   "cell_type": "markdown",
   "metadata": {},
   "source": [
    "The difference message is then published to the GOSS Message Bus and the Simulation API using the `.send()` method associated with the GridAPPS-D connection object."
   ]
  },
  {
   "cell_type": "code",
   "execution_count": null,
   "metadata": {},
   "outputs": [],
   "source": [
    "gapps.send(input_topic, message)"
   ]
  },
  {
   "cell_type": "markdown",
   "metadata": {},
   "source": [
    "# 4. Subscribing to Simulation Output\n",
    "\n"
   ]
  },
  {
   "cell_type": "markdown",
   "metadata": {},
   "source": [
    "## 4.1. Specify the Topic\n",
    "\n",
    "This is a dynamic `/topic/` communication channel that is best implemented by importing the GriAPPSD-Python library function for generating the correct topic. "
   ]
  },
  {
   "cell_type": "code",
   "execution_count": null,
   "metadata": {},
   "outputs": [],
   "source": [
    "from gridappsd.topics import simulation_output_topic\n",
    "\n",
    "output_topic = simulation_output_topic(viz_simulation_id)"
   ]
  },
  {
   "cell_type": "markdown",
   "metadata": {},
   "source": [
    "## 4.2. Obtain Measurement mRIDs\n",
    "\n",
    "The second step is to obtain the correct measurement mRIDs using the PowerGrid Models API, which was covered in [Lesson 2.2, Section 5.2](Lesson%202.2.%20PowerGrid%20Models%20API%20-%20Using%20JSON%20Queries.ipynb#5.2.-Querying-for-Measurements). \n",
    "\n",
    "These mRIDs will be needed to parse the simulation output message and filter it to just the desired set of measurements.\n",
    "\n",
    "For the example below, we will be interested in only the measurement associated with switches, so we will use the PowerGrid Models API to query for the set of measurements associated with the CIM Class `LoadBreakSwitch`. We then will filter those values to just the mRIDs associated with each type of measurement."
   ]
  },
  {
   "cell_type": "code",
   "execution_count": null,
   "metadata": {},
   "outputs": [],
   "source": [
    "from gridappsd import topics as t\n",
    "\n",
    "message = {\n",
    "    \"modelId\": model_mrid,\n",
    "    \"requestType\": \"QUERY_OBJECT_MEASUREMENTS\",\n",
    "    \"resultFormat\": \"JSON\",\n",
    "    \"objectType\": \"LoadBreakSwitch\"\n",
    "}\n",
    "\n",
    "response_obj = gapps.get_response(t.REQUEST_POWERGRID_DATA, message)\n",
    "\n",
    "measurements_obj = response_obj[\"data\"]\n",
    "\n",
    "Pos_obj = [k for k in measurements_obj if k['type'] == 'Pos']\n",
    "PNV_obj = [k for k in measurements_obj if k['type'] == 'PNV']\n",
    "VA_obj = [k for k in measurements_obj if k['type'] == 'VA']\n",
    "A_obj = [k for k in measurements_obj if k['type'] == 'Pos']\n"
   ]
  },
  {
   "cell_type": "markdown",
   "metadata": {},
   "source": [
    "## 4.3. Subscribe using a Function Definition\n",
    "\n",
    "The first approach used to subscribe to measurements is to define a function with the correct set of arguments that is then passed to the `.subscribe()` method associated with the `GridAPPPSD()` object.\n",
    "\n",
    "The function does not require a specific name, and is somewhat easier to define and use. However, the arguments of the function need to be named correctly for the GridAPPSD-Python library to process the simulation output correctly.\n",
    "\n",
    "The format for the function definition is \n",
    "\n",
    "```\n",
    "def mySubscribeFunction(header, message):\n",
    "    # do something when receive a message\n",
    "    # parse to get measurments\n",
    "    # do something else\n",
    "```\n",
    "\n",
    "That function handle is then passed as an argument to the `.subscribe(topic, function_handle)` method:"
   ]
  },
  {
   "cell_type": "markdown",
   "metadata": {},
   "source": [
    "__Note on Jupyter Notebook environment:__ In the examples below, the Jupyter Notebook environment does not update definitions of the subscription object or function definitions. As a result, it is necessary to restart the notebook kernel. The gapps connection object definition is included again for convenience in executing the notebook code blocks"
   ]
  },
  {
   "cell_type": "code",
   "execution_count": null,
   "metadata": {},
   "outputs": [],
   "source": [
    "# Re-stablish connection to GridAPPS-D Platform if restarting Jupyter Kernel\n",
    "from gridappsd import GridAPPSD\n",
    "from gridappsd.topics import simulation_output_topic\n",
    "\n",
    "viz_simulation_id = \"1160275131\"\n",
    "\n",
    "model_mrid = \"_C1C3E687-6FFD-C753-582B-632A27E28507\"\n",
    "\n",
    "gapps = GridAPPSD(viz_simulation_id, \"('localhost', 61613)\", username='system', password='manager')\n",
    "\n",
    "output_topic = simulation_output_topic(viz_simulation_id)"
   ]
  },
  {
   "cell_type": "markdown",
   "metadata": {},
   "source": [
    "Note that the subscription function definition does not allow any additional parameters to be passed. The only allowed arguments are `header` and `message`. Any other parameters, such as measurement mRIDs will need to be defined as global variables:"
   ]
  },
  {
   "cell_type": "code",
   "execution_count": null,
   "metadata": {},
   "outputs": [],
   "source": [
    "global Pos_obj # Define global python dictionary of position measurements\n",
    "Pos_obj = [k for k in measurements_obj if k['type'] == 'Pos']"
   ]
  },
  {
   "cell_type": "code",
   "execution_count": null,
   "metadata": {},
   "outputs": [],
   "source": [
    "def demoSubscription1(header, message):\n",
    "    # Extract time and measurement values from message          \n",
    "    timestamp = message[\"message\"][\"timestamp\"]\n",
    "    meas_value = message[\"message\"][\"measurements\"]\n",
    "    \n",
    "    meas_mrid = list(meas_value.keys()) #obtain list of all mrid from message\n",
    "    \n",
    "    # Filter to measurements with value of zero\n",
    "    open_switches = []\n",
    "    for index in Pos_obj:\n",
    "        if index[\"measid\"] in meas_value:\n",
    "            mrid = index[\"measid\"]\n",
    "            power = meas_value[mrid]\n",
    "            if power[\"value\"] == 0:\n",
    "                open_switches.append(index[\"eqname\"])\n",
    "    \n",
    "    # Print message to command line\n",
    "    print(\"............\")\n",
    "    print(\"Number of open switches at time\", timestamp, ' is ', len(set(open_switches)))"
   ]
  },
  {
   "cell_type": "code",
   "execution_count": null,
   "metadata": {},
   "outputs": [],
   "source": [
    "gapps.subscribe(output_topic, demoSubscription1)"
   ]
  },
  {
   "cell_type": "markdown",
   "metadata": {},
   "source": [
    "## 4.4. Subscribe using a Class Definition\n",
    "\n",
    "The second approach used to subscribe to measurements is to define a class with `__init__` and `on_message` methods.\n",
    "\n",
    "These methods specify 1) how your app would initialize variables and attributes at the start of the simulation and 2) how your app behaves when it receives various messages. \n",
    "\n",
    "__IMPORTANT!__ The GridAPPS-D Platform use the exact names and syntax for the methods:\n",
    "\n",
    "* `__init__(self, simulation_id, gapps_object, optional_objects)` -- This method requires the simulation_id and GridAPPS-D connection object. It is also possible add other user-defined arguments, such as measurement mRIDs or other information required by your application.\n",
    "\n",
    "\n",
    "* `on_message(self, headers, message)` -- This method allows the class to subscribe to simulation measurements. It also contains the core behavior of your application and how it responds to each type of message.\n",
    "\n",
    "It is also possible to use the same class definition to subscribe to other topics, such as Simulation Logs. This is done by creating additional user-defined methods and then passing those methods to the `.subcribe()` method associated with the GridAPPS-D connection object. An example of how this is done is provided for subcribing to simulation logs in [Lesson 2.8, Section 4.3](Lesson%202.8.%20Logging%20API.ipynb#4.3.-Create-Subscription-Method)\n"
   ]
  },
  {
   "cell_type": "markdown",
   "metadata": {},
   "source": [
    "### _This class definition is also the core code block of your application!_"
   ]
  },
  {
   "cell_type": "markdown",
   "metadata": {},
   "source": [
    "The structure of the class is\n",
    "\n",
    "```\n",
    "class YourSimulationClassName(object):\n",
    "    # Your documentation text here on what app does\n",
    "    \n",
    "    def __init__(self, simulation_id, gapps_obj, meas_obj, your_obj):\n",
    "        # Instantiate class with specific initial state\n",
    "        \n",
    "        # Attributes required by Simulation API\n",
    "        self._gapps = gapps_obj\n",
    "        self._simulation_id = simulation_id\n",
    "        \n",
    "        # Attributes to publish difference measurements\n",
    "        self.diff = DifferenceBuilder(simulation_id)\n",
    "        \n",
    "        # Custom attributes for measurements, custom info\n",
    "        self.meas_mrid = meas_obj\n",
    "        self.your_attribute1 = your_obj[\"key1\"]\n",
    "        self.your_attribute2 = your_obj[\"key2\"]\n",
    "        \n",
    "    def on_message(self, headers, message):\n",
    "        # What app should do when it receives a subscription message\n",
    "        \n",
    "        variable1 = message[\"message\"][\"key1\"]\n",
    "        variable2 = message[\"message\"][\"key2\"]\n",
    "\n",
    "        # Insert your custom app behavior here\n",
    "        if variable1 == foo:\n",
    "            bar = my_optimization_result\n",
    "            \n",
    "        # Insert your custom equipment commands here\n",
    "        if variable2 == bar:\n",
    "            self.diff.add_difference(object_mrid, control_attribute, new_value, old_value)\n",
    "            \n",
    "    def my_custom_method_1(self, headers, message):\n",
    "        # Use extra methods to subscribe to other topics, such as simulation logs\n",
    "        variable1 = message[\"key1\"]\n",
    "        variable2 = message[\"key2\"]\n",
    "        \n",
    "    def my_custom_method_2(self, param1, param2):\n",
    "        # Use extra methods as desired\n",
    "        variable1 = foo\n",
    "        variable2 = bar\n",
    "        \n",
    "        \n",
    "```"
   ]
  },
  {
   "cell_type": "markdown",
   "metadata": {},
   "source": [
    "__Note on Jupyter Notebook environment:__ In the examples below, the Jupyter Notebook environment does not update definitions of the subscription object or function definitions. As a result, it is necessary to restart the notebook kernel. The gapps connection object definition is included again for convenience in executing the notebook code blocks"
   ]
  },
  {
   "cell_type": "code",
   "execution_count": null,
   "metadata": {},
   "outputs": [],
   "source": [
    "# Establish connection to GridAPPS-D Platform:\n",
    "viz_simulation_id = \"1160275131\"\n",
    "gapps = GridAPPSD(viz_simulation_id, \"('localhost', 61613)\", username='system', password='manager')"
   ]
  },
  {
   "cell_type": "code",
   "execution_count": null,
   "metadata": {},
   "outputs": [],
   "source": [
    "class ApplicationDemo(object):\n",
    "    # A simple class for interacting with simulation\n",
    "    \n",
    "    def __init__(self, simulation_id, gapps_obj, meas_obj):\n",
    "        # Subscription callback from GridAPPSD object\n",
    "        self._gapps = gapps_obj\n",
    "        self._simulation_id = simulation_id\n",
    "        self.meas_mrid = meas_obj\n",
    "    \n",
    "    def on_message(self, headers, message):\n",
    "        \n",
    "        # Extract time and measurement values from message          \n",
    "        timestamp = message[\"message\"][\"timestamp\"]\n",
    "        meas_value = message[\"message\"][\"measurements\"]\n",
    "        \n",
    "        # Filter measurement mRIDs to just position\n",
    "        Pos_obj = [k for k in self.meas_mrid if k['type'] == 'Pos']\n",
    "        \n",
    "        # Filter to measurements with value of zero\n",
    "        open_switches = []\n",
    "        for index in Pos_obj:\n",
    "            if index[\"measid\"] in meas_value:\n",
    "                mrid = index[\"measid\"]\n",
    "                power = meas_value[mrid]\n",
    "                if power[\"value\"] == 0:\n",
    "                    open_switches.append(index[\"eqname\"])\n",
    "                    \n",
    "        print(\"............\")\n",
    "        print(\"Number of open switches at time\", timestamp, ' is ', len(set(open_switches)))\n",
    "        "
   ]
  },
  {
   "cell_type": "markdown",
   "metadata": {},
   "source": [
    "After defining the class, we create an object that will be passed to the `.subscribe(topic, object)` method associated with the GridAPPS-D connection object:"
   ]
  },
  {
   "cell_type": "code",
   "execution_count": null,
   "metadata": {},
   "outputs": [],
   "source": [
    "demo_obj = ApplicationDemo(viz_simulation_id, gapps, measurements_obj)\n",
    "\n",
    "gapps.subscribe(subscribe_topic, demo_obj) # only measurements simulation_output_topic"
   ]
  },
  {
   "cell_type": "markdown",
   "metadata": {},
   "source": [
    "If we wish to subscribe to an additional topic (such as the Simulation Logs, a side communication channel between two different applications, or a communication with a particular service), we can define an additional method in the class (such as my_custom_method_1 in the pseudo-code above) and then pass it to to the `.subscribe(topic, object.method)` method associated with the GridAPPS-D connection object:\n",
    "\n",
    "`gapps.subscribe(other_topic, demo_obj.my_custom_method_1)`"
   ]
  },
  {
   "cell_type": "markdown",
   "metadata": {},
   "source": [
    "## 4.5. Using the GridAPPSD-Python Simulation Library Shortcuts"
   ]
  },
  {
   "cell_type": "markdown",
   "metadata": {},
   "source": [
    "__Release_2020.09.0 Note:__ If the simulation was started from within the application by importing and using the `Simulation` library in GridAPPSD-Python (as shown in [Lesson 2.5, Section 3.3](Lesson%202.5.%20Simulation%20API%20-%20Running%20Simulations.ipynb#3.3.-Starting-the-Simulation)), then several shortcut functions can be used. These methods currently cannot interact with a simulation started from the Viz. This functionality will be added in a future release.\n"
   ]
  },
  {
   "cell_type": "markdown",
   "metadata": {},
   "source": [
    "The GridAPPSD-Python library provides several shortcut methods can be used by importing the Simulation library for GridAPPS-D:"
   ]
  },
  {
   "cell_type": "code",
   "execution_count": null,
   "metadata": {},
   "outputs": [],
   "source": [
    "import json\n",
    "from gridappsd import GridAPPSD\n",
    "from gridappsd.simulation import Simulation\n",
    "\n",
    "gapps = GridAPPSD() # Create GridAPPS-D connection object\n",
    "\n",
    "run123_config = json.load(open(\"Run123NodeFileSimAPI.json\")) # Pull simulation config from saved file\n",
    "    \n",
    "simulation_obj = Simulation(gapps, run123_config) # Create Simulation object\n",
    "\n",
    "simulation_obj.start_simulation() # Start Simulation\n",
    "\n",
    "print(\"Successfully started simulation with simulation_id: \", simulation_obj.simulation_id)"
   ]
  },
  {
   "cell_type": "markdown",
   "metadata": {},
   "source": [
    "The Simulation library provides four methods that can be used to define how the platform interacts with the simulation:\n",
    "\n",
    "* `.add_ontimestep_callback(myfunction1)` -- Run the desired function on each timestep\n",
    "\n",
    "\n",
    "* `.add_onmesurement_callback(myfunction2)` -- Run the desired function when a measurement is received\n",
    "\n",
    "\n",
    "* `.add_oncomplete_callback(myfunction3)` -- Run the desired function when simulation is \n",
    "\n",
    "\n",
    "* `.add_onstart_callback(myfunction4)` -- Run desired function when simulation is started\n",
    "\n"
   ]
  },
  {
   "cell_type": "markdown",
   "metadata": {},
   "source": [
    "Note that the measurement callback method returns just the measurements and timestamps without any of the message formatting used in the messages received by using the `gapps.subscribe(output_topic, object)` approach."
   ]
  },
  {
   "cell_type": "markdown",
   "metadata": {},
   "source": [
    "To use use these methods, we define a set of functions that determine the behavior of the application for each of the four types of callbacks listed above:\n",
    "\n",
    "```\n",
    "def onmeasurement(sim, timestamp, measurements):\n",
    "    # Do something when app receives a measurement\n",
    "    # Insert your custom app behavior here\n",
    "    if measurements[object_mrid] == foo:\n",
    "        bar = my_optimization_result\n",
    "    \n",
    "def oncomplete(sim):\n",
    "    # Do something when simulation is complete\n",
    "    # example: delete all variables, close files\n",
    "```\n"
   ]
  },
  {
   "cell_type": "code",
   "execution_count": null,
   "metadata": {},
   "outputs": [],
   "source": [
    "def onmeasurement(sim, timestamp, measurements):\n",
    "    # Filter to measurements with value of zero\n",
    "    open_switches = []\n",
    "    for index in Pos_obj:\n",
    "        if index[\"measid\"] in measurements:\n",
    "            mrid = index[\"measid\"]\n",
    "            power = measurements[mrid]\n",
    "            if power[\"value\"] == 0:\n",
    "                open_switches.append(index[\"eqname\"])\n",
    "\n",
    "    print(\"............\")\n",
    "    print(\"Number of open switches at time\", timestamp, ' is ', len(set(open_switches)))"
   ]
  },
  {
   "cell_type": "code",
   "execution_count": null,
   "metadata": {},
   "outputs": [],
   "source": [
    "simulation_obj.add_onmesurement_callback(onmeasurement)"
   ]
  },
  {
   "cell_type": "markdown",
   "metadata": {},
   "source": [
    "## 4.5. Comparison of Approaches\n",
    "\n",
    "Each approach has its advantages and disadvantages. \n",
    "\n",
    "* The function-based approach is simpler and easier to implement. However, any parameters obtained from other APIs or methods to be used inside the function currently need to be defined as global variables. \n",
    "\n",
    "* The class-based approach is more complex, but also more powerful. It provides greater flexibility in creating additional methods, arguments, etc.\n",
    "\n",
    "* The Simulation Library-based approach is easiest, but only works currently for simulations started using the simulation_obj.start_simulation() method.\n",
    "\n",
    "The choice of which approach is used depends on the personal preferences of the application developer."
   ]
  },
  {
   "cell_type": "code",
   "execution_count": null,
   "metadata": {},
   "outputs": [],
   "source": []
  }
 ],
 "metadata": {
  "kernelspec": {
   "display_name": "Python 3",
   "language": "python",
   "name": "python3"
  },
  "language_info": {
   "codemirror_mode": {
    "name": "ipython",
    "version": 3
   },
   "file_extension": ".py",
   "mimetype": "text/x-python",
   "name": "python",
   "nbconvert_exporter": "python",
   "pygments_lexer": "ipython3",
   "version": "3.8.3"
  }
 },
 "nbformat": 4,
 "nbformat_minor": 4
}
